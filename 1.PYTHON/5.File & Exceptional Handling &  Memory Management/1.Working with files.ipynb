{
 "cells": [
  {
   "cell_type": "code",
   "execution_count": 21,
   "id": "32974afb-f94c-4e99-ad5b-2c55642c6590",
   "metadata": {},
   "outputs": [],
   "source": [
    "f=open('text.txt', 'w')"
   ]
  },
  {
   "cell_type": "code",
   "execution_count": 24,
   "id": "8bb7b2d4-e339-4b1b-80c8-18a4e463bffa",
   "metadata": {},
   "outputs": [
    {
     "data": {
      "text/plain": [
       "'/home/jovyan/work/FILE EXCEPTIONAL HANDLING &MANAGEMENT'"
      ]
     },
     "execution_count": 24,
     "metadata": {},
     "output_type": "execute_result"
    }
   ],
   "source": [
    "pwd \n",
    "\n",
    "'''the pwd command (print working directory) writes the full pathname of the current working \n",
    "directory to the standard output.'''"
   ]
  },
  {
   "cell_type": "code",
   "execution_count": 25,
   "id": "d7fba9b4-ae82-47f4-9a82-edc70fb170dc",
   "metadata": {},
   "outputs": [
    {
     "name": "stdout",
     "output_type": "stream",
     "text": [
      "Current working directory: /home/jovyan/work/FILE EXCEPTIONAL HANDLING &MANAGEMENT\n"
     ]
    }
   ],
   "source": [
    "import os\n",
    "\n",
    "current_directory = os.getcwd()\n",
    "print(\"Current working directory:\", current_directory)"
   ]
  },
  {
   "cell_type": "code",
   "execution_count": 26,
   "id": "933bf594-d4f4-4ad1-b491-2296a83e8c39",
   "metadata": {},
   "outputs": [
    {
     "name": "stdout",
     "output_type": "stream",
     "text": [
      " 10.Multithreading.ipynb                        data3.csv\n",
      " 11.Multiprocessing.ipynb                       data3.txt\n",
      "'1.Working with files.ipynb'                    data.json\n",
      "'2.Read & writing file.ipynb'                   error.log\n",
      "'3.Buffered read and write.ipynb'               file1.log\n",
      "'4.Logging and debugger.ipynb'                  file2.log\n",
      "'4.logging & debugger.ipynb'                    file.log\n",
      "'6.Exceptions handling with try except.ipynb'   newtext.txt\n",
      "'7.custom Exception Handling.ipynb'             test202.txt\n",
      "'8.List of general use exceptions.ipynb'        test204.txt\n",
      "'9.Best practice exception handling.ipynb'      test50.txt\n",
      " cleanup.txt                                    test.txt\n",
      " copy_newtext.txt                               text1.bin\n",
      " data1.csv                                      text2.txt\n",
      " data1.txt                                      text.txt\n",
      " data2.txt                                      Untitled1.ipynb\n"
     ]
    }
   ],
   "source": [
    "ls"
   ]
  },
  {
   "cell_type": "code",
   "execution_count": 27,
   "id": "3243c081-283b-46c4-b170-3ebc685ede78",
   "metadata": {},
   "outputs": [
    {
     "data": {
      "text/plain": [
       "37"
      ]
     },
     "execution_count": 27,
     "metadata": {},
     "output_type": "execute_result"
    }
   ],
   "source": [
    "f.write(\"this is my first python file handling\")\n",
    "\n",
    "#outut(in file):t"
   ]
  },
  {
   "cell_type": "code",
   "execution_count": 28,
   "id": "04b2bb70-f7ca-4e87-ae07-3ca175b32bd6",
   "metadata": {},
   "outputs": [],
   "source": [
    "f.close()   # it is neccessary to close file after write something\n",
    "            #outut(in file):   this is my first python file handling"
   ]
  },
  {
   "cell_type": "code",
   "execution_count": 29,
   "id": "3659edf8-7906-4477-a2d4-b591ea44350c",
   "metadata": {},
   "outputs": [
    {
     "ename": "ValueError",
     "evalue": "I/O operation on closed file.",
     "output_type": "error",
     "traceback": [
      "\u001b[0;31m---------------------------------------------------------------------------\u001b[0m",
      "\u001b[0;31mValueError\u001b[0m                                Traceback (most recent call last)",
      "Cell \u001b[0;32mIn[29], line 1\u001b[0m\n\u001b[0;32m----> 1\u001b[0m \u001b[43mf\u001b[49m\u001b[38;5;241;43m.\u001b[39;49m\u001b[43mwrite\u001b[49m\u001b[43m(\u001b[49m\u001b[38;5;124;43m\"\u001b[39;49m\u001b[38;5;124;43mthis is my second line for file handlinh\u001b[39;49m\u001b[38;5;124;43m\"\u001b[39;49m\u001b[43m)\u001b[49m   \u001b[38;5;66;03m# first open and after write\u001b[39;00m\n",
      "\u001b[0;31mValueError\u001b[0m: I/O operation on closed file."
     ]
    }
   ],
   "source": [
    "f.write(\"this is my second line for file handlinh\")   # first open and after write"
   ]
  },
  {
   "cell_type": "code",
   "execution_count": 30,
   "id": "cbfa7063-d3b7-4478-920b-d5313d3e57bd",
   "metadata": {},
   "outputs": [],
   "source": [
    "f=open('text.txt', 'w')     # old data erase when we use 'w' mode"
   ]
  },
  {
   "cell_type": "code",
   "execution_count": 31,
   "id": "b18265e9-8493-49d2-8938-01ad257a4b18",
   "metadata": {},
   "outputs": [
    {
     "data": {
      "text/plain": [
       "40"
      ]
     },
     "execution_count": 31,
     "metadata": {},
     "output_type": "execute_result"
    }
   ],
   "source": [
    "f.write(\"this is my second line for file handlinh\")"
   ]
  },
  {
   "cell_type": "code",
   "execution_count": 32,
   "id": "fdf12a49-e406-4479-94b7-7e38def72c34",
   "metadata": {},
   "outputs": [],
   "source": [
    "f.close()    \n",
    "\n",
    "#output: this is my second line for file handlinh ,,,previous data will be remove atomatacaly"
   ]
  },
  {
   "cell_type": "code",
   "execution_count": 33,
   "id": "9a3a1e00-18c5-4fca-b68d-1e5ab8d5f0ce",
   "metadata": {},
   "outputs": [],
   "source": [
    "f=open('text.txt', 'a') "
   ]
  },
  {
   "cell_type": "code",
   "execution_count": 34,
   "id": "e92b23ab-ecb5-45ff-915a-58bde239fdfd",
   "metadata": {},
   "outputs": [
    {
     "data": {
      "text/plain": [
       "88"
      ]
     },
     "execution_count": 34,
     "metadata": {},
     "output_type": "execute_result"
    }
   ],
   "source": [
    "f.write(\"when we open the file in the append mode previous data stored in the file does not erase\")\n",
    "\n",
    "#output: when we open the file in the append mode previous data stored in the file does not erase"
   ]
  },
  {
   "cell_type": "code",
   "execution_count": 35,
   "id": "74f01cf3-0072-44e3-9b9e-3ee9c4d8b5c1",
   "metadata": {},
   "outputs": [],
   "source": [
    "f.close()"
   ]
  },
  {
   "cell_type": "code",
   "execution_count": 36,
   "id": "b5859250-6596-40a5-bb10-a9cc44e5ff9b",
   "metadata": {},
   "outputs": [],
   "source": [
    "f=open('text.txt', 'r')   "
   ]
  },
  {
   "cell_type": "code",
   "execution_count": 37,
   "id": "0f99e5e8-1b9d-4137-b150-b9113c90162e",
   "metadata": {},
   "outputs": [
    {
     "data": {
      "text/plain": [
       "'this is my second line for file handlinhwhen we open the file in the append mode previous data stored in the file does not erase'"
      ]
     },
     "execution_count": 37,
     "metadata": {},
     "output_type": "execute_result"
    }
   ],
   "source": [
    "f.read()             # data read at all in one time"
   ]
  },
  {
   "cell_type": "code",
   "execution_count": 38,
   "id": "df56f2fb-7200-4325-b289-a1fde67271fa",
   "metadata": {},
   "outputs": [
    {
     "data": {
      "text/plain": [
       "''"
      ]
     },
     "execution_count": 38,
     "metadata": {},
     "output_type": "execute_result"
    }
   ],
   "source": [
    "f.readline()         #  data read line by line"
   ]
  },
  {
   "cell_type": "code",
   "execution_count": 39,
   "id": "cb024c0e-2ae7-47a9-96bd-58e40f69facf",
   "metadata": {},
   "outputs": [
    {
     "data": {
      "text/plain": [
       "0"
      ]
     },
     "execution_count": 39,
     "metadata": {},
     "output_type": "execute_result"
    }
   ],
   "source": [
    "f.seek(0)"
   ]
  },
  {
   "cell_type": "code",
   "execution_count": 40,
   "id": "c8905adc-d34c-4318-8f91-0c3393e17130",
   "metadata": {},
   "outputs": [
    {
     "data": {
      "text/plain": [
       "'this is my second line for file handlinhwhen we open the file in the append mode previous data stored in the file does not erase'"
      ]
     },
     "execution_count": 40,
     "metadata": {},
     "output_type": "execute_result"
    }
   ],
   "source": [
    "f.readline()"
   ]
  },
  {
   "cell_type": "code",
   "execution_count": 41,
   "id": "6de500a6-8bbd-474e-b52f-d54456669155",
   "metadata": {},
   "outputs": [
    {
     "data": {
      "text/plain": [
       "10"
      ]
     },
     "execution_count": 41,
     "metadata": {},
     "output_type": "execute_result"
    }
   ],
   "source": [
    "f.seek(10)        # if we want to read data from 10 position"
   ]
  },
  {
   "cell_type": "code",
   "execution_count": 42,
   "id": "b298a1f6-6f05-48de-83fc-d328907733f8",
   "metadata": {},
   "outputs": [
    {
     "data": {
      "text/plain": [
       "[' second line for file handlinhwhen we open the file in the append mode previous data stored in the file does not erase']"
      ]
     },
     "execution_count": 42,
     "metadata": {},
     "output_type": "execute_result"
    }
   ],
   "source": [
    "f.readlines()"
   ]
  },
  {
   "cell_type": "code",
   "execution_count": 43,
   "id": "d103d952-0de9-4a3b-a48c-04c805a06673",
   "metadata": {},
   "outputs": [
    {
     "data": {
      "text/plain": [
       "''"
      ]
     },
     "execution_count": 43,
     "metadata": {},
     "output_type": "execute_result"
    }
   ],
   "source": [
    "f.read()"
   ]
  },
  {
   "cell_type": "code",
   "execution_count": 44,
   "id": "ae6e4aed-2d26-4141-b785-6ddfac0802d0",
   "metadata": {},
   "outputs": [
    {
     "data": {
      "text/plain": [
       "0"
      ]
     },
     "execution_count": 44,
     "metadata": {},
     "output_type": "execute_result"
    }
   ],
   "source": [
    "f.seek(0)"
   ]
  },
  {
   "cell_type": "code",
   "execution_count": 45,
   "id": "70f572cc-ec5f-4dcc-b032-d3a39a3bf3d9",
   "metadata": {},
   "outputs": [
    {
     "data": {
      "text/plain": [
       "'this is my second line for file handlinhwhen we open the file in the append mode previous data stored in the file does not erase'"
      ]
     },
     "execution_count": 45,
     "metadata": {},
     "output_type": "execute_result"
    }
   ],
   "source": [
    "f.read()"
   ]
  },
  {
   "cell_type": "code",
   "execution_count": 46,
   "id": "45371ee8-1509-4cb1-bfa0-f96150e7a5c7",
   "metadata": {},
   "outputs": [],
   "source": [
    "f1=open('text.txt', 'r')   "
   ]
  },
  {
   "cell_type": "code",
   "execution_count": 47,
   "id": "e6b12d52-5111-4453-892c-be32107be4a2",
   "metadata": {},
   "outputs": [
    {
     "name": "stdout",
     "output_type": "stream",
     "text": [
      "this is my second line for file handlinhwhen we open the file in the append mode previous data stored in the file does not erase\n"
     ]
    }
   ],
   "source": [
    "for i in f1: \n",
    "    print(i)"
   ]
  },
  {
   "cell_type": "code",
   "execution_count": 48,
   "id": "ef5a462a-c84e-48d5-b515-e5322bd69679",
   "metadata": {},
   "outputs": [
    {
     "data": {
      "text/plain": [
       "128"
      ]
     },
     "execution_count": 48,
     "metadata": {},
     "output_type": "execute_result"
    }
   ],
   "source": [
    "import os\n",
    "\n",
    "os.path.getsize('text.txt')         # if we want to get size of the file"
   ]
  },
  {
   "cell_type": "code",
   "execution_count": 49,
   "id": "76932a3d-3373-43c3-8386-02bcade730cc",
   "metadata": {},
   "outputs": [],
   "source": [
    "os.remove('text.txt')               # if we want to delet the file"
   ]
  },
  {
   "cell_type": "code",
   "execution_count": 50,
   "id": "64e089c0-e964-4ef7-b030-817777bfcee5",
   "metadata": {},
   "outputs": [],
   "source": [
    "f2=open('text1.txt', 'w')"
   ]
  },
  {
   "cell_type": "code",
   "execution_count": 51,
   "id": "b45ce79c-b6eb-48ea-9766-c8c55ec90699",
   "metadata": {},
   "outputs": [
    {
     "data": {
      "text/plain": [
       "216"
      ]
     },
     "execution_count": 51,
     "metadata": {},
     "output_type": "execute_result"
    }
   ],
   "source": [
    "f2.write('this is my second line for file handlinhwhen we open the file in the append mode previous data stored in the file does not erasewhen we open the file in the append mode previous data stored in the file does not erase')"
   ]
  },
  {
   "cell_type": "code",
   "execution_count": 52,
   "id": "2087bb34-6b54-477c-ac58-67980e131704",
   "metadata": {},
   "outputs": [],
   "source": [
    "f2.close()"
   ]
  },
  {
   "cell_type": "code",
   "execution_count": 53,
   "id": "4411a311-430f-4982-9033-166047720e72",
   "metadata": {},
   "outputs": [],
   "source": [
    "f2=open('text1.txt', 'r')"
   ]
  },
  {
   "cell_type": "code",
   "execution_count": 54,
   "id": "a006c020-d3a4-477c-9e23-d217c7a49e53",
   "metadata": {},
   "outputs": [
    {
     "data": {
      "text/plain": [
       "'this is my second line for file handlinhwhen we open the file in the append mode previous data stored in the file does not erasewhen we open the file in the append mode previous data stored in the file does not erase'"
      ]
     },
     "execution_count": 54,
     "metadata": {},
     "output_type": "execute_result"
    }
   ],
   "source": [
    "f2.read()"
   ]
  },
  {
   "cell_type": "code",
   "execution_count": 55,
   "id": "cae0dead-e9f1-4af9-8119-2cf6b07721a8",
   "metadata": {},
   "outputs": [],
   "source": [
    "os.rename('text1.txt', 'newtext.txt')     # if we want to rename the existing file"
   ]
  },
  {
   "cell_type": "code",
   "execution_count": 56,
   "id": "364bd0b3-bc50-4910-a77e-e9d92cf6a2d1",
   "metadata": {},
   "outputs": [],
   "source": [
    "import shutil"
   ]
  },
  {
   "cell_type": "code",
   "execution_count": 57,
   "id": "49a4b780-f627-40be-82d9-eb1eab1790a7",
   "metadata": {},
   "outputs": [
    {
     "data": {
      "text/plain": [
       "'copy_newtext.txt'"
      ]
     },
     "execution_count": 57,
     "metadata": {},
     "output_type": "execute_result"
    }
   ],
   "source": [
    "shutil.copy(\"newtext.txt\", 'copy_newtext.txt')     # if we want to make the copy the file"
   ]
  },
  {
   "cell_type": "code",
   "execution_count": 58,
   "id": "2e11211a-bedd-4ff9-a45a-cd49e960d32a",
   "metadata": {},
   "outputs": [
    {
     "name": "stdout",
     "output_type": "stream",
     "text": [
      "this is my second line for file handlinhwhen we open the file in the append mode previous data stored in the file does not erasewhen we open the file in the append mode previous data stored in the file does not erase\n"
     ]
    }
   ],
   "source": [
    "with open('newtext.txt', 'r') as f :            # alternate way to opening the file\n",
    "    print(f.read())"
   ]
  },
  {
   "cell_type": "code",
   "execution_count": null,
   "id": "d47b7283-8263-4922-abd5-f10c62a6d568",
   "metadata": {},
   "outputs": [],
   "source": []
  }
 ],
 "metadata": {
  "kernelspec": {
   "display_name": "Python 3 (ipykernel)",
   "language": "python",
   "name": "python3"
  },
  "language_info": {
   "codemirror_mode": {
    "name": "ipython",
    "version": 3
   },
   "file_extension": ".py",
   "mimetype": "text/x-python",
   "name": "python",
   "nbconvert_exporter": "python",
   "pygments_lexer": "ipython3",
   "version": "3.10.8"
  }
 },
 "nbformat": 4,
 "nbformat_minor": 5
}
