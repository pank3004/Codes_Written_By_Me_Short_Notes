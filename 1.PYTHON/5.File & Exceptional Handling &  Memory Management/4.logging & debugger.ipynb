{
 "cells": [
  {
   "cell_type": "code",
   "execution_count": 1,
   "id": "78ce4d83-a408-49ec-9b18-2002bf2b73ee",
   "metadata": {},
   "outputs": [
    {
     "name": "stdout",
     "output_type": "stream",
     "text": [
      "this is my print\n"
     ]
    }
   ],
   "source": [
    "print(\"this is my print\")       # this is only print on console not stored"
   ]
  },
  {
   "cell_type": "code",
   "execution_count": 2,
   "id": "52fa45fd-be46-41de-b649-c31282cfae1c",
   "metadata": {},
   "outputs": [],
   "source": [
    "import logging"
   ]
  },
  {
   "cell_type": "code",
   "execution_count": 3,
   "id": "5a2f7dfb-2261-4bee-954d-8ca11fe01e76",
   "metadata": {},
   "outputs": [],
   "source": [
    "logging.basicConfig(filename='file.log', level=logging.INFO) "
   ]
  },
  {
   "cell_type": "code",
   "execution_count": 4,
   "id": "ff3e122e-72a1-4cf3-b863-c02d4999e35a",
   "metadata": {},
   "outputs": [],
   "source": [
    "logging.info(\"this is my info\")"
   ]
  },
  {
   "cell_type": "code",
   "execution_count": null,
   "id": "c28d23f0-db08-484e-8b44-5fe9dffac80a",
   "metadata": {},
   "outputs": [],
   "source": [
    "logging.info(\"this is my sec info\")"
   ]
  },
  {
   "cell_type": "code",
   "execution_count": null,
   "id": "73b3494e-dd45-4cbe-af2e-d655cd9286db",
   "metadata": {},
   "outputs": [],
   "source": [
    "''' level: \n",
    "            1 NOTSET\n",
    "            2 DEBUG\n",
    "            3 INFO\n",
    "            4 WARNING\n",
    "            5 ERROR\n",
    "            6 CRITICAL       '''"
   ]
  },
  {
   "cell_type": "code",
   "execution_count": 6,
   "id": "4294a5b8-431b-4947-b6bf-4d9d1d486ebe",
   "metadata": {},
   "outputs": [],
   "source": [
    "logging.warning(\"this is my warninng\")"
   ]
  },
  {
   "cell_type": "code",
   "execution_count": 7,
   "id": "287b19d6-4101-42ef-aa9f-d9ecb0a08bc0",
   "metadata": {},
   "outputs": [],
   "source": [
    "logging.error(\"this is my error\")"
   ]
  },
  {
   "cell_type": "code",
   "execution_count": 8,
   "id": "31f21ca4-0c2e-4312-a17d-956bdde5827a",
   "metadata": {},
   "outputs": [],
   "source": [
    "logging.critical(\"this is my critical\")"
   ]
  },
  {
   "cell_type": "code",
   "execution_count": 10,
   "id": "ba228373-c6a5-4599-b097-d22216318a63",
   "metadata": {},
   "outputs": [
    {
     "data": {
      "text/plain": [
       "'in file: \\n    \\n        INFO:root:this is my info\\n        INFO:root:this is my sec info\\n        WARNING:root:this is my warninng\\n        ERROR:root:this is my error\\n        CRITICAL:root:this is my critical        '"
      ]
     },
     "execution_count": 10,
     "metadata": {},
     "output_type": "execute_result"
    }
   ],
   "source": [
    "logging.debug(\"this is my debug\")               # this is not log because this is above the INFO\n",
    "\n",
    "'''in file: \n",
    "    \n",
    "        INFO:root:this is my info\n",
    "        INFO:root:this is my sec info\n",
    "        WARNING:root:this is my warninng\n",
    "        ERROR:root:this is my error\n",
    "        CRITICAL:root:this is my critical        '''"
   ]
  },
  {
   "cell_type": "code",
   "execution_count": 17,
   "id": "7447cfae-fa74-4d7f-8f5e-14038d00a03c",
   "metadata": {},
   "outputs": [],
   "source": [
    "logging.shutdown()"
   ]
  },
  {
   "cell_type": "code",
   "execution_count": 18,
   "id": "bb23ecd6-75a6-4349-ab30-74f4cb041faf",
   "metadata": {},
   "outputs": [],
   "source": [
    "import logging"
   ]
  },
  {
   "cell_type": "code",
   "execution_count": 20,
   "id": "a5a0126c-e9f3-46cc-811e-8efde7380825",
   "metadata": {},
   "outputs": [],
   "source": [
    "logging.basicConfig(filename='file1.log', level=logging.DEBUG, format= '%(asctime)s %(message)s')"
   ]
  },
  {
   "cell_type": "code",
   "execution_count": null,
   "id": "9b555858-cbcc-4e7b-b29f-a0632c25e4c8",
   "metadata": {},
   "outputs": [],
   "source": []
  },
  {
   "cell_type": "code",
   "execution_count": null,
   "id": "5419f004-e858-4e43-a139-25f00172b538",
   "metadata": {},
   "outputs": [],
   "source": []
  }
 ],
 "metadata": {
  "kernelspec": {
   "display_name": "Python 3 (ipykernel)",
   "language": "python",
   "name": "python3"
  },
  "language_info": {
   "codemirror_mode": {
    "name": "ipython",
    "version": 3
   },
   "file_extension": ".py",
   "mimetype": "text/x-python",
   "name": "python",
   "nbconvert_exporter": "python",
   "pygments_lexer": "ipython3",
   "version": "3.10.8"
  },
  "toc-autonumbering": true
 },
 "nbformat": 4,
 "nbformat_minor": 5
}
