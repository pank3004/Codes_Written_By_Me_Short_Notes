{
 "cells": [
  {
   "cell_type": "code",
   "execution_count": 1,
   "id": "82795ba0-5832-4b38-89ff-2bad64db166a",
   "metadata": {},
   "outputs": [],
   "source": [
    "a=10"
   ]
  },
  {
   "cell_type": "code",
   "execution_count": 2,
   "id": "b1787a65-2576-4c17-82b8-3d89cb2dd529",
   "metadata": {},
   "outputs": [
    {
     "ename": "ZeroDivisionError",
     "evalue": "division by zero",
     "output_type": "error",
     "traceback": [
      "\u001b[0;31m---------------------------------------------------------------------------\u001b[0m",
      "\u001b[0;31mZeroDivisionError\u001b[0m                         Traceback (most recent call last)",
      "Cell \u001b[0;32mIn[2], line 1\u001b[0m\n\u001b[0;32m----> 1\u001b[0m \u001b[43ma\u001b[49m\u001b[38;5;241;43m/\u001b[39;49m\u001b[38;5;241;43m0\u001b[39;49m\n",
      "\u001b[0;31mZeroDivisionError\u001b[0m: division by zero"
     ]
    }
   ],
   "source": [
    "a/0"
   ]
  },
  {
   "cell_type": "code",
   "execution_count": 4,
   "id": "a9a5d58b-3ad1-4b0d-8d90-21fce123cdb7",
   "metadata": {},
   "outputs": [
    {
     "ename": "FileNotFoundError",
     "evalue": "[Errno 2] No such file or directory: 'test.txt'",
     "output_type": "error",
     "traceback": [
      "\u001b[0;31m---------------------------------------------------------------------------\u001b[0m",
      "\u001b[0;31mFileNotFoundError\u001b[0m                         Traceback (most recent call last)",
      "Cell \u001b[0;32mIn[4], line 1\u001b[0m\n\u001b[0;32m----> 1\u001b[0m f\u001b[38;5;241m=\u001b[39m\u001b[38;5;28;43mopen\u001b[39;49m\u001b[43m(\u001b[49m\u001b[38;5;124;43m'\u001b[39;49m\u001b[38;5;124;43mtest.txt\u001b[39;49m\u001b[38;5;124;43m'\u001b[39;49m\u001b[43m \u001b[49m\u001b[43m,\u001b[49m\u001b[43m \u001b[49m\u001b[38;5;124;43m'\u001b[39;49m\u001b[38;5;124;43mr\u001b[39;49m\u001b[38;5;124;43m'\u001b[39;49m\u001b[43m)\u001b[49m\n\u001b[1;32m      2\u001b[0m \u001b[38;5;28mprint\u001b[39m(\u001b[38;5;124m\"\u001b[39m\u001b[38;5;124mpankaj is chutiya\u001b[39m\u001b[38;5;124m\"\u001b[39m)\n",
      "File \u001b[0;32m/opt/conda/lib/python3.10/site-packages/IPython/core/interactiveshell.py:282\u001b[0m, in \u001b[0;36m_modified_open\u001b[0;34m(file, *args, **kwargs)\u001b[0m\n\u001b[1;32m    275\u001b[0m \u001b[38;5;28;01mif\u001b[39;00m file \u001b[38;5;129;01min\u001b[39;00m {\u001b[38;5;241m0\u001b[39m, \u001b[38;5;241m1\u001b[39m, \u001b[38;5;241m2\u001b[39m}:\n\u001b[1;32m    276\u001b[0m     \u001b[38;5;28;01mraise\u001b[39;00m \u001b[38;5;167;01mValueError\u001b[39;00m(\n\u001b[1;32m    277\u001b[0m         \u001b[38;5;124mf\u001b[39m\u001b[38;5;124m\"\u001b[39m\u001b[38;5;124mIPython won\u001b[39m\u001b[38;5;124m'\u001b[39m\u001b[38;5;124mt let you open fd=\u001b[39m\u001b[38;5;132;01m{\u001b[39;00mfile\u001b[38;5;132;01m}\u001b[39;00m\u001b[38;5;124m by default \u001b[39m\u001b[38;5;124m\"\u001b[39m\n\u001b[1;32m    278\u001b[0m         \u001b[38;5;124m\"\u001b[39m\u001b[38;5;124mas it is likely to crash IPython. If you know what you are doing, \u001b[39m\u001b[38;5;124m\"\u001b[39m\n\u001b[1;32m    279\u001b[0m         \u001b[38;5;124m\"\u001b[39m\u001b[38;5;124myou can use builtins\u001b[39m\u001b[38;5;124m'\u001b[39m\u001b[38;5;124m open.\u001b[39m\u001b[38;5;124m\"\u001b[39m\n\u001b[1;32m    280\u001b[0m     )\n\u001b[0;32m--> 282\u001b[0m \u001b[38;5;28;01mreturn\u001b[39;00m \u001b[43mio_open\u001b[49m\u001b[43m(\u001b[49m\u001b[43mfile\u001b[49m\u001b[43m,\u001b[49m\u001b[43m \u001b[49m\u001b[38;5;241;43m*\u001b[39;49m\u001b[43margs\u001b[49m\u001b[43m,\u001b[49m\u001b[43m \u001b[49m\u001b[38;5;241;43m*\u001b[39;49m\u001b[38;5;241;43m*\u001b[39;49m\u001b[43mkwargs\u001b[49m\u001b[43m)\u001b[49m\n",
      "\u001b[0;31mFileNotFoundError\u001b[0m: [Errno 2] No such file or directory: 'test.txt'"
     ]
    }
   ],
   "source": [
    "f=open('test.txt' , 'r')\n",
    "print(\"pankaj is chutiya\")"
   ]
  },
  {
   "cell_type": "code",
   "execution_count": 7,
   "id": "8cda7aef-e676-4fb1-abea-961088dff44b",
   "metadata": {},
   "outputs": [
    {
     "name": "stdout",
     "output_type": "stream",
     "text": [
      "pankaj is chutiya insan\n"
     ]
    }
   ],
   "source": [
    "try: \n",
    "    f=open('test.txt', 'r')\n",
    "except Exception as e: \n",
    "    print(\"pankaj is chutiya insan\")"
   ]
  },
  {
   "cell_type": "code",
   "execution_count": 9,
   "id": "6d1952bc-0c00-4915-bb4e-71092c244224",
   "metadata": {},
   "outputs": [
    {
     "name": "stdout",
     "output_type": "stream",
     "text": [
      "pankaj is chutiya insan [Errno 2] No such file or directory: 'test.txt'\n"
     ]
    },
    {
     "data": {
      "text/plain": [
       "9"
      ]
     },
     "execution_count": 9,
     "metadata": {},
     "output_type": "execute_result"
    }
   ],
   "source": [
    "try: \n",
    "    f=open('test.txt', 'r')\n",
    "except Exception as e: \n",
    "    print(\"pankaj is chutiya insan\", e)\n",
    "    \n",
    "a=4+5\n",
    "a"
   ]
  },
  {
   "cell_type": "code",
   "execution_count": 13,
   "id": "4a5f1a32-7749-419b-b8a5-a73755f904a3",
   "metadata": {},
   "outputs": [
    {
     "name": "stdout",
     "output_type": "stream",
     "text": [
      "pankaj is chutiya insan [Errno 2] No such file or directory: 'test.txt'\n"
     ]
    },
    {
     "data": {
      "text/plain": [
       "106"
      ]
     },
     "execution_count": 13,
     "metadata": {},
     "output_type": "execute_result"
    }
   ],
   "source": [
    "try: \n",
    "    f=open('test.txt', 'r')\n",
    "    print(\"you are also chutiya\")\n",
    "    a=8+8\n",
    "    a\n",
    "except Exception as e: \n",
    "    print(\"pankaj is chutiya insan\", e)\n",
    "    \n",
    "b=98+8\n",
    "b"
   ]
  },
  {
   "cell_type": "code",
   "execution_count": 17,
   "id": "868cfc77-59cd-443b-8491-1fee963413aa",
   "metadata": {},
   "outputs": [],
   "source": [
    "try: \n",
    "    f=open('test.txt', 'w')\n",
    "    f.write(\"write the file\")\n",
    "    f.close()\n",
    "except Exception as e: \n",
    "    print(\"pankaj is chutiya insan\", e)       # this is not execute because in the try box there are no error\n",
    "    "
   ]
  },
  {
   "cell_type": "code",
   "execution_count": 19,
   "id": "05303572-2f41-4f89-8473-dbe4b279fad6",
   "metadata": {},
   "outputs": [
    {
     "name": "stdout",
     "output_type": "stream",
     "text": [
      "else block only execute when try block will be execute without error\n"
     ]
    }
   ],
   "source": [
    "try: \n",
    "    f=open('test202.txt', 'w')\n",
    "    f.write(\"sale badve ye file test202.txt me jakar save hoga\")\n",
    "except Exception as e: \n",
    "    print(\"pankaj is chutiya insan\", e)      \n",
    "    \n",
    "else: \n",
    "    f.close()\n",
    "    print(\"else block only execute when try block will be execute without error\")\n",
    "    "
   ]
  },
  {
   "cell_type": "code",
   "execution_count": 21,
   "id": "1609b966-047a-411c-89f1-429d416c131b",
   "metadata": {},
   "outputs": [
    {
     "name": "stdout",
     "output_type": "stream",
     "text": [
      "this is except block [Errno 2] No such file or directory: 'test203.txt'\n"
     ]
    }
   ],
   "source": [
    "try: \n",
    "    f=open('test203.txt', 'r')\n",
    "    f.write(\"here code will be crased so except block will be execute\")\n",
    "except Exception as e: \n",
    "    print(\"this is except block\", e)      \n",
    "    \n",
    "else: \n",
    "    f.close()\n",
    "    print(\"else block only execute when try block will be execute without error\")"
   ]
  },
  {
   "cell_type": "code",
   "execution_count": 24,
   "id": "40cf4f66-cf98-4093-bb70-6134a0261f6b",
   "metadata": {},
   "outputs": [
    {
     "name": "stdout",
     "output_type": "stream",
     "text": [
      "finally will be execute itself in any situation\n"
     ]
    }
   ],
   "source": [
    "try: \n",
    "    f=open('test204.txt', 'w')\n",
    "    f.write(\"here this will be execute without any error\")\n",
    "    f.close()\n",
    "finally: \n",
    "    print(\"finally will be execute itself in any situation\")"
   ]
  },
  {
   "cell_type": "code",
   "execution_count": 23,
   "id": "532bf672-1417-47b2-9916-6b87dcef2276",
   "metadata": {},
   "outputs": [
    {
     "name": "stdout",
     "output_type": "stream",
     "text": [
      "finally will be execute itself in any situation\n"
     ]
    },
    {
     "ename": "UnsupportedOperation",
     "evalue": "not writable",
     "output_type": "error",
     "traceback": [
      "\u001b[0;31m---------------------------------------------------------------------------\u001b[0m",
      "\u001b[0;31mUnsupportedOperation\u001b[0m                      Traceback (most recent call last)",
      "Cell \u001b[0;32mIn[23], line 3\u001b[0m\n\u001b[1;32m      1\u001b[0m \u001b[38;5;28;01mtry\u001b[39;00m: \n\u001b[1;32m      2\u001b[0m     f\u001b[38;5;241m=\u001b[39m\u001b[38;5;28mopen\u001b[39m(\u001b[38;5;124m'\u001b[39m\u001b[38;5;124mtest204.txt\u001b[39m\u001b[38;5;124m'\u001b[39m, \u001b[38;5;124m'\u001b[39m\u001b[38;5;124mr\u001b[39m\u001b[38;5;124m'\u001b[39m)\n\u001b[0;32m----> 3\u001b[0m     \u001b[43mf\u001b[49m\u001b[38;5;241;43m.\u001b[39;49m\u001b[43mwrite\u001b[49m\u001b[43m(\u001b[49m\u001b[38;5;124;43m\"\u001b[39;49m\u001b[38;5;124;43mhere is error however finally will be execute\u001b[39;49m\u001b[38;5;124;43m\"\u001b[39;49m\u001b[43m)\u001b[49m\n\u001b[1;32m      4\u001b[0m \u001b[38;5;28;01mfinally\u001b[39;00m: \n\u001b[1;32m      5\u001b[0m     \u001b[38;5;28mprint\u001b[39m(\u001b[38;5;124m\"\u001b[39m\u001b[38;5;124mfinally will be execute itself in any situation\u001b[39m\u001b[38;5;124m\"\u001b[39m)\n",
      "\u001b[0;31mUnsupportedOperation\u001b[0m: not writable"
     ]
    }
   ],
   "source": [
    "try: \n",
    "    f=open('test204.txt', 'r')\n",
    "    f.write(\"here is error however finally will be execute\")\n",
    "finally: \n",
    "    print(\"finally will be execute itself in any situation\")"
   ]
  },
  {
   "cell_type": "code",
   "execution_count": 28,
   "id": "5c88804a-7183-47d0-83ae-663946c78b7b",
   "metadata": {},
   "outputs": [
    {
     "name": "stdout",
     "output_type": "stream",
     "text": [
      "this will be execute when try block through error [Errno 2] No such file or directory: 'test205.txt'\n",
      "finally will be execute itself in any situation\n"
     ]
    }
   ],
   "source": [
    "try: \n",
    "    f=open('test205.txt', 'r')\n",
    "    f.write(\"here this will be execute without any error\")\n",
    "    f.close()\n",
    "except Exception as e: \n",
    "    print(\"this will be execute when try block through error\",e)\n",
    "finally: \n",
    "    print(\"finally will be execute itself in any situation\")"
   ]
  },
  {
   "cell_type": "code",
   "execution_count": 29,
   "id": "fa7e5d42-25a3-4643-8cf5-b3a9f04428e7",
   "metadata": {},
   "outputs": [
    {
     "name": "stdout",
     "output_type": "stream",
     "text": [
      "this will be execute when try block through error\n"
     ]
    },
    {
     "ename": "NameError",
     "evalue": "name 'e' is not defined",
     "output_type": "error",
     "traceback": [
      "\u001b[0;31m---------------------------------------------------------------------------\u001b[0m",
      "\u001b[0;31mNameError\u001b[0m                                 Traceback (most recent call last)",
      "Cell \u001b[0;32mIn[29], line 8\u001b[0m\n\u001b[1;32m      6\u001b[0m     \u001b[38;5;28mprint\u001b[39m(\u001b[38;5;124m\"\u001b[39m\u001b[38;5;124mthis will be execute when try block through error\u001b[39m\u001b[38;5;124m\"\u001b[39m)\n\u001b[1;32m      7\u001b[0m \u001b[38;5;28;01mfinally\u001b[39;00m: \n\u001b[0;32m----> 8\u001b[0m     \u001b[38;5;28mprint\u001b[39m(\u001b[38;5;124m\"\u001b[39m\u001b[38;5;124mfinally will be execute itself in any situation\u001b[39m\u001b[38;5;124m\"\u001b[39m,\u001b[43me\u001b[49m)\n",
      "\u001b[0;31mNameError\u001b[0m: name 'e' is not defined"
     ]
    }
   ],
   "source": [
    "try: \n",
    "    f=open('test205.txt', 'r')\n",
    "    f.write(\"here this will be execute without any error\")\n",
    "    f.close()\n",
    "except Exception as e: \n",
    "    print(\"this will be execute when try block through error\")\n",
    "finally: \n",
    "    print(\"finally will be execute itself in any situation\",e)"
   ]
  },
  {
   "cell_type": "code",
   "execution_count": null,
   "id": "3fd6e08c-805e-442a-8424-5ab446d50bcc",
   "metadata": {},
   "outputs": [],
   "source": []
  }
 ],
 "metadata": {
  "kernelspec": {
   "display_name": "Python 3 (ipykernel)",
   "language": "python",
   "name": "python3"
  },
  "language_info": {
   "codemirror_mode": {
    "name": "ipython",
    "version": 3
   },
   "file_extension": ".py",
   "mimetype": "text/x-python",
   "name": "python",
   "nbconvert_exporter": "python",
   "pygments_lexer": "ipython3",
   "version": "3.10.8"
  }
 },
 "nbformat": 4,
 "nbformat_minor": 5
}
