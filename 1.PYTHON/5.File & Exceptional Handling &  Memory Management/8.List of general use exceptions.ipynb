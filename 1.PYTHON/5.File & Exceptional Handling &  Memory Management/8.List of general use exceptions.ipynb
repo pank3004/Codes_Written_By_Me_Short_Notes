{
 "cells": [
  {
   "cell_type": "code",
   "execution_count": 4,
   "id": "40372456-c5b9-44eb-8df1-36bef2fbb7f6",
   "metadata": {},
   "outputs": [
    {
     "ename": "ZeroDivisionError",
     "evalue": "division by zero",
     "output_type": "error",
     "traceback": [
      "\u001b[0;31m---------------------------------------------------------------------------\u001b[0m",
      "\u001b[0;31mZeroDivisionError\u001b[0m                         Traceback (most recent call last)",
      "Cell \u001b[0;32mIn[4], line 1\u001b[0m\n\u001b[0;32m----> 1\u001b[0m a\u001b[38;5;241m=\u001b[39m\u001b[38;5;241;43m10\u001b[39;49m\u001b[38;5;241;43m/\u001b[39;49m\u001b[38;5;241;43m0\u001b[39;49m\n",
      "\u001b[0;31mZeroDivisionError\u001b[0m: division by zero"
     ]
    }
   ],
   "source": [
    "a=10/0"
   ]
  },
  {
   "cell_type": "code",
   "execution_count": 31,
   "id": "13e80b7a-0109-4c14-aafe-ddf93519fcf2",
   "metadata": {},
   "outputs": [
    {
     "name": "stdout",
     "output_type": "stream",
     "text": [
      "division by zero\n"
     ]
    }
   ],
   "source": [
    "try:\n",
    "    a=10/0                                #when we don't know type of error\n",
    "except Exception as e:   \n",
    "    print(e)"
   ]
  },
  {
   "cell_type": "code",
   "execution_count": 7,
   "id": "0ca4f91e-de99-474e-9728-8c8f223a373c",
   "metadata": {},
   "outputs": [
    {
     "name": "stdout",
     "output_type": "stream",
     "text": [
      "division by zero\n"
     ]
    }
   ],
   "source": [
    "try: \n",
    "    a=10/0\n",
    "except ZeroDivisionError as e: \n",
    "    print(e)"
   ]
  },
  {
   "cell_type": "code",
   "execution_count": 30,
   "id": "d3722294-2be5-4d3c-8beb-070bbfbb0be7",
   "metadata": {},
   "outputs": [
    {
     "name": "stdout",
     "output_type": "stream",
     "text": [
      "this will catch an error\n"
     ]
    }
   ],
   "source": [
    "try: \n",
    "    a=10/0                                  #when we don't know type of error\n",
    "except: \n",
    "    print(\"this will catch an error\")"
   ]
  },
  {
   "cell_type": "code",
   "execution_count": 11,
   "id": "b8fee74c-d1d1-4336-9c9c-9cc2c4022f81",
   "metadata": {},
   "outputs": [
    {
     "ename": "ValueError",
     "evalue": "invalid literal for int() with base 10: 'panakj'",
     "output_type": "error",
     "traceback": [
      "\u001b[0;31m---------------------------------------------------------------------------\u001b[0m",
      "\u001b[0;31mValueError\u001b[0m                                Traceback (most recent call last)",
      "Cell \u001b[0;32mIn[11], line 1\u001b[0m\n\u001b[0;32m----> 1\u001b[0m a\u001b[38;5;241m=\u001b[39m\u001b[38;5;28;43mint\u001b[39;49m\u001b[43m(\u001b[49m\u001b[38;5;124;43m\"\u001b[39;49m\u001b[38;5;124;43mpanakj\u001b[39;49m\u001b[38;5;124;43m\"\u001b[39;49m\u001b[43m)\u001b[49m\n",
      "\u001b[0;31mValueError\u001b[0m: invalid literal for int() with base 10: 'panakj'"
     ]
    }
   ],
   "source": [
    "a=int(\"panakj\")"
   ]
  },
  {
   "cell_type": "code",
   "execution_count": 12,
   "id": "c733f1e8-d628-45bb-9285-94115de949c0",
   "metadata": {},
   "outputs": [
    {
     "name": "stdout",
     "output_type": "stream",
     "text": [
      "invalid literal for int() with base 10: 'pankaj'\n"
     ]
    }
   ],
   "source": [
    "try: \n",
    "    a=int(\"pankaj\")\n",
    "except Exception as e: \n",
    "    print(e)"
   ]
  },
  {
   "cell_type": "code",
   "execution_count": 13,
   "id": "9012c056-2b16-429a-a792-c68d38c74bf0",
   "metadata": {},
   "outputs": [
    {
     "name": "stdout",
     "output_type": "stream",
     "text": [
      "invalid literal for int() with base 10: 'pankaj'\n"
     ]
    }
   ],
   "source": [
    "try: \n",
    "    a=int(\"pankaj\")\n",
    "except (ValueError, TypeError) as e: \n",
    "    print(e)"
   ]
  },
  {
   "cell_type": "code",
   "execution_count": 16,
   "id": "902a1f87-927c-44ad-95ee-7ba7738c9979",
   "metadata": {},
   "outputs": [
    {
     "name": "stdout",
     "output_type": "stream",
     "text": [
      "invalid literal for int() with base 10: 'pankaj'\n"
     ]
    }
   ],
   "source": [
    "try: \n",
    "    a=int('pankaj')\n",
    "except ValueError as e: \n",
    "    print(e)"
   ]
  },
  {
   "cell_type": "code",
   "execution_count": 19,
   "id": "c1a62e4b-fd47-433a-b9a2-2d57cceb7cb1",
   "metadata": {},
   "outputs": [
    {
     "ename": "ValueError",
     "evalue": "invalid literal for int() with base 10: 'pankaj'",
     "output_type": "error",
     "traceback": [
      "\u001b[0;31m---------------------------------------------------------------------------\u001b[0m",
      "\u001b[0;31mValueError\u001b[0m                                Traceback (most recent call last)",
      "Cell \u001b[0;32mIn[19], line 2\u001b[0m\n\u001b[1;32m      1\u001b[0m \u001b[38;5;28;01mtry\u001b[39;00m: \n\u001b[0;32m----> 2\u001b[0m     a\u001b[38;5;241m=\u001b[39m\u001b[38;5;28;43mint\u001b[39;49m\u001b[43m(\u001b[49m\u001b[38;5;124;43m'\u001b[39;49m\u001b[38;5;124;43mpankaj\u001b[39;49m\u001b[38;5;124;43m'\u001b[39;49m\u001b[43m)\u001b[49m\n\u001b[1;32m      3\u001b[0m \u001b[38;5;28;01mexcept\u001b[39;00m \u001b[38;5;167;01mTypeError\u001b[39;00m \u001b[38;5;28;01mas\u001b[39;00m e: \n\u001b[1;32m      4\u001b[0m     \u001b[38;5;28mprint\u001b[39m(e)\n",
      "\u001b[0;31mValueError\u001b[0m: invalid literal for int() with base 10: 'pankaj'"
     ]
    }
   ],
   "source": [
    "try: \n",
    "    a=int('pankaj')\n",
    "except TypeError as e: \n",
    "    print(e)"
   ]
  },
  {
   "cell_type": "code",
   "execution_count": 20,
   "id": "a0cf364f-9f31-4a4b-8d7e-711fdeba6a7e",
   "metadata": {},
   "outputs": [
    {
     "name": "stdout",
     "output_type": "stream",
     "text": [
      "invalid literal for int() with base 10: 'pankaj'\n"
     ]
    }
   ],
   "source": [
    "try: \n",
    "    a=int(\"pankaj\")\n",
    "except (TypeError, ValueError) as e: \n",
    "    print(e)"
   ]
  },
  {
   "cell_type": "code",
   "execution_count": 21,
   "id": "35d8c653-5c19-424d-98e1-7292ac5f7f14",
   "metadata": {},
   "outputs": [
    {
     "name": "stdout",
     "output_type": "stream",
     "text": [
      "No module named 'pankaj'\n"
     ]
    }
   ],
   "source": [
    "try: \n",
    "    import pankaj                 #there are no packege of name pankaj\n",
    "except ImportError as e: \n",
    "    print(e)"
   ]
  },
  {
   "cell_type": "code",
   "execution_count": 24,
   "id": "b117f8cb-392f-4caa-8cd3-bec7864cb67f",
   "metadata": {},
   "outputs": [],
   "source": [
    "l={'key':'value', 'name':'pankaj'}"
   ]
  },
  {
   "cell_type": "code",
   "execution_count": 27,
   "id": "74c172da-d747-4065-a07c-eb6871601dbd",
   "metadata": {},
   "outputs": [
    {
     "data": {
      "text/plain": [
       "'value'"
      ]
     },
     "execution_count": 27,
     "metadata": {},
     "output_type": "execute_result"
    }
   ],
   "source": [
    "l['key']"
   ]
  },
  {
   "cell_type": "code",
   "execution_count": 28,
   "id": "2a280b82-0750-4145-abb6-84afa01186d3",
   "metadata": {},
   "outputs": [
    {
     "data": {
      "text/plain": [
       "'pankaj'"
      ]
     },
     "execution_count": 28,
     "metadata": {},
     "output_type": "execute_result"
    }
   ],
   "source": [
    "l['name']"
   ]
  },
  {
   "cell_type": "code",
   "execution_count": 29,
   "id": "183eb911-2f50-4471-8c99-9833f243db64",
   "metadata": {},
   "outputs": [
    {
     "name": "stdout",
     "output_type": "stream",
     "text": [
      "'key2'\n"
     ]
    }
   ],
   "source": [
    "try: \n",
    "    l={'key':'value', 'name':'pankaj'}\n",
    "    l['key2']\n",
    "except KeyError as e: \n",
    "    print(e)"
   ]
  },
  {
   "cell_type": "code",
   "execution_count": 36,
   "id": "8c9dfde0-dc70-4fa7-bc77-d79503d239d9",
   "metadata": {},
   "outputs": [
    {
     "name": "stdout",
     "output_type": "stream",
     "text": [
      "'str' object has no attribute 'sikar'\n"
     ]
    }
   ],
   "source": [
    "try: \n",
    "    'list'.sikar()\n",
    "except Exception as e: \n",
    "    print(e)"
   ]
  },
  {
   "cell_type": "code",
   "execution_count": 39,
   "id": "8e930d48-b5bc-40a0-9a5a-17410f9b0e13",
   "metadata": {},
   "outputs": [
    {
     "name": "stdout",
     "output_type": "stream",
     "text": [
      "'str' object has no attribute 'sikar'\n"
     ]
    }
   ],
   "source": [
    "try: \n",
    "    'list'.sikar()\n",
    "except AttributeError as e: \n",
    "    print(e)"
   ]
  },
  {
   "cell_type": "code",
   "execution_count": 40,
   "id": "35a89dbf-97a4-4467-8334-b7351cd8cec9",
   "metadata": {},
   "outputs": [
    {
     "name": "stdout",
     "output_type": "stream",
     "text": [
      "list index out of range\n"
     ]
    }
   ],
   "source": [
    "try: \n",
    "    l=[5,6,7,7]\n",
    "    print(l[6])          # index 6 is not available\n",
    "except IndexError as e:\n",
    "    print(e)"
   ]
  },
  {
   "cell_type": "code",
   "execution_count": 41,
   "id": "6f24d65b-b1b6-4e08-a522-ca1ca4e6fbc4",
   "metadata": {},
   "outputs": [
    {
     "name": "stdout",
     "output_type": "stream",
     "text": [
      "unsupported operand type(s) for +: 'int' and 'str'\n"
     ]
    }
   ],
   "source": [
    "try: \n",
    "    545+'panakj'\n",
    "except TypeError as e: \n",
    "    print(e)"
   ]
  },
  {
   "cell_type": "code",
   "execution_count": 42,
   "id": "708263fd-e934-4223-8376-ba12961c9702",
   "metadata": {},
   "outputs": [
    {
     "name": "stdout",
     "output_type": "stream",
     "text": [
      "[Errno 2] No such file or directory: 'pankaj.txt'\n"
     ]
    }
   ],
   "source": [
    "try: \n",
    "    with open('pankaj.txt', 'r') as f:\n",
    "        f.read()\n",
    "except FileNotFoundError as e:\n",
    "    print(e)"
   ]
  },
  {
   "cell_type": "code",
   "execution_count": 43,
   "id": "be7eadc4-2ad8-4e1d-a2dc-b23be2d7e5ab",
   "metadata": {},
   "outputs": [
    {
     "data": {
      "text/plain": [
       "['__cause__',\n",
       " '__class__',\n",
       " '__context__',\n",
       " '__delattr__',\n",
       " '__dict__',\n",
       " '__dir__',\n",
       " '__doc__',\n",
       " '__eq__',\n",
       " '__format__',\n",
       " '__ge__',\n",
       " '__getattribute__',\n",
       " '__gt__',\n",
       " '__hash__',\n",
       " '__init__',\n",
       " '__init_subclass__',\n",
       " '__le__',\n",
       " '__lt__',\n",
       " '__ne__',\n",
       " '__new__',\n",
       " '__reduce__',\n",
       " '__reduce_ex__',\n",
       " '__repr__',\n",
       " '__setattr__',\n",
       " '__setstate__',\n",
       " '__sizeof__',\n",
       " '__str__',\n",
       " '__subclasshook__',\n",
       " '__suppress_context__',\n",
       " '__traceback__',\n",
       " 'args',\n",
       " 'with_traceback']"
      ]
     },
     "execution_count": 43,
     "metadata": {},
     "output_type": "execute_result"
    }
   ],
   "source": [
    "dir(Exception)"
   ]
  },
  {
   "cell_type": "code",
   "execution_count": 66,
   "id": "dd17c7fd-f1ee-489d-a2f9-110685fccc83",
   "metadata": {},
   "outputs": [
    {
     "name": "stdout",
     "output_type": "stream",
     "text": [
      "[Errno 2] No such file or directory: 'pankaj.txt'\n"
     ]
    }
   ],
   "source": [
    "try: \n",
    "    with open('pankaj.txt', 'r') as f:\n",
    "        s=f.read()\n",
    "except Exception as e:              # Exception is the supper class that handle all tyep or error so always try to write in bottom \n",
    "    print(e)\n",
    "except FileNotFoundError as e:      # this is specific type of error\n",
    "    print('second except not execute because error already handled by first except', e)"
   ]
  },
  {
   "cell_type": "code",
   "execution_count": 70,
   "id": "4b9d1eb7-7d89-430f-b3ef-a900f9ca01c9",
   "metadata": {},
   "outputs": [],
   "source": [
    "# we also can write this exception handling in the function / class\n",
    "def test(file):\n",
    "    try: \n",
    "        with open(file, 'r') as f:\n",
    "            s=f.read()\n",
    "    except Exception as e: \n",
    "        print(e)\n",
    "    except FileNotFoundError as e:      \n",
    "        print('second except not execute because error already handled by first except', e) \n"
   ]
  },
  {
   "cell_type": "code",
   "execution_count": null,
   "id": "b3931363-c2db-4ee7-8303-8858b8c94f20",
   "metadata": {},
   "outputs": [],
   "source": []
  },
  {
   "cell_type": "code",
   "execution_count": null,
   "id": "463fddce-cecd-4fa5-a7ad-52f6b424445b",
   "metadata": {},
   "outputs": [],
   "source": []
  }
 ],
 "metadata": {
  "kernelspec": {
   "display_name": "Python 3 (ipykernel)",
   "language": "python",
   "name": "python3"
  },
  "language_info": {
   "codemirror_mode": {
    "name": "ipython",
    "version": 3
   },
   "file_extension": ".py",
   "mimetype": "text/x-python",
   "name": "python",
   "nbconvert_exporter": "python",
   "pygments_lexer": "ipython3",
   "version": "3.10.8"
  }
 },
 "nbformat": 4,
 "nbformat_minor": 5
}
