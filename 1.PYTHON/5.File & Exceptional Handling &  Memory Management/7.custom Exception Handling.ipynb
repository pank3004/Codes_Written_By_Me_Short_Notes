{
 "cells": [
  {
   "cell_type": "code",
   "execution_count": 6,
   "id": "2759cc1e-276b-4058-9e9f-ef61122889bc",
   "metadata": {},
   "outputs": [
    {
     "name": "stdin",
     "output_type": "stream",
     "text": [
      "Enter your age -78\n"
     ]
    }
   ],
   "source": [
    "age=int(input(\"Enter your age\"))"
   ]
  },
  {
   "cell_type": "code",
   "execution_count": 7,
   "id": "e0422175-fe75-4251-a270-d588b47974af",
   "metadata": {},
   "outputs": [
    {
     "data": {
      "text/plain": [
       "-78"
      ]
     },
     "execution_count": 7,
     "metadata": {},
     "output_type": "execute_result"
    }
   ],
   "source": [
    "age                       # this code is absulatly write acc. to compiler but practical this this imposible neg. age\n",
    "                          # so we want to raise exception on neg. age so this this called custom exception"
   ]
  },
  {
   "cell_type": "code",
   "execution_count": 8,
   "id": "92259e5d-95fe-48e3-8d56-16dff3a085e5",
   "metadata": {},
   "outputs": [],
   "source": [
    "class validateage(Exception):   # inheritance exception \n",
    "    def __init__(self,msg):\n",
    "        self.msg=msg\n",
    "        "
   ]
  },
  {
   "cell_type": "code",
   "execution_count": 11,
   "id": "4e334e8e-3451-4458-bdd2-3d566376e70c",
   "metadata": {},
   "outputs": [],
   "source": [
    "def valid_age(age): \n",
    "    if age<0: \n",
    "        raise validateage(\"age is negetive\")\n",
    "    elif age>200: \n",
    "        raise validateage(\"age is very very high\")\n",
    "    else: \n",
    "        print(\"age is valid\")"
   ]
  },
  {
   "cell_type": "code",
   "execution_count": 22,
   "id": "d0c07ecc-2106-4c05-86e0-9eba5fd9f6a7",
   "metadata": {},
   "outputs": [
    {
     "name": "stdin",
     "output_type": "stream",
     "text": [
      "enter your age -76\n"
     ]
    },
    {
     "name": "stdout",
     "output_type": "stream",
     "text": [
      "age is negetive\n"
     ]
    }
   ],
   "source": [
    "try: \n",
    "    age=int(input(\"enter your age\"))\n",
    "    valid_age(age)\n",
    "except validateage as e: \n",
    "            print(e)\n",
    "            "
   ]
  },
  {
   "cell_type": "code",
   "execution_count": null,
   "id": "615bd011-3355-4fa8-90f8-79dd309de7a7",
   "metadata": {},
   "outputs": [],
   "source": []
  }
 ],
 "metadata": {
  "kernelspec": {
   "display_name": "Python 3 (ipykernel)",
   "language": "python",
   "name": "python3"
  },
  "language_info": {
   "codemirror_mode": {
    "name": "ipython",
    "version": 3
   },
   "file_extension": ".py",
   "mimetype": "text/x-python",
   "name": "python",
   "nbconvert_exporter": "python",
   "pygments_lexer": "ipython3",
   "version": "3.10.8"
  }
 },
 "nbformat": 4,
 "nbformat_minor": 5
}
