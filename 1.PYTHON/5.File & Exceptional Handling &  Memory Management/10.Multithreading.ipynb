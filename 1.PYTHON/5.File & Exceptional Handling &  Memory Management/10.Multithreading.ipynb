{
 "cells": [
  {
   "cell_type": "code",
   "execution_count": 1,
   "id": "483ffda6-ce8e-473c-bd8d-f349c132a18b",
   "metadata": {},
   "outputs": [],
   "source": [
    "import threading"
   ]
  },
  {
   "cell_type": "code",
   "execution_count": 6,
   "id": "b1a1ccd7-d32f-41ad-a352-e81968e0179c",
   "metadata": {},
   "outputs": [],
   "source": [
    "def test(id): \n",
    "    print(\"prog start %d\" %id)"
   ]
  },
  {
   "cell_type": "code",
   "execution_count": 7,
   "id": "a031504e-48e0-4f89-8b29-9ef808309916",
   "metadata": {},
   "outputs": [
    {
     "name": "stdout",
     "output_type": "stream",
     "text": [
      "prog start 43\n"
     ]
    }
   ],
   "source": [
    "test(43)"
   ]
  },
  {
   "cell_type": "code",
   "execution_count": 22,
   "id": "c216f864-cea2-4e23-a14e-28e6e82f42f5",
   "metadata": {},
   "outputs": [],
   "source": [
    "thread=[threading.Thread(target=test, args=(i,)) for i in range(10)]"
   ]
  },
  {
   "cell_type": "code",
   "execution_count": 23,
   "id": "2a968834-2357-4d0f-80b3-fa0b1c853383",
   "metadata": {},
   "outputs": [
    {
     "name": "stdout",
     "output_type": "stream",
     "text": [
      "prog start 0\n",
      "prog start 1\n",
      "prog start 2\n",
      "prog start 3\n",
      "prog start 4\n",
      "prog start 5\n",
      "prog start 6\n",
      "prog start 7\n",
      "prog start 8\n",
      "prog start 9\n"
     ]
    }
   ],
   "source": [
    "for t in thread: \n",
    "    t.start()"
   ]
  },
  {
   "cell_type": "code",
   "execution_count": 24,
   "id": "bb7fd9e3-1159-4a55-901a-86c8824ffa2a",
   "metadata": {},
   "outputs": [
    {
     "data": {
      "text/plain": [
       "[<Thread(Thread-45 (test), stopped 139659774518848)>,\n",
       " <Thread(Thread-46 (test), stopped 139659774518848)>,\n",
       " <Thread(Thread-47 (test), stopped 139659774518848)>,\n",
       " <Thread(Thread-48 (test), stopped 139659774518848)>,\n",
       " <Thread(Thread-49 (test), stopped 139659757733440)>,\n",
       " <Thread(Thread-50 (test), stopped 139659757733440)>,\n",
       " <Thread(Thread-51 (test), stopped 139659774518848)>,\n",
       " <Thread(Thread-52 (test), stopped 139659774518848)>,\n",
       " <Thread(Thread-53 (test), stopped 139659774518848)>,\n",
       " <Thread(Thread-54 (test), stopped 139659774518848)>]"
      ]
     },
     "execution_count": 24,
     "metadata": {},
     "output_type": "execute_result"
    }
   ],
   "source": [
    "thread"
   ]
  },
  {
   "cell_type": "code",
   "execution_count": 25,
   "id": "de9cb55c-ba4a-40d6-9835-5658c9df1282",
   "metadata": {},
   "outputs": [
    {
     "data": {
      "text/plain": [
       "139660194891200"
      ]
     },
     "execution_count": 25,
     "metadata": {},
     "output_type": "execute_result"
    }
   ],
   "source": [
    "id(thread)"
   ]
  },
  {
   "cell_type": "code",
   "execution_count": 31,
   "id": "bd217898-deb6-4cd1-9d5d-022a46697e50",
   "metadata": {},
   "outputs": [],
   "source": [
    "import threading\n",
    "import urllib.request\n",
    "\n",
    "def file_download(url, filename):\n",
    "    urllib.request.urlretrieve(url, filename)"
   ]
  },
  {
   "cell_type": "code",
   "execution_count": 32,
   "id": "4fcdb589-7d83-48db-86bb-48a6b110b9e4",
   "metadata": {},
   "outputs": [],
   "source": [
    "file_download('https://www.w3.org/TR/2003/REC-PNG-20031110/iso_8859-1.txt','test50.txt')"
   ]
  },
  {
   "cell_type": "code",
   "execution_count": 55,
   "id": "30d8fff7-3d66-45e5-9c15-550eb3b567fa",
   "metadata": {},
   "outputs": [],
   "source": [
    "url_list=['https://www.w3.org/TR/2003/REC-PNG-20031110/iso_8859-1.txt','https://example-files.online-convert.com/document/txt/example.txt','https://www.w3.org/TR/2003/REC-PNG-20031110/iso_8859-1.txt']"
   ]
  },
  {
   "cell_type": "code",
   "execution_count": 56,
   "id": "a7051366-d863-4e8a-8a50-3a28f91e15b0",
   "metadata": {},
   "outputs": [
    {
     "data": {
      "text/plain": [
       "['https://www.w3.org/TR/2003/REC-PNG-20031110/iso_8859-1.txt',\n",
       " 'https://example-files.online-convert.com/document/txt/example.txt',\n",
       " 'https://www.w3.org/TR/2003/REC-PNG-20031110/iso_8859-1.txt']"
      ]
     },
     "execution_count": 56,
     "metadata": {},
     "output_type": "execute_result"
    }
   ],
   "source": [
    "url_list"
   ]
  },
  {
   "cell_type": "code",
   "execution_count": 57,
   "id": "8f0d49e4-5b50-4e2c-9bc2-7ff3b8118a9c",
   "metadata": {},
   "outputs": [],
   "source": [
    "file_name_list=['data1.txt', 'data2.txt', 'data3.txt']"
   ]
  },
  {
   "cell_type": "code",
   "execution_count": 58,
   "id": "068f6124-a08d-45b2-aaa5-104743f4a0cd",
   "metadata": {},
   "outputs": [],
   "source": [
    "ther=[threading.Thread(target=file_download, args=(url_list[i], file_name_list[i])) for i in range(len(url_list))]"
   ]
  },
  {
   "cell_type": "code",
   "execution_count": 59,
   "id": "d9b01d24-16a5-4adf-b149-d4f4d15b9b09",
   "metadata": {},
   "outputs": [
    {
     "data": {
      "text/plain": [
       "[<Thread(Thread-67 (file_download), initial)>,\n",
       " <Thread(Thread-68 (file_download), initial)>,\n",
       " <Thread(Thread-69 (file_download), initial)>]"
      ]
     },
     "execution_count": 59,
     "metadata": {},
     "output_type": "execute_result"
    }
   ],
   "source": [
    "ther"
   ]
  },
  {
   "cell_type": "code",
   "execution_count": 60,
   "id": "15f585e6-43bd-43f2-9826-30ca8664c354",
   "metadata": {},
   "outputs": [],
   "source": [
    "for t in ther: \n",
    "    t.start()"
   ]
  },
  {
   "cell_type": "code",
   "execution_count": 61,
   "id": "74815141-d09f-4446-ad19-d382715323b5",
   "metadata": {},
   "outputs": [
    {
     "data": {
      "text/plain": [
       "3"
      ]
     },
     "execution_count": 61,
     "metadata": {},
     "output_type": "execute_result"
    }
   ],
   "source": [
    "len(url_list)"
   ]
  },
  {
   "cell_type": "code",
   "execution_count": 62,
   "id": "8dd602f5-456b-4470-9611-b08a69523174",
   "metadata": {},
   "outputs": [],
   "source": [
    "import time"
   ]
  },
  {
   "cell_type": "code",
   "execution_count": 87,
   "id": "5ab175eb-cf61-4c87-af38-5d2d5b859bdd",
   "metadata": {},
   "outputs": [],
   "source": [
    "def test1(id): \n",
    "    for i in range(10): \n",
    "        print(\"test1 %d printing %d at time %s\" %(id,i, time.ctime()))\n",
    "        time.sleep(1)"
   ]
  },
  {
   "cell_type": "code",
   "execution_count": 88,
   "id": "737c3bb6-f666-4fba-aa9d-960345343896",
   "metadata": {},
   "outputs": [
    {
     "name": "stdout",
     "output_type": "stream",
     "text": [
      "test1 4 printing 0 at time Fri Jun 23 18:15:09 2023\n",
      "test1 4 printing 1 at time Fri Jun 23 18:15:10 2023\n",
      "test1 4 printing 2 at time Fri Jun 23 18:15:11 2023\n",
      "test1 4 printing 3 at time Fri Jun 23 18:15:12 2023\n",
      "test1 4 printing 4 at time Fri Jun 23 18:15:13 2023\n",
      "test1 4 printing 5 at time Fri Jun 23 18:15:14 2023\n",
      "test1 4 printing 6 at time Fri Jun 23 18:15:15 2023\n",
      "test1 4 printing 7 at time Fri Jun 23 18:15:16 2023\n",
      "test1 4 printing 8 at time Fri Jun 23 18:15:17 2023\n",
      "test1 4 printing 9 at time Fri Jun 23 18:15:18 2023\n"
     ]
    }
   ],
   "source": [
    "test1(4)"
   ]
  },
  {
   "cell_type": "code",
   "execution_count": 89,
   "id": "e2eab077-9471-48c1-a5d7-18c9fc38176f",
   "metadata": {},
   "outputs": [],
   "source": [
    "thread1 =[threading.Thread(target=test1, args=(i,)) for i in range(3)]"
   ]
  },
  {
   "cell_type": "code",
   "execution_count": 90,
   "id": "505efff6-d1f1-4a80-84cb-2c66042459ee",
   "metadata": {},
   "outputs": [
    {
     "name": "stdout",
     "output_type": "stream",
     "text": [
      "test1 0 printing 0 at time Fri Jun 23 18:15:24 2023\n",
      "test1 1 printing 0 at time Fri Jun 23 18:15:24 2023\n",
      "test1 2 printing 0 at time Fri Jun 23 18:15:24 2023\n",
      "test1 0 printing 1 at time Fri Jun 23 18:15:25 2023\n",
      "test1 1 printing 1 at time Fri Jun 23 18:15:25 2023\n",
      "test1 2 printing 1 at time Fri Jun 23 18:15:25 2023\n",
      "test1 0 printing 2 at time Fri Jun 23 18:15:26 2023\n",
      "test1 1 printing 2 at time Fri Jun 23 18:15:26 2023\n",
      "test1 2 printing 2 at time Fri Jun 23 18:15:26 2023\n",
      "test1 0 printing 3 at time Fri Jun 23 18:15:27 2023\n",
      "test1 2 printing 3 at time Fri Jun 23 18:15:27 2023\n",
      "test1 1 printing 3 at time Fri Jun 23 18:15:27 2023\n",
      "test1 0 printing 4 at time Fri Jun 23 18:15:28 2023\n",
      "test1 2 printing 4 at time Fri Jun 23 18:15:28 2023\n",
      "test1 1 printing 4 at time Fri Jun 23 18:15:28 2023\n",
      "test1 0 printing 5 at time Fri Jun 23 18:15:29 2023\n",
      "test1 2 printing 5 at time Fri Jun 23 18:15:29 2023\n",
      "test1 1 printing 5 at time Fri Jun 23 18:15:29 2023\n",
      "test1 0 printing 6 at time Fri Jun 23 18:15:30 2023\n",
      "test1 2 printing 6 at time Fri Jun 23 18:15:30 2023\n",
      "test1 1 printing 6 at time Fri Jun 23 18:15:30 2023\n",
      "test1 0 printing 7 at time Fri Jun 23 18:15:31 2023\n",
      "test1 2 printing 7 at time Fri Jun 23 18:15:31 2023\n",
      "test1 1 printing 7 at time Fri Jun 23 18:15:31 2023\n",
      "test1 0 printing 8 at time Fri Jun 23 18:15:32 2023\n",
      "test1 2 printing 8 at time Fri Jun 23 18:15:32 2023\n",
      "test1 1 printing 8 at time Fri Jun 23 18:15:32 2023\n",
      "test1 0 printing 9 at time Fri Jun 23 18:15:33 2023\n",
      "test1 2 printing 9 at time Fri Jun 23 18:15:33 2023\n",
      "test1 1 printing 9 at time Fri Jun 23 18:15:33 2023\n"
     ]
    }
   ],
   "source": [
    "for t in thread1: \n",
    "    t.start()"
   ]
  },
  {
   "cell_type": "code",
   "execution_count": 91,
   "id": "be5a46ed-9485-490e-9be8-6c6c65f903c4",
   "metadata": {},
   "outputs": [],
   "source": [
    "def test1(id): \n",
    "    for i in range(10): \n",
    "        print(\"test1 %d printing %d at time %s\" %(id,i, time.ctime()))"
   ]
  },
  {
   "cell_type": "code",
   "execution_count": 92,
   "id": "e5b5d28d-249c-4e73-97d0-ad8d2f3dc6de",
   "metadata": {},
   "outputs": [],
   "source": [
    "thread1 =[threading.Thread(target=test1, args=(i,)) for i in range(3)]"
   ]
  },
  {
   "cell_type": "code",
   "execution_count": 93,
   "id": "3d61a9d3-4805-4a75-a903-d075a9f2b95b",
   "metadata": {},
   "outputs": [
    {
     "name": "stdout",
     "output_type": "stream",
     "text": [
      "test1 0 printing 0 at time Fri Jun 23 18:16:02 2023\n",
      "test1 0 printing 1 at time Fri Jun 23 18:16:02 2023\n",
      "test1 0 printing 2 at time Fri Jun 23 18:16:02 2023\n",
      "test1 0 printing 3 at time Fri Jun 23 18:16:02 2023\n",
      "test1 0 printing 4 at time Fri Jun 23 18:16:02 2023\n",
      "test1 0 printing 5 at time Fri Jun 23 18:16:02 2023\n",
      "test1 0 printing 6 at time Fri Jun 23 18:16:02 2023\n",
      "test1 0 printing 7 at time Fri Jun 23 18:16:02 2023\n",
      "test1 0 printing 8 at time Fri Jun 23 18:16:02 2023\n",
      "test1 0 printing 9 at time Fri Jun 23 18:16:02 2023\n",
      "test1 1 printing 0 at time Fri Jun 23 18:16:02 2023\n",
      "test1 1 printing 1 at time Fri Jun 23 18:16:02 2023\n",
      "test1 1 printing 2 at time Fri Jun 23 18:16:02 2023\n",
      "test1 1 printing 3 at time Fri Jun 23 18:16:02 2023\n",
      "test1 1 printing 4 at time Fri Jun 23 18:16:02 2023\n",
      "test1 1 printing 5 at time Fri Jun 23 18:16:02 2023\n",
      "test1 1 printing 6 at time Fri Jun 23 18:16:02 2023\n",
      "test1 1 printing 7 at time Fri Jun 23 18:16:02 2023\n",
      "test1 1 printing 8 at time Fri Jun 23 18:16:02 2023\n",
      "test1 1 printing 9 at time Fri Jun 23 18:16:02 2023\n",
      "test1 2 printing 0 at time Fri Jun 23 18:16:02 2023\n",
      "test1 2 printing 1 at time Fri Jun 23 18:16:02 2023\n",
      "test1 2 printing 2 at time Fri Jun 23 18:16:02 2023\n",
      "test1 2 printing 3 at time Fri Jun 23 18:16:02 2023\n",
      "test1 2 printing 4 at time Fri Jun 23 18:16:02 2023\n",
      "test1 2 printing 5 at time Fri Jun 23 18:16:02 2023\n",
      "test1 2 printing 6 at time Fri Jun 23 18:16:02 2023\n",
      "test1 2 printing 7 at time Fri Jun 23 18:16:02 2023\n",
      "test1 2 printing 8 at time Fri Jun 23 18:16:02 2023\n",
      "test1 2 printing 9 at time Fri Jun 23 18:16:02 2023\n"
     ]
    }
   ],
   "source": [
    "for t in thread1: \n",
    "    t.start()"
   ]
  },
  {
   "cell_type": "code",
   "execution_count": 94,
   "id": "814e72a1-25a7-4c1a-98c4-be0ca07850ad",
   "metadata": {},
   "outputs": [
    {
     "data": {
      "text/plain": [
       "7"
      ]
     },
     "execution_count": 94,
     "metadata": {},
     "output_type": "execute_result"
    }
   ],
   "source": [
    "len(range(7))"
   ]
  },
  {
   "cell_type": "code",
   "execution_count": 99,
   "id": "821e86ab-d7f8-46ff-80c2-c6bff6b72412",
   "metadata": {},
   "outputs": [
    {
     "name": "stdout",
     "output_type": "stream",
     "text": [
      "test2 is 0 has increased the shared variable by 1\n",
      "test2 is 1 has increased the shared variable by 2\n",
      "test2 is 2 has increased the shared variable by 3\n"
     ]
    }
   ],
   "source": [
    "shared_ver=0\n",
    "lock_var=threading.Lock()\n",
    "\n",
    "def test2(id): \n",
    "    global shared_ver\n",
    "    with lock_var: \n",
    "        shared_ver= shared_ver+1\n",
    "        print('test2 is %d has increased the shared variable by %d' %(id, shared_ver))\n",
    "ther3=[threading.Thread(target=test2, args=(i, )) for i in range(3)]\n",
    "for t in ther3: \n",
    "    t.start()"
   ]
  },
  {
   "cell_type": "code",
   "execution_count": 100,
   "id": "bd8bbdb8-fe50-4b50-b075-139ccdbfa438",
   "metadata": {},
   "outputs": [
    {
     "name": "stdout",
     "output_type": "stream",
     "text": [
      "test2 is 0 has increased the shared variable by 1\n",
      "test2 is 1 has increased the shared variable by 2\n",
      "test2 is 2 has increased the shared variable by 3\n"
     ]
    }
   ],
   "source": [
    "shared_ver=0\n",
    "lock_var=threading.Lock()\n",
    "\n",
    "def test2(id): \n",
    "    global shared_ver\n",
    "    with lock_var: \n",
    "        shared_ver= shared_ver+1\n",
    "        print('test2 is %d has increased the shared variable by %d' %(id, shared_ver))\n",
    "        time.sleep(1)\n",
    "ther3=[threading.Thread(target=test2, args=(i, )) for i in range(3)]\n",
    "for t in ther3: \n",
    "    t.start()"
   ]
  },
  {
   "cell_type": "code",
   "execution_count": null,
   "id": "9ecf305b-eee6-43b5-89b8-9658ff45e67f",
   "metadata": {},
   "outputs": [],
   "source": []
  }
 ],
 "metadata": {
  "kernelspec": {
   "display_name": "Python 3 (ipykernel)",
   "language": "python",
   "name": "python3"
  },
  "language_info": {
   "codemirror_mode": {
    "name": "ipython",
    "version": 3
   },
   "file_extension": ".py",
   "mimetype": "text/x-python",
   "name": "python",
   "nbconvert_exporter": "python",
   "pygments_lexer": "ipython3",
   "version": "3.10.8"
  }
 },
 "nbformat": 4,
 "nbformat_minor": 5
}
