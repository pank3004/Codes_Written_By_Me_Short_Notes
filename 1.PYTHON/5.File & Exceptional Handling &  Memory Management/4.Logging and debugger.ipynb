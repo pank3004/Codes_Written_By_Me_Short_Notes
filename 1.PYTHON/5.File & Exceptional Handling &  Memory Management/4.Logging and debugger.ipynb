{
 "cells": [
  {
   "cell_type": "code",
   "execution_count": 34,
   "id": "91c5c841-f91e-4ca3-9ff7-38a03629b793",
   "metadata": {},
   "outputs": [
    {
     "name": "stdout",
     "output_type": "stream",
     "text": [
      "this is my print\n"
     ]
    }
   ],
   "source": [
    "print(\"this is my print\")       # this is only print on console not stored"
   ]
  },
  {
   "cell_type": "code",
   "execution_count": 35,
   "id": "4251b555-95ff-40ba-98b4-aa9b2da774b8",
   "metadata": {},
   "outputs": [],
   "source": [
    "import logging"
   ]
  },
  {
   "cell_type": "code",
   "execution_count": 36,
   "id": "8bca6c99-4834-437e-a1d1-970cd3d77db3",
   "metadata": {},
   "outputs": [],
   "source": [
    "logging.basicConfig(filename='file.log', level=logging.INFO) "
   ]
  },
  {
   "cell_type": "code",
   "execution_count": 37,
   "id": "bd47c10d-908c-4eb0-9a13-b626a4e5b024",
   "metadata": {},
   "outputs": [],
   "source": [
    "logging.info(\"this is my info\")"
   ]
  },
  {
   "cell_type": "code",
   "execution_count": 38,
   "id": "22441836-ebcb-45cb-9756-8668f85dd2d7",
   "metadata": {},
   "outputs": [
    {
     "data": {
      "text/plain": [
       "' level: \\n            1 NOTSET\\n            2 DEBUG\\n            3 INFO\\n            4 WARNING\\n            5 ERROR\\n            6 CRITICAL       '"
      ]
     },
     "execution_count": 38,
     "metadata": {},
     "output_type": "execute_result"
    }
   ],
   "source": [
    "''' level: \n",
    "            1 NOTSET\n",
    "            2 DEBUG\n",
    "            3 INFO\n",
    "            4 WARNING\n",
    "            5 ERROR\n",
    "            6 CRITICAL       '''"
   ]
  },
  {
   "cell_type": "code",
   "execution_count": 39,
   "id": "084f3b52-c0fb-4202-8d9f-7de6b8aed3d0",
   "metadata": {},
   "outputs": [],
   "source": [
    "logging.warning(\"this is my warninng\")"
   ]
  },
  {
   "cell_type": "code",
   "execution_count": 40,
   "id": "34d60596-96bf-4aa0-aba4-2cb32de2cdca",
   "metadata": {},
   "outputs": [],
   "source": [
    "logging.error(\"this is my error\")"
   ]
  },
  {
   "cell_type": "code",
   "execution_count": 41,
   "id": "94d4b88f-de73-45cb-b4b7-afd4d1373d8e",
   "metadata": {},
   "outputs": [],
   "source": [
    "logging.critical(\"this is my critical\")"
   ]
  },
  {
   "cell_type": "code",
   "execution_count": 42,
   "id": "ba07842b-9ad0-45a0-94dd-3311cdaf6304",
   "metadata": {},
   "outputs": [
    {
     "data": {
      "text/plain": [
       "'in file: \\n    \\n        INFO:root:this is my info\\n        WARNING:root:this is my warninng\\n        ERROR:root:this is my error\\n        CRITICAL:root:this is my critical          '"
      ]
     },
     "execution_count": 42,
     "metadata": {},
     "output_type": "execute_result"
    }
   ],
   "source": [
    "logging.debug(\"this is my debug\")               # this is not log because this is above the INFO\n",
    "\n",
    "'''in file: \n",
    "    \n",
    "        INFO:root:this is my info\n",
    "        WARNING:root:this is my warninng\n",
    "        ERROR:root:this is my error\n",
    "        CRITICAL:root:this is my critical          '''"
   ]
  },
  {
   "cell_type": "code",
   "execution_count": 43,
   "id": "b0bdd7dc-6d2c-4080-9340-8f25a607ac60",
   "metadata": {},
   "outputs": [],
   "source": [
    "logging.shutdown()"
   ]
  },
  {
   "cell_type": "code",
   "execution_count": 44,
   "id": "e9be71c7-89a6-4457-9936-f9e9b54e596a",
   "metadata": {},
   "outputs": [],
   "source": [
    "import logging"
   ]
  },
  {
   "cell_type": "code",
   "execution_count": 45,
   "id": "1fbdd8e8-a5aa-499d-9404-bcc82f0e1c92",
   "metadata": {},
   "outputs": [],
   "source": [
    "logging.basicConfig(filename='file1.log', level=logging.DEBUG, format= '%(asctime)s %(message)s')"
   ]
  },
  {
   "cell_type": "code",
   "execution_count": 46,
   "id": "40f336dd-529f-4175-99c8-bb310ccbaf2c",
   "metadata": {},
   "outputs": [
    {
     "data": {
      "text/plain": [
       "'in file: \\n                2023-06-20 17:33:25,746 this is my info\\n                2023-06-20 17:33:25,746 this is my error\\n                2023-06-20 17:33:25,746 this is my critical\\n                2023-06-20 17:33:25,746 this is my debug       '"
      ]
     },
     "execution_count": 46,
     "metadata": {},
     "output_type": "execute_result"
    }
   ],
   "source": [
    "logging.info(\"this is my info\")\n",
    "logging.error(\"this is my error\")\n",
    "logging.critical(\"this is my critical\")\n",
    "logging.debug(\"this is my debug\")\n",
    "\n",
    "'''in file: \n",
    "                2023-06-20 17:33:25,746 this is my info\n",
    "                2023-06-20 17:33:25,746 this is my error\n",
    "                2023-06-20 17:33:25,746 this is my critical\n",
    "                2023-06-20 17:33:25,746 this is my debug       '''"
   ]
  },
  {
   "cell_type": "code",
   "execution_count": 47,
   "id": "6a3fcf27-a5af-4b30-b05e-d036e042a989",
   "metadata": {},
   "outputs": [],
   "source": [
    "logging.shutdown()"
   ]
  },
  {
   "cell_type": "code",
   "execution_count": 48,
   "id": "3b796b8f-7726-42f3-a749-e1e3a2230314",
   "metadata": {},
   "outputs": [],
   "source": [
    "import logging"
   ]
  },
  {
   "cell_type": "code",
   "execution_count": 49,
   "id": "1443d159-0b30-4f14-9728-ec1676c732ff",
   "metadata": {},
   "outputs": [],
   "source": [
    "logging.basicConfig(filename='file2.log', level=logging.DEBUG, format= '%(asctime)s %(name)s %(levelname)s %(message)s')"
   ]
  },
  {
   "cell_type": "code",
   "execution_count": 50,
   "id": "af34f7d6-8132-4897-a62d-9379efe16c2b",
   "metadata": {},
   "outputs": [
    {
     "data": {
      "text/plain": [
       "' in file: \\n\\n                2023-06-20 17:38:55,859 root INFO this is my info\\n                2023-06-20 17:38:55,860 root ERROR this is my error\\n                2023-06-20 17:38:55,860 root CRITICAL this is my critical\\n                2023-06-20 17:38:55,860 root DEBUG this is my debug         '"
      ]
     },
     "execution_count": 50,
     "metadata": {},
     "output_type": "execute_result"
    }
   ],
   "source": [
    "logging.info(\"this is my info\")\n",
    "logging.error(\"this is my error\")\n",
    "logging.critical(\"this is my critical\")\n",
    "logging.debug(\"this is my debug\")\n",
    "\n",
    "''' in file: \n",
    "\n",
    "                2023-06-20 17:38:55,859 root INFO this is my info\n",
    "                2023-06-20 17:38:55,860 root ERROR this is my error\n",
    "                2023-06-20 17:38:55,860 root CRITICAL this is my critical\n",
    "                2023-06-20 17:38:55,860 root DEBUG this is my debug         '''"
   ]
  },
  {
   "cell_type": "code",
   "execution_count": 51,
   "id": "79589b93-9605-4eba-a89d-40c4e5d77a81",
   "metadata": {},
   "outputs": [],
   "source": [
    "l=[54,6,7,7,'smpr', 355,[4,5,'tera bap', 767,5], 'pankaj', 'kumar']"
   ]
  },
  {
   "cell_type": "code",
   "execution_count": 52,
   "id": "a8bbda46-27cd-4537-ae3b-330afacee940",
   "metadata": {},
   "outputs": [],
   "source": [
    "l1_int=[]\n",
    "l2_str=[]\n",
    "\n",
    "for i in l: \n",
    "    logging.info(\"Enter in for loop\"+ str(l))     # we can log list\n",
    "    if type(i)==int: \n",
    "        logging.info(\"try to cheak type of data\"+ str(i))\n",
    "        l1_int.append(i)\n",
    "    elif type(i)==list:\n",
    "        for j in i: \n",
    "            logging.info(\"again try to find the type of data\"+ str(j))\n",
    "            if type(j)==int: \n",
    "                l1_int.append(j)\n",
    "            else:\n",
    "                if type(j)==str: \n",
    "                    l2_str.append(j)\n",
    "    else: \n",
    "        if type(i)==str: \n",
    "            l2_str.append(i)"
   ]
  },
  {
   "cell_type": "code",
   "execution_count": 53,
   "id": "42f8a002-c0df-4f5e-bc43-7a5a1ea16ce5",
   "metadata": {},
   "outputs": [
    {
     "data": {
      "text/plain": [
       "[54, 6, 7, 7, 355, 4, 5, 767, 5]"
      ]
     },
     "execution_count": 53,
     "metadata": {},
     "output_type": "execute_result"
    }
   ],
   "source": [
    "l1_int"
   ]
  },
  {
   "cell_type": "code",
   "execution_count": 54,
   "id": "7b758478-e77b-4fd6-ab6e-4e954bdb89fd",
   "metadata": {},
   "outputs": [
    {
     "data": {
      "text/plain": [
       "['smpr', 'tera bap', 'pankaj', 'kumar']"
      ]
     },
     "execution_count": 54,
     "metadata": {},
     "output_type": "execute_result"
    }
   ],
   "source": [
    "l2_str"
   ]
  }
 ],
 "metadata": {
  "kernelspec": {
   "display_name": "Python 3 (ipykernel)",
   "language": "python",
   "name": "python3"
  },
  "language_info": {
   "codemirror_mode": {
    "name": "ipython",
    "version": 3
   },
   "file_extension": ".py",
   "mimetype": "text/x-python",
   "name": "python",
   "nbconvert_exporter": "python",
   "pygments_lexer": "ipython3",
   "version": "3.10.8"
  }
 },
 "nbformat": 4,
 "nbformat_minor": 5
}
