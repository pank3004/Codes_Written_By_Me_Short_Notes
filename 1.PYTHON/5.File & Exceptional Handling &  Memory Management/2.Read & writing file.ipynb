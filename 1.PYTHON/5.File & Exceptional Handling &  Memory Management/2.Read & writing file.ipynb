{
 "cells": [
  {
   "cell_type": "code",
   "execution_count": 6,
   "id": "920a932f-b89a-4de8-b335-552582943b6c",
   "metadata": {},
   "outputs": [],
   "source": [
    "data={'name': 'pankaj',\n",
    " 'email_id': 'pankaj@gmail.com',\n",
    " 'pnone_num': 8347789233,\n",
    " 'subject': ['data science', 'Big data', 'Data analytic', 'machine learning']}"
   ]
  },
  {
   "cell_type": "code",
   "execution_count": 7,
   "id": "76eb7d1c-81fe-47e4-a849-6901c8abc849",
   "metadata": {},
   "outputs": [],
   "source": [
    "import json          # JavaScript Object Notation"
   ]
  },
  {
   "cell_type": "code",
   "execution_count": 8,
   "id": "fe887e45-24c4-4889-b20c-fb0ec9db0863",
   "metadata": {},
   "outputs": [],
   "source": [
    "with open('data.json', 'w') as f: \n",
    "    json.dump(data, f)                # dump is use to perform a write operation"
   ]
  },
  {
   "cell_type": "code",
   "execution_count": 9,
   "id": "73861e2e-bab1-406e-b63a-489bdf61f47d",
   "metadata": {},
   "outputs": [],
   "source": [
    "with open('data.json', 'r') as f: \n",
    "    detail=json.load(f)               # load is use to perform for read operation"
   ]
  },
  {
   "cell_type": "code",
   "execution_count": 10,
   "id": "b5201ad2-71ed-4d50-984e-f15c63c3e078",
   "metadata": {},
   "outputs": [
    {
     "data": {
      "text/plain": [
       "{'name': 'pankaj',\n",
       " 'email_id': 'pankaj@gmail.com',\n",
       " 'pnone_num': 8347789233,\n",
       " 'subject': ['data science', 'Big data', 'Data analytic', 'machine learning']}"
      ]
     },
     "execution_count": 10,
     "metadata": {},
     "output_type": "execute_result"
    }
   ],
   "source": [
    "detail"
   ]
  },
  {
   "cell_type": "code",
   "execution_count": 11,
   "id": "f2f2dec0-cbff-46ab-987f-049b42eb55b9",
   "metadata": {},
   "outputs": [
    {
     "data": {
      "text/plain": [
       "['data science', 'Big data', 'Data analytic', 'machine learning']"
      ]
     },
     "execution_count": 11,
     "metadata": {},
     "output_type": "execute_result"
    }
   ],
   "source": [
    "detail['subject']"
   ]
  },
  {
   "cell_type": "code",
   "execution_count": 12,
   "id": "e2ee66a3-59d8-4a1a-b93a-5f38fdbf7147",
   "metadata": {},
   "outputs": [
    {
     "data": {
      "text/plain": [
       "'machine learning'"
      ]
     },
     "execution_count": 12,
     "metadata": {},
     "output_type": "execute_result"
    }
   ],
   "source": [
    "detail['subject'][3]"
   ]
  },
  {
   "cell_type": "code",
   "execution_count": 13,
   "id": "6749b09f-910d-464c-8475-bb431735038a",
   "metadata": {},
   "outputs": [],
   "source": [
    "import csv             # comma seperated values"
   ]
  },
  {
   "cell_type": "code",
   "execution_count": 14,
   "id": "6cb0fe35-6f55-4da4-b35a-5d70e77472ed",
   "metadata": {},
   "outputs": [],
   "source": [
    "data1=[['name', 'email_id', 'phone_number'],\n",
    "       ['pankaj', 'pankaj@123', 2387485723], \n",
    "       ['nitesh', 'nitesh@144', 3445662334]\n",
    "]"
   ]
  },
  {
   "cell_type": "code",
   "execution_count": 15,
   "id": "65d52d2a-81f0-4f14-9702-9bfd7bf3980c",
   "metadata": {},
   "outputs": [],
   "source": [
    "with open('data1.csv', 'w') as f: \n",
    "    writer=csv.writer(f)\n",
    "    \n",
    "    for i in data1: \n",
    "        writer.writerow(i)\n",
    "        \n",
    "# in file: \n",
    "\n",
    "# \tname\temail_id\tphone_number\n",
    "# 1\tpankaj\tpankaj@123\t2387485723\n",
    "# 2\tnitesh\tnitesh@144\t3445662334"
   ]
  },
  {
   "cell_type": "code",
   "execution_count": 16,
   "id": "adb623ad-e680-4453-99db-a99a80f8eab3",
   "metadata": {},
   "outputs": [
    {
     "name": "stdout",
     "output_type": "stream",
     "text": [
      "['name', 'email_id', 'phone_number']\n",
      "['pankaj', 'pankaj@123', 2387485723]\n",
      "['nitesh', 'nitesh@144', 3445662334]\n"
     ]
    }
   ],
   "source": [
    "with open('data1.csv', 'r') as f: \n",
    "    read_data=csv.reader(f)\n",
    "    \n",
    "    for i in data1:\n",
    "        print(i)\n",
    "        "
   ]
  },
  {
   "cell_type": "code",
   "execution_count": 17,
   "id": "b48a75a0-3fb3-4ef6-ac8b-6b7d01a878f5",
   "metadata": {},
   "outputs": [
    {
     "name": "stdout",
     "output_type": "stream",
     "text": [
      "['name', 'email_id', 'phone_number']\n",
      "['pankaj', 'pankaj@123', '2387485723']\n",
      "['nitesh', 'nitesh@144', '3445662334']\n"
     ]
    }
   ],
   "source": [
    "with open('data1.csv', 'r') as f: \n",
    "    read_data=csv.reader(f)\n",
    "    \n",
    "    for i in read_data:\n",
    "        print(i)"
   ]
  },
  {
   "cell_type": "code",
   "execution_count": 18,
   "id": "9fd46b31-ebae-40d4-bd45-78809ab482a6",
   "metadata": {},
   "outputs": [],
   "source": [
    "with open('text1.bin', 'wb') as f: \n",
    "    f.write(b\"\\x01\\x02\\x03\\x078976\")\n",
    "    \n",
    "    \n",
    "# in text1.bin file: \n",
    "\n",
    "# \u0001\u0002\u0003\u00078976"
   ]
  },
  {
   "cell_type": "code",
   "execution_count": 19,
   "id": "c7ba0d8d-2a3f-43f9-bab5-ba1ab81830fd",
   "metadata": {},
   "outputs": [
    {
     "name": "stdout",
     "output_type": "stream",
     "text": [
      "b'\\x01\\x02\\x03\\x078976'\n"
     ]
    }
   ],
   "source": [
    "with open('text1.bin', 'rb') as f: \n",
    "    print(f.read())"
   ]
  },
  {
   "cell_type": "code",
   "execution_count": null,
   "id": "8407b74e-25cb-4354-9740-598d90074982",
   "metadata": {},
   "outputs": [],
   "source": []
  }
 ],
 "metadata": {
  "kernelspec": {
   "display_name": "Python 3 (ipykernel)",
   "language": "python",
   "name": "python3"
  },
  "language_info": {
   "codemirror_mode": {
    "name": "ipython",
    "version": 3
   },
   "file_extension": ".py",
   "mimetype": "text/x-python",
   "name": "python",
   "nbconvert_exporter": "python",
   "pygments_lexer": "ipython3",
   "version": "3.10.8"
  }
 },
 "nbformat": 4,
 "nbformat_minor": 5
}
