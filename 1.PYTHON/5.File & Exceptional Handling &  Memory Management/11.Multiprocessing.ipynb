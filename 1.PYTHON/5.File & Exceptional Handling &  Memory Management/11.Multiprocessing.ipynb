{
 "cells": [
  {
   "cell_type": "code",
   "execution_count": 2,
   "id": "063cd5db-7203-4185-b701-4fb3ac125c87",
   "metadata": {},
   "outputs": [
    {
     "name": "stdout",
     "output_type": "stream",
     "text": [
      "this is my main function\n",
      "this is my multiprocessing\n"
     ]
    }
   ],
   "source": [
    "import multiprocessing\n",
    "def test(): \n",
    "    print(\"this is my multiprocessing\")\n",
    "\n",
    "if __name__=='__main__': \n",
    "    print(\"this is my main function\")\n",
    "    m=multiprocessing.Process(target=test)           # achieve multiprocessing by Process\n",
    "    m.start()\n",
    "    m.join()\n",
    "    "
   ]
  },
  {
   "cell_type": "code",
   "execution_count": 2,
   "id": "c86c8b6a-cdbb-4f8d-8271-7dcf6e610799",
   "metadata": {},
   "outputs": [
    {
     "name": "stdout",
     "output_type": "stream",
     "text": [
      "this is my multiprocessing\n"
     ]
    }
   ],
   "source": [
    "test()           # we can access directly the test function"
   ]
  },
  {
   "cell_type": "code",
   "execution_count": 3,
   "id": "6bb1059f-0349-45e2-aa9a-f616da191418",
   "metadata": {},
   "outputs": [
    {
     "name": "stdout",
     "output_type": "stream",
     "text": [
      "[9, 36, 25, 16, 9, 16, 25, 3025, 36]\n"
     ]
    }
   ],
   "source": [
    "def square(n): \n",
    "    return n**2\n",
    "\n",
    "if __name__=='__main__': \n",
    "    with multiprocessing.Pool(processes=4) as pool:                 # achieve multiprocessing by Pool\n",
    "        out=pool.map(square,[3,6,5,4,3,4,5,55,6])\n",
    "        print(out)"
   ]
  },
  {
   "cell_type": "code",
   "execution_count": 4,
   "id": "145c6029-f1ee-4571-966e-9ce08216bbd3",
   "metadata": {},
   "outputs": [
    {
     "data": {
      "text/plain": [
       "9"
      ]
     },
     "execution_count": 4,
     "metadata": {},
     "output_type": "execute_result"
    }
   ],
   "source": [
    "square(3)"
   ]
  },
  {
   "cell_type": "code",
   "execution_count": null,
   "id": "4bfd1778-d2e7-45db-9cb4-6022c101f4ed",
   "metadata": {},
   "outputs": [
    {
     "name": "stdout",
     "output_type": "stream",
     "text": [
      "0\n",
      "1\n",
      "2\n",
      "3\n",
      "4\n",
      "5\n",
      "6\n",
      "7\n",
      "8\n",
      "9\n",
      "Galti insan se hoti h don't worry\n"
     ]
    }
   ],
   "source": [
    "def producer(q):\n",
    "    for i in range(10): \n",
    "        q.put(i)\n",
    "        \n",
    "def consume(q): \n",
    "    while True:\n",
    "        item=q.get()\n",
    "        if item is None: \n",
    "            break\n",
    "        print(item)\n",
    "        \n",
    "if __name__=='__main__':\n",
    "    queue=multiprocessing.Queue()\n",
    "    m1=multiprocessing.Process(target=producer, args=(queue,))\n",
    "    m2=multiprocessing.Process(target=consume, args=(queue,))\n",
    "    m1.start()\n",
    "    m2.start()\n",
    "    print(\"Galti insan se hoti h don't worry\")\n",
    "    m1.join()\n",
    "    m2.join()\n",
    "    "
   ]
  },
  {
   "cell_type": "code",
   "execution_count": 1,
   "id": "f54c543c-8fc4-4ff3-94f8-150832d15a86",
   "metadata": {},
   "outputs": [
    {
     "name": "stdout",
     "output_type": "stream",
     "text": [
      "[1, 16, 25, 25, 16, 16, 1089, 9, 81]\n"
     ]
    }
   ],
   "source": [
    "import multiprocessing\n",
    "\n",
    "def square(index, value): \n",
    "    value[index]=value[index]**2\n",
    "    \n",
    "if __name__=='__main__': \n",
    "    arr=multiprocessing.Array('i', [1,4,5,5,4,4,33,3,9])\n",
    "    process=[]\n",
    "    for i in range(9): \n",
    "        m=multiprocessing.Process(target=square, args=(i, arr))\n",
    "        process.append(m)\n",
    "        m.start()\n",
    "        \n",
    "    for m in process:\n",
    "        m.join()\n",
    "        \n",
    "    print(list(arr))"
   ]
  },
  {
   "cell_type": "code",
   "execution_count": null,
   "id": "bb6e3ec7-c190-4422-b9f4-4e986f59e6b1",
   "metadata": {},
   "outputs": [
    {
     "name": "stdout",
     "output_type": "stream",
     "text": [
      "hello\n",
      "my name is pankaj\n",
      "i am from garib collage\n",
      "this is in jaipur\n"
     ]
    }
   ],
   "source": [
    "import multiprocessing\n",
    "\n",
    "def sender(conn, msg):\n",
    "    for i in msg: \n",
    "        conn.send(i)\n",
    "    conn.close()\n",
    "    \n",
    "def receiver(conn):\n",
    "    while True: \n",
    "        try: \n",
    "            msg=conn.recv()\n",
    "        except Exception as e: \n",
    "            print(e)\n",
    "            break\n",
    "            \n",
    "        print(msg)\n",
    "        \n",
    "if __name__=='__main__': \n",
    "    msg=['hello', 'my name is pankaj', 'i am from garib collage', 'this is in jaipur']\n",
    "    parent_con, child_con=multiprocessing.Pipe()\n",
    "    m1=multiprocessing.Process(target=sender, args=(child_con, msg))\n",
    "    m2=multiprocessing.Process(target=receiver, args=(parent_con,))\n",
    "    m1.start()\n",
    "    m2.start()\n",
    "    m1.join()\n",
    "    child_con.close()\n",
    "    m2.join()\n",
    "    parent_con.close()"
   ]
  },
  {
   "cell_type": "code",
   "execution_count": null,
   "id": "bf986633-d93b-402c-8ca6-9022a113507a",
   "metadata": {},
   "outputs": [],
   "source": []
  },
  {
   "cell_type": "code",
   "execution_count": null,
   "id": "2de3f460-a2f3-4b71-ae1d-5514e3b0328d",
   "metadata": {},
   "outputs": [],
   "source": []
  },
  {
   "cell_type": "code",
   "execution_count": null,
   "id": "26be2a0e-58cb-42e1-9489-16408616e8d2",
   "metadata": {},
   "outputs": [],
   "source": []
  }
 ],
 "metadata": {
  "kernelspec": {
   "display_name": "Python 3 (ipykernel)",
   "language": "python",
   "name": "python3"
  },
  "language_info": {
   "codemirror_mode": {
    "name": "ipython",
    "version": 3
   },
   "file_extension": ".py",
   "mimetype": "text/x-python",
   "name": "python",
   "nbconvert_exporter": "python",
   "pygments_lexer": "ipython3",
   "version": "3.10.8"
  }
 },
 "nbformat": 4,
 "nbformat_minor": 5
}
