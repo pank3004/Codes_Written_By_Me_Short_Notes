{
 "cells": [
  {
   "cell_type": "code",
   "execution_count": 1,
   "id": "7532c377-2941-45d4-82d9-24dfa6e12c27",
   "metadata": {},
   "outputs": [],
   "source": [
    "import io                     # first import this to use bufferd"
   ]
  },
  {
   "cell_type": "code",
   "execution_count": 12,
   "id": "24750f71-9b16-49a0-b7ac-2fcdc61fed74",
   "metadata": {},
   "outputs": [],
   "source": [
    "with open('text2.txt', 'wb') as f: \n",
    "    file=io.BufferedWriter(f)\n",
    "    file.write(b'pankaj is chutiya\\n')\n",
    "    file.write(b'pankaj is mahachutiya')\n",
    "    \n",
    "    file.flush()"
   ]
  },
  {
   "cell_type": "code",
   "execution_count": 21,
   "id": "9995109f-1c8c-447b-adb8-8ea70bacf323",
   "metadata": {},
   "outputs": [
    {
     "name": "stdout",
     "output_type": "stream",
     "text": [
      "b'pankaj is chutiya\\npankaj is mahachutiya'\n"
     ]
    }
   ],
   "source": [
    "with open('text2.txt', 'rb') as f:\n",
    "    file=io.BufferedReader(f)\n",
    "    print(file.read())"
   ]
  },
  {
   "cell_type": "code",
   "execution_count": null,
   "id": "7a76b477-19e6-4d7f-a785-0148fd90ea28",
   "metadata": {},
   "outputs": [],
   "source": []
  }
 ],
 "metadata": {
  "kernelspec": {
   "display_name": "Python 3 (ipykernel)",
   "language": "python",
   "name": "python3"
  },
  "language_info": {
   "codemirror_mode": {
    "name": "ipython",
    "version": 3
   },
   "file_extension": ".py",
   "mimetype": "text/x-python",
   "name": "python",
   "nbconvert_exporter": "python",
   "pygments_lexer": "ipython3",
   "version": "3.10.8"
  }
 },
 "nbformat": 4,
 "nbformat_minor": 5
}
