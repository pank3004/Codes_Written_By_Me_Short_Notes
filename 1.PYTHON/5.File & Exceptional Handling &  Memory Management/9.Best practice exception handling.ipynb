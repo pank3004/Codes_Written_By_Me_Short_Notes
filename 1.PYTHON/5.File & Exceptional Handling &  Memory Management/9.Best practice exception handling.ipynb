{
 "cells": [
  {
   "cell_type": "code",
   "execution_count": 1,
   "id": "62ddf001-3959-4f7d-88fa-e3e02642c566",
   "metadata": {},
   "outputs": [],
   "source": [
    "# Always try to use specific exception"
   ]
  },
  {
   "cell_type": "code",
   "execution_count": 2,
   "id": "5074927e-2a4f-49ae-97f8-68a3e4dcfa50",
   "metadata": {},
   "outputs": [
    {
     "name": "stdout",
     "output_type": "stream",
     "text": [
      "division by zero\n"
     ]
    }
   ],
   "source": [
    "try: \n",
    "    a=10/0\n",
    "except Exception as e:           # this is not wrong but this is not good pactice for a developer\n",
    "    print(e)"
   ]
  },
  {
   "cell_type": "code",
   "execution_count": 3,
   "id": "499fde6f-6fc1-4dfb-8a66-a9791ff4220b",
   "metadata": {},
   "outputs": [
    {
     "name": "stdout",
     "output_type": "stream",
     "text": [
      "division by zero\n"
     ]
    }
   ],
   "source": [
    "try: \n",
    "    a=10/0\n",
    "except ZeroDivisionError as e:           # this is good practice for a developer\n",
    "    print(e)"
   ]
  },
  {
   "cell_type": "code",
   "execution_count": 4,
   "id": "9fa7fb46-a4db-400b-90e4-8fcff99132e1",
   "metadata": {},
   "outputs": [],
   "source": [
    "# always try to print proper message"
   ]
  },
  {
   "cell_type": "code",
   "execution_count": 6,
   "id": "03652d49-c96a-412d-beff-00a0eebcc901",
   "metadata": {},
   "outputs": [
    {
     "name": "stdout",
     "output_type": "stream",
     "text": [
      "i am trying to handle zerodivisionerror division by zero\n"
     ]
    }
   ],
   "source": [
    "try: \n",
    "    a=10/0\n",
    "except ZeroDivisionError as e:                          # this is good practice for a developer\n",
    "    print('i am trying to handle zerodivisionerror', e)"
   ]
  },
  {
   "cell_type": "code",
   "execution_count": 7,
   "id": "ad743b2a-7a91-496c-a578-4600eb783316",
   "metadata": {},
   "outputs": [],
   "source": [
    "# always try to log your error"
   ]
  },
  {
   "cell_type": "code",
   "execution_count": 11,
   "id": "f7a7fba6-f17a-41c9-be77-f394d96ef2e1",
   "metadata": {},
   "outputs": [],
   "source": [
    "import logging\n",
    "logging.basicConfig(filename='error.log', level=logging.ERROR)\n",
    "\n",
    "try: \n",
    "    a=10/0\n",
    "except ZeroDivisionError as e:                          \n",
    "    logging.error('i am trying to handle zerodivisionerror {}'.format(e))    # this is very good practice for a developer"
   ]
  },
  {
   "cell_type": "code",
   "execution_count": 12,
   "id": "0f5206e8-7f26-4c2e-9f27-1785698e88a6",
   "metadata": {},
   "outputs": [],
   "source": [
    " # always try to avoid multiple exception haldling"
   ]
  },
  {
   "cell_type": "code",
   "execution_count": 13,
   "id": "76b27871-e21a-457d-b4df-618fae07011d",
   "metadata": {},
   "outputs": [],
   "source": [
    "import logging\n",
    "logging.basicConfig(filename='error.log', level=logging.ERROR)\n",
    "\n",
    "try: \n",
    "    a=10/0\n",
    "except AttributeError as e: \n",
    "        logging.error('i am trying to handle attributeerror {}'.format(e)) # if you are sure then write only that exception \n",
    "except TypeError as e: \n",
    "        logging.error('i am trying to handle Typeerror {}'.format(e)) \n",
    "except ZeroDivisionError as e:                          \n",
    "    logging.error('i am trying to handle zerodivisionerror {}'.format(e))    # only this exception log in the file "
   ]
  },
  {
   "cell_type": "code",
   "execution_count": 15,
   "id": "ec04c705-fbd7-4985-9c88-7c9040bceb76",
   "metadata": {},
   "outputs": [],
   "source": [
    "# document all the error\n",
    "# cleanup all the resourses\n",
    "\n",
    "try: \n",
    "    with open('cleanup.txt', 'w') as f: \n",
    "        f.write(\"this is my data file\")\n",
    "except ZeroDivisionError as e:                          \n",
    "    logging.error('i am trying to handle zerodivisionerror hahaaa {}'.format(e)) \n",
    "finally: \n",
    "    f.close()"
   ]
  },
  {
   "cell_type": "code",
   "execution_count": null,
   "id": "00392736-c263-4e33-b0c0-60a121e40f66",
   "metadata": {},
   "outputs": [],
   "source": []
  }
 ],
 "metadata": {
  "kernelspec": {
   "display_name": "Python 3 (ipykernel)",
   "language": "python",
   "name": "python3"
  },
  "language_info": {
   "codemirror_mode": {
    "name": "ipython",
    "version": 3
   },
   "file_extension": ".py",
   "mimetype": "text/x-python",
   "name": "python",
   "nbconvert_exporter": "python",
   "pygments_lexer": "ipython3",
   "version": "3.10.8"
  }
 },
 "nbformat": 4,
 "nbformat_minor": 5
}
