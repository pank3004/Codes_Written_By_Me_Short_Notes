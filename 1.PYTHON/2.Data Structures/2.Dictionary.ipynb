{
 "cells": [
  {
   "cell_type": "code",
   "execution_count": 1,
   "id": "4889675d-d85d-410f-b09d-fb1e254853c9",
   "metadata": {},
   "outputs": [],
   "source": [
    "d={}"
   ]
  },
  {
   "cell_type": "code",
   "execution_count": 2,
   "id": "d19b011f-ff8c-4318-a950-41d76761ca0d",
   "metadata": {},
   "outputs": [
    {
     "data": {
      "text/plain": [
       "dict"
      ]
     },
     "execution_count": 2,
     "metadata": {},
     "output_type": "execute_result"
    }
   ],
   "source": [
    "type(d)"
   ]
  },
  {
   "cell_type": "code",
   "execution_count": 4,
   "id": "fea4a375-7fd8-4956-9655-87b63ef53b80",
   "metadata": {},
   "outputs": [],
   "source": [
    "d1={'key': 'value'}"
   ]
  },
  {
   "cell_type": "code",
   "execution_count": 5,
   "id": "8954b6a0-9315-48e3-99ff-853b4363854d",
   "metadata": {},
   "outputs": [
    {
     "data": {
      "text/plain": [
       "{'key': 'value'}"
      ]
     },
     "execution_count": 5,
     "metadata": {},
     "output_type": "execute_result"
    }
   ],
   "source": [
    "d1"
   ]
  },
  {
   "cell_type": "code",
   "execution_count": 6,
   "id": "5153c04c-cb42-4a8b-b8d3-6f3ec015333f",
   "metadata": {},
   "outputs": [],
   "source": [
    "d2={\"name\": \"pankaj\" , 'add.': \"jaipur\" , 'num.' : 34427857278}"
   ]
  },
  {
   "cell_type": "code",
   "execution_count": 7,
   "id": "8e0eecfe-c3ab-4c1f-b48b-cb28a9977fbb",
   "metadata": {},
   "outputs": [
    {
     "data": {
      "text/plain": [
       "{'name': 'pankaj', 'add.': 'jaipur', 'num.': 34427857278}"
      ]
     },
     "execution_count": 7,
     "metadata": {},
     "output_type": "execute_result"
    }
   ],
   "source": [
    "d2"
   ]
  },
  {
   "cell_type": "code",
   "execution_count": 9,
   "id": "6a200712-8b43-46e0-a75f-3839f36a93e9",
   "metadata": {},
   "outputs": [],
   "source": [
    "d3={342: 'Even number', 343: 'odd number'}"
   ]
  },
  {
   "cell_type": "code",
   "execution_count": 10,
   "id": "d91bd40d-be02-4655-8704-5bd27783864a",
   "metadata": {},
   "outputs": [
    {
     "data": {
      "text/plain": [
       "{342: 'Even number', 343: 'odd number'}"
      ]
     },
     "execution_count": 10,
     "metadata": {},
     "output_type": "execute_result"
    }
   ],
   "source": [
    "d3"
   ]
  },
  {
   "cell_type": "code",
   "execution_count": 12,
   "id": "c4415a7b-4ed3-4aa2-8028-6ea99d9ede1a",
   "metadata": {},
   "outputs": [
    {
     "ename": "SyntaxError",
     "evalue": "invalid syntax (3422944732.py, line 1)",
     "output_type": "error",
     "traceback": [
      "\u001b[0;36m  Cell \u001b[0;32mIn[12], line 1\u001b[0;36m\u001b[0m\n\u001b[0;31m    d4={ @np: \"spacial charcter\" }   #spacial character is not support as a key:: eg. @/_/#/$\u001b[0m\n\u001b[0m         ^\u001b[0m\n\u001b[0;31mSyntaxError\u001b[0m\u001b[0;31m:\u001b[0m invalid syntax\n"
     ]
    }
   ],
   "source": [
    "d4={ @np: \"spacial charcter\" }   #spacial character is not support as a key:: eg. @/_/#/$"
   ]
  },
  {
   "cell_type": "code",
   "execution_count": 13,
   "id": "a23db29d-a97e-4b28-8e52-7da70e0ab633",
   "metadata": {},
   "outputs": [],
   "source": [
    "d5={ '@raja': 'king' }  # @raja here is string so work successfully"
   ]
  },
  {
   "cell_type": "code",
   "execution_count": 14,
   "id": "a0fc8d79-17fb-4548-9177-f448a8d6049c",
   "metadata": {},
   "outputs": [
    {
     "data": {
      "text/plain": [
       "{'@raja': 'king'}"
      ]
     },
     "execution_count": 14,
     "metadata": {},
     "output_type": "execute_result"
    }
   ],
   "source": [
    "d5"
   ]
  },
  {
   "cell_type": "code",
   "execution_count": 15,
   "id": "6d05567c-abc3-47d1-84e5-6967a513a4f9",
   "metadata": {},
   "outputs": [
    {
     "ename": "NameError",
     "evalue": "name '_nameOfCollage' is not defined",
     "output_type": "error",
     "traceback": [
      "\u001b[0;31m---------------------------------------------------------------------------\u001b[0m",
      "\u001b[0;31mNameError\u001b[0m                                 Traceback (most recent call last)",
      "Cell \u001b[0;32mIn[15], line 1\u001b[0m\n\u001b[0;32m----> 1\u001b[0m d6\u001b[38;5;241m=\u001b[39m{ \u001b[43m_nameOfCollage\u001b[49m: \u001b[38;5;124m'\u001b[39m\u001b[38;5;124mgarib collage\u001b[39m\u001b[38;5;124m'\u001b[39m}\n",
      "\u001b[0;31mNameError\u001b[0m: name '_nameOfCollage' is not defined"
     ]
    }
   ],
   "source": [
    "d6={ _nameOfCollage: 'garib collage'}"
   ]
  },
  {
   "cell_type": "code",
   "execution_count": 25,
   "id": "3c0ad8f8-c056-4dd7-bd7e-effe5b31734e",
   "metadata": {},
   "outputs": [],
   "source": [
    "d7={ \"nameOfCollage\": \"garib collage\", True: \"No\", \"fees\" : 89572875, 45: \"odd number\", \"true\": \"Noooo\"}"
   ]
  },
  {
   "cell_type": "code",
   "execution_count": 18,
   "id": "9f467feb-89f0-4828-ac80-c70e402c9e5b",
   "metadata": {},
   "outputs": [
    {
     "data": {
      "text/plain": [
       "'garib collage'"
      ]
     },
     "execution_count": 18,
     "metadata": {},
     "output_type": "execute_result"
    }
   ],
   "source": [
    "d7[\"nameOfCollage\"]"
   ]
  },
  {
   "cell_type": "code",
   "execution_count": 20,
   "id": "5d0760c5-296f-42c0-8641-05f1d8562fa4",
   "metadata": {},
   "outputs": [
    {
     "data": {
      "text/plain": [
       "'No'"
      ]
     },
     "execution_count": 20,
     "metadata": {},
     "output_type": "execute_result"
    }
   ],
   "source": [
    "d7[True]"
   ]
  },
  {
   "cell_type": "code",
   "execution_count": 22,
   "id": "c82e7a63-fa99-4389-ae23-ef029b659c03",
   "metadata": {},
   "outputs": [
    {
     "data": {
      "text/plain": [
       "'No'"
      ]
     },
     "execution_count": 22,
     "metadata": {},
     "output_type": "execute_result"
    }
   ],
   "source": [
    "d7[1]"
   ]
  },
  {
   "cell_type": "code",
   "execution_count": 23,
   "id": "0598cd6e-130f-4c78-83c0-1c0c9d89fbb0",
   "metadata": {},
   "outputs": [
    {
     "data": {
      "text/plain": [
       "'odd number'"
      ]
     },
     "execution_count": 23,
     "metadata": {},
     "output_type": "execute_result"
    }
   ],
   "source": [
    "d7[45]"
   ]
  },
  {
   "cell_type": "code",
   "execution_count": 26,
   "id": "6aa9f704-dd70-4955-b913-573a94a874bd",
   "metadata": {},
   "outputs": [
    {
     "data": {
      "text/plain": [
       "'Noooo'"
      ]
     },
     "execution_count": 26,
     "metadata": {},
     "output_type": "execute_result"
    }
   ],
   "source": [
    "d7[\"true\"]"
   ]
  },
  {
   "cell_type": "code",
   "execution_count": 27,
   "id": "9f4883a9-d8b4-42dd-af61-79c505c329f3",
   "metadata": {},
   "outputs": [],
   "source": [
    "d8={ \"name\":\"chutiya\", True: \"No\", \"fees\" : 89572875, 45: \"odd number\",\"name\": \"Mahachutiya\",  \"true\": \"Noooo\"}"
   ]
  },
  {
   "cell_type": "code",
   "execution_count": 31,
   "id": "0664d8bb-8175-4fa8-ad25-604dc695a706",
   "metadata": {},
   "outputs": [
    {
     "data": {
      "text/plain": [
       "'Mahachutiya'"
      ]
     },
     "execution_count": 31,
     "metadata": {},
     "output_type": "execute_result"
    }
   ],
   "source": [
    "d8[\"name\"]  # if key is same then last value of key will be print\n",
    "            # try to give different name of the key"
   ]
  },
  {
   "cell_type": "code",
   "execution_count": 32,
   "id": "560996a2-9d7c-4989-8d9f-43e63ce9e541",
   "metadata": {},
   "outputs": [],
   "source": [
    "d9={\"name\": \"pankaj\", \"quality\": ['silent mood', \"not presser\", \"chutiya\"]}"
   ]
  },
  {
   "cell_type": "code",
   "execution_count": 33,
   "id": "7f0e789b-a59a-482f-9748-b91187e95fbf",
   "metadata": {},
   "outputs": [
    {
     "data": {
      "text/plain": [
       "{'name': 'pankaj', 'quality': ['silent mood', 'not presser', 'chutiya']}"
      ]
     },
     "execution_count": 33,
     "metadata": {},
     "output_type": "execute_result"
    }
   ],
   "source": [
    "d9"
   ]
  },
  {
   "cell_type": "code",
   "execution_count": 34,
   "id": "6b89c68d-5021-40cd-88dc-2d1569e1a0d8",
   "metadata": {},
   "outputs": [
    {
     "data": {
      "text/plain": [
       "['silent mood', 'not presser', 'chutiya']"
      ]
     },
     "execution_count": 34,
     "metadata": {},
     "output_type": "execute_result"
    }
   ],
   "source": [
    "d9['quality']"
   ]
  },
  {
   "cell_type": "code",
   "execution_count": 35,
   "id": "2c6410ee-2211-4374-9d2d-22bf5f2eaaf8",
   "metadata": {},
   "outputs": [
    {
     "data": {
      "text/plain": [
       "'chutiya'"
      ]
     },
     "execution_count": 35,
     "metadata": {},
     "output_type": "execute_result"
    }
   ],
   "source": [
    "d9['quality'][2]"
   ]
  },
  {
   "cell_type": "code",
   "execution_count": 37,
   "id": "039d47a0-9a9c-451a-99ee-f9c8983836ea",
   "metadata": {},
   "outputs": [],
   "source": [
    "d10={ \"agignment\": [3,5,6,764,7747], \"date\":(23,6,3,5), \"sub\": {\"maths\":\"3hr\", \"BME\": \"0hr\", \"coding\": '4hrs'}}"
   ]
  },
  {
   "cell_type": "code",
   "execution_count": 38,
   "id": "8af6abb2-7873-42ae-b172-59bca21e8574",
   "metadata": {},
   "outputs": [
    {
     "data": {
      "text/plain": [
       "{'agignment': [3, 5, 6, 764, 7747],\n",
       " 'date': (23, 6, 3, 5),\n",
       " 'sub': {'maths': '3hr', 'BME': '0hr', 'coding': '4hrs'}}"
      ]
     },
     "execution_count": 38,
     "metadata": {},
     "output_type": "execute_result"
    }
   ],
   "source": [
    "d10"
   ]
  },
  {
   "cell_type": "code",
   "execution_count": 40,
   "id": "e458a0c0-d2b8-47e7-b29d-2c3a8bb00c8c",
   "metadata": {},
   "outputs": [
    {
     "data": {
      "text/plain": [
       "'4hrs'"
      ]
     },
     "execution_count": 40,
     "metadata": {},
     "output_type": "execute_result"
    }
   ],
   "source": [
    "d10[\"sub\"]['coding']"
   ]
  },
  {
   "cell_type": "code",
   "execution_count": 41,
   "id": "b54d3035-2345-4c4d-a0d8-192bfe5aee58",
   "metadata": {},
   "outputs": [],
   "source": [
    "d11={\"name\": \"pankaj\", \"add\": 'Jaipur', 'skills': ['coding', 'cs', 'data science']}"
   ]
  },
  {
   "cell_type": "code",
   "execution_count": 42,
   "id": "2a89729b-b1d7-487f-8692-b6b4d7182b07",
   "metadata": {},
   "outputs": [
    {
     "data": {
      "text/plain": [
       "{'name': 'pankaj', 'add': 'Jaipur', 'skills': ['coding', 'cs', 'data science']}"
      ]
     },
     "execution_count": 42,
     "metadata": {},
     "output_type": "execute_result"
    }
   ],
   "source": [
    "d11"
   ]
  },
  {
   "cell_type": "code",
   "execution_count": 43,
   "id": "8cf3f71b-a71d-49fb-a1bb-7a044995ea11",
   "metadata": {},
   "outputs": [],
   "source": [
    "d11['name']='chutiya'  # this update the name from pankaj to chutiya"
   ]
  },
  {
   "cell_type": "code",
   "execution_count": 44,
   "id": "1fc1789b-1fbe-4c57-9ed5-2553c4788a16",
   "metadata": {},
   "outputs": [
    {
     "data": {
      "text/plain": [
       "{'name': 'chutiya',\n",
       " 'add': 'Jaipur',\n",
       " 'skills': ['coding', 'cs', 'data science']}"
      ]
     },
     "execution_count": 44,
     "metadata": {},
     "output_type": "execute_result"
    }
   ],
   "source": [
    "d11"
   ]
  },
  {
   "cell_type": "code",
   "execution_count": 45,
   "id": "9f2c734a-fba8-4962-a479-6c9d06d887f6",
   "metadata": {},
   "outputs": [],
   "source": [
    "d11['nick_name']='Mahachutiya'  # if key is not in the dictionary then a new key well be genarted"
   ]
  },
  {
   "cell_type": "code",
   "execution_count": 46,
   "id": "d1dd4131-f508-49ed-8389-38ebcb0020a0",
   "metadata": {},
   "outputs": [
    {
     "data": {
      "text/plain": [
       "{'name': 'chutiya',\n",
       " 'add': 'Jaipur',\n",
       " 'skills': ['coding', 'cs', 'data science'],\n",
       " 'nick_name': 'Mahachutiya'}"
      ]
     },
     "execution_count": 46,
     "metadata": {},
     "output_type": "execute_result"
    }
   ],
   "source": [
    "d11"
   ]
  },
  {
   "cell_type": "code",
   "execution_count": 47,
   "id": "a6ea7a26-31d8-412a-a297-fd1f63905355",
   "metadata": {},
   "outputs": [],
   "source": [
    "del d11['nick_name']  # for delet the key"
   ]
  },
  {
   "cell_type": "code",
   "execution_count": 48,
   "id": "fe577c91-a129-41f3-8e51-d34ae87b61a5",
   "metadata": {},
   "outputs": [
    {
     "data": {
      "text/plain": [
       "{'name': 'chutiya',\n",
       " 'add': 'Jaipur',\n",
       " 'skills': ['coding', 'cs', 'data science']}"
      ]
     },
     "execution_count": 48,
     "metadata": {},
     "output_type": "execute_result"
    }
   ],
   "source": [
    "d11"
   ]
  },
  {
   "cell_type": "code",
   "execution_count": 50,
   "id": "93269a9f-81d8-4682-b886-5c7d16e1cfc2",
   "metadata": {},
   "outputs": [
    {
     "data": {
      "text/plain": [
       "dict_keys(['name', 'add', 'skills'])"
      ]
     },
     "execution_count": 50,
     "metadata": {},
     "output_type": "execute_result"
    }
   ],
   "source": [
    "d11.keys()  # to made list of the keys"
   ]
  },
  {
   "cell_type": "code",
   "execution_count": 51,
   "id": "8124934b-84e4-4d25-b021-303314581f5b",
   "metadata": {},
   "outputs": [
    {
     "data": {
      "text/plain": [
       "{'name': 'chutiya',\n",
       " 'add': 'Jaipur',\n",
       " 'skills': ['coding', 'cs', 'data science']}"
      ]
     },
     "execution_count": 51,
     "metadata": {},
     "output_type": "execute_result"
    }
   ],
   "source": [
    "d11"
   ]
  },
  {
   "cell_type": "code",
   "execution_count": 56,
   "id": "cae0bb57-959d-4c6f-8a3e-da39153e10b5",
   "metadata": {},
   "outputs": [
    {
     "data": {
      "text/plain": [
       "['name', 'add', 'skills']"
      ]
     },
     "execution_count": 56,
     "metadata": {},
     "output_type": "execute_result"
    }
   ],
   "source": [
    "list(d11.keys())  # to made proper list of the keys"
   ]
  },
  {
   "cell_type": "code",
   "execution_count": 57,
   "id": "7300dc39-10a9-47f3-b011-9a9d6108c9aa",
   "metadata": {},
   "outputs": [
    {
     "data": {
      "text/plain": [
       "dict_values(['chutiya', 'Jaipur', ['coding', 'cs', 'data science']])"
      ]
     },
     "execution_count": 57,
     "metadata": {},
     "output_type": "execute_result"
    }
   ],
   "source": [
    "d11.values()  # to made the list of the values"
   ]
  },
  {
   "cell_type": "code",
   "execution_count": 58,
   "id": "803c50c5-405f-40cf-9567-1fca03a3c947",
   "metadata": {},
   "outputs": [
    {
     "data": {
      "text/plain": [
       "['chutiya', 'Jaipur', ['coding', 'cs', 'data science']]"
      ]
     },
     "execution_count": 58,
     "metadata": {},
     "output_type": "execute_result"
    }
   ],
   "source": [
    "list(d11.values())  # to make the proper list of the values"
   ]
  },
  {
   "cell_type": "code",
   "execution_count": 61,
   "id": "150b5482-3726-4a27-a607-a1122691c19c",
   "metadata": {},
   "outputs": [
    {
     "data": {
      "text/plain": [
       "dict_items([('name', 'chutiya'), ('add', 'Jaipur'), ('skills', ['coding', 'cs', 'data science'])])"
      ]
     },
     "execution_count": 61,
     "metadata": {},
     "output_type": "execute_result"
    }
   ],
   "source": [
    "d11.items()  #To made list of the pair keys and values"
   ]
  },
  {
   "cell_type": "code",
   "execution_count": 62,
   "id": "f450e93a-2ae9-44cb-88d5-74c55c4b1c2e",
   "metadata": {},
   "outputs": [
    {
     "data": {
      "text/plain": [
       "[('name', 'chutiya'),\n",
       " ('add', 'Jaipur'),\n",
       " ('skills', ['coding', 'cs', 'data science'])]"
      ]
     },
     "execution_count": 62,
     "metadata": {},
     "output_type": "execute_result"
    }
   ],
   "source": [
    "list(d11.items())  #To make proper list of the pairs keys and values"
   ]
  },
  {
   "cell_type": "code",
   "execution_count": 63,
   "id": "ab6f2993-fded-4c57-9e7c-d751ce6e0f0d",
   "metadata": {},
   "outputs": [
    {
     "data": {
      "text/plain": [
       "{'name': 'chutiya',\n",
       " 'add': 'Jaipur',\n",
       " 'skills': ['coding', 'cs', 'data science']}"
      ]
     },
     "execution_count": 63,
     "metadata": {},
     "output_type": "execute_result"
    }
   ],
   "source": [
    "d11"
   ]
  },
  {
   "cell_type": "code",
   "execution_count": 64,
   "id": "4084e8a5-bc4c-4af6-bc18-29f3309c8361",
   "metadata": {},
   "outputs": [
    {
     "data": {
      "text/plain": [
       "['name', 'add', 'skills']"
      ]
     },
     "execution_count": 64,
     "metadata": {},
     "output_type": "execute_result"
    }
   ],
   "source": [
    "list(d11)  # it gives only list of the keys"
   ]
  },
  {
   "cell_type": "code",
   "execution_count": 65,
   "id": "ee554701-f1fe-4e61-8df0-dda055eb988f",
   "metadata": {},
   "outputs": [
    {
     "data": {
      "text/plain": [
       "['name', 'add', 'skills']"
      ]
     },
     "execution_count": 65,
     "metadata": {},
     "output_type": "execute_result"
    }
   ],
   "source": [
    "list(d11.keys())   # it same to the list(d11)"
   ]
  },
  {
   "cell_type": "code",
   "execution_count": 68,
   "id": "9cb2fefc-dabf-44b1-9c0f-15e774198fe0",
   "metadata": {},
   "outputs": [
    {
     "ename": "TypeError",
     "evalue": "pop expected at least 1 argument, got 0",
     "output_type": "error",
     "traceback": [
      "\u001b[0;31m---------------------------------------------------------------------------\u001b[0m",
      "\u001b[0;31mTypeError\u001b[0m                                 Traceback (most recent call last)",
      "Cell \u001b[0;32mIn[68], line 1\u001b[0m\n\u001b[0;32m----> 1\u001b[0m \u001b[43md11\u001b[49m\u001b[38;5;241;43m.\u001b[39;49m\u001b[43mpop\u001b[49m\u001b[43m(\u001b[49m\u001b[43m)\u001b[49m\n",
      "\u001b[0;31mTypeError\u001b[0m: pop expected at least 1 argument, got 0"
     ]
    }
   ],
   "source": [
    "d11.pop()"
   ]
  },
  {
   "cell_type": "code",
   "execution_count": 69,
   "id": "aca76f77-7e32-44b1-a798-790a83b1b0a0",
   "metadata": {},
   "outputs": [
    {
     "data": {
      "text/plain": [
       "'chutiya'"
      ]
     },
     "execution_count": 69,
     "metadata": {},
     "output_type": "execute_result"
    }
   ],
   "source": [
    "d11.pop('name')"
   ]
  },
  {
   "cell_type": "code",
   "execution_count": 70,
   "id": "5adecc35-a18a-46ed-aa06-530c3b9fe83b",
   "metadata": {},
   "outputs": [
    {
     "data": {
      "text/plain": [
       "{'add': 'Jaipur', 'skills': ['coding', 'cs', 'data science']}"
      ]
     },
     "execution_count": 70,
     "metadata": {},
     "output_type": "execute_result"
    }
   ],
   "source": [
    "d11"
   ]
  },
  {
   "cell_type": "code",
   "execution_count": null,
   "id": "f82924cf-6124-44f2-8539-7525f14b938e",
   "metadata": {},
   "outputs": [],
   "source": []
  }
 ],
 "metadata": {
  "kernelspec": {
   "display_name": "Python 3 (ipykernel)",
   "language": "python",
   "name": "python3"
  },
  "language_info": {
   "codemirror_mode": {
    "name": "ipython",
    "version": 3
   },
   "file_extension": ".py",
   "mimetype": "text/x-python",
   "name": "python",
   "nbconvert_exporter": "python",
   "pygments_lexer": "ipython3",
   "version": "3.10.8"
  }
 },
 "nbformat": 4,
 "nbformat_minor": 5
}
