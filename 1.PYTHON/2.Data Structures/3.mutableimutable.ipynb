{
 "cells": [
  {
   "cell_type": "code",
   "execution_count": 8,
   "id": "408ce057-6c96-43ae-ad37-0e3efa311282",
   "metadata": {},
   "outputs": [],
   "source": [
    "a=\"pankaj\""
   ]
  },
  {
   "cell_type": "code",
   "execution_count": 9,
   "id": "d874a683-b1ad-42ca-8d5a-1417b9bfd784",
   "metadata": {},
   "outputs": [
    {
     "data": {
      "text/plain": [
       "'pankaj'"
      ]
     },
     "execution_count": 9,
     "metadata": {},
     "output_type": "execute_result"
    }
   ],
   "source": [
    "a"
   ]
  },
  {
   "cell_type": "code",
   "execution_count": 10,
   "id": "8b28253f-91f4-4a40-88db-43e9e86fad9f",
   "metadata": {},
   "outputs": [],
   "source": [
    "a='pankaj'"
   ]
  },
  {
   "cell_type": "code",
   "execution_count": 14,
   "id": "c362d7e0-ab6a-427d-ba1e-024196119796",
   "metadata": {},
   "outputs": [
    {
     "data": {
      "text/plain": [
       "'pankaj'"
      ]
     },
     "execution_count": 14,
     "metadata": {},
     "output_type": "execute_result"
    }
   ],
   "source": [
    "a"
   ]
  },
  {
   "cell_type": "code",
   "execution_count": 17,
   "id": "f35fbeb0-f02f-4f5c-a58b-dd6244fef495",
   "metadata": {},
   "outputs": [],
   "source": [
    "l=[8, 9.7, \"apple\", 'pankaj', 8+7j, True, \"p\", 'k']"
   ]
  },
  {
   "cell_type": "code",
   "execution_count": 18,
   "id": "e1329305-25d9-4de7-b84e-812cd3f87f65",
   "metadata": {},
   "outputs": [
    {
     "data": {
      "text/plain": [
       "[8, 9.7, 'apple', 'pankaj', (8+7j), True, 'p', 'k']"
      ]
     },
     "execution_count": 18,
     "metadata": {},
     "output_type": "execute_result"
    }
   ],
   "source": [
    "l"
   ]
  },
  {
   "cell_type": "code",
   "execution_count": 19,
   "id": "71f40909-e185-4215-a067-e9d9da4a8697",
   "metadata": {},
   "outputs": [
    {
     "data": {
      "text/plain": [
       "list"
      ]
     },
     "execution_count": 19,
     "metadata": {},
     "output_type": "execute_result"
    }
   ],
   "source": [
    "type(l)"
   ]
  },
  {
   "cell_type": "code",
   "execution_count": 20,
   "id": "01ae59cb-1c19-4172-8714-b042d3282c79",
   "metadata": {},
   "outputs": [
    {
     "data": {
      "text/plain": [
       "8"
      ]
     },
     "execution_count": 20,
     "metadata": {},
     "output_type": "execute_result"
    }
   ],
   "source": [
    "l[0]"
   ]
  },
  {
   "cell_type": "code",
   "execution_count": 21,
   "id": "3f1a6c33-7a65-45a9-adfd-dd64e7829d6d",
   "metadata": {},
   "outputs": [
    {
     "data": {
      "text/plain": [
       "(8+7j)"
      ]
     },
     "execution_count": 21,
     "metadata": {},
     "output_type": "execute_result"
    }
   ],
   "source": [
    "l[4]"
   ]
  },
  {
   "cell_type": "code",
   "execution_count": 22,
   "id": "873dab09-56fb-48a6-bda8-ff7841826551",
   "metadata": {},
   "outputs": [
    {
     "data": {
      "text/plain": [
       "'p'"
      ]
     },
     "execution_count": 22,
     "metadata": {},
     "output_type": "execute_result"
    }
   ],
   "source": [
    "l[-2]"
   ]
  },
  {
   "cell_type": "code",
   "execution_count": 28,
   "id": "6682916f-8df3-4873-9e5c-a6842f3ada9f",
   "metadata": {},
   "outputs": [],
   "source": [
    "l[4]=\"Raja\"    # list is mutable"
   ]
  },
  {
   "cell_type": "code",
   "execution_count": 24,
   "id": "6caa0df1-4a43-4443-b4ae-091785bbff26",
   "metadata": {},
   "outputs": [
    {
     "data": {
      "text/plain": [
       "[8, 9.7, 'apple', 'pankaj', 'Raja', True, 'p', 'k']"
      ]
     },
     "execution_count": 24,
     "metadata": {},
     "output_type": "execute_result"
    }
   ],
   "source": [
    "l"
   ]
  },
  {
   "cell_type": "code",
   "execution_count": 25,
   "id": "4106df94-4217-4657-a216-6714685eb979",
   "metadata": {},
   "outputs": [
    {
     "data": {
      "text/plain": [
       "'pankaj'"
      ]
     },
     "execution_count": 25,
     "metadata": {},
     "output_type": "execute_result"
    }
   ],
   "source": [
    "a"
   ]
  },
  {
   "cell_type": "code",
   "execution_count": 26,
   "id": "ff9892f3-6425-4845-8cf1-dc594f1882df",
   "metadata": {},
   "outputs": [
    {
     "data": {
      "text/plain": [
       "'p'"
      ]
     },
     "execution_count": 26,
     "metadata": {},
     "output_type": "execute_result"
    }
   ],
   "source": [
    "a[0]"
   ]
  },
  {
   "cell_type": "code",
   "execution_count": 29,
   "id": "321978bd-c85f-4f27-94e3-125272a71ba6",
   "metadata": {},
   "outputs": [],
   "source": [
    "#a[0]=R  # give error because string is imutable "
   ]
  }
 ],
 "metadata": {
  "kernelspec": {
   "display_name": "Python 3 (ipykernel)",
   "language": "python",
   "name": "python3"
  },
  "language_info": {
   "codemirror_mode": {
    "name": "ipython",
    "version": 3
   },
   "file_extension": ".py",
   "mimetype": "text/x-python",
   "name": "python",
   "nbconvert_exporter": "python",
   "pygments_lexer": "ipython3",
   "version": "3.10.8"
  }
 },
 "nbformat": 4,
 "nbformat_minor": 5
}
