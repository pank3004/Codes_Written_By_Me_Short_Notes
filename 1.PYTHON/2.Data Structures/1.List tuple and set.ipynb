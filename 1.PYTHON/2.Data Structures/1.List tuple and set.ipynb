{
 "cells": [
  {
   "cell_type": "code",
   "execution_count": 1,
   "id": "6e096ef3-4b18-4646-bcc7-1cde15cd6628",
   "metadata": {},
   "outputs": [],
   "source": [
    "l=[2,45,798,\"pankAj\", 3+5j, True, 56.34]"
   ]
  },
  {
   "cell_type": "code",
   "execution_count": 2,
   "id": "946eb9a6-c56d-4f02-9468-7d68ba7ff35d",
   "metadata": {},
   "outputs": [
    {
     "data": {
      "text/plain": [
       "list"
      ]
     },
     "execution_count": 2,
     "metadata": {},
     "output_type": "execute_result"
    }
   ],
   "source": [
    "type(l)"
   ]
  },
  {
   "cell_type": "code",
   "execution_count": 3,
   "id": "15a82c79-8a9c-44c0-9fd7-5d27ce07fc99",
   "metadata": {},
   "outputs": [
    {
     "data": {
      "text/plain": [
       "2"
      ]
     },
     "execution_count": 3,
     "metadata": {},
     "output_type": "execute_result"
    }
   ],
   "source": [
    "l[0]"
   ]
  },
  {
   "cell_type": "code",
   "execution_count": 4,
   "id": "740a0209-8917-4ad3-848d-eafde1080d1d",
   "metadata": {},
   "outputs": [
    {
     "data": {
      "text/plain": [
       "56.34"
      ]
     },
     "execution_count": 4,
     "metadata": {},
     "output_type": "execute_result"
    }
   ],
   "source": [
    "l[6]"
   ]
  },
  {
   "cell_type": "code",
   "execution_count": 5,
   "id": "5e620fad-300e-4658-abc1-de6361c0d963",
   "metadata": {},
   "outputs": [
    {
     "ename": "IndexError",
     "evalue": "list index out of range",
     "output_type": "error",
     "traceback": [
      "\u001b[0;31m---------------------------------------------------------------------------\u001b[0m",
      "\u001b[0;31mIndexError\u001b[0m                                Traceback (most recent call last)",
      "Cell \u001b[0;32mIn[5], line 1\u001b[0m\n\u001b[0;32m----> 1\u001b[0m \u001b[43ml\u001b[49m\u001b[43m[\u001b[49m\u001b[38;5;241;43m90\u001b[39;49m\u001b[43m]\u001b[49m\n",
      "\u001b[0;31mIndexError\u001b[0m: list index out of range"
     ]
    }
   ],
   "source": [
    "l[90]"
   ]
  },
  {
   "cell_type": "code",
   "execution_count": null,
   "id": "ffa84294-99d6-437c-9786-f91cd6057077",
   "metadata": {},
   "outputs": [],
   "source": [
    "l"
   ]
  },
  {
   "cell_type": "code",
   "execution_count": 6,
   "id": "9b9a2f23-eae4-430d-b95f-47ca857c03ab",
   "metadata": {},
   "outputs": [
    {
     "data": {
      "text/plain": [
       "[2, 45, 798, 'pankAj', (3+5j), True, 56.34]"
      ]
     },
     "execution_count": 6,
     "metadata": {},
     "output_type": "execute_result"
    }
   ],
   "source": [
    "l[:]"
   ]
  },
  {
   "cell_type": "code",
   "execution_count": 7,
   "id": "a42c439e-4032-4ac1-9908-02678dfd0d83",
   "metadata": {},
   "outputs": [
    {
     "data": {
      "text/plain": [
       "[2, 45, 798]"
      ]
     },
     "execution_count": 7,
     "metadata": {},
     "output_type": "execute_result"
    }
   ],
   "source": [
    "l[:3]"
   ]
  },
  {
   "cell_type": "code",
   "execution_count": 8,
   "id": "18bbda70-322c-4765-96e8-2a9854f5b4c6",
   "metadata": {},
   "outputs": [
    {
     "data": {
      "text/plain": [
       "56.34"
      ]
     },
     "execution_count": 8,
     "metadata": {},
     "output_type": "execute_result"
    }
   ],
   "source": [
    "l[-1]"
   ]
  },
  {
   "cell_type": "code",
   "execution_count": 9,
   "id": "96537eac-ec90-41f3-9881-344b4cc1e875",
   "metadata": {},
   "outputs": [
    {
     "data": {
      "text/plain": [
       "45"
      ]
     },
     "execution_count": 9,
     "metadata": {},
     "output_type": "execute_result"
    }
   ],
   "source": [
    "l[-6]"
   ]
  },
  {
   "cell_type": "code",
   "execution_count": 10,
   "id": "14910ba4-c541-4161-820d-a58fc9ebe02a",
   "metadata": {},
   "outputs": [
    {
     "data": {
      "text/plain": [
       "[56.34, True, (3+5j), 'pankAj', 798, 45, 2]"
      ]
     },
     "execution_count": 10,
     "metadata": {},
     "output_type": "execute_result"
    }
   ],
   "source": [
    "l[::-1]  #reverse of list"
   ]
  },
  {
   "cell_type": "code",
   "execution_count": 11,
   "id": "cc07c7eb-b261-4552-8c2f-b333225b8fbc",
   "metadata": {},
   "outputs": [
    {
     "data": {
      "text/plain": [
       "[45, 'pankAj', True]"
      ]
     },
     "execution_count": 11,
     "metadata": {},
     "output_type": "execute_result"
    }
   ],
   "source": [
    "l[1::2]  # odd index"
   ]
  },
  {
   "cell_type": "code",
   "execution_count": 12,
   "id": "02bfca40-c9b5-40ba-bae5-b7b2ac251f40",
   "metadata": {},
   "outputs": [
    {
     "data": {
      "text/plain": [
       "[2, 798, (3+5j), 56.34]"
      ]
     },
     "execution_count": 12,
     "metadata": {},
     "output_type": "execute_result"
    }
   ],
   "source": [
    "l[::2]   #even index"
   ]
  },
  {
   "cell_type": "code",
   "execution_count": 13,
   "id": "d7dd8ea3-b498-4589-ba7d-fe84ceddafd1",
   "metadata": {},
   "outputs": [
    {
     "data": {
      "text/plain": [
       "[2, 45, 798, 'pankAj', (3+5j), True, 56.34]"
      ]
     },
     "execution_count": 13,
     "metadata": {},
     "output_type": "execute_result"
    }
   ],
   "source": [
    "l"
   ]
  },
  {
   "cell_type": "code",
   "execution_count": 14,
   "id": "7b9b8609-d8c2-4af6-8a00-e2cf2df82b0c",
   "metadata": {},
   "outputs": [],
   "source": [
    "s=\"kumaWat\""
   ]
  },
  {
   "cell_type": "code",
   "execution_count": 15,
   "id": "beed1d56-6ae9-4385-abf7-486d5235bfaa",
   "metadata": {},
   "outputs": [
    {
     "ename": "TypeError",
     "evalue": "can only concatenate list (not \"str\") to list",
     "output_type": "error",
     "traceback": [
      "\u001b[0;31m---------------------------------------------------------------------------\u001b[0m",
      "\u001b[0;31mTypeError\u001b[0m                                 Traceback (most recent call last)",
      "Cell \u001b[0;32mIn[15], line 1\u001b[0m\n\u001b[0;32m----> 1\u001b[0m \u001b[43ml\u001b[49m\u001b[38;5;241;43m+\u001b[39;49m\u001b[43ms\u001b[49m\n",
      "\u001b[0;31mTypeError\u001b[0m: can only concatenate list (not \"str\") to list"
     ]
    }
   ],
   "source": [
    "l+s"
   ]
  },
  {
   "cell_type": "code",
   "execution_count": 23,
   "id": "9efa079a-a261-4fa6-b91e-a3f83d8f9420",
   "metadata": {},
   "outputs": [
    {
     "data": {
      "text/plain": [
       "['k', 'u', 'm', 'a', 'W', 'a', 't']"
      ]
     },
     "execution_count": 23,
     "metadata": {},
     "output_type": "execute_result"
    }
   ],
   "source": [
    "list(s)"
   ]
  },
  {
   "cell_type": "code",
   "execution_count": 22,
   "id": "cebdd487-4348-496e-9bcc-5935eb3b3ae8",
   "metadata": {},
   "outputs": [
    {
     "data": {
      "text/plain": [
       "[2, 45, 798, 'pankAj', (3+5j), True, 56.34, 'k', 'u', 'm', 'a', 'W', 'a', 't']"
      ]
     },
     "execution_count": 22,
     "metadata": {},
     "output_type": "execute_result"
    }
   ],
   "source": [
    "l+list(s)"
   ]
  },
  {
   "cell_type": "code",
   "execution_count": 21,
   "id": "70dd6059-0e4c-4abf-bbff-49d426b7a8c6",
   "metadata": {},
   "outputs": [
    {
     "data": {
      "text/plain": [
       "[2, 45, 798, 'pankAj', (3+5j), True, 56.34]"
      ]
     },
     "execution_count": 21,
     "metadata": {},
     "output_type": "execute_result"
    }
   ],
   "source": [
    "l"
   ]
  },
  {
   "cell_type": "code",
   "execution_count": 20,
   "id": "f8ec861b-7c10-47ce-bb36-e6a8c03becca",
   "metadata": {},
   "outputs": [
    {
     "data": {
      "text/plain": [
       "'pankAj'"
      ]
     },
     "execution_count": 20,
     "metadata": {},
     "output_type": "execute_result"
    }
   ],
   "source": [
    "l[3]   "
   ]
  },
  {
   "cell_type": "code",
   "execution_count": 16,
   "id": "f2661c94-a682-406c-89b9-f22db9f707e4",
   "metadata": {
    "tags": []
   },
   "outputs": [
    {
     "data": {
      "text/plain": [
       "'pan'"
      ]
     },
     "execution_count": 16,
     "metadata": {},
     "output_type": "execute_result"
    }
   ],
   "source": [
    "l[3][0:3] # it is possible because l[3] is string"
   ]
  },
  {
   "cell_type": "code",
   "execution_count": 17,
   "id": "74fed284-a4e5-4355-8965-e648c01ecc0b",
   "metadata": {},
   "outputs": [
    {
     "data": {
      "text/plain": [
       "True"
      ]
     },
     "execution_count": 17,
     "metadata": {},
     "output_type": "execute_result"
    }
   ],
   "source": [
    "l[5]"
   ]
  },
  {
   "cell_type": "code",
   "execution_count": 18,
   "id": "a4aeb012-979a-4f38-84ea-fe8d3c1e54c7",
   "metadata": {},
   "outputs": [
    {
     "ename": "TypeError",
     "evalue": "'bool' object is not subscriptable",
     "output_type": "error",
     "traceback": [
      "\u001b[0;31m---------------------------------------------------------------------------\u001b[0m",
      "\u001b[0;31mTypeError\u001b[0m                                 Traceback (most recent call last)",
      "Cell \u001b[0;32mIn[18], line 1\u001b[0m\n\u001b[0;32m----> 1\u001b[0m \u001b[43ml\u001b[49m\u001b[43m[\u001b[49m\u001b[38;5;241;43m5\u001b[39;49m\u001b[43m]\u001b[49m\u001b[43m[\u001b[49m\u001b[38;5;241;43m0\u001b[39;49m\u001b[43m:\u001b[49m\u001b[38;5;241;43m3\u001b[39;49m\u001b[43m]\u001b[49m  \u001b[38;5;66;03m#error  because in the boolian we can't slicing first we should to convert in the boll to str\u001b[39;00m\n",
      "\u001b[0;31mTypeError\u001b[0m: 'bool' object is not subscriptable"
     ]
    }
   ],
   "source": [
    "l[5][0:3]  #error  because in the boolian we can't slicing first we should to convert in the boll to str"
   ]
  },
  {
   "cell_type": "code",
   "execution_count": 24,
   "id": "122e089f-754d-45b6-a135-ea4f6630270d",
   "metadata": {},
   "outputs": [
    {
     "data": {
      "text/plain": [
       "'Tr'"
      ]
     },
     "execution_count": 24,
     "metadata": {},
     "output_type": "execute_result"
    }
   ],
   "source": [
    "str(l[5])[:2]"
   ]
  },
  {
   "cell_type": "code",
   "execution_count": 31,
   "id": "369491d8-0fcb-4cbb-9a0d-17c77e7f7d33",
   "metadata": {},
   "outputs": [
    {
     "data": {
      "text/plain": [
       "str"
      ]
     },
     "execution_count": 31,
     "metadata": {},
     "output_type": "execute_result"
    }
   ],
   "source": [
    "type(str(l[5]))"
   ]
  },
  {
   "cell_type": "code",
   "execution_count": 34,
   "id": "017e2064-6476-4c64-8f64-503fb283d060",
   "metadata": {},
   "outputs": [
    {
     "ename": "TypeError",
     "evalue": "can only concatenate list (not \"int\") to list",
     "output_type": "error",
     "traceback": [
      "\u001b[0;31m---------------------------------------------------------------------------\u001b[0m",
      "\u001b[0;31mTypeError\u001b[0m                                 Traceback (most recent call last)",
      "Cell \u001b[0;32mIn[34], line 1\u001b[0m\n\u001b[0;32m----> 1\u001b[0m \u001b[43ml\u001b[49m\u001b[38;5;241;43m+\u001b[39;49m\u001b[38;5;241;43m5\u001b[39;49m\n",
      "\u001b[0;31mTypeError\u001b[0m: can only concatenate list (not \"int\") to list"
     ]
    }
   ],
   "source": [
    "l+5"
   ]
  },
  {
   "cell_type": "code",
   "execution_count": 35,
   "id": "58ae35e1-4be1-4441-97f7-1ba47e169d74",
   "metadata": {},
   "outputs": [],
   "source": [
    "L=[5,56,143,\"RAaja\", 3+3j, 'c', True]"
   ]
  },
  {
   "cell_type": "code",
   "execution_count": 38,
   "id": "b26e1a12-519b-4e41-ad43-1342830beec7",
   "metadata": {},
   "outputs": [
    {
     "data": {
      "text/plain": [
       "[5, 56, 143, 'RAaja', (3+3j), 'c', True]"
      ]
     },
     "execution_count": 38,
     "metadata": {},
     "output_type": "execute_result"
    }
   ],
   "source": [
    "L"
   ]
  },
  {
   "cell_type": "code",
   "execution_count": 39,
   "id": "19e8cb71-5d21-4d4d-9818-99461b5376f7",
   "metadata": {},
   "outputs": [
    {
     "data": {
      "text/plain": [
       "[2, 45, 798, 'pankAj', (3+5j), True, 56.34]"
      ]
     },
     "execution_count": 39,
     "metadata": {},
     "output_type": "execute_result"
    }
   ],
   "source": [
    "l"
   ]
  },
  {
   "cell_type": "code",
   "execution_count": 40,
   "id": "57cd65f1-5602-4ed8-b975-19e073629d8d",
   "metadata": {},
   "outputs": [
    {
     "data": {
      "text/plain": [
       "[2,\n",
       " 45,\n",
       " 798,\n",
       " 'pankAj',\n",
       " (3+5j),\n",
       " True,\n",
       " 56.34,\n",
       " 5,\n",
       " 56,\n",
       " 143,\n",
       " 'RAaja',\n",
       " (3+3j),\n",
       " 'c',\n",
       " True]"
      ]
     },
     "execution_count": 40,
     "metadata": {},
     "output_type": "execute_result"
    }
   ],
   "source": [
    "l+L"
   ]
  },
  {
   "cell_type": "code",
   "execution_count": 41,
   "id": "215f292f-5965-4cc5-8e5a-998a5d9e8d4c",
   "metadata": {},
   "outputs": [
    {
     "data": {
      "text/plain": [
       "[5,\n",
       " 56,\n",
       " 143,\n",
       " 'RAaja',\n",
       " (3+3j),\n",
       " 'c',\n",
       " True,\n",
       " 5,\n",
       " 56,\n",
       " 143,\n",
       " 'RAaja',\n",
       " (3+3j),\n",
       " 'c',\n",
       " True]"
      ]
     },
     "execution_count": 41,
     "metadata": {},
     "output_type": "execute_result"
    }
   ],
   "source": [
    "L*2  #two time reapet"
   ]
  },
  {
   "cell_type": "code",
   "execution_count": 42,
   "id": "966a1dbb-7077-494e-9282-6800612cd498",
   "metadata": {},
   "outputs": [
    {
     "data": {
      "text/plain": [
       "[2, 45, 798, 'pankAj', (3+5j), True, 56.34]"
      ]
     },
     "execution_count": 42,
     "metadata": {},
     "output_type": "execute_result"
    }
   ],
   "source": [
    "l"
   ]
  },
  {
   "cell_type": "code",
   "execution_count": 62,
   "id": "57d3c2d5-2e11-43d5-8d4a-c88396406ef6",
   "metadata": {},
   "outputs": [
    {
     "data": {
      "text/plain": [
       "7"
      ]
     },
     "execution_count": 62,
     "metadata": {},
     "output_type": "execute_result"
    }
   ],
   "source": [
    "len(l)  # To find length of list l"
   ]
  },
  {
   "cell_type": "code",
   "execution_count": 64,
   "id": "a9240edd-9515-4eae-9490-81c61044f9b6",
   "metadata": {},
   "outputs": [],
   "source": [
    "l.append(7477)  # add some data end of the list"
   ]
  },
  {
   "cell_type": "code",
   "execution_count": 65,
   "id": "b9ce7b9e-148f-4f02-bed9-61d53628af33",
   "metadata": {},
   "outputs": [
    {
     "data": {
      "text/plain": [
       "[2, 45, 798, 'pankAj', (3+5j), True, 56.34, 7477]"
      ]
     },
     "execution_count": 65,
     "metadata": {},
     "output_type": "execute_result"
    }
   ],
   "source": [
    "l"
   ]
  },
  {
   "cell_type": "code",
   "execution_count": 66,
   "id": "5ccbc77e-1e8a-4433-b07d-b4d8e090bbe6",
   "metadata": {},
   "outputs": [
    {
     "data": {
      "text/plain": [
       "'kumaWat'"
      ]
     },
     "execution_count": 66,
     "metadata": {},
     "output_type": "execute_result"
    }
   ],
   "source": [
    "s"
   ]
  },
  {
   "cell_type": "code",
   "execution_count": 67,
   "id": "b2d4440b-e678-418e-8bde-b0ef431d9651",
   "metadata": {},
   "outputs": [],
   "source": [
    "l.append(s)"
   ]
  },
  {
   "cell_type": "code",
   "execution_count": 82,
   "id": "27058e28-b3d6-4014-9f2d-9bec070779bf",
   "metadata": {},
   "outputs": [
    {
     "data": {
      "text/plain": [
       "[2, 45, 798, 'pankAj', (3+5j), True, 56.34, 7477, 'kumaWat']"
      ]
     },
     "execution_count": 82,
     "metadata": {},
     "output_type": "execute_result"
    }
   ],
   "source": [
    "l"
   ]
  },
  {
   "cell_type": "code",
   "execution_count": 84,
   "id": "7f558b95-6f79-4920-ab04-300a5f33bd95",
   "metadata": {},
   "outputs": [],
   "source": [
    "l.append(\"GM\")"
   ]
  },
  {
   "cell_type": "code",
   "execution_count": 88,
   "id": "db56fdc6-2b37-467c-90ce-f775fc4ec122",
   "metadata": {},
   "outputs": [
    {
     "data": {
      "text/plain": [
       "[2, 45, 798, 'pankAj', (3+5j), True, 56.34, 7477, 'kumaWat', 'GM']"
      ]
     },
     "execution_count": 88,
     "metadata": {},
     "output_type": "execute_result"
    }
   ],
   "source": [
    "l"
   ]
  },
  {
   "cell_type": "code",
   "execution_count": 89,
   "id": "3e71cbfe-547b-4660-a1c6-e302736b0aba",
   "metadata": {},
   "outputs": [],
   "source": [
    "L1=[4,6]"
   ]
  },
  {
   "cell_type": "code",
   "execution_count": 91,
   "id": "fd2a6ad2-245e-4423-9eea-baadcd7b0c3b",
   "metadata": {},
   "outputs": [],
   "source": [
    "l.append(L1)"
   ]
  },
  {
   "cell_type": "code",
   "execution_count": 92,
   "id": "e4ca11ad-7328-4120-aa0a-8fee46ace35c",
   "metadata": {},
   "outputs": [
    {
     "data": {
      "text/plain": [
       "[2, 45, 798, 'pankAj', (3+5j), True, 56.34, 7477, 'kumaWat', 'GM', [4, 6]]"
      ]
     },
     "execution_count": 92,
     "metadata": {},
     "output_type": "execute_result"
    }
   ],
   "source": [
    "l"
   ]
  },
  {
   "cell_type": "code",
   "execution_count": 93,
   "id": "39da3e76-715c-4580-afce-4a2845603ec0",
   "metadata": {},
   "outputs": [
    {
     "data": {
      "text/plain": [
       "4"
      ]
     },
     "execution_count": 93,
     "metadata": {},
     "output_type": "execute_result"
    }
   ],
   "source": [
    "l[-1][0] # if we want to find out element of list L1 4"
   ]
  },
  {
   "cell_type": "code",
   "execution_count": 94,
   "id": "d02ef120-390c-4e91-ac4d-496468d30c02",
   "metadata": {},
   "outputs": [
    {
     "data": {
      "text/plain": [
       "[2, 45, 798, 'pankAj', (3+5j), True, 56.34, 7477, 'kumaWat', 'GM', [4, 6]]"
      ]
     },
     "execution_count": 94,
     "metadata": {},
     "output_type": "execute_result"
    }
   ],
   "source": [
    "l"
   ]
  },
  {
   "cell_type": "code",
   "execution_count": 95,
   "id": "aad5d849-b2ef-4152-923d-82a5b73fbadf",
   "metadata": {},
   "outputs": [
    {
     "ename": "TypeError",
     "evalue": "'int' object is not iterable",
     "output_type": "error",
     "traceback": [
      "\u001b[0;31m---------------------------------------------------------------------------\u001b[0m",
      "\u001b[0;31mTypeError\u001b[0m                                 Traceback (most recent call last)",
      "Cell \u001b[0;32mIn[95], line 1\u001b[0m\n\u001b[0;32m----> 1\u001b[0m \u001b[43ml\u001b[49m\u001b[38;5;241;43m.\u001b[39;49m\u001b[43mextend\u001b[49m\u001b[43m(\u001b[49m\u001b[38;5;241;43m43\u001b[39;49m\u001b[43m)\u001b[49m\n",
      "\u001b[0;31mTypeError\u001b[0m: 'int' object is not iterable"
     ]
    }
   ],
   "source": [
    "l.extend(43)"
   ]
  },
  {
   "cell_type": "code",
   "execution_count": 116,
   "id": "6fb24962-ee58-412d-b94a-583e4da34a79",
   "metadata": {},
   "outputs": [],
   "source": [
    "l.remove(2)"
   ]
  },
  {
   "cell_type": "code",
   "execution_count": 117,
   "id": "56a9ba9d-5518-4db0-a86c-24c09ca45aaa",
   "metadata": {},
   "outputs": [],
   "source": [
    "l.remove(45)"
   ]
  },
  {
   "cell_type": "code",
   "execution_count": 118,
   "id": "b58dc7a5-4c48-4f75-b304-5ea82bc602b8",
   "metadata": {},
   "outputs": [],
   "source": [
    "l.remove(798)"
   ]
  },
  {
   "cell_type": "code",
   "execution_count": 121,
   "id": "384bff03-6d54-43ef-b28a-825075612992",
   "metadata": {},
   "outputs": [],
   "source": [
    "l.remove(7477)"
   ]
  },
  {
   "cell_type": "code",
   "execution_count": 143,
   "id": "7d7c6eb6-9684-46e2-911c-56f2a829d410",
   "metadata": {},
   "outputs": [
    {
     "data": {
      "text/plain": [
       "['pankAj', (3+5j), True, 56.34, 'kumaWat', 'GM', [4, 6]]"
      ]
     },
     "execution_count": 143,
     "metadata": {},
     "output_type": "execute_result"
    }
   ],
   "source": [
    "l"
   ]
  },
  {
   "cell_type": "code",
   "execution_count": 144,
   "id": "0a568fe8-345b-41b9-b82a-4fc00aedea1a",
   "metadata": {},
   "outputs": [],
   "source": [
    "l.extend(\"PaR\")  #Extend list by appending elements from the iterable."
   ]
  },
  {
   "cell_type": "code",
   "execution_count": 145,
   "id": "eb18531b-9734-4ad1-bab8-874a10751dd4",
   "metadata": {},
   "outputs": [
    {
     "data": {
      "text/plain": [
       "['pankAj', (3+5j), True, 56.34, 'kumaWat', 'GM', [4, 6], 'P', 'a', 'R']"
      ]
     },
     "execution_count": 145,
     "metadata": {},
     "output_type": "execute_result"
    }
   ],
   "source": [
    "l"
   ]
  },
  {
   "cell_type": "code",
   "execution_count": 146,
   "id": "db992083-5360-4740-bc21-fa50141c8658",
   "metadata": {},
   "outputs": [
    {
     "data": {
      "text/plain": [
       "[4, 6]"
      ]
     },
     "execution_count": 146,
     "metadata": {},
     "output_type": "execute_result"
    }
   ],
   "source": [
    "L1"
   ]
  },
  {
   "cell_type": "code",
   "execution_count": 147,
   "id": "4cd5ed18-11ea-4131-97fd-7a0f4a0a729f",
   "metadata": {},
   "outputs": [],
   "source": [
    "l.extend(L1) # firstly break the list L1 and after add of the list"
   ]
  },
  {
   "cell_type": "code",
   "execution_count": 148,
   "id": "e48e5c64-f17f-4078-a882-7d1eeb7e9168",
   "metadata": {},
   "outputs": [
    {
     "data": {
      "text/plain": [
       "['pankAj', (3+5j), True, 56.34, 'kumaWat', 'GM', [4, 6], 'P', 'a', 'R', 4, 6]"
      ]
     },
     "execution_count": 148,
     "metadata": {},
     "output_type": "execute_result"
    }
   ],
   "source": [
    "l"
   ]
  },
  {
   "cell_type": "code",
   "execution_count": 149,
   "id": "bcd95d49-93ed-4779-a38b-4a6dece2ca42",
   "metadata": {},
   "outputs": [
    {
     "data": {
      "text/plain": [
       "[4, 6]"
      ]
     },
     "execution_count": 149,
     "metadata": {},
     "output_type": "execute_result"
    }
   ],
   "source": [
    "L1"
   ]
  },
  {
   "cell_type": "code",
   "execution_count": 150,
   "id": "bd776ae9-463e-457c-a089-edf43584b5cc",
   "metadata": {},
   "outputs": [],
   "source": [
    "L1.insert(1,\"Pankaj\")  # inseret data on the given index,,Insert object before index."
   ]
  },
  {
   "cell_type": "code",
   "execution_count": 151,
   "id": "04bcfd42-2112-4cd2-b221-a5df1a9fe936",
   "metadata": {},
   "outputs": [
    {
     "data": {
      "text/plain": [
       "[4, 'Pankaj', 6]"
      ]
     },
     "execution_count": 151,
     "metadata": {},
     "output_type": "execute_result"
    }
   ],
   "source": [
    "L1"
   ]
  },
  {
   "cell_type": "code",
   "execution_count": 152,
   "id": "5f78f025-4027-45fa-951f-37522fb4b3f5",
   "metadata": {},
   "outputs": [],
   "source": [
    "L1.insert(2,[3,3.3,'raja'])"
   ]
  },
  {
   "cell_type": "code",
   "execution_count": 153,
   "id": "ae65338d-b13b-4e4c-a65e-7255163fcc53",
   "metadata": {},
   "outputs": [
    {
     "data": {
      "text/plain": [
       "[4, 'Pankaj', [3, 3.3, 'raja'], 6]"
      ]
     },
     "execution_count": 153,
     "metadata": {},
     "output_type": "execute_result"
    }
   ],
   "source": [
    "L1"
   ]
  },
  {
   "cell_type": "code",
   "execution_count": 154,
   "id": "62356a14-ffc4-4c51-a2d8-71de54bc0a8b",
   "metadata": {},
   "outputs": [],
   "source": [
    "L1.insert(-1,36)  # logic akdam shi h"
   ]
  },
  {
   "cell_type": "code",
   "execution_count": 155,
   "id": "b4c46d56-0d4d-4e7c-870e-b20daff2b1d5",
   "metadata": {},
   "outputs": [
    {
     "data": {
      "text/plain": [
       "[4, 'Pankaj', [3, 3.3, 'raja'], 36, 6]"
      ]
     },
     "execution_count": 155,
     "metadata": {},
     "output_type": "execute_result"
    }
   ],
   "source": [
    "L1"
   ]
  },
  {
   "cell_type": "code",
   "execution_count": 156,
   "id": "7e278f85-d432-46ee-adc2-fedb80c6b3a8",
   "metadata": {},
   "outputs": [
    {
     "data": {
      "text/plain": [
       "6"
      ]
     },
     "execution_count": 156,
     "metadata": {},
     "output_type": "execute_result"
    }
   ],
   "source": [
    "L1.pop()  #L1.pop()  when index not mentioned means remove last element of the list"
   ]
  },
  {
   "cell_type": "code",
   "execution_count": 157,
   "id": "03c75cc1-0e76-41af-8f30-925a8e12b076",
   "metadata": {},
   "outputs": [
    {
     "data": {
      "text/plain": [
       "[4, 'Pankaj', [3, 3.3, 'raja'], 36]"
      ]
     },
     "execution_count": 157,
     "metadata": {},
     "output_type": "execute_result"
    }
   ],
   "source": [
    "L1"
   ]
  },
  {
   "cell_type": "code",
   "execution_count": 159,
   "id": "f0b33676-8546-4558-8223-c9cedf4873ca",
   "metadata": {},
   "outputs": [
    {
     "data": {
      "text/plain": [
       "'Pankaj'"
      ]
     },
     "execution_count": 159,
     "metadata": {},
     "output_type": "execute_result"
    }
   ],
   "source": [
    "L1.pop(1)  #remove the data on index 1"
   ]
  },
  {
   "cell_type": "code",
   "execution_count": 160,
   "id": "4b0ee1f2-3616-4733-a6c7-bd642798bd1c",
   "metadata": {},
   "outputs": [
    {
     "data": {
      "text/plain": [
       "[4, [3, 3.3, 'raja'], 36]"
      ]
     },
     "execution_count": 160,
     "metadata": {},
     "output_type": "execute_result"
    }
   ],
   "source": [
    "L1"
   ]
  },
  {
   "cell_type": "code",
   "execution_count": 162,
   "id": "aad5b5d5-b48e-448e-9b1e-86612007927f",
   "metadata": {},
   "outputs": [
    {
     "data": {
      "text/plain": [
       "[4, [3, 3.3, 'raja'], 36]"
      ]
     },
     "execution_count": 162,
     "metadata": {},
     "output_type": "execute_result"
    }
   ],
   "source": [
    "L1"
   ]
  },
  {
   "cell_type": "code",
   "execution_count": 165,
   "id": "76930a71-29ab-4771-b017-7dd525de1396",
   "metadata": {},
   "outputs": [],
   "source": [
    "L1.remove(4)  # remove passes the value not passes index"
   ]
  },
  {
   "cell_type": "code",
   "execution_count": 166,
   "id": "0480fab6-0a41-4926-903d-f07a50a26aaf",
   "metadata": {},
   "outputs": [
    {
     "data": {
      "text/plain": [
       "[[3, 3.3, 'raja'], 36]"
      ]
     },
     "execution_count": 166,
     "metadata": {},
     "output_type": "execute_result"
    }
   ],
   "source": [
    "L1"
   ]
  },
  {
   "cell_type": "code",
   "execution_count": 167,
   "id": "692c45cc-77dd-4df0-abc2-569798de119e",
   "metadata": {},
   "outputs": [
    {
     "ename": "ValueError",
     "evalue": "list.remove(x): x not in list",
     "output_type": "error",
     "traceback": [
      "\u001b[0;31m---------------------------------------------------------------------------\u001b[0m",
      "\u001b[0;31mValueError\u001b[0m                                Traceback (most recent call last)",
      "Cell \u001b[0;32mIn[167], line 1\u001b[0m\n\u001b[0;32m----> 1\u001b[0m \u001b[43mL1\u001b[49m\u001b[38;5;241;43m.\u001b[39;49m\u001b[43mremove\u001b[49m\u001b[43m(\u001b[49m\u001b[38;5;241;43m89\u001b[39;49m\u001b[43m)\u001b[49m\n",
      "\u001b[0;31mValueError\u001b[0m: list.remove(x): x not in list"
     ]
    }
   ],
   "source": [
    "L1.remove(89)"
   ]
  },
  {
   "cell_type": "code",
   "execution_count": 169,
   "id": "82416468-6123-48be-9a2b-8900d4cd6d73",
   "metadata": {},
   "outputs": [],
   "source": [
    "L1[0].remove(3) # remove 3 thae present list inside list"
   ]
  },
  {
   "cell_type": "code",
   "execution_count": 175,
   "id": "93e77771-864c-4fbb-9e2a-e27d4114a54e",
   "metadata": {},
   "outputs": [
    {
     "data": {
      "text/plain": [
       "[[3.3, 'raja'], 36]"
      ]
     },
     "execution_count": 175,
     "metadata": {},
     "output_type": "execute_result"
    }
   ],
   "source": [
    "L1"
   ]
  },
  {
   "cell_type": "code",
   "execution_count": 8,
   "id": "3f878ed0-f819-4d02-a361-03f8470b4db8",
   "metadata": {},
   "outputs": [],
   "source": [
    "L2=[8,234,\"apple\", [3,5.76,'p']]"
   ]
  },
  {
   "cell_type": "code",
   "execution_count": 9,
   "id": "c235f20a-43c3-4604-b4cf-f9de4f6f598c",
   "metadata": {},
   "outputs": [
    {
     "data": {
      "text/plain": [
       "[8, 234, 'apple', [3, 5.76, 'p']]"
      ]
     },
     "execution_count": 9,
     "metadata": {},
     "output_type": "execute_result"
    }
   ],
   "source": [
    "L2"
   ]
  },
  {
   "cell_type": "code",
   "execution_count": 10,
   "id": "bcce4040-495d-4f59-a6a9-e7bf694c30eb",
   "metadata": {},
   "outputs": [],
   "source": [
    "L2[3].remove('p')"
   ]
  },
  {
   "cell_type": "code",
   "execution_count": 11,
   "id": "1a926946-eed1-4a05-a8e9-7ddbb83111b4",
   "metadata": {},
   "outputs": [
    {
     "data": {
      "text/plain": [
       "[8, 234, 'apple', [3, 5.76]]"
      ]
     },
     "execution_count": 11,
     "metadata": {},
     "output_type": "execute_result"
    }
   ],
   "source": [
    "L2"
   ]
  },
  {
   "cell_type": "code",
   "execution_count": 14,
   "id": "d09186ff-0e5c-42fa-a528-39aeae92378e",
   "metadata": {},
   "outputs": [
    {
     "ename": "AttributeError",
     "evalue": "'str' object has no attribute 'pop'",
     "output_type": "error",
     "traceback": [
      "\u001b[0;31m---------------------------------------------------------------------------\u001b[0m",
      "\u001b[0;31mAttributeError\u001b[0m                            Traceback (most recent call last)",
      "Cell \u001b[0;32mIn[14], line 1\u001b[0m\n\u001b[0;32m----> 1\u001b[0m \u001b[43mL2\u001b[49m\u001b[43m[\u001b[49m\u001b[38;5;241;43m2\u001b[39;49m\u001b[43m]\u001b[49m\u001b[38;5;241;43m.\u001b[39;49m\u001b[43mpop\u001b[49m(\u001b[38;5;241m0\u001b[39m)  \u001b[38;5;66;03m#we can't remove this a from the str\u001b[39;00m\n",
      "\u001b[0;31mAttributeError\u001b[0m: 'str' object has no attribute 'pop'"
     ]
    }
   ],
   "source": [
    "L2[2].pop(0)  #we can't remove this a from the str"
   ]
  },
  {
   "cell_type": "code",
   "execution_count": 15,
   "id": "be8f7ce7-bf81-4378-886d-fdc3a27faa2b",
   "metadata": {},
   "outputs": [
    {
     "ename": "AttributeError",
     "evalue": "'str' object has no attribute 'remove'",
     "output_type": "error",
     "traceback": [
      "\u001b[0;31m---------------------------------------------------------------------------\u001b[0m",
      "\u001b[0;31mAttributeError\u001b[0m                            Traceback (most recent call last)",
      "Cell \u001b[0;32mIn[15], line 1\u001b[0m\n\u001b[0;32m----> 1\u001b[0m \u001b[43mL2\u001b[49m\u001b[43m[\u001b[49m\u001b[38;5;241;43m2\u001b[39;49m\u001b[43m]\u001b[49m\u001b[38;5;241;43m.\u001b[39;49m\u001b[43mremove\u001b[49m(\u001b[38;5;124m\"\u001b[39m\u001b[38;5;124ma\u001b[39m\u001b[38;5;124m\"\u001b[39m)\n",
      "\u001b[0;31mAttributeError\u001b[0m: 'str' object has no attribute 'remove'"
     ]
    }
   ],
   "source": [
    "L2[2].remove(\"a\")  # no we can't do this because str immutable"
   ]
  },
  {
   "cell_type": "code",
   "execution_count": 16,
   "id": "f4a76749-af8a-48fa-ac7f-118bcf6d55e2",
   "metadata": {},
   "outputs": [
    {
     "data": {
      "text/plain": [
       "[8, 234, 'apple', [3, 5.76]]"
      ]
     },
     "execution_count": 16,
     "metadata": {},
     "output_type": "execute_result"
    }
   ],
   "source": [
    "L2"
   ]
  },
  {
   "cell_type": "code",
   "execution_count": 18,
   "id": "fa32cb1b-8d43-4e98-b47b-6a95736be464",
   "metadata": {},
   "outputs": [],
   "source": [
    "L2.insert(0,8)"
   ]
  },
  {
   "cell_type": "code",
   "execution_count": 19,
   "id": "ae656288-6111-41ac-b032-2811c89879eb",
   "metadata": {},
   "outputs": [
    {
     "data": {
      "text/plain": [
       "[8, 8, 234, 'apple', [3, 5.76]]"
      ]
     },
     "execution_count": 19,
     "metadata": {},
     "output_type": "execute_result"
    }
   ],
   "source": [
    "L2"
   ]
  },
  {
   "cell_type": "code",
   "execution_count": 20,
   "id": "8f89ecdc-772c-417a-afd7-fb50d44803c3",
   "metadata": {},
   "outputs": [],
   "source": [
    "L2.remove(8)  #Remove first occurrence of value only in one time"
   ]
  },
  {
   "cell_type": "code",
   "execution_count": 21,
   "id": "4527c13e-23bd-47ce-b412-9daf2de82db3",
   "metadata": {},
   "outputs": [
    {
     "data": {
      "text/plain": [
       "[8, 234, 'apple', [3, 5.76]]"
      ]
     },
     "execution_count": 21,
     "metadata": {},
     "output_type": "execute_result"
    }
   ],
   "source": [
    "L2"
   ]
  },
  {
   "cell_type": "code",
   "execution_count": null,
   "id": "c8b66e64-c1c2-4743-853d-a601089d7f46",
   "metadata": {},
   "outputs": [],
   "source": [
    "L2=[8, 234, 'apple', [3, 5.76]]  "
   ]
  },
  {
   "cell_type": "code",
   "execution_count": 9,
   "id": "f8a99dc1-957a-418b-a443-23b4fd3816fd",
   "metadata": {},
   "outputs": [
    {
     "data": {
      "text/plain": [
       "[8, 234, 'apple', [3, 5.76]]"
      ]
     },
     "execution_count": 9,
     "metadata": {},
     "output_type": "execute_result"
    }
   ],
   "source": [
    "L2"
   ]
  },
  {
   "cell_type": "code",
   "execution_count": 10,
   "id": "cb2fce88-86d3-4100-b95b-ba2545896822",
   "metadata": {},
   "outputs": [
    {
     "data": {
      "text/plain": [
       "[[3, 5.76], 'apple', 234, 8]"
      ]
     },
     "execution_count": 10,
     "metadata": {},
     "output_type": "execute_result"
    }
   ],
   "source": [
    "L2[::-1]  # this is temp. reverse"
   ]
  },
  {
   "cell_type": "code",
   "execution_count": 11,
   "id": "be20da34-aee8-4763-abd8-ba769d48e936",
   "metadata": {},
   "outputs": [
    {
     "data": {
      "text/plain": [
       "[8, 234, 'apple', [3, 5.76]]"
      ]
     },
     "execution_count": 11,
     "metadata": {},
     "output_type": "execute_result"
    }
   ],
   "source": [
    "L2"
   ]
  },
  {
   "cell_type": "code",
   "execution_count": 12,
   "id": "1aeefda3-67b8-405e-9280-b2ac4d932fcb",
   "metadata": {},
   "outputs": [],
   "source": [
    "L2.reverse()  # this is permanent reverse"
   ]
  },
  {
   "cell_type": "code",
   "execution_count": 13,
   "id": "8d956afc-bd04-49d5-a340-9ef9813bbdeb",
   "metadata": {},
   "outputs": [
    {
     "data": {
      "text/plain": [
       "[[3, 5.76], 'apple', 234, 8]"
      ]
     },
     "execution_count": 13,
     "metadata": {},
     "output_type": "execute_result"
    }
   ],
   "source": [
    "L2"
   ]
  },
  {
   "cell_type": "code",
   "execution_count": 16,
   "id": "fa1669f9-5c3e-4884-be77-028e347d2cee",
   "metadata": {},
   "outputs": [],
   "source": [
    "L2=L2[::-1]  # if we want permanent reverse without using reverse function"
   ]
  },
  {
   "cell_type": "code",
   "execution_count": 17,
   "id": "3754546f-4bf8-47cf-b979-4085098e8ee8",
   "metadata": {},
   "outputs": [
    {
     "data": {
      "text/plain": [
       "[8, 234, 'apple', [3, 5.76]]"
      ]
     },
     "execution_count": 17,
     "metadata": {},
     "output_type": "execute_result"
    }
   ],
   "source": [
    "L2"
   ]
  },
  {
   "cell_type": "code",
   "execution_count": 25,
   "id": "d71a23be-acc7-492f-8aeb-87d0b8c608b4",
   "metadata": {},
   "outputs": [
    {
     "ename": "TypeError",
     "evalue": "'<' not supported between instances of 'str' and 'int'",
     "output_type": "error",
     "traceback": [
      "\u001b[0;31m---------------------------------------------------------------------------\u001b[0m",
      "\u001b[0;31mTypeError\u001b[0m                                 Traceback (most recent call last)",
      "Cell \u001b[0;32mIn[25], line 1\u001b[0m\n\u001b[0;32m----> 1\u001b[0m \u001b[43mL2\u001b[49m\u001b[38;5;241;43m.\u001b[39;49m\u001b[43msort\u001b[49m\u001b[43m(\u001b[49m\u001b[43m)\u001b[49m  \u001b[38;5;66;03m# sort only work when data will be int  \u001b[39;00m\n",
      "\u001b[0;31mTypeError\u001b[0m: '<' not supported between instances of 'str' and 'int'"
     ]
    }
   ],
   "source": [
    "L2.sort()  # sort only work when data will be int and str "
   ]
  },
  {
   "cell_type": "code",
   "execution_count": 29,
   "id": "c96cc5fa-85b1-4f6b-b16d-3df300de2c83",
   "metadata": {},
   "outputs": [],
   "source": [
    "L3=[45,6,84,8,89,85,547,47,4,647,47]"
   ]
  },
  {
   "cell_type": "code",
   "execution_count": 31,
   "id": "5575a836-f11a-499e-9a78-8f52c9c55a2c",
   "metadata": {},
   "outputs": [],
   "source": [
    "L3.sort() #assending order"
   ]
  },
  {
   "cell_type": "code",
   "execution_count": 32,
   "id": "0f3e6ce5-45f6-46f6-bde1-d68bcdb54c5f",
   "metadata": {},
   "outputs": [
    {
     "data": {
      "text/plain": [
       "[4, 6, 8, 45, 47, 47, 84, 85, 89, 547, 647]"
      ]
     },
     "execution_count": 32,
     "metadata": {},
     "output_type": "execute_result"
    }
   ],
   "source": [
    "L3"
   ]
  },
  {
   "cell_type": "code",
   "execution_count": 42,
   "id": "ac95203d-18dc-4a7e-9788-3c9228394153",
   "metadata": {},
   "outputs": [],
   "source": [
    "L4=[\"pankaj\", \"data science\" , \"coding\", \"zrror\"] "
   ]
  },
  {
   "cell_type": "code",
   "execution_count": 43,
   "id": "95a32ae4-351e-4a48-87b7-2814954b23e1",
   "metadata": {},
   "outputs": [],
   "source": [
    "L4.sort()"
   ]
  },
  {
   "cell_type": "code",
   "execution_count": 44,
   "id": "382ee3ab-0b15-4424-b6b4-64586a94798f",
   "metadata": {},
   "outputs": [
    {
     "data": {
      "text/plain": [
       "['coding', 'data science', 'pankaj', 'zrror']"
      ]
     },
     "execution_count": 44,
     "metadata": {},
     "output_type": "execute_result"
    }
   ],
   "source": [
    "L4"
   ]
  },
  {
   "cell_type": "code",
   "execution_count": 45,
   "id": "fc1a1324-f057-4201-bb2e-ca1e39b1d9b6",
   "metadata": {},
   "outputs": [],
   "source": [
    "L4=[\"pankaj\", \"data science\" , \"coding\", \" zrror\"] "
   ]
  },
  {
   "cell_type": "code",
   "execution_count": 46,
   "id": "a11596a0-0684-4c3b-92a4-5282ee81945e",
   "metadata": {},
   "outputs": [],
   "source": [
    "L4.sort()  #space is first as compare to alphabattu"
   ]
  },
  {
   "cell_type": "code",
   "execution_count": 47,
   "id": "12e460d3-3af1-4671-b977-258c9bfd5c8f",
   "metadata": {},
   "outputs": [
    {
     "data": {
      "text/plain": [
       "[' zrror', 'coding', 'data science', 'pankaj']"
      ]
     },
     "execution_count": 47,
     "metadata": {},
     "output_type": "execute_result"
    }
   ],
   "source": [
    "L4"
   ]
  },
  {
   "cell_type": "code",
   "execution_count": 48,
   "id": "f3bd4040-1d3c-4b2a-98eb-048b82d1a6c0",
   "metadata": {},
   "outputs": [],
   "source": [
    "L4=[\"pankaj\", \"data science\" , \"coding\", \"error\", 45]"
   ]
  },
  {
   "cell_type": "code",
   "execution_count": 49,
   "id": "6e79ddc5-86dd-41df-bf77-46a69afa831f",
   "metadata": {},
   "outputs": [
    {
     "ename": "TypeError",
     "evalue": "'<' not supported between instances of 'int' and 'str'",
     "output_type": "error",
     "traceback": [
      "\u001b[0;31m---------------------------------------------------------------------------\u001b[0m",
      "\u001b[0;31mTypeError\u001b[0m                                 Traceback (most recent call last)",
      "Cell \u001b[0;32mIn[49], line 1\u001b[0m\n\u001b[0;32m----> 1\u001b[0m \u001b[43mL4\u001b[49m\u001b[38;5;241;43m.\u001b[39;49m\u001b[43msort\u001b[49m\u001b[43m(\u001b[49m\u001b[43m)\u001b[49m\n",
      "\u001b[0;31mTypeError\u001b[0m: '<' not supported between instances of 'int' and 'str'"
     ]
    }
   ],
   "source": [
    "L4.sort()"
   ]
  },
  {
   "cell_type": "code",
   "execution_count": 50,
   "id": "1a46bb82-3f01-4b60-94b8-fa537746ea3f",
   "metadata": {},
   "outputs": [
    {
     "data": {
      "text/plain": [
       "[4, 6, 8, 45, 47, 47, 84, 85, 89, 547, 647]"
      ]
     },
     "execution_count": 50,
     "metadata": {},
     "output_type": "execute_result"
    }
   ],
   "source": [
    "L3"
   ]
  },
  {
   "cell_type": "code",
   "execution_count": 51,
   "id": "9f1e05f7-56b4-454b-9c73-48dccf601c89",
   "metadata": {},
   "outputs": [],
   "source": [
    "L3.sort(reverse=True)  #dissending order"
   ]
  },
  {
   "cell_type": "code",
   "execution_count": 52,
   "id": "8f043042-b156-4236-8f94-a2003e4750b4",
   "metadata": {},
   "outputs": [
    {
     "data": {
      "text/plain": [
       "[647, 547, 89, 85, 84, 47, 47, 45, 8, 6, 4]"
      ]
     },
     "execution_count": 52,
     "metadata": {},
     "output_type": "execute_result"
    }
   ],
   "source": [
    "L3"
   ]
  },
  {
   "cell_type": "code",
   "execution_count": 55,
   "id": "4f550df7-10b5-4d55-9084-6ee9ceddd8b5",
   "metadata": {},
   "outputs": [
    {
     "ename": "AttributeError",
     "evalue": "'NoneType' object has no attribute 'reverse'",
     "output_type": "error",
     "traceback": [
      "\u001b[0;31m---------------------------------------------------------------------------\u001b[0m",
      "\u001b[0;31mAttributeError\u001b[0m                            Traceback (most recent call last)",
      "Cell \u001b[0;32mIn[55], line 1\u001b[0m\n\u001b[0;32m----> 1\u001b[0m \u001b[43mL3\u001b[49m\u001b[38;5;241;43m.\u001b[39;49m\u001b[43msort\u001b[49m\u001b[43m(\u001b[49m\u001b[43m)\u001b[49m\u001b[38;5;241;43m.\u001b[39;49m\u001b[43mreverse\u001b[49m()\n",
      "\u001b[0;31mAttributeError\u001b[0m: 'NoneType' object has no attribute 'reverse'"
     ]
    }
   ],
   "source": [
    "L3.sort().reverse()"
   ]
  },
  {
   "cell_type": "code",
   "execution_count": 56,
   "id": "ae8014e7-b149-4ffc-8380-f2cd123a0798",
   "metadata": {},
   "outputs": [
    {
     "data": {
      "text/plain": [
       "[4, 6, 8, 45, 47, 47, 84, 85, 89, 547, 647]"
      ]
     },
     "execution_count": 56,
     "metadata": {},
     "output_type": "execute_result"
    }
   ],
   "source": [
    "L3"
   ]
  },
  {
   "cell_type": "code",
   "execution_count": 57,
   "id": "22b1363a-1fea-49b1-b47d-04bf77ec1649",
   "metadata": {},
   "outputs": [
    {
     "data": {
      "text/plain": [
       "0"
      ]
     },
     "execution_count": 57,
     "metadata": {},
     "output_type": "execute_result"
    }
   ],
   "source": [
    "L3.index(4)  #give first index"
   ]
  },
  {
   "cell_type": "code",
   "execution_count": 58,
   "id": "fff40846-40fd-4988-8e59-72b6438db726",
   "metadata": {},
   "outputs": [
    {
     "data": {
      "text/plain": [
       "[8, 234, 'apple', [3, 5.76]]"
      ]
     },
     "execution_count": 58,
     "metadata": {},
     "output_type": "execute_result"
    }
   ],
   "source": [
    "L2"
   ]
  },
  {
   "cell_type": "code",
   "execution_count": 59,
   "id": "d9a84773-30dc-4dfb-ad71-f85120c95333",
   "metadata": {},
   "outputs": [
    {
     "data": {
      "text/plain": [
       "2"
      ]
     },
     "execution_count": 59,
     "metadata": {},
     "output_type": "execute_result"
    }
   ],
   "source": [
    "L2.index(\"apple\")"
   ]
  },
  {
   "cell_type": "code",
   "execution_count": 62,
   "id": "a3ee8412-7096-40ef-b9b2-4064c066aa19",
   "metadata": {},
   "outputs": [
    {
     "data": {
      "text/plain": [
       "1"
      ]
     },
     "execution_count": 62,
     "metadata": {},
     "output_type": "execute_result"
    }
   ],
   "source": [
    "L2.count(\"apple\") # how many time reapet apple in the list"
   ]
  },
  {
   "cell_type": "code",
   "execution_count": 2,
   "id": "576d3c05-f6f6-49f5-8d56-8602a44441e5",
   "metadata": {},
   "outputs": [],
   "source": [
    "S=\"pankaj\""
   ]
  },
  {
   "cell_type": "code",
   "execution_count": 3,
   "id": "e32a693a-a5b0-4e8f-aa65-51425800e67e",
   "metadata": {},
   "outputs": [
    {
     "data": {
      "text/plain": [
       "'n'"
      ]
     },
     "execution_count": 3,
     "metadata": {},
     "output_type": "execute_result"
    }
   ],
   "source": [
    "S[2]"
   ]
  },
  {
   "cell_type": "code",
   "execution_count": 5,
   "id": "0de55ef9-4601-477c-bab2-4e804b00dc28",
   "metadata": {},
   "outputs": [
    {
     "ename": "NameError",
     "evalue": "name 'P' is not defined",
     "output_type": "error",
     "traceback": [
      "\u001b[0;31m---------------------------------------------------------------------------\u001b[0m",
      "\u001b[0;31mNameError\u001b[0m                                 Traceback (most recent call last)",
      "Cell \u001b[0;32mIn[5], line 1\u001b[0m\n\u001b[0;32m----> 1\u001b[0m s[\u001b[38;5;241m2\u001b[39m]\u001b[38;5;241m=\u001b[39m\u001b[43mP\u001b[49m  \u001b[38;5;66;03m# srings are immutable\u001b[39;00m\n",
      "\u001b[0;31mNameError\u001b[0m: name 'P' is not defined"
     ]
    }
   ],
   "source": [
    "s[2]=P  # srings are immutable"
   ]
  },
  {
   "cell_type": "code",
   "execution_count": 6,
   "id": "93b4a125-f6de-4420-8342-870baee43f71",
   "metadata": {},
   "outputs": [],
   "source": [
    "L4=[3,56,\"pankaj\", True]"
   ]
  },
  {
   "cell_type": "code",
   "execution_count": 7,
   "id": "98f46049-31c4-4a43-a299-91f52331e449",
   "metadata": {},
   "outputs": [
    {
     "data": {
      "text/plain": [
       "3"
      ]
     },
     "execution_count": 7,
     "metadata": {},
     "output_type": "execute_result"
    }
   ],
   "source": [
    "L4[0]"
   ]
  },
  {
   "cell_type": "code",
   "execution_count": 8,
   "id": "28e14a03-8943-46ce-8bbc-f86bc5425b9d",
   "metadata": {},
   "outputs": [],
   "source": [
    "L4[0]=234  #lists are mutable"
   ]
  },
  {
   "cell_type": "code",
   "execution_count": 9,
   "id": "6d8b57eb-577b-4240-88bc-ceac58d92653",
   "metadata": {},
   "outputs": [
    {
     "data": {
      "text/plain": [
       "[234, 56, 'pankaj', True]"
      ]
     },
     "execution_count": 9,
     "metadata": {},
     "output_type": "execute_result"
    }
   ],
   "source": [
    "L4"
   ]
  },
  {
   "cell_type": "code",
   "execution_count": 10,
   "id": "88fd4d5a-1cd0-4099-9c79-06fc7c5ce6f1",
   "metadata": {},
   "outputs": [
    {
     "data": {
      "text/plain": [
       "'pankaj'"
      ]
     },
     "execution_count": 10,
     "metadata": {},
     "output_type": "execute_result"
    }
   ],
   "source": [
    "S"
   ]
  },
  {
   "cell_type": "code",
   "execution_count": 11,
   "id": "3e49eb53-96ec-4551-a7e1-f8699db6cf12",
   "metadata": {},
   "outputs": [
    {
     "data": {
      "text/plain": [
       "'Mankaj'"
      ]
     },
     "execution_count": 11,
     "metadata": {},
     "output_type": "execute_result"
    }
   ],
   "source": [
    "S.replace('p', 'M')  # this is not mutability mutable means changes on same index"
   ]
  },
  {
   "cell_type": "code",
   "execution_count": 12,
   "id": "fbba8401-02cb-48a0-9ad8-3e4a7c9b53a8",
   "metadata": {},
   "outputs": [
    {
     "data": {
      "text/plain": [
       "'pankaj'"
      ]
     },
     "execution_count": 12,
     "metadata": {},
     "output_type": "execute_result"
    }
   ],
   "source": [
    "S"
   ]
  },
  {
   "cell_type": "code",
   "execution_count": 15,
   "id": "88c66468-9b0a-4328-836f-e80757158fb2",
   "metadata": {},
   "outputs": [],
   "source": [
    "t=(34,6,76.3, \"panakj\", True, 4+7j, [34,3, 'p'])   # this is tuple"
   ]
  },
  {
   "cell_type": "code",
   "execution_count": 16,
   "id": "4fa4f1b1-0ac3-4f1a-b8cd-1ccde46022b6",
   "metadata": {},
   "outputs": [
    {
     "data": {
      "text/plain": [
       "(34, 6, 76.3, 'panakj', True, (4+7j), [34, 3, 'p'])"
      ]
     },
     "execution_count": 16,
     "metadata": {},
     "output_type": "execute_result"
    }
   ],
   "source": [
    "t"
   ]
  },
  {
   "cell_type": "code",
   "execution_count": 17,
   "id": "a8d14c9c-63bd-431b-bb30-6fd75b0b868b",
   "metadata": {},
   "outputs": [
    {
     "data": {
      "text/plain": [
       "6"
      ]
     },
     "execution_count": 17,
     "metadata": {},
     "output_type": "execute_result"
    }
   ],
   "source": [
    "t[1]"
   ]
  },
  {
   "cell_type": "code",
   "execution_count": 19,
   "id": "6bdf79c6-d631-41e3-a8a3-616239c37408",
   "metadata": {},
   "outputs": [
    {
     "ename": "TypeError",
     "evalue": "'tuple' object does not support item assignment",
     "output_type": "error",
     "traceback": [
      "\u001b[0;31m---------------------------------------------------------------------------\u001b[0m",
      "\u001b[0;31mTypeError\u001b[0m                                 Traceback (most recent call last)",
      "Cell \u001b[0;32mIn[19], line 1\u001b[0m\n\u001b[0;32m----> 1\u001b[0m \u001b[43mt\u001b[49m\u001b[43m[\u001b[49m\u001b[38;5;241;43m1\u001b[39;49m\u001b[43m]\u001b[49m\u001b[38;5;241m=\u001b[39m\u001b[38;5;124m'\u001b[39m\u001b[38;5;124mpa\u001b[39m\u001b[38;5;124m'\u001b[39m\n",
      "\u001b[0;31mTypeError\u001b[0m: 'tuple' object does not support item assignment"
     ]
    }
   ],
   "source": [
    "t[1]='pa'   # tuple is similar to list but list[] mutable but tuole() is immutaple"
   ]
  },
  {
   "cell_type": "code",
   "execution_count": 20,
   "id": "f79d02f4-eb5b-4fa8-94e0-c39bbb3a0dbf",
   "metadata": {},
   "outputs": [
    {
     "data": {
      "text/plain": [
       "(34, 6, 76.3, 'panakj', True, (4+7j), [34, 3, 'p'])"
      ]
     },
     "execution_count": 20,
     "metadata": {},
     "output_type": "execute_result"
    }
   ],
   "source": [
    "t"
   ]
  },
  {
   "cell_type": "code",
   "execution_count": 21,
   "id": "d93b11d8-019a-47fe-b6fa-5d4fc3cd413c",
   "metadata": {},
   "outputs": [
    {
     "data": {
      "text/plain": [
       "([34, 3, 'p'], (4+7j), True, 'panakj', 76.3, 6, 34)"
      ]
     },
     "execution_count": 21,
     "metadata": {},
     "output_type": "execute_result"
    }
   ],
   "source": [
    "t[::-1]"
   ]
  },
  {
   "cell_type": "code",
   "execution_count": 23,
   "id": "57b97abc-b1a5-419a-8baa-68f2d3a6b1c0",
   "metadata": {},
   "outputs": [
    {
     "data": {
      "text/plain": [
       "7"
      ]
     },
     "execution_count": 23,
     "metadata": {},
     "output_type": "execute_result"
    }
   ],
   "source": [
    "len(t)"
   ]
  },
  {
   "cell_type": "code",
   "execution_count": 24,
   "id": "b7feea34-5a45-4d3b-8328-b8b4aed4eb98",
   "metadata": {},
   "outputs": [
    {
     "data": {
      "text/plain": [
       "(34, 6, 76.3, 'panakj', True, (4+7j), [34, 3, 'p'])"
      ]
     },
     "execution_count": 24,
     "metadata": {},
     "output_type": "execute_result"
    }
   ],
   "source": [
    "t"
   ]
  },
  {
   "cell_type": "code",
   "execution_count": 25,
   "id": "1d117377-b507-4871-811f-5cabc11d0963",
   "metadata": {},
   "outputs": [
    {
     "data": {
      "text/plain": [
       "1"
      ]
     },
     "execution_count": 25,
     "metadata": {},
     "output_type": "execute_result"
    }
   ],
   "source": [
    "t.count(34)  # only count and index is present in tuple"
   ]
  },
  {
   "cell_type": "code",
   "execution_count": 26,
   "id": "157d18dc-6102-4924-98a8-f4220246761c",
   "metadata": {},
   "outputs": [
    {
     "data": {
      "text/plain": [
       "0"
      ]
     },
     "execution_count": 26,
     "metadata": {},
     "output_type": "execute_result"
    }
   ],
   "source": [
    "t.index(34)"
   ]
  },
  {
   "cell_type": "code",
   "execution_count": 30,
   "id": "33633958-0d21-4d02-8964-1abb6e901866",
   "metadata": {},
   "outputs": [],
   "source": [
    "d={}   # this is dictionary"
   ]
  },
  {
   "cell_type": "code",
   "execution_count": 31,
   "id": "c04d241e-ce26-4716-83de-7767da8163d7",
   "metadata": {},
   "outputs": [
    {
     "data": {
      "text/plain": [
       "{}"
      ]
     },
     "execution_count": 31,
     "metadata": {},
     "output_type": "execute_result"
    }
   ],
   "source": [
    "d"
   ]
  },
  {
   "cell_type": "code",
   "execution_count": 32,
   "id": "1eae29fe-dbd0-4120-b462-2d1eaa021167",
   "metadata": {},
   "outputs": [
    {
     "data": {
      "text/plain": [
       "dict"
      ]
     },
     "execution_count": 32,
     "metadata": {},
     "output_type": "execute_result"
    }
   ],
   "source": [
    "type(d)"
   ]
  },
  {
   "cell_type": "code",
   "execution_count": 42,
   "id": "33f87c56-c0ec-4607-b873-e306a07fc0a4",
   "metadata": {},
   "outputs": [],
   "source": [
    "s={34,45.34,'pankaj',4+8j, True}  # this is set"
   ]
  },
  {
   "cell_type": "code",
   "execution_count": 43,
   "id": "bfeae927-0b3e-4a98-b343-e6719bfd8f8c",
   "metadata": {},
   "outputs": [
    {
     "data": {
      "text/plain": [
       "{(4+8j), 34, 45.34, True, 'pankaj'}"
      ]
     },
     "execution_count": 43,
     "metadata": {},
     "output_type": "execute_result"
    }
   ],
   "source": [
    "s"
   ]
  },
  {
   "cell_type": "code",
   "execution_count": 44,
   "id": "a222ff40-b445-4f93-b825-9ae8f523b1ee",
   "metadata": {},
   "outputs": [
    {
     "data": {
      "text/plain": [
       "set"
      ]
     },
     "execution_count": 44,
     "metadata": {},
     "output_type": "execute_result"
    }
   ],
   "source": [
    "type(s)"
   ]
  },
  {
   "cell_type": "code",
   "execution_count": 46,
   "id": "f1d23552-db2a-412d-839f-b3178778d8dc",
   "metadata": {},
   "outputs": [],
   "source": [
    "s={34,45.34,'pankaj',4+8j, True, (3.7,34,True)}  # tupel support in set"
   ]
  },
  {
   "cell_type": "code",
   "execution_count": 47,
   "id": "40853455-36a9-4388-9136-b8d7b2394900",
   "metadata": {},
   "outputs": [
    {
     "data": {
      "text/plain": [
       "{(3.7, 34, True), (4+8j), 34, 45.34, True, 'pankaj'}"
      ]
     },
     "execution_count": 47,
     "metadata": {},
     "output_type": "execute_result"
    }
   ],
   "source": [
    "s"
   ]
  },
  {
   "cell_type": "code",
   "execution_count": 48,
   "id": "b337c661-6b5b-45d9-b958-7707b2467db6",
   "metadata": {},
   "outputs": [
    {
     "ename": "TypeError",
     "evalue": "unhashable type: 'list'",
     "output_type": "error",
     "traceback": [
      "\u001b[0;31m---------------------------------------------------------------------------\u001b[0m",
      "\u001b[0;31mTypeError\u001b[0m                                 Traceback (most recent call last)",
      "Cell \u001b[0;32mIn[48], line 1\u001b[0m\n\u001b[0;32m----> 1\u001b[0m s\u001b[38;5;241m=\u001b[39m{\u001b[38;5;241m34\u001b[39m,\u001b[38;5;241m45.34\u001b[39m,\u001b[38;5;124m'\u001b[39m\u001b[38;5;124mpankaj\u001b[39m\u001b[38;5;124m'\u001b[39m,\u001b[38;5;241m4\u001b[39m\u001b[38;5;241m+\u001b[39m\u001b[38;5;241m8\u001b[39mj, \u001b[38;5;28;01mTrue\u001b[39;00m, [\u001b[38;5;241m3.3\u001b[39m,\u001b[38;5;241m3\u001b[39m]}\n",
      "\u001b[0;31mTypeError\u001b[0m: unhashable type: 'list'"
     ]
    }
   ],
   "source": [
    "s={34,45.34,'pankaj',4+8j, True, [3.3,3]}  # list not support in set brcause it support only imutable "
   ]
  },
  {
   "cell_type": "code",
   "execution_count": 63,
   "id": "55b03239-d111-47c8-9f9c-b06d50ba4b93",
   "metadata": {},
   "outputs": [],
   "source": [
    "s1={3,3,3,56,76,67,56,7,7,76,2,2,'pankaj', 'pankaj',\"Pankaj\",0,0}  #it remove dumpicate data unorder"
   ]
  },
  {
   "cell_type": "code",
   "execution_count": 64,
   "id": "08d361f5-aaf9-4ec8-ba0e-9c4ac50f97e2",
   "metadata": {},
   "outputs": [
    {
     "data": {
      "text/plain": [
       "{0, 2, 3, 56, 67, 7, 76, 'Pankaj', 'pankaj'}"
      ]
     },
     "execution_count": 64,
     "metadata": {},
     "output_type": "execute_result"
    }
   ],
   "source": [
    "s1  # python is case sensitive language"
   ]
  },
  {
   "cell_type": "code",
   "execution_count": 66,
   "id": "5d611fb3-35e0-479b-a71e-3f14f77b7c63",
   "metadata": {},
   "outputs": [],
   "source": [
    "s2=[3,3,3,56,76,67,56,7,7,76,2,2,'pankaj', 'pankaj',\"Pankaj\",] # if we want to remove duplicate from list"
   ]
  },
  {
   "cell_type": "code",
   "execution_count": 73,
   "id": "b101c63e-e366-44a7-82bc-86046bb51017",
   "metadata": {},
   "outputs": [],
   "source": [
    "s2=list(set(s2))"
   ]
  },
  {
   "cell_type": "code",
   "execution_count": 74,
   "id": "f76075a7-1bd4-4df3-ac37-6c9391ec14c6",
   "metadata": {},
   "outputs": [
    {
     "data": {
      "text/plain": [
       "[2, 67, 3, 7, 76, 'Pankaj', 'pankaj', 56]"
      ]
     },
     "execution_count": 74,
     "metadata": {},
     "output_type": "execute_result"
    }
   ],
   "source": [
    "s2"
   ]
  },
  {
   "cell_type": "code",
   "execution_count": 75,
   "id": "a61a14d0-fd16-4f0e-aa75-32bc883cd4d7",
   "metadata": {},
   "outputs": [
    {
     "data": {
      "text/plain": [
       "2"
      ]
     },
     "execution_count": 75,
     "metadata": {},
     "output_type": "execute_result"
    }
   ],
   "source": [
    "s2[0]"
   ]
  },
  {
   "cell_type": "code",
   "execution_count": 77,
   "id": "61f855c0-bb66-4bb9-bb3f-e049a312b378",
   "metadata": {},
   "outputs": [],
   "source": [
    "s3={23,5,76,7,78, \"pankaj\"}"
   ]
  },
  {
   "cell_type": "code",
   "execution_count": 78,
   "id": "095f80f7-a92e-40d7-98c3-69a03abfa765",
   "metadata": {},
   "outputs": [
    {
     "ename": "TypeError",
     "evalue": "'set' object is not subscriptable",
     "output_type": "error",
     "traceback": [
      "\u001b[0;31m---------------------------------------------------------------------------\u001b[0m",
      "\u001b[0;31mTypeError\u001b[0m                                 Traceback (most recent call last)",
      "Cell \u001b[0;32mIn[78], line 1\u001b[0m\n\u001b[0;32m----> 1\u001b[0m \u001b[43ms3\u001b[49m\u001b[43m[\u001b[49m\u001b[38;5;241;43m3\u001b[39;49m\u001b[43m]\u001b[49m\n",
      "\u001b[0;31mTypeError\u001b[0m: 'set' object is not subscriptable"
     ]
    }
   ],
   "source": [
    "s3[3]  # it is not aplicable "
   ]
  },
  {
   "cell_type": "code",
   "execution_count": 80,
   "id": "636cc96e-d301-4f7c-9e96-ffda16229d68",
   "metadata": {},
   "outputs": [
    {
     "ename": "TypeError",
     "evalue": "'set' object is not subscriptable",
     "output_type": "error",
     "traceback": [
      "\u001b[0;31m---------------------------------------------------------------------------\u001b[0m",
      "\u001b[0;31mTypeError\u001b[0m                                 Traceback (most recent call last)",
      "Cell \u001b[0;32mIn[80], line 1\u001b[0m\n\u001b[0;32m----> 1\u001b[0m \u001b[43ms3\u001b[49m\u001b[43m[\u001b[49m\u001b[43m:\u001b[49m\u001b[43m:\u001b[49m\u001b[38;5;241;43m-\u001b[39;49m\u001b[38;5;241;43m1\u001b[39;49m\u001b[43m]\u001b[49m  \u001b[38;5;66;03m# not slicing here\u001b[39;00m\n",
      "\u001b[0;31mTypeError\u001b[0m: 'set' object is not subscriptable"
     ]
    }
   ],
   "source": [
    "s3[::-1]  # not slicing here"
   ]
  },
  {
   "cell_type": "code",
   "execution_count": 81,
   "id": "e85659f3-0e54-4371-acd7-9557af952608",
   "metadata": {},
   "outputs": [
    {
     "data": {
      "text/plain": [
       "{23, 5, 7, 76, 78, 'pankaj'}"
      ]
     },
     "execution_count": 81,
     "metadata": {},
     "output_type": "execute_result"
    }
   ],
   "source": [
    "s3"
   ]
  },
  {
   "cell_type": "code",
   "execution_count": 82,
   "id": "a6035a20-1f23-45c2-b53c-a8cfd2ef2d0d",
   "metadata": {},
   "outputs": [],
   "source": [
    "s3.add(4)  # add randamly in the set not a fix position"
   ]
  },
  {
   "cell_type": "code",
   "execution_count": 83,
   "id": "44fee455-f1ec-4552-be2f-ce2a3d3a3a7e",
   "metadata": {},
   "outputs": [
    {
     "data": {
      "text/plain": [
       "{23, 4, 5, 7, 76, 78, 'pankaj'}"
      ]
     },
     "execution_count": 83,
     "metadata": {},
     "output_type": "execute_result"
    }
   ],
   "source": [
    "s3"
   ]
  },
  {
   "cell_type": "code",
   "execution_count": 84,
   "id": "1a7b9054-617b-4ec7-9d51-6dc8b6d890fb",
   "metadata": {},
   "outputs": [],
   "source": [
    "s3.remove(23)"
   ]
  },
  {
   "cell_type": "code",
   "execution_count": 85,
   "id": "a3be0d4c-dde5-4932-af8d-d9f46a3a2819",
   "metadata": {},
   "outputs": [
    {
     "data": {
      "text/plain": [
       "{4, 5, 7, 76, 78, 'pankaj'}"
      ]
     },
     "execution_count": 85,
     "metadata": {},
     "output_type": "execute_result"
    }
   ],
   "source": [
    "s3"
   ]
  },
  {
   "cell_type": "code",
   "execution_count": null,
   "id": "fe87a6e7-7e2a-45e7-9bfc-147f38db6c62",
   "metadata": {},
   "outputs": [],
   "source": []
  }
 ],
 "metadata": {
  "kernelspec": {
   "display_name": "Python 3 (ipykernel)",
   "language": "python",
   "name": "python3"
  },
  "language_info": {
   "codemirror_mode": {
    "name": "ipython",
    "version": 3
   },
   "file_extension": ".py",
   "mimetype": "text/x-python",
   "name": "python",
   "nbconvert_exporter": "python",
   "pygments_lexer": "ipython3",
   "version": "3.10.8"
  }
 },
 "nbformat": 4,
 "nbformat_minor": 5
}
