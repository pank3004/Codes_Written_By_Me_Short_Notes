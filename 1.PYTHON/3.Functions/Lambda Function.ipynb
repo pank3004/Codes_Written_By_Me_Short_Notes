{
 "cells": [
  {
   "cell_type": "code",
   "execution_count": null,
   "id": "8f0a3026-6125-4ca0-a09b-d5ea61f56eba",
   "metadata": {},
   "outputs": [],
   "source": [
    "''' LAMBDA FUNCTION:  A lambda function is an anonymous function in Python, meaning that it is a small, one-line\n",
    "    function that doesn't have a name. They are used to create small, throw-away functions that are used for a \n",
    "    limited time.'''"
   ]
  },
  {
   "cell_type": "code",
   "execution_count": 2,
   "id": "3eef9be3-b69d-4574-9f6b-4d601bba8354",
   "metadata": {},
   "outputs": [],
   "source": [
    "def test(a,b): \n",
    "    return a**b"
   ]
  },
  {
   "cell_type": "code",
   "execution_count": 3,
   "id": "3d19cf0d-72ad-4167-8648-075bd728b107",
   "metadata": {},
   "outputs": [
    {
     "data": {
      "text/plain": [
       "9"
      ]
     },
     "execution_count": 3,
     "metadata": {},
     "output_type": "execute_result"
    }
   ],
   "source": [
    "test(3,2)"
   ]
  },
  {
   "cell_type": "code",
   "execution_count": 5,
   "id": "113b039f-068c-45ff-9ebf-d68fcfb903ae",
   "metadata": {},
   "outputs": [],
   "source": [
    "a=lambda a,b: a**b  # here lambda is a key word nor function name"
   ]
  },
  {
   "cell_type": "code",
   "execution_count": 6,
   "id": "37cec5a0-36a5-4c84-9f31-daa06b35a3a6",
   "metadata": {},
   "outputs": [
    {
     "data": {
      "text/plain": [
       "9"
      ]
     },
     "execution_count": 6,
     "metadata": {},
     "output_type": "execute_result"
    }
   ],
   "source": [
    "a(3,2)"
   ]
  },
  {
   "cell_type": "code",
   "execution_count": 1,
   "id": "a8062edc-f0dc-41a5-959d-1c18c43e08a6",
   "metadata": {},
   "outputs": [],
   "source": [
    "add=lambda a,b: a+b"
   ]
  },
  {
   "cell_type": "code",
   "execution_count": 2,
   "id": "75446b2a-2a8d-496f-9009-b9881ee581e0",
   "metadata": {},
   "outputs": [
    {
     "data": {
      "text/plain": [
       "390"
      ]
     },
     "execution_count": 2,
     "metadata": {},
     "output_type": "execute_result"
    }
   ],
   "source": [
    "add(345,45)"
   ]
  },
  {
   "cell_type": "code",
   "execution_count": 3,
   "id": "f1169020-26a0-4599-8095-9d3520b32cc4",
   "metadata": {},
   "outputs": [],
   "source": [
    "c_to_f=lambda c: (9/5)*c+32"
   ]
  },
  {
   "cell_type": "code",
   "execution_count": 5,
   "id": "be96004a-d7cb-469b-883e-b20722f7a581",
   "metadata": {},
   "outputs": [
    {
     "data": {
      "text/plain": [
       "113.0"
      ]
     },
     "execution_count": 5,
     "metadata": {},
     "output_type": "execute_result"
    }
   ],
   "source": [
    "c_to_f(45)"
   ]
  },
  {
   "cell_type": "code",
   "execution_count": 6,
   "id": "f75114de-092c-49cc-b059-9cab3fc42abe",
   "metadata": {},
   "outputs": [],
   "source": [
    "maxNum=lambda a,b: a if a>b else b"
   ]
  },
  {
   "cell_type": "code",
   "execution_count": 7,
   "id": "d77db73a-f398-46b3-8a79-11698c053906",
   "metadata": {},
   "outputs": [
    {
     "data": {
      "text/plain": [
       "45"
      ]
     },
     "execution_count": 7,
     "metadata": {},
     "output_type": "execute_result"
    }
   ],
   "source": [
    "maxNum(45,23)"
   ]
  },
  {
   "cell_type": "code",
   "execution_count": 8,
   "id": "cae1f97e-0ecb-4b3b-83ce-188a61b7d03f",
   "metadata": {},
   "outputs": [],
   "source": [
    "s='pankaj'"
   ]
  },
  {
   "cell_type": "code",
   "execution_count": 9,
   "id": "fb171935-f85c-4f93-a555-5153a16be78f",
   "metadata": {},
   "outputs": [],
   "source": [
    "find_len=lambda s: len(s)"
   ]
  },
  {
   "cell_type": "code",
   "execution_count": 10,
   "id": "c5a8861b-929c-4c81-8cfe-14c233c53f4b",
   "metadata": {},
   "outputs": [
    {
     "data": {
      "text/plain": [
       "6"
      ]
     },
     "execution_count": 10,
     "metadata": {},
     "output_type": "execute_result"
    }
   ],
   "source": [
    "find_len(s)"
   ]
  },
  {
   "cell_type": "markdown",
   "id": "2ac68202-853e-450f-9028-39d290f642e9",
   "metadata": {},
   "source": [
    "### find out the average of a list"
   ]
  },
  {
   "cell_type": "code",
   "execution_count": 1,
   "id": "4acd3bcc-5691-47c3-a43a-867801734967",
   "metadata": {},
   "outputs": [],
   "source": [
    "l=[3,5,7,9,1,3,6,7]"
   ]
  },
  {
   "cell_type": "code",
   "execution_count": 2,
   "id": "d1cf9d96-c76a-473e-bee8-118ef359c7d2",
   "metadata": {},
   "outputs": [
    {
     "data": {
      "text/plain": [
       "41"
      ]
     },
     "execution_count": 2,
     "metadata": {},
     "output_type": "execute_result"
    }
   ],
   "source": [
    "sum(l)"
   ]
  },
  {
   "cell_type": "code",
   "execution_count": 3,
   "id": "ddadf038-2261-4c2e-ba5e-1d89ea812348",
   "metadata": {},
   "outputs": [
    {
     "data": {
      "text/plain": [
       "8"
      ]
     },
     "execution_count": 3,
     "metadata": {},
     "output_type": "execute_result"
    }
   ],
   "source": [
    "len(l)"
   ]
  },
  {
   "cell_type": "code",
   "execution_count": 5,
   "id": "728343c2-4231-4fde-9735-d5ae4946bb98",
   "metadata": {},
   "outputs": [],
   "source": [
    "avg=lambda l:sum(l)/len(l)"
   ]
  },
  {
   "cell_type": "code",
   "execution_count": 6,
   "id": "4580300e-9f3f-412b-bb27-28129edd2d7d",
   "metadata": {},
   "outputs": [
    {
     "data": {
      "text/plain": [
       "5.125"
      ]
     },
     "execution_count": 6,
     "metadata": {},
     "output_type": "execute_result"
    }
   ],
   "source": [
    "avg(l)"
   ]
  },
  {
   "cell_type": "code",
   "execution_count": null,
   "id": "8ed439a2-788d-4cdd-b042-b7270ad27fef",
   "metadata": {},
   "outputs": [],
   "source": []
  }
 ],
 "metadata": {
  "kernelspec": {
   "display_name": "Python 3 (ipykernel)",
   "language": "python",
   "name": "python3"
  },
  "language_info": {
   "codemirror_mode": {
    "name": "ipython",
    "version": 3
   },
   "file_extension": ".py",
   "mimetype": "text/x-python",
   "name": "python",
   "nbconvert_exporter": "python",
   "pygments_lexer": "ipython3",
   "version": "3.10.8"
  }
 },
 "nbformat": 4,
 "nbformat_minor": 5
}
