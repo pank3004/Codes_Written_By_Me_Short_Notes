{
 "cells": [
  {
   "cell_type": "code",
   "execution_count": null,
   "id": "87348bf1-245e-46e7-b186-bc83aeea9dfc",
   "metadata": {},
   "outputs": [],
   "source": [
    "''' FUNCTION: The syntax for defining a function in Python is def function_name(arguments):. The def keyword is used to\n",
    "    declare a function, followed by the function name and any arguments in parentheses. The code in the function \n",
    "    is indented and is executed when the function is called.\n",
    "    \n",
    "    PAREAMETER PASSING:  Parameter passing refers to the process of sending data to a function as input. The function \n",
    "    can then perform some operation on the data and return a result. The data can be passed as positional arguments,\n",
    "    keyword arguments, or a combination of both.\n",
    "    \n",
    "    PURPOSE OF ITERATORS IN PYTHON:  Iterators in Python allow for efficient access to elements in a sequence one at a \n",
    "    time. This allows for the creation of efficient and memory-saving loops that can process large amounts of data.\n",
    "    Examples of sequences in Python include lists, tuples, and dictionaries.'''"
   ]
  },
  {
   "cell_type": "code",
   "execution_count": 1,
   "id": "ced91774-0c04-428b-b4c7-b1972a619dfe",
   "metadata": {},
   "outputs": [],
   "source": [
    "l=[45,75.56,'panakj']"
   ]
  },
  {
   "cell_type": "code",
   "execution_count": 2,
   "id": "570f0e17-41f5-47fd-8bc4-9859bb91c797",
   "metadata": {},
   "outputs": [
    {
     "data": {
      "text/plain": [
       "[45, 75.56, 'panakj']"
      ]
     },
     "execution_count": 2,
     "metadata": {},
     "output_type": "execute_result"
    }
   ],
   "source": [
    "l"
   ]
  },
  {
   "cell_type": "code",
   "execution_count": 3,
   "id": "7ee895dd-1e56-4b16-b35c-64b99dcc228d",
   "metadata": {},
   "outputs": [
    {
     "data": {
      "text/plain": [
       "list"
      ]
     },
     "execution_count": 3,
     "metadata": {},
     "output_type": "execute_result"
    }
   ],
   "source": [
    "type(l)  # this is the already defined function that find out the datq type  "
   ]
  },
  {
   "cell_type": "code",
   "execution_count": 4,
   "id": "71b1eebe-02ba-4ccb-816a-67f8a5797d26",
   "metadata": {},
   "outputs": [
    {
     "ename": "SyntaxError",
     "evalue": "incomplete input (3412650027.py, line 1)",
     "output_type": "error",
     "traceback": [
      "\u001b[0;36m  Cell \u001b[0;32mIn[4], line 1\u001b[0;36m\u001b[0m\n\u001b[0;31m    def test():\u001b[0m\n\u001b[0m                ^\u001b[0m\n\u001b[0;31mSyntaxError\u001b[0m\u001b[0;31m:\u001b[0m incomplete input\n"
     ]
    }
   ],
   "source": [
    "def test(): "
   ]
  },
  {
   "cell_type": "code",
   "execution_count": 5,
   "id": "9ef1b8ff-bcc7-4efe-b526-ba830dac4fa0",
   "metadata": {},
   "outputs": [],
   "source": [
    "def test1(): \n",
    "    pass             # pass is a keyword"
   ]
  },
  {
   "cell_type": "code",
   "execution_count": 6,
   "id": "3510944e-6060-4b84-9ba9-ca7c1013bf7d",
   "metadata": {},
   "outputs": [],
   "source": [
    "def test2():\n",
    "    print(\"this is my first function\")"
   ]
  },
  {
   "cell_type": "code",
   "execution_count": 7,
   "id": "48960045-d8cc-448c-82f4-b28a9db75c07",
   "metadata": {},
   "outputs": [
    {
     "name": "stdout",
     "output_type": "stream",
     "text": [
      "this is my first function\n"
     ]
    }
   ],
   "source": [
    "test2()"
   ]
  },
  {
   "cell_type": "code",
   "execution_count": 8,
   "id": "f038d3b7-f6fa-47ec-be74-d865e87c0347",
   "metadata": {},
   "outputs": [
    {
     "name": "stdout",
     "output_type": "stream",
     "text": [
      "this is my first function\n"
     ]
    },
    {
     "ename": "TypeError",
     "evalue": "unsupported operand type(s) for +: 'NoneType' and 'str'",
     "output_type": "error",
     "traceback": [
      "\u001b[0;31m---------------------------------------------------------------------------\u001b[0m",
      "\u001b[0;31mTypeError\u001b[0m                                 Traceback (most recent call last)",
      "Cell \u001b[0;32mIn[8], line 1\u001b[0m\n\u001b[0;32m----> 1\u001b[0m \u001b[43mtest2\u001b[49m\u001b[43m(\u001b[49m\u001b[43m)\u001b[49m\u001b[43m \u001b[49m\u001b[38;5;241;43m+\u001b[39;49m\u001b[43m \u001b[49m\u001b[38;5;124;43m\"\u001b[39;49m\u001b[38;5;124;43mpankaj\u001b[39;49m\u001b[38;5;124;43m\"\u001b[39;49m           \u001b[38;5;66;03m# In NoneType  we can't add string\u001b[39;00m\n",
      "\u001b[0;31mTypeError\u001b[0m: unsupported operand type(s) for +: 'NoneType' and 'str'"
     ]
    }
   ],
   "source": [
    "test2() + \"pankaj\"           # In NoneType  we can't add string"
   ]
  },
  {
   "cell_type": "code",
   "execution_count": 9,
   "id": "92564b86-f3a7-48e4-ae42-88d490553b13",
   "metadata": {},
   "outputs": [
    {
     "name": "stdout",
     "output_type": "stream",
     "text": [
      "this is my first function\n"
     ]
    },
    {
     "data": {
      "text/plain": [
       "NoneType"
      ]
     },
     "execution_count": 9,
     "metadata": {},
     "output_type": "execute_result"
    }
   ],
   "source": [
    "type(test2())"
   ]
  },
  {
   "cell_type": "code",
   "execution_count": 10,
   "id": "fb10d844-64e8-4acd-8ff1-f3b36b6b77d1",
   "metadata": {},
   "outputs": [
    {
     "name": "stdout",
     "output_type": "stream",
     "text": [
      "this is my first function\n"
     ]
    },
    {
     "data": {
      "text/plain": [
       "'Nonepankaj'"
      ]
     },
     "execution_count": 10,
     "metadata": {},
     "output_type": "execute_result"
    }
   ],
   "source": [
    "str(test2()) + \"pankaj\""
   ]
  },
  {
   "cell_type": "code",
   "execution_count": 11,
   "id": "e844782d-719f-44f3-b248-00222beb8b40",
   "metadata": {},
   "outputs": [],
   "source": [
    "def test3(): \n",
    "    return \"this is my first return\""
   ]
  },
  {
   "cell_type": "code",
   "execution_count": 12,
   "id": "f5a021fe-5601-42ab-be64-77eee82907ec",
   "metadata": {},
   "outputs": [
    {
     "data": {
      "text/plain": [
       "'this is my first return'"
      ]
     },
     "execution_count": 12,
     "metadata": {},
     "output_type": "execute_result"
    }
   ],
   "source": [
    "test3()"
   ]
  },
  {
   "cell_type": "code",
   "execution_count": 13,
   "id": "17244bf8-23f9-42b9-b5ea-824325b6dea4",
   "metadata": {},
   "outputs": [
    {
     "data": {
      "text/plain": [
       "str"
      ]
     },
     "execution_count": 13,
     "metadata": {},
     "output_type": "execute_result"
    }
   ],
   "source": [
    "type(test3())"
   ]
  },
  {
   "cell_type": "code",
   "execution_count": 14,
   "id": "74187363-639b-4b1c-92ef-729184c4eecb",
   "metadata": {},
   "outputs": [
    {
     "data": {
      "text/plain": [
       "'this is my first return pankaj'"
      ]
     },
     "execution_count": 14,
     "metadata": {},
     "output_type": "execute_result"
    }
   ],
   "source": [
    "test3() + ' pankaj'  "
   ]
  },
  {
   "cell_type": "code",
   "execution_count": 17,
   "id": "227655a7-23b6-405b-9b7f-4080aa3a153d",
   "metadata": {
    "tags": []
   },
   "outputs": [],
   "source": [
    "## note: so in the function print give the NoneType and return give the same data type that use"
   ]
  },
  {
   "cell_type": "code",
   "execution_count": 18,
   "id": "8fce4cd8-9cbe-4a80-b57e-f998b29138ed",
   "metadata": {},
   "outputs": [],
   "source": [
    "def test4(): \n",
    "    return 3,3.5,\"panakj\", [4,34,'s']"
   ]
  },
  {
   "cell_type": "code",
   "execution_count": 19,
   "id": "12a3f71d-ed61-4fc4-961d-518e971dd549",
   "metadata": {},
   "outputs": [
    {
     "data": {
      "text/plain": [
       "(3, 3.5, 'panakj', [4, 34, 's'])"
      ]
     },
     "execution_count": 19,
     "metadata": {},
     "output_type": "execute_result"
    }
   ],
   "source": [
    "test4()"
   ]
  },
  {
   "cell_type": "code",
   "execution_count": 20,
   "id": "68dd251c-96e3-4f5b-bde0-25d832ae5233",
   "metadata": {},
   "outputs": [
    {
     "data": {
      "text/plain": [
       "tuple"
      ]
     },
     "execution_count": 20,
     "metadata": {},
     "output_type": "execute_result"
    }
   ],
   "source": [
    "type(test4())"
   ]
  },
  {
   "cell_type": "code",
   "execution_count": 21,
   "id": "fff55878-274c-4cde-b593-9b8fe57b7e4a",
   "metadata": {},
   "outputs": [],
   "source": [
    "a,b,c,d=test4()"
   ]
  },
  {
   "cell_type": "code",
   "execution_count": 22,
   "id": "6f3fd939-163c-4541-ae76-3f78649b7c09",
   "metadata": {},
   "outputs": [
    {
     "data": {
      "text/plain": [
       "3"
      ]
     },
     "execution_count": 22,
     "metadata": {},
     "output_type": "execute_result"
    }
   ],
   "source": [
    "a"
   ]
  },
  {
   "cell_type": "code",
   "execution_count": 23,
   "id": "63cd8b95-acfe-455d-a05b-c6bc970baf87",
   "metadata": {},
   "outputs": [
    {
     "data": {
      "text/plain": [
       "3.5"
      ]
     },
     "execution_count": 23,
     "metadata": {},
     "output_type": "execute_result"
    }
   ],
   "source": [
    "b"
   ]
  },
  {
   "cell_type": "code",
   "execution_count": 24,
   "id": "bfcc4a4d-a029-490e-9937-71df68c62ace",
   "metadata": {},
   "outputs": [
    {
     "data": {
      "text/plain": [
       "'panakj'"
      ]
     },
     "execution_count": 24,
     "metadata": {},
     "output_type": "execute_result"
    }
   ],
   "source": [
    "c"
   ]
  },
  {
   "cell_type": "code",
   "execution_count": 25,
   "id": "0d6c4de3-4d5a-4496-9589-443b4dd35599",
   "metadata": {},
   "outputs": [
    {
     "data": {
      "text/plain": [
       "[4, 34, 's']"
      ]
     },
     "execution_count": 25,
     "metadata": {},
     "output_type": "execute_result"
    }
   ],
   "source": [
    "d"
   ]
  },
  {
   "cell_type": "code",
   "execution_count": 26,
   "id": "2ecd520d-a3c8-4aac-9453-992e9829b8af",
   "metadata": {},
   "outputs": [],
   "source": [
    "def test5():\n",
    "    a=3+5/6\n",
    "    return a"
   ]
  },
  {
   "cell_type": "code",
   "execution_count": 28,
   "id": "48b2132c-8602-42c9-9de0-a0610ffa2927",
   "metadata": {},
   "outputs": [
    {
     "data": {
      "text/plain": [
       "3.8333333333333335"
      ]
     },
     "execution_count": 28,
     "metadata": {},
     "output_type": "execute_result"
    }
   ],
   "source": [
    "test5()"
   ]
  },
  {
   "cell_type": "code",
   "execution_count": 30,
   "id": "4e38e890-e56f-4bfc-a617-d1001fa4f4a2",
   "metadata": {},
   "outputs": [],
   "source": [
    "def test5(a,b,c):\n",
    "    d=a+b/6\n",
    "    return d"
   ]
  },
  {
   "cell_type": "code",
   "execution_count": 31,
   "id": "0937fc7d-9899-4621-9021-f04691d23e0c",
   "metadata": {},
   "outputs": [
    {
     "ename": "TypeError",
     "evalue": "test5() missing 3 required positional arguments: 'a', 'b', and 'c'",
     "output_type": "error",
     "traceback": [
      "\u001b[0;31m---------------------------------------------------------------------------\u001b[0m",
      "\u001b[0;31mTypeError\u001b[0m                                 Traceback (most recent call last)",
      "Cell \u001b[0;32mIn[31], line 1\u001b[0m\n\u001b[0;32m----> 1\u001b[0m \u001b[43mtest5\u001b[49m\u001b[43m(\u001b[49m\u001b[43m)\u001b[49m\n",
      "\u001b[0;31mTypeError\u001b[0m: test5() missing 3 required positional arguments: 'a', 'b', and 'c'"
     ]
    }
   ],
   "source": [
    "test5()"
   ]
  },
  {
   "cell_type": "code",
   "execution_count": 32,
   "id": "33a104b9-c65d-4d71-a337-b6c390a7f94d",
   "metadata": {},
   "outputs": [
    {
     "data": {
      "text/plain": [
       "13.833333333333334"
      ]
     },
     "execution_count": 32,
     "metadata": {},
     "output_type": "execute_result"
    }
   ],
   "source": [
    "test5(3,65,6)"
   ]
  },
  {
   "cell_type": "code",
   "execution_count": 33,
   "id": "72ecf0c5-9eeb-4ec1-b33f-2b168554a96d",
   "metadata": {},
   "outputs": [
    {
     "ename": "TypeError",
     "evalue": "test5() missing 1 required positional argument: 'c'",
     "output_type": "error",
     "traceback": [
      "\u001b[0;31m---------------------------------------------------------------------------\u001b[0m",
      "\u001b[0;31mTypeError\u001b[0m                                 Traceback (most recent call last)",
      "Cell \u001b[0;32mIn[33], line 1\u001b[0m\n\u001b[0;32m----> 1\u001b[0m \u001b[43mtest5\u001b[49m\u001b[43m(\u001b[49m\u001b[38;5;241;43m3\u001b[39;49m\u001b[43m,\u001b[49m\u001b[38;5;241;43m45\u001b[39;49m\u001b[43m)\u001b[49m\n",
      "\u001b[0;31mTypeError\u001b[0m: test5() missing 1 required positional argument: 'c'"
     ]
    }
   ],
   "source": [
    "test5(3,45)"
   ]
  },
  {
   "cell_type": "code",
   "execution_count": 34,
   "id": "aafb51c1-f814-4ae5-a27e-59c64c45a1db",
   "metadata": {},
   "outputs": [
    {
     "ename": "TypeError",
     "evalue": "test5() takes 3 positional arguments but 4 were given",
     "output_type": "error",
     "traceback": [
      "\u001b[0;31m---------------------------------------------------------------------------\u001b[0m",
      "\u001b[0;31mTypeError\u001b[0m                                 Traceback (most recent call last)",
      "Cell \u001b[0;32mIn[34], line 1\u001b[0m\n\u001b[0;32m----> 1\u001b[0m \u001b[43mtest5\u001b[49m\u001b[43m(\u001b[49m\u001b[38;5;241;43m3\u001b[39;49m\u001b[43m,\u001b[49m\u001b[38;5;241;43m6\u001b[39;49m\u001b[43m,\u001b[49m\u001b[38;5;241;43m6\u001b[39;49m\u001b[43m,\u001b[49m\u001b[38;5;241;43m3\u001b[39;49m\u001b[43m)\u001b[49m\n",
      "\u001b[0;31mTypeError\u001b[0m: test5() takes 3 positional arguments but 4 were given"
     ]
    }
   ],
   "source": [
    "test5(3,6,6,3)"
   ]
  },
  {
   "cell_type": "code",
   "execution_count": 35,
   "id": "2bee8d40-c992-4b08-bb6b-31f9622b21a3",
   "metadata": {},
   "outputs": [],
   "source": [
    "def test6(a,b): \n",
    "    return a+b"
   ]
  },
  {
   "cell_type": "code",
   "execution_count": 36,
   "id": "97a765e6-9c16-4aef-a410-d04e3ddae685",
   "metadata": {},
   "outputs": [
    {
     "data": {
      "text/plain": [
       "9"
      ]
     },
     "execution_count": 36,
     "metadata": {},
     "output_type": "execute_result"
    }
   ],
   "source": [
    "test6(3,6)"
   ]
  },
  {
   "cell_type": "code",
   "execution_count": 38,
   "id": "b49afdbe-516e-4ff4-9dc1-571f4bc20f25",
   "metadata": {},
   "outputs": [
    {
     "data": {
      "text/plain": [
       "'pankaj kumawat'"
      ]
     },
     "execution_count": 38,
     "metadata": {},
     "output_type": "execute_result"
    }
   ],
   "source": [
    "test6('pankaj', ' kumawat')"
   ]
  },
  {
   "cell_type": "code",
   "execution_count": 40,
   "id": "604c74de-5bc9-4498-bbd1-9d5074488c3d",
   "metadata": {},
   "outputs": [
    {
     "data": {
      "text/plain": [
       "[4, 6, 'aal', 34.6, 5, True]"
      ]
     },
     "execution_count": 40,
     "metadata": {},
     "output_type": "execute_result"
    }
   ],
   "source": [
    "test6([4,6,'aal'] , [34.6, 5, True])    # concatinat"
   ]
  },
  {
   "cell_type": "code",
   "execution_count": 42,
   "id": "41b1cf75-2096-4435-a0c4-4e63a39756d9",
   "metadata": {},
   "outputs": [
    {
     "ename": "TypeError",
     "evalue": "unsupported operand type(s) for +: 'int' and 'str'",
     "output_type": "error",
     "traceback": [
      "\u001b[0;31m---------------------------------------------------------------------------\u001b[0m",
      "\u001b[0;31mTypeError\u001b[0m                                 Traceback (most recent call last)",
      "Cell \u001b[0;32mIn[42], line 1\u001b[0m\n\u001b[0;32m----> 1\u001b[0m \u001b[43mtest6\u001b[49m\u001b[43m(\u001b[49m\u001b[38;5;241;43m343\u001b[39;49m\u001b[43m,\u001b[49m\u001b[43m \u001b[49m\u001b[38;5;124;43m'\u001b[39;49m\u001b[38;5;124;43mpanakj\u001b[39;49m\u001b[38;5;124;43m'\u001b[39;49m\u001b[43m)\u001b[49m\n",
      "Cell \u001b[0;32mIn[35], line 2\u001b[0m, in \u001b[0;36mtest6\u001b[0;34m(a, b)\u001b[0m\n\u001b[1;32m      1\u001b[0m \u001b[38;5;28;01mdef\u001b[39;00m \u001b[38;5;21mtest6\u001b[39m(a,b): \n\u001b[0;32m----> 2\u001b[0m     \u001b[38;5;28;01mreturn\u001b[39;00m \u001b[43ma\u001b[49m\u001b[38;5;241;43m+\u001b[39;49m\u001b[43mb\u001b[49m\n",
      "\u001b[0;31mTypeError\u001b[0m: unsupported operand type(s) for +: 'int' and 'str'"
     ]
    }
   ],
   "source": [
    "test6(343, 'panakj')"
   ]
  },
  {
   "cell_type": "code",
   "execution_count": 48,
   "id": "6a0881ba-1fdd-45b9-b23a-693765441cbd",
   "metadata": {},
   "outputs": [],
   "source": [
    "L1=[3,6,7,8,'Versa', 'Arya', [4,56,6,'sd',True],3.3,63]  # make a list that contains only int and flaot of L1 without fn."
   ]
  },
  {
   "cell_type": "code",
   "execution_count": 90,
   "id": "d2dc3de1-4db8-450d-864f-7fa529f45c59",
   "metadata": {},
   "outputs": [],
   "source": [
    "L=[]\n",
    "for i in L1: \n",
    "    if type(i)==int or type(i)==float: \n",
    "        L.append(i)"
   ]
  },
  {
   "cell_type": "code",
   "execution_count": 91,
   "id": "314964ec-e3c6-46c8-b9ef-c3a1dc61a7f8",
   "metadata": {},
   "outputs": [
    {
     "data": {
      "text/plain": [
       "[3, 6, 7, 8, 3.3, 63]"
      ]
     },
     "execution_count": 91,
     "metadata": {},
     "output_type": "execute_result"
    }
   ],
   "source": [
    "L"
   ]
  },
  {
   "cell_type": "code",
   "execution_count": 92,
   "id": "4a565f7c-9069-482f-bd6a-b4d35904f456",
   "metadata": {},
   "outputs": [],
   "source": [
    "def test7(a): \n",
    "    l1=[]\n",
    "    for i in L1: \n",
    "        if type(i)==int or type(i)==float: \n",
    "            l1.append(i)\n",
    "    return l1"
   ]
  },
  {
   "cell_type": "code",
   "execution_count": 93,
   "id": "c37cecd3-924e-4601-82a0-ef48e1e66fc4",
   "metadata": {},
   "outputs": [
    {
     "data": {
      "text/plain": [
       "[3, 6, 7, 8, 3.3, 63]"
      ]
     },
     "execution_count": 93,
     "metadata": {},
     "output_type": "execute_result"
    }
   ],
   "source": [
    "test7(L1)   # make a list that contains only int and flaot of L1 with fn."
   ]
  },
  {
   "cell_type": "code",
   "execution_count": 70,
   "id": "c032a013-72ea-4f27-b4ee-8580b2d0d937",
   "metadata": {},
   "outputs": [
    {
     "data": {
      "text/plain": [
       "[3, 6, 7, 8, 'Versa', 'Arya', [4, 56, 6, 'sd', True], 3.3, 63]"
      ]
     },
     "execution_count": 70,
     "metadata": {},
     "output_type": "execute_result"
    }
   ],
   "source": [
    "L1  # now we want to find out the numereical list from the list in the list"
   ]
  },
  {
   "cell_type": "code",
   "execution_count": 101,
   "id": "bcaa44b6-3787-4727-aba6-583e99663566",
   "metadata": {},
   "outputs": [],
   "source": [
    "def test8(a):\n",
    "    l2=[]\n",
    "    for i in L1: \n",
    "        if type(i)==list: \n",
    "            for j in i: \n",
    "                if type(j)==int or type(j)==float:\n",
    "                    l2.append(j)\n",
    "    return l2"
   ]
  },
  {
   "cell_type": "code",
   "execution_count": 104,
   "id": "43d077c2-eb63-4e74-8b41-579599cfc876",
   "metadata": {},
   "outputs": [
    {
     "data": {
      "text/plain": [
       "[4, 56, 6]"
      ]
     },
     "execution_count": 104,
     "metadata": {},
     "output_type": "execute_result"
    }
   ],
   "source": [
    "test8(L1)"
   ]
  },
  {
   "cell_type": "code",
   "execution_count": 105,
   "id": "58e2fbda-82bd-4a1d-b460-fabf339ebdd5",
   "metadata": {},
   "outputs": [
    {
     "data": {
      "text/plain": [
       "[3, 6, 7, 8, 'Versa', 'Arya', [4, 56, 6, 'sd', True], 3.3, 63]"
      ]
     },
     "execution_count": 105,
     "metadata": {},
     "output_type": "execute_result"
    }
   ],
   "source": [
    "L1  # now we want make a numerical list in present L1 all the numericals vlaue"
   ]
  },
  {
   "cell_type": "code",
   "execution_count": 138,
   "id": "931d86f5-0536-48ad-ba88-3a7367f88818",
   "metadata": {},
   "outputs": [],
   "source": [
    "def test9(a):\n",
    "    \"\"\" This is my function to extract all numerical data from the list\"\"\"\n",
    "    l2=[]\n",
    "    for i in L1: \n",
    "        if type(i)==list: \n",
    "            for j in i: \n",
    "                if type(j)==int or type(j)==float: \n",
    "                    l2.append(j)\n",
    "        else: \n",
    "            if type(i)==int or type(i)==float: \n",
    "                l2.append(i)\n",
    "    return l2                  "
   ]
  },
  {
   "cell_type": "code",
   "execution_count": 137,
   "id": "64d5c731-c80c-46a0-ae63-fa9554ed33df",
   "metadata": {},
   "outputs": [
    {
     "data": {
      "text/plain": [
       "[3, 6, 7, 8, 4, 56, 6, 3.3, 63]"
      ]
     },
     "execution_count": 137,
     "metadata": {},
     "output_type": "execute_result"
    }
   ],
   "source": [
    "test9(L1)  ## Docstring: This is my function to extract all numerical data from the list"
   ]
  },
  {
   "cell_type": "code",
   "execution_count": 140,
   "id": "20ef637b-5a9b-434d-ae7f-a195bec40924",
   "metadata": {},
   "outputs": [],
   "source": [
    "def test10(a,b): \n",
    "    return a,b"
   ]
  },
  {
   "cell_type": "code",
   "execution_count": 141,
   "id": "0aad1048-a360-4e1d-9a29-28203bcd4ff4",
   "metadata": {},
   "outputs": [
    {
     "data": {
      "text/plain": [
       "(3, 6)"
      ]
     },
     "execution_count": 141,
     "metadata": {},
     "output_type": "execute_result"
    }
   ],
   "source": [
    "test10(3,6)"
   ]
  },
  {
   "cell_type": "code",
   "execution_count": 143,
   "id": "d5167882-dcc7-4530-835a-4bf5e3e1f442",
   "metadata": {},
   "outputs": [],
   "source": [
    "def test11(*args):       # n numbers of input in the function\n",
    "    return args"
   ]
  },
  {
   "cell_type": "code",
   "execution_count": 144,
   "id": "d0a668f9-273a-4291-a7b5-cde6f9982ef7",
   "metadata": {},
   "outputs": [
    {
     "data": {
      "text/plain": [
       "(3, 5, 6, 7, 34, 45)"
      ]
     },
     "execution_count": 144,
     "metadata": {},
     "output_type": "execute_result"
    }
   ],
   "source": [
    "test11(3,5,6,7,34,45)"
   ]
  },
  {
   "cell_type": "code",
   "execution_count": 145,
   "id": "109b8093-99a8-4a9e-9ad3-40f6f05411c5",
   "metadata": {},
   "outputs": [
    {
     "data": {
      "text/plain": [
       "(34, 5565, 34.45, 'pankaj', True, [34, 56, 4])"
      ]
     },
     "execution_count": 145,
     "metadata": {},
     "output_type": "execute_result"
    }
   ],
   "source": [
    "test11(34,5565,34.45,\"pankaj\", True, [34,56,4])"
   ]
  },
  {
   "cell_type": "code",
   "execution_count": 146,
   "id": "336760c2-91c7-446e-8c4b-f9504a088ea3",
   "metadata": {},
   "outputs": [
    {
     "data": {
      "text/plain": [
       "tuple"
      ]
     },
     "execution_count": 146,
     "metadata": {},
     "output_type": "execute_result"
    }
   ],
   "source": [
    "type(test11())"
   ]
  },
  {
   "cell_type": "code",
   "execution_count": 147,
   "id": "9fe1b84d-3110-4594-af61-55f60498e74a",
   "metadata": {},
   "outputs": [],
   "source": [
    "def test12(*pankaj):   ## *acc.toyouname\n",
    "    return pankaj"
   ]
  },
  {
   "cell_type": "code",
   "execution_count": 148,
   "id": "53f4f813-06b8-494e-91fb-368d91fcb758",
   "metadata": {},
   "outputs": [
    {
     "data": {
      "text/plain": [
       "(45, 56, 37)"
      ]
     },
     "execution_count": 148,
     "metadata": {},
     "output_type": "execute_result"
    }
   ],
   "source": [
    "test12(45,56,37)"
   ]
  },
  {
   "cell_type": "code",
   "execution_count": 150,
   "id": "1fc3c9a4-8175-4c87-af0d-602fa6c45715",
   "metadata": {},
   "outputs": [],
   "source": [
    "def test13(*args,a): \n",
    "    return args,a"
   ]
  },
  {
   "cell_type": "code",
   "execution_count": 151,
   "id": "48ea3a08-3e1d-440f-b145-1051cc4f553f",
   "metadata": {},
   "outputs": [
    {
     "ename": "TypeError",
     "evalue": "test13() missing 1 required keyword-only argument: 'a'",
     "output_type": "error",
     "traceback": [
      "\u001b[0;31m---------------------------------------------------------------------------\u001b[0m",
      "\u001b[0;31mTypeError\u001b[0m                                 Traceback (most recent call last)",
      "Cell \u001b[0;32mIn[151], line 1\u001b[0m\n\u001b[0;32m----> 1\u001b[0m \u001b[43mtest13\u001b[49m\u001b[43m(\u001b[49m\u001b[38;5;241;43m454\u001b[39;49m\u001b[43m,\u001b[49m\u001b[38;5;241;43m5\u001b[39;49m\u001b[43m,\u001b[49m\u001b[38;5;241;43m6\u001b[39;49m\u001b[43m,\u001b[49m\u001b[38;5;241;43m767\u001b[39;49m\u001b[43m,\u001b[49m\u001b[38;5;241;43m7\u001b[39;49m\u001b[43m)\u001b[49m\n",
      "\u001b[0;31mTypeError\u001b[0m: test13() missing 1 required keyword-only argument: 'a'"
     ]
    }
   ],
   "source": [
    "test13(454,5,6,767,7)"
   ]
  },
  {
   "cell_type": "code",
   "execution_count": 152,
   "id": "d242d8b0-6000-4cbe-ab8b-99358543520e",
   "metadata": {},
   "outputs": [
    {
     "data": {
      "text/plain": [
       "((45, 5, 25, 44), 9999)"
      ]
     },
     "execution_count": 152,
     "metadata": {},
     "output_type": "execute_result"
    }
   ],
   "source": [
    "test13(45,5,25,44,a=9999)"
   ]
  },
  {
   "cell_type": "code",
   "execution_count": 155,
   "id": "60e04eac-607b-4a25-b26c-cdfda0446242",
   "metadata": {},
   "outputs": [
    {
     "ename": "SyntaxError",
     "evalue": "non-default argument follows default argument (348814942.py, line 1)",
     "output_type": "error",
     "traceback": [
      "\u001b[0;36m  Cell \u001b[0;32mIn[155], line 1\u001b[0;36m\u001b[0m\n\u001b[0;31m    def test14(a=12,b=344,c,d):\u001b[0m\n\u001b[0m                          ^\u001b[0m\n\u001b[0;31mSyntaxError\u001b[0m\u001b[0;31m:\u001b[0m non-default argument follows default argument\n"
     ]
    }
   ],
   "source": [
    "def test14(a=12,b=344,c,d): \n",
    "    return a,b,c,d"
   ]
  },
  {
   "cell_type": "code",
   "execution_count": 158,
   "id": "136f98eb-0152-414a-acef-f23baf078eef",
   "metadata": {},
   "outputs": [],
   "source": [
    "def test14(c,d,a=12,b=344): \n",
    "    return a,b,c,d"
   ]
  },
  {
   "cell_type": "code",
   "execution_count": 159,
   "id": "3f0af1f2-b89c-49e4-933c-bb1122bccaa4",
   "metadata": {},
   "outputs": [
    {
     "data": {
      "text/plain": [
       "(12, 344, 3, 6)"
      ]
     },
     "execution_count": 159,
     "metadata": {},
     "output_type": "execute_result"
    }
   ],
   "source": [
    "test14(3,6)"
   ]
  },
  {
   "cell_type": "code",
   "execution_count": 162,
   "id": "05558a52-0028-44d6-88e8-0fc43195bd3e",
   "metadata": {},
   "outputs": [
    {
     "data": {
      "text/plain": [
       "(21, 443, 3, 6)"
      ]
     },
     "execution_count": 162,
     "metadata": {},
     "output_type": "execute_result"
    }
   ],
   "source": [
    "test14(3,6,a=21,b=443)   # we can change the value a and b"
   ]
  },
  {
   "cell_type": "code",
   "execution_count": 163,
   "id": "045220a1-8a5d-43bc-83ce-5a309095500a",
   "metadata": {},
   "outputs": [],
   "source": [
    "def test15(**kvargs):   # if we want to make dictionary input key value pair\n",
    "    return kvargs"
   ]
  },
  {
   "cell_type": "code",
   "execution_count": 169,
   "id": "f754b93b-2ea9-4a1f-b168-e4e067578980",
   "metadata": {},
   "outputs": [
    {
     "data": {
      "text/plain": [
       "{'n': 'pankaj', 'a': 19, 'c': 'Garib', 'd': [45, 5, 66]}"
      ]
     },
     "execution_count": 169,
     "metadata": {},
     "output_type": "execute_result"
    }
   ],
   "source": [
    "test15(n='pankaj',a=19,c=\"Garib\",d=[45,5,66,])"
   ]
  },
  {
   "cell_type": "code",
   "execution_count": 167,
   "id": "885f3829-4488-4e82-b7d2-0b27eb07567b",
   "metadata": {},
   "outputs": [
    {
     "data": {
      "text/plain": [
       "dict"
      ]
     },
     "execution_count": 167,
     "metadata": {},
     "output_type": "execute_result"
    }
   ],
   "source": [
    "type(test15())"
   ]
  },
  {
   "cell_type": "code",
   "execution_count": null,
   "id": "354b743c-5330-4b4b-8807-f438f8ba5899",
   "metadata": {},
   "outputs": [],
   "source": []
  }
 ],
 "metadata": {
  "kernelspec": {
   "display_name": "Python 3 (ipykernel)",
   "language": "python",
   "name": "python3"
  },
  "language_info": {
   "codemirror_mode": {
    "name": "ipython",
    "version": 3
   },
   "file_extension": ".py",
   "mimetype": "text/x-python",
   "name": "python",
   "nbconvert_exporter": "python",
   "pygments_lexer": "ipython3",
   "version": "3.10.8"
  }
 },
 "nbformat": 4,
 "nbformat_minor": 5
}
