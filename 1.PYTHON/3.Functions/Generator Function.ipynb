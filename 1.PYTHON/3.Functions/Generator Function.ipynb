{
 "cells": [
  {
   "cell_type": "code",
   "execution_count": null,
   "id": "58896b35-28ac-490d-a6f3-4d39a7afa3fe",
   "metadata": {},
   "outputs": [],
   "source": [
    "''' GENERATOR FUNCTION:  A generator function in Python is a special type of function that generates a sequence of \n",
    "    values.When called, it returns an iterator that can be used to iterate over the values in the sequence. Generator \n",
    "    functions use the yield statement to return values one at a time, allowing for efficient and memory-saving\n",
    "    processing of large amounts of data.'''"
   ]
  },
  {
   "cell_type": "code",
   "execution_count": 1,
   "id": "6f0d97b5-53f8-464c-bce3-80ba886e951c",
   "metadata": {},
   "outputs": [
    {
     "data": {
      "text/plain": [
       "range(0, 10)"
      ]
     },
     "execution_count": 1,
     "metadata": {},
     "output_type": "execute_result"
    }
   ],
   "source": [
    "range(10)"
   ]
  },
  {
   "cell_type": "code",
   "execution_count": 3,
   "id": "80284b53-3dae-4979-8629-49a818838dc8",
   "metadata": {},
   "outputs": [
    {
     "name": "stdout",
     "output_type": "stream",
     "text": [
      "0\n",
      "1\n",
      "2\n",
      "3\n",
      "4\n",
      "5\n",
      "6\n",
      "7\n",
      "8\n",
      "9\n"
     ]
    }
   ],
   "source": [
    "for i in range(10): \n",
    "    print(i)"
   ]
  },
  {
   "cell_type": "code",
   "execution_count": 87,
   "id": "69a7f4cc-a74f-4cab-a405-d96aad066ab9",
   "metadata": {},
   "outputs": [],
   "source": [
    "def test_fib(n): \n",
    "    a,b=0,1\n",
    "    for i in range(n): \n",
    "        yield a\n",
    "        a,b=b,a+b"
   ]
  },
  {
   "cell_type": "code",
   "execution_count": 86,
   "id": "49bdab33-d056-45c5-bceb-a3c986904cfb",
   "metadata": {},
   "outputs": [
    {
     "name": "stdout",
     "output_type": "stream",
     "text": [
      "0\n",
      "1\n",
      "1\n",
      "2\n",
      "3\n",
      "5\n",
      "8\n",
      "13\n",
      "21\n",
      "34\n"
     ]
    }
   ],
   "source": [
    "# m1 to access data\n",
    "\n",
    "for i in test_fib(10): \n",
    "    print(i)"
   ]
  },
  {
   "cell_type": "code",
   "execution_count": 88,
   "id": "d1a6d8a4-f51d-4aba-af64-1919050e8554",
   "metadata": {},
   "outputs": [
    {
     "name": "stdout",
     "output_type": "stream",
     "text": [
      "[0, 1, 1, 2, 3, 5, 8, 13, 21, 34]\n"
     ]
    }
   ],
   "source": [
    "# m2 to access data\n",
    "\n",
    "print(list(test_fib(10)))"
   ]
  },
  {
   "cell_type": "code",
   "execution_count": 1,
   "id": "eee3e382-6fdd-4c35-a4d8-e975c24b62a3",
   "metadata": {},
   "outputs": [],
   "source": [
    "def test_fib1(): \n",
    "    a,b=0,1\n",
    "    while True:\n",
    "        yield a\n",
    "        a,b=b,a+b"
   ]
  },
  {
   "cell_type": "code",
   "execution_count": 5,
   "id": "3cb8758c-833c-4db8-b646-1c2ee4a4f4e9",
   "metadata": {},
   "outputs": [],
   "source": [
    "fib=test_fib1()"
   ]
  },
  {
   "cell_type": "code",
   "execution_count": 6,
   "id": "571aef21-d723-474a-ba9c-bc43d1f3036e",
   "metadata": {},
   "outputs": [
    {
     "data": {
      "text/plain": [
       "generator"
      ]
     },
     "execution_count": 6,
     "metadata": {},
     "output_type": "execute_result"
    }
   ],
   "source": [
    "type(fib)   # generator function is always iterator"
   ]
  },
  {
   "cell_type": "code",
   "execution_count": 37,
   "id": "2482e1be-79e5-4e2b-b706-47c952363cc2",
   "metadata": {},
   "outputs": [
    {
     "name": "stdout",
     "output_type": "stream",
     "text": [
      "0\n",
      "1\n",
      "1\n",
      "2\n",
      "3\n",
      "5\n",
      "8\n",
      "13\n",
      "21\n",
      "34\n"
     ]
    }
   ],
   "source": [
    "for i in range(10): \n",
    "    print(next(fib))"
   ]
  },
  {
   "cell_type": "code",
   "execution_count": 49,
   "id": "efab4258-a6ca-4795-9de0-e5abd0bba05e",
   "metadata": {},
   "outputs": [],
   "source": [
    "s='PYTN'"
   ]
  },
  {
   "cell_type": "code",
   "execution_count": 60,
   "id": "a3d5de69-e3ba-42c2-9634-243a3d85bcda",
   "metadata": {},
   "outputs": [
    {
     "data": {
      "text/plain": [
       "str"
      ]
     },
     "execution_count": 60,
     "metadata": {},
     "output_type": "execute_result"
    }
   ],
   "source": [
    "type(s)"
   ]
  },
  {
   "cell_type": "code",
   "execution_count": 50,
   "id": "cc8b52a4-ab77-43c3-a17a-4437095b3af5",
   "metadata": {},
   "outputs": [
    {
     "ename": "TypeError",
     "evalue": "'str' object is not an iterator",
     "output_type": "error",
     "traceback": [
      "\u001b[0;31m---------------------------------------------------------------------------\u001b[0m",
      "\u001b[0;31mTypeError\u001b[0m                                 Traceback (most recent call last)",
      "Cell \u001b[0;32mIn[50], line 1\u001b[0m\n\u001b[0;32m----> 1\u001b[0m \u001b[38;5;28;43mnext\u001b[39;49m\u001b[43m(\u001b[49m\u001b[43ms\u001b[49m\u001b[43m)\u001b[49m   \u001b[38;5;66;03m#'str' object is not an iterator\u001b[39;00m\n",
      "\u001b[0;31mTypeError\u001b[0m: 'str' object is not an iterator"
     ]
    }
   ],
   "source": [
    "next(s)   #'str' object is not an iterator but iterable"
   ]
  },
  {
   "cell_type": "code",
   "execution_count": 51,
   "id": "3db349a7-5bb7-41e5-933f-6c7dab05dbfa",
   "metadata": {},
   "outputs": [],
   "source": [
    "s1=iter(s)   #now it is iterator"
   ]
  },
  {
   "cell_type": "code",
   "execution_count": 59,
   "id": "8bbc0264-03b0-4a50-9d24-55f5cb1dd28a",
   "metadata": {},
   "outputs": [
    {
     "data": {
      "text/plain": [
       "str_iterator"
      ]
     },
     "execution_count": 59,
     "metadata": {},
     "output_type": "execute_result"
    }
   ],
   "source": [
    "type(s1)"
   ]
  },
  {
   "cell_type": "code",
   "execution_count": 52,
   "id": "7c7360aa-a668-4a54-8661-38edd210254c",
   "metadata": {},
   "outputs": [
    {
     "data": {
      "text/plain": [
       "'P'"
      ]
     },
     "execution_count": 52,
     "metadata": {},
     "output_type": "execute_result"
    }
   ],
   "source": [
    "next(s1)"
   ]
  },
  {
   "cell_type": "code",
   "execution_count": 53,
   "id": "7f98cef5-596e-4174-aa4d-a0536e6a27b8",
   "metadata": {},
   "outputs": [
    {
     "data": {
      "text/plain": [
       "'Y'"
      ]
     },
     "execution_count": 53,
     "metadata": {},
     "output_type": "execute_result"
    }
   ],
   "source": [
    "next(s1)"
   ]
  },
  {
   "cell_type": "code",
   "execution_count": 54,
   "id": "575458e3-2386-45a2-bef0-86708a80c826",
   "metadata": {},
   "outputs": [
    {
     "data": {
      "text/plain": [
       "'T'"
      ]
     },
     "execution_count": 54,
     "metadata": {},
     "output_type": "execute_result"
    }
   ],
   "source": [
    "next(s1)"
   ]
  },
  {
   "cell_type": "code",
   "execution_count": 55,
   "id": "6243415a-b3df-4158-a107-0d49addd8c51",
   "metadata": {},
   "outputs": [
    {
     "data": {
      "text/plain": [
       "'N'"
      ]
     },
     "execution_count": 55,
     "metadata": {},
     "output_type": "execute_result"
    }
   ],
   "source": [
    "next(s1)"
   ]
  },
  {
   "cell_type": "code",
   "execution_count": 56,
   "id": "1db3afaf-8324-4472-8638-ebc07c9941ec",
   "metadata": {},
   "outputs": [
    {
     "ename": "StopIteration",
     "evalue": "",
     "output_type": "error",
     "traceback": [
      "\u001b[0;31m---------------------------------------------------------------------------\u001b[0m",
      "\u001b[0;31mStopIteration\u001b[0m                             Traceback (most recent call last)",
      "Cell \u001b[0;32mIn[56], line 1\u001b[0m\n\u001b[0;32m----> 1\u001b[0m \u001b[38;5;28;43mnext\u001b[39;49m\u001b[43m(\u001b[49m\u001b[43ms1\u001b[49m\u001b[43m)\u001b[49m\n",
      "\u001b[0;31mStopIteration\u001b[0m: "
     ]
    }
   ],
   "source": [
    "next(s1)"
   ]
  },
  {
   "cell_type": "code",
   "execution_count": 64,
   "id": "0b60ba99-ffac-47e7-81c4-382686bc4513",
   "metadata": {},
   "outputs": [],
   "source": [
    "s2=34 "
   ]
  },
  {
   "cell_type": "code",
   "execution_count": 65,
   "id": "16a0951a-5211-486c-998c-45750c1c4fe8",
   "metadata": {},
   "outputs": [
    {
     "ename": "TypeError",
     "evalue": "'int' object is not an iterator",
     "output_type": "error",
     "traceback": [
      "\u001b[0;31m---------------------------------------------------------------------------\u001b[0m",
      "\u001b[0;31mTypeError\u001b[0m                                 Traceback (most recent call last)",
      "Cell \u001b[0;32mIn[65], line 1\u001b[0m\n\u001b[0;32m----> 1\u001b[0m \u001b[38;5;28;43mnext\u001b[39;49m\u001b[43m(\u001b[49m\u001b[43ms2\u001b[49m\u001b[43m)\u001b[49m   \u001b[38;5;66;03m# 'int' object is not an iterator\u001b[39;00m\n",
      "\u001b[0;31mTypeError\u001b[0m: 'int' object is not an iterator"
     ]
    }
   ],
   "source": [
    "next(s2)   # 'int' object is not an iterator"
   ]
  },
  {
   "cell_type": "code",
   "execution_count": 66,
   "id": "18514713-1354-4d33-b564-f2143509ea99",
   "metadata": {},
   "outputs": [
    {
     "ename": "TypeError",
     "evalue": "'int' object is not iterable",
     "output_type": "error",
     "traceback": [
      "\u001b[0;31m---------------------------------------------------------------------------\u001b[0m",
      "\u001b[0;31mTypeError\u001b[0m                                 Traceback (most recent call last)",
      "Cell \u001b[0;32mIn[66], line 1\u001b[0m\n\u001b[0;32m----> 1\u001b[0m s3\u001b[38;5;241m=\u001b[39m\u001b[38;5;28;43miter\u001b[39;49m\u001b[43m(\u001b[49m\u001b[43ms2\u001b[49m\u001b[43m)\u001b[49m     \u001b[38;5;66;03m# 'int' object is not iterable\u001b[39;00m\n",
      "\u001b[0;31mTypeError\u001b[0m: 'int' object is not iterable"
     ]
    }
   ],
   "source": [
    "s3=iter(s2)     # 'int' object is not iterable"
   ]
  },
  {
   "cell_type": "raw",
   "id": "beb8371b-e967-4ae0-b184-7d81d05f0ec7",
   "metadata": {},
   "source": [
    "'''\n",
    "Generator: genarater one bye one \n",
    "iterator:  next->next->next give output\n",
    "iterable: not iterator but reduciable to iterator eg. str\n",
    "'''"
   ]
  },
  {
   "cell_type": "code",
   "execution_count": 72,
   "id": "01f30a44-0ee6-4f7f-b3c5-88df62ce44dd",
   "metadata": {},
   "outputs": [],
   "source": [
    "def test_count(n): \n",
    "    count=1\n",
    "    while count<=n: \n",
    "        yield count\n",
    "        count=count+1"
   ]
  },
  {
   "cell_type": "code",
   "execution_count": 73,
   "id": "58a5d802-90a3-45a6-8453-b525928acd3c",
   "metadata": {},
   "outputs": [],
   "source": [
    "c=test_count(5)"
   ]
  },
  {
   "cell_type": "code",
   "execution_count": 75,
   "id": "dc4da433-565b-40a2-bf98-a087bfec1e2b",
   "metadata": {},
   "outputs": [
    {
     "name": "stdout",
     "output_type": "stream",
     "text": [
      "1\n",
      "2\n",
      "3\n",
      "4\n",
      "5\n"
     ]
    }
   ],
   "source": [
    "for i in c: \n",
    "    print(i)"
   ]
  },
  {
   "cell_type": "markdown",
   "id": "2c040d42-a753-4e1f-999b-67cb780c6238",
   "metadata": {},
   "source": [
    "#### write a function to generate random numbber"
   ]
  },
  {
   "cell_type": "code",
   "execution_count": 2,
   "id": "370dc6c1-03c6-469f-b41a-eaaacbc9d6e3",
   "metadata": {},
   "outputs": [],
   "source": [
    "import random"
   ]
  },
  {
   "cell_type": "code",
   "execution_count": 9,
   "id": "b74ae240-60f6-4504-bde4-c48fd78291b0",
   "metadata": {},
   "outputs": [],
   "source": [
    "def random_num_generator():\n",
    "    while True:\n",
    "        yield random.randint(0,1000)"
   ]
  },
  {
   "cell_type": "code",
   "execution_count": 12,
   "id": "1080eba6-5170-4b07-a5d0-d1ba3edc7ab9",
   "metadata": {},
   "outputs": [],
   "source": [
    "rand_num_gen=random_num_generator()"
   ]
  },
  {
   "cell_type": "code",
   "execution_count": 20,
   "id": "9ed88b63-318c-4ce3-a9ec-8da928d4388f",
   "metadata": {},
   "outputs": [
    {
     "name": "stdout",
     "output_type": "stream",
     "text": [
      "859\n"
     ]
    }
   ],
   "source": [
    "print(next(rand_num_gen))        # it gives any random number "
   ]
  },
  {
   "cell_type": "code",
   "execution_count": 24,
   "id": "91b6a3f1-f9e5-4684-880c-d6b393aaac0f",
   "metadata": {},
   "outputs": [
    {
     "data": {
      "text/plain": [
       "[394, 865, 979, 184, 788]"
      ]
     },
     "execution_count": 24,
     "metadata": {},
     "output_type": "execute_result"
    }
   ],
   "source": [
    "[next(rand_num_gen) for _ in range(5)]    # it gives 5 random number"
   ]
  },
  {
   "cell_type": "markdown",
   "id": "d9a2bcaa-26b8-489f-83e6-26692eb995ed",
   "metadata": {},
   "source": [
    "## write a function to generate prime number in the given range"
   ]
  },
  {
   "cell_type": "code",
   "execution_count": 63,
   "id": "9cec5c1e-a2d7-4aee-8191-4a442a4f77bc",
   "metadata": {},
   "outputs": [],
   "source": [
    "def prime_num_gererator():\n",
    "    num=2\n",
    "    while True: \n",
    "        if cheak_prime_num(num):\n",
    "            yield num\n",
    "        num=num+1\n",
    "            \n",
    "def cheak_prime_num(num):\n",
    "    if num<2:\n",
    "        return False\n",
    "    for i in range(2,int(num**0.5)+1):\n",
    "        if num%i==0: \n",
    "            return False\n",
    "    return True "
   ]
  },
  {
   "cell_type": "code",
   "execution_count": 64,
   "id": "2ae0b151-1420-4603-82fd-f4de1b248a5f",
   "metadata": {},
   "outputs": [],
   "source": [
    "prime_gener=prime_num_gererator()"
   ]
  },
  {
   "cell_type": "code",
   "execution_count": 65,
   "id": "9801669b-573f-4ec0-9094-8dd7be55a01f",
   "metadata": {},
   "outputs": [
    {
     "data": {
      "text/plain": [
       "[2, 3, 5, 7, 11, 13, 17, 19, 23, 29]"
      ]
     },
     "execution_count": 65,
     "metadata": {},
     "output_type": "execute_result"
    }
   ],
   "source": [
    "[next(prime_gener) for _ in range(10)]"
   ]
  },
  {
   "cell_type": "code",
   "execution_count": null,
   "id": "46025df2-6e25-4f7d-af19-e88d8ee5d8f4",
   "metadata": {},
   "outputs": [],
   "source": []
  },
  {
   "cell_type": "code",
   "execution_count": null,
   "id": "bb0e7d65-2dfc-49be-b15b-2d5c77235f52",
   "metadata": {},
   "outputs": [],
   "source": []
  }
 ],
 "metadata": {
  "kernelspec": {
   "display_name": "Python 3 (ipykernel)",
   "language": "python",
   "name": "python3"
  },
  "language_info": {
   "codemirror_mode": {
    "name": "ipython",
    "version": 3
   },
   "file_extension": ".py",
   "mimetype": "text/x-python",
   "name": "python",
   "nbconvert_exporter": "python",
   "pygments_lexer": "ipython3",
   "version": "3.10.8"
  }
 },
 "nbformat": 4,
 "nbformat_minor": 5
}
