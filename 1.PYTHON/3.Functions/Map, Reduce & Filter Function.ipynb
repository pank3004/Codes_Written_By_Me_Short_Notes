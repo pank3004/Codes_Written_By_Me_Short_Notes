{
 "cells": [
  {
   "cell_type": "code",
   "execution_count": null,
   "id": "bce8bf3d-9506-4cc2-99bc-436e5b06fda6",
   "metadata": {},
   "outputs": [],
   "source": [
    "''' MAP FUNCTION: The map function in Python takes a function and an iterable as arguments and returns a new iterable\n",
    "    with the function applied to each element. The result is a list of the results, which can be used for further\n",
    "    processing. \n",
    "    \n",
    "    REDUCE FUNCTION: The reduce function in Python takes a function and an iterable as arguments and applies the \n",
    "    function cumulatively to the elements of the iterable. The result is a single value, which is the final result \n",
    "    of the reduction.\n",
    "    \n",
    "    FILTER FUNCTION: The filter function in Python takes a function and an iterable as arguments and returns a new \n",
    "    iterable with only the elements that satisfy the condition specified by the function. The result is a filtered list \n",
    "    of elements that satisfy the condition.'''"
   ]
  },
  {
   "cell_type": "code",
   "execution_count": 29,
   "id": "531c699f-a8b3-4824-b571-0358024775cd",
   "metadata": {},
   "outputs": [
    {
     "data": {
      "text/plain": [
       "[9, 3136, 36, 49, 64, 64, 25]"
      ]
     },
     "execution_count": 29,
     "metadata": {},
     "output_type": "execute_result"
    }
   ],
   "source": [
    "l=[3,56,6,7,8,8,5]\n",
    "\n",
    "def squre(l): \n",
    "    L=[]\n",
    "    for i in l: \n",
    "        L.append(i**2)\n",
    "    return L\n",
    "\n",
    "squre(l)      "
   ]
  },
  {
   "cell_type": "code",
   "execution_count": 30,
   "id": "e83526bc-569d-49a2-a366-09a3c3bf1223",
   "metadata": {},
   "outputs": [
    {
     "data": {
      "text/plain": [
       "[9, 3136, 36, 49, 64, 64, 25]"
      ]
     },
     "execution_count": 30,
     "metadata": {},
     "output_type": "execute_result"
    }
   ],
   "source": [
    "l=[3,56,6,7,8,8,5]\n",
    "\n",
    "def sq(x): \n",
    "    return x**2\n",
    "\n",
    "list(map(sq,l))"
   ]
  },
  {
   "cell_type": "code",
   "execution_count": 2,
   "id": "a1b42dac-f0ba-48e5-8bab-2417b861c53d",
   "metadata": {},
   "outputs": [
    {
     "data": {
      "text/plain": [
       "[9, 3136, 36, 49, 64, 64, 25]"
      ]
     },
     "execution_count": 2,
     "metadata": {},
     "output_type": "execute_result"
    }
   ],
   "source": [
    "l=[3, 56, 6, 7, 8, 8, 5]\n",
    "\n",
    "list(map(lambda x: x**2,l))"
   ]
  },
  {
   "cell_type": "code",
   "execution_count": 6,
   "id": "224e4a77-6d1c-4c3a-ab3f-15c70114df90",
   "metadata": {},
   "outputs": [
    {
     "data": {
      "text/plain": [
       "[7, 9, 11, 13, 15]"
      ]
     },
     "execution_count": 6,
     "metadata": {},
     "output_type": "execute_result"
    }
   ],
   "source": [
    "l1=[1,2,3,4,5]\n",
    "l2=[6,7,8,9,10]\n",
    "\n",
    "def sq(x,y): \n",
    "    return x+y\n",
    "\n",
    "list(map(sq,l1,l2))"
   ]
  },
  {
   "cell_type": "code",
   "execution_count": 1,
   "id": "1a3a7e02-f551-4b5c-8644-67977fa51b7e",
   "metadata": {},
   "outputs": [
    {
     "data": {
      "text/plain": [
       "[7, 9, 11, 13, 15]"
      ]
     },
     "execution_count": 1,
     "metadata": {},
     "output_type": "execute_result"
    }
   ],
   "source": [
    "l1=[1,2,3,4,5]\n",
    "l2=[6,7,8,9,10]\n",
    "\n",
    "list(map(lambda x,y: x+y,l1,l2))"
   ]
  },
  {
   "cell_type": "code",
   "execution_count": 7,
   "id": "a7ebf0a8-9260-4560-91cd-91a0729ecfb9",
   "metadata": {},
   "outputs": [
    {
     "data": {
      "text/plain": [
       "['P', 'A', 'N', 'K', 'A', 'J']"
      ]
     },
     "execution_count": 7,
     "metadata": {},
     "output_type": "execute_result"
    }
   ],
   "source": [
    "s=\"pankaj\"\n",
    "list(map(lambda s: s.upper(), s))"
   ]
  },
  {
   "cell_type": "code",
   "execution_count": 23,
   "id": "aa2e268a-be26-4172-adb9-758f0ced2b1d",
   "metadata": {},
   "outputs": [],
   "source": [
    "from functools import reduce      #it is neccessory for use reduce function"
   ]
  },
  {
   "cell_type": "code",
   "execution_count": 31,
   "id": "94dedbaf-cc10-4712-a3fd-74bd951d952c",
   "metadata": {},
   "outputs": [],
   "source": [
    "l=[3,5,6,7,8,2,23]"
   ]
  },
  {
   "cell_type": "code",
   "execution_count": 32,
   "id": "77d096e9-689a-4997-9017-d5de25dd56de",
   "metadata": {},
   "outputs": [
    {
     "data": {
      "text/plain": [
       "54"
      ]
     },
     "execution_count": 32,
     "metadata": {},
     "output_type": "execute_result"
    }
   ],
   "source": [
    "reduce(lambda x,y: x+y,l)"
   ]
  },
  {
   "cell_type": "code",
   "execution_count": 33,
   "id": "2d37826f-d0a8-4066-b449-d81a82e1cf56",
   "metadata": {},
   "outputs": [
    {
     "ename": "TypeError",
     "evalue": "<lambda>() missing 1 required positional argument: 'z'",
     "output_type": "error",
     "traceback": [
      "\u001b[0;31m---------------------------------------------------------------------------\u001b[0m",
      "\u001b[0;31mTypeError\u001b[0m                                 Traceback (most recent call last)",
      "Cell \u001b[0;32mIn[33], line 1\u001b[0m\n\u001b[0;32m----> 1\u001b[0m \u001b[43mreduce\u001b[49m\u001b[43m(\u001b[49m\u001b[38;5;28;43;01mlambda\u001b[39;49;00m\u001b[43m \u001b[49m\u001b[43mx\u001b[49m\u001b[43m,\u001b[49m\u001b[43my\u001b[49m\u001b[43m,\u001b[49m\u001b[43mz\u001b[49m\u001b[43m:\u001b[49m\u001b[43m \u001b[49m\u001b[43mx\u001b[49m\u001b[38;5;241;43m+\u001b[39;49m\u001b[43my\u001b[49m\u001b[38;5;241;43m+\u001b[39;49m\u001b[43mz\u001b[49m\u001b[43m,\u001b[49m\u001b[43ml\u001b[49m\u001b[43m)\u001b[49m     \u001b[38;5;66;03m#only pass two parameters\u001b[39;00m\n",
      "\u001b[0;31mTypeError\u001b[0m: <lambda>() missing 1 required positional argument: 'z'"
     ]
    }
   ],
   "source": [
    "reduce(lambda x,y,z: x+y+z,l)     #only pass two parameters"
   ]
  },
  {
   "cell_type": "code",
   "execution_count": 34,
   "id": "471e3c69-996d-464e-a806-0cf35db8d44e",
   "metadata": {},
   "outputs": [
    {
     "ename": "TypeError",
     "evalue": "reduce() of empty iterable with no initial value",
     "output_type": "error",
     "traceback": [
      "\u001b[0;31m---------------------------------------------------------------------------\u001b[0m",
      "\u001b[0;31mTypeError\u001b[0m                                 Traceback (most recent call last)",
      "Cell \u001b[0;32mIn[34], line 1\u001b[0m\n\u001b[0;32m----> 1\u001b[0m \u001b[43mreduce\u001b[49m\u001b[43m(\u001b[49m\u001b[38;5;28;43;01mlambda\u001b[39;49;00m\u001b[43m \u001b[49m\u001b[43mx\u001b[49m\u001b[43m,\u001b[49m\u001b[43my\u001b[49m\u001b[43m:\u001b[49m\u001b[43m \u001b[49m\u001b[43mx\u001b[49m\u001b[38;5;241;43m+\u001b[39;49m\u001b[43my\u001b[49m\u001b[43m,\u001b[49m\u001b[43m \u001b[49m\u001b[43m[\u001b[49m\u001b[43m]\u001b[49m\u001b[43m)\u001b[49m\n",
      "\u001b[0;31mTypeError\u001b[0m: reduce() of empty iterable with no initial value"
     ]
    }
   ],
   "source": [
    "reduce(lambda x,y: x+y, [])"
   ]
  },
  {
   "cell_type": "code",
   "execution_count": 27,
   "id": "7c518af1-4c78-4b9a-b8a9-409a39c1d31b",
   "metadata": {},
   "outputs": [
    {
     "data": {
      "text/plain": [
       "1"
      ]
     },
     "execution_count": 27,
     "metadata": {},
     "output_type": "execute_result"
    }
   ],
   "source": [
    "reduce(lambda x,y: x+y, [1])"
   ]
  },
  {
   "cell_type": "code",
   "execution_count": 28,
   "id": "9d789cbb-2889-46cd-a079-701f66661815",
   "metadata": {},
   "outputs": [
    {
     "data": {
      "text/plain": [
       "231840"
      ]
     },
     "execution_count": 28,
     "metadata": {},
     "output_type": "execute_result"
    }
   ],
   "source": [
    "reduce(lambda x,y: x*y,l)"
   ]
  },
  {
   "cell_type": "code",
   "execution_count": 35,
   "id": "a777c994-4ad4-4a0e-8021-6e92c29901b7",
   "metadata": {},
   "outputs": [
    {
     "data": {
      "text/plain": [
       "[3, 5, 6, 7, 8, 2, 23]"
      ]
     },
     "execution_count": 35,
     "metadata": {},
     "output_type": "execute_result"
    }
   ],
   "source": [
    "l"
   ]
  },
  {
   "cell_type": "code",
   "execution_count": 37,
   "id": "272310e4-f816-4d33-bae6-6e9b8f76e83f",
   "metadata": {},
   "outputs": [
    {
     "data": {
      "text/plain": [
       "23"
      ]
     },
     "execution_count": 37,
     "metadata": {},
     "output_type": "execute_result"
    }
   ],
   "source": [
    "reduce(lambda x,y: x if x>y else y,l)"
   ]
  },
  {
   "cell_type": "code",
   "execution_count": 2,
   "id": "b094387a-7275-4c90-afb2-a064b45a71d8",
   "metadata": {},
   "outputs": [],
   "source": [
    "l=[3, 5, 6, 7, 8, 2, 23]"
   ]
  },
  {
   "cell_type": "code",
   "execution_count": 3,
   "id": "0d5b5d8b-f4e8-4595-acc2-fe9260e3c629",
   "metadata": {},
   "outputs": [
    {
     "data": {
      "text/plain": [
       "[3, 5, 6, 7, 8, 2, 23]"
      ]
     },
     "execution_count": 3,
     "metadata": {},
     "output_type": "execute_result"
    }
   ],
   "source": [
    "l"
   ]
  },
  {
   "cell_type": "code",
   "execution_count": 4,
   "id": "f8a3056a-8f89-4a84-adf3-54fb6b0c0cb7",
   "metadata": {},
   "outputs": [
    {
     "data": {
      "text/plain": [
       "[6, 8, 2]"
      ]
     },
     "execution_count": 4,
     "metadata": {},
     "output_type": "execute_result"
    }
   ],
   "source": [
    "list(filter(lambda x: x%2==0,l))    # to find even number"
   ]
  },
  {
   "cell_type": "code",
   "execution_count": 5,
   "id": "df078195-3e9d-48bb-b81e-bd2c6f96b246",
   "metadata": {},
   "outputs": [
    {
     "data": {
      "text/plain": [
       "[3, 5, 7, 23]"
      ]
     },
     "execution_count": 5,
     "metadata": {},
     "output_type": "execute_result"
    }
   ],
   "source": [
    "list(filter(lambda x: x%2!=0,l))    # to find odd number"
   ]
  },
  {
   "cell_type": "code",
   "execution_count": 10,
   "id": "7dbcffcc-1a77-46e6-8925-7a920c56c928",
   "metadata": {},
   "outputs": [],
   "source": [
    "l1=[3, 5, -6, 7, -8, 2, -23]"
   ]
  },
  {
   "cell_type": "code",
   "execution_count": 12,
   "id": "a15e5f34-f89f-44dd-989c-6a0a5a21b1ed",
   "metadata": {},
   "outputs": [
    {
     "data": {
      "text/plain": [
       "[-6, -8, -23]"
      ]
     },
     "execution_count": 12,
     "metadata": {},
     "output_type": "execute_result"
    }
   ],
   "source": [
    "list(filter(lambda x: x<=0,l1))"
   ]
  },
  {
   "cell_type": "code",
   "execution_count": 14,
   "id": "41496313-aefe-4f11-9f0c-080b24765495",
   "metadata": {},
   "outputs": [],
   "source": [
    "l2=['pankaj', 'kumar', 'sikar', 'jaipur', 'smpr', 'Garib Collage']"
   ]
  },
  {
   "cell_type": "code",
   "execution_count": 17,
   "id": "2da48d3b-e38c-40c8-a2d5-f75bf86831bb",
   "metadata": {},
   "outputs": [
    {
     "data": {
      "text/plain": [
       "['kumar', 'sikar', 'smpr']"
      ]
     },
     "execution_count": 17,
     "metadata": {},
     "output_type": "execute_result"
    }
   ],
   "source": [
    "list(filter(lambda x: len(x)<=5, l2))"
   ]
  }
 ],
 "metadata": {
  "kernelspec": {
   "display_name": "Python 3 (ipykernel)",
   "language": "python",
   "name": "python3"
  },
  "language_info": {
   "codemirror_mode": {
    "name": "ipython",
    "version": 3
   },
   "file_extension": ".py",
   "mimetype": "text/x-python",
   "name": "python",
   "nbconvert_exporter": "python",
   "pygments_lexer": "ipython3",
   "version": "3.10.8"
  }
 },
 "nbformat": 4,
 "nbformat_minor": 5
}
