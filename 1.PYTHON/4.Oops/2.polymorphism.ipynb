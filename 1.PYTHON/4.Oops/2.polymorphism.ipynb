{
 "cells": [
  {
   "cell_type": "code",
   "execution_count": 1,
   "id": "330563ff-0e35-4d09-9b7f-2e507b61dca1",
   "metadata": {},
   "outputs": [],
   "source": [
    "def add(a,b): \n",
    "    return a+b"
   ]
  },
  {
   "cell_type": "code",
   "execution_count": 2,
   "id": "a4d24c76-106f-4231-9089-0117a5f0696e",
   "metadata": {},
   "outputs": [
    {
     "data": {
      "text/plain": [
       "48"
      ]
     },
     "execution_count": 2,
     "metadata": {},
     "output_type": "execute_result"
    }
   ],
   "source": [
    "add(44,4)"
   ]
  },
  {
   "cell_type": "code",
   "execution_count": 3,
   "id": "5da7c86c-c432-446e-869c-0d03a6d51741",
   "metadata": {},
   "outputs": [
    {
     "data": {
      "text/plain": [
       "'pankaj kumawat'"
      ]
     },
     "execution_count": 3,
     "metadata": {},
     "output_type": "execute_result"
    }
   ],
   "source": [
    "add('pankaj', ' kumawat')    #sttring concitanation"
   ]
  },
  {
   "cell_type": "code",
   "execution_count": 4,
   "id": "e92b30aa-25ac-4b87-823f-38eb1244ad97",
   "metadata": {},
   "outputs": [],
   "source": [
    "class data_science: \n",
    "    def syllabus(self):   #method\n",
    "        print(\"this is my data science syllabus\")"
   ]
  },
  {
   "cell_type": "code",
   "execution_count": 8,
   "id": "ad989339-a8c2-4bd5-9948-73feef221d06",
   "metadata": {},
   "outputs": [],
   "source": [
    "class web_dev: \n",
    "    def syllabus(self): \n",
    "        print(\"this is my web dev. syllabus\")"
   ]
  },
  {
   "cell_type": "code",
   "execution_count": 9,
   "id": "2cc563ef-847a-429e-8d76-639ef916c87e",
   "metadata": {},
   "outputs": [],
   "source": [
    "data_science=data_science()"
   ]
  },
  {
   "cell_type": "code",
   "execution_count": 11,
   "id": "f8ca0286-4ed0-4519-9c0d-b63962b90234",
   "metadata": {},
   "outputs": [],
   "source": [
    "web_dev=web_dev()"
   ]
  },
  {
   "cell_type": "code",
   "execution_count": 12,
   "id": "6fb4216f-2e61-4f4a-a3ee-411cbc3c73c0",
   "metadata": {},
   "outputs": [],
   "source": [
    "class_obj=[data_science , web_dev]"
   ]
  },
  {
   "cell_type": "code",
   "execution_count": 14,
   "id": "c182bbf5-c38f-409b-8686-a72ef124f1dd",
   "metadata": {},
   "outputs": [],
   "source": [
    "def class_parcer(class_obj): \n",
    "    for i in class_obj: \n",
    "        i.syllabus()"
   ]
  },
  {
   "cell_type": "code",
   "execution_count": 15,
   "id": "48e626e5-1d25-4e16-8474-c1dbc4af85b8",
   "metadata": {},
   "outputs": [
    {
     "name": "stdout",
     "output_type": "stream",
     "text": [
      "this is my data science syllabus\n",
      "this is my web dev. syllabus\n"
     ]
    }
   ],
   "source": [
    "class_parcer(class_obj)"
   ]
  },
  {
   "cell_type": "code",
   "execution_count": 109,
   "id": "c9f0d2f3-87aa-4300-8834-3b1a11e03637",
   "metadata": {},
   "outputs": [],
   "source": [
    "# overloading\n",
    "\n",
    "class overloading: \n",
    "    def show(self): \n",
    "        print(\"welcome\")\n",
    "        \n",
    "    def show(self, first_name=\"\"):\n",
    "      #  self.first_name=first_name\n",
    "        print(\"welcome\", first_name)\n",
    "        \n",
    "    def show(self, first_name=\"\", last_name=\"\"): \n",
    "        print(\"welcome\", first_name, last_name)\n",
    "  "
   ]
  },
  {
   "cell_type": "code",
   "execution_count": 104,
   "id": "0f404fb4-962d-4ee9-a52b-c43f5e29fe13",
   "metadata": {},
   "outputs": [],
   "source": [
    "a=overloading()"
   ]
  },
  {
   "cell_type": "code",
   "execution_count": 105,
   "id": "7e9fdf95-42f0-4c87-8981-a3976a8478fb",
   "metadata": {},
   "outputs": [
    {
     "name": "stdout",
     "output_type": "stream",
     "text": [
      "welcome  \n"
     ]
    }
   ],
   "source": [
    "a.show()"
   ]
  },
  {
   "cell_type": "code",
   "execution_count": 106,
   "id": "71a1717a-c1ad-4736-9892-bab0e5696aa0",
   "metadata": {},
   "outputs": [
    {
     "name": "stdout",
     "output_type": "stream",
     "text": [
      "welcome pankaj \n"
     ]
    }
   ],
   "source": [
    "a.show('pankaj')"
   ]
  },
  {
   "cell_type": "code",
   "execution_count": 107,
   "id": "0a584c45-1053-432c-aa6f-12c432d3d90d",
   "metadata": {},
   "outputs": [
    {
     "name": "stdout",
     "output_type": "stream",
     "text": [
      "welcome pankaj kumawat\n"
     ]
    }
   ],
   "source": [
    "a.show('pankaj', 'kumawat')"
   ]
  },
  {
   "cell_type": "code",
   "execution_count": 108,
   "id": "f8e75eb3-7b4d-49f8-be8e-868d676dc8f8",
   "metadata": {},
   "outputs": [
    {
     "name": "stdout",
     "output_type": "stream",
     "text": [
      "welcome  \n"
     ]
    }
   ],
   "source": [
    "a.show()"
   ]
  },
  {
   "cell_type": "code",
   "execution_count": 15,
   "id": "2b7db036-d2dc-4147-bae5-26cfa02bb11a",
   "metadata": {},
   "outputs": [],
   "source": [
    "class parent: \n",
    "    def disc(self): \n",
    "        print(\"this is parent method\")\n",
    "    \n",
    "class child(parent):\n",
    "    def disc(self):\n",
    "        print(\"this is child method\")"
   ]
  },
  {
   "cell_type": "code",
   "execution_count": 16,
   "id": "1ff05cc2-cabd-4b80-bd1e-ee53ce47ed7d",
   "metadata": {},
   "outputs": [],
   "source": [
    "obj=child()"
   ]
  },
  {
   "cell_type": "code",
   "execution_count": 17,
   "id": "c70790b4-7bce-4e0f-9407-88e2e940fbed",
   "metadata": {},
   "outputs": [
    {
     "name": "stdout",
     "output_type": "stream",
     "text": [
      "this is child method\n"
     ]
    }
   ],
   "source": [
    "obj.disc()"
   ]
  },
  {
   "cell_type": "code",
   "execution_count": null,
   "id": "51e2125c-cb77-4692-a21c-c30adbcd79ea",
   "metadata": {},
   "outputs": [],
   "source": []
  },
  {
   "cell_type": "code",
   "execution_count": null,
   "id": "56c787f8-eef7-4f81-a636-391c0b7c2839",
   "metadata": {},
   "outputs": [],
   "source": []
  }
 ],
 "metadata": {
  "kernelspec": {
   "display_name": "Python 3 (ipykernel)",
   "language": "python",
   "name": "python3"
  },
  "language_info": {
   "codemirror_mode": {
    "name": "ipython",
    "version": 3
   },
   "file_extension": ".py",
   "mimetype": "text/x-python",
   "name": "python",
   "nbconvert_exporter": "python",
   "pygments_lexer": "ipython3",
   "version": "3.10.8"
  }
 },
 "nbformat": 4,
 "nbformat_minor": 5
}
