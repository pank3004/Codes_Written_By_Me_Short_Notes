{
 "cells": [
  {
   "cell_type": "code",
   "execution_count": null,
   "id": "2b18ba5a-7ecd-4ed0-b067-8b8ab06516b3",
   "metadata": {},
   "outputs": [],
   "source": [
    "''' Abstraction:  It includes hiding the implementation part and showing only the required data and features to the user. It\n",
    "    is done to hide the implementation complexity and details from the user. And to provide a good interface in programming.\n",
    "    \n",
    "    Class is logical abstraction because it provides a logical structure for all of its objects. It gives an overview of the\n",
    "    features of an object.\n",
    "    \n",
    "    Class in object-oriented programming is a blueprint or template for creating objects. It defines the data (attributes or\n",
    "    properties) and behavior (methods) that the objects created from that class will have. By combining abstraction of data\n",
    "    and code, a class provides a way to group related data and functionality into a single, logical unit.\n",
    "    \n",
    "    Encapsulation is data binding, as in, we try to combine a similar type of data and functions together.Abstraction is\n",
    "    hiding the complex code.\n",
    "    \n",
    "    Hiding the implementation complexity can  make programming easy. The programming need not know how the inbuilt functions \n",
    "    are working but can use those complex functions directly in the program. It doesn’t provide more number of features or \n",
    "    better features.\n",
    "    \n",
    "    data abstraction is nothing but the combination of abstract class and interface. We can not create the object in the \n",
    "    abstract class and interface.    '''"
   ]
  },
  {
   "cell_type": "code",
   "execution_count": 1,
   "id": "06661de7-5f6b-4b6f-a4c9-d7f8a8833f55",
   "metadata": {},
   "outputs": [],
   "source": [
    "import abc\n",
    "class collage_student: \n",
    "    \n",
    "    @abc.abstractmethod\n",
    "    def std_details(self): \n",
    "        pass\n",
    "    \n",
    "    @abc.abstractmethod\n",
    "    def std_asignment(self):\n",
    "        pass\n",
    "    \n",
    "    @abc.abstractmethod\n",
    "    def std_cgpa(self): \n",
    "        pass"
   ]
  },
  {
   "cell_type": "code",
   "execution_count": 5,
   "id": "01745ed0-3431-4a57-bc49-7761fe7f4873",
   "metadata": {},
   "outputs": [],
   "source": [
    "class student_information(collage_student): \n",
    "    \n",
    "    def std_details(self): \n",
    "        return \"this return student details\"\n",
    "\n",
    "    def std_asignment(self): \n",
    "        return 'this return student asignment'\n",
    "    "
   ]
  },
  {
   "cell_type": "code",
   "execution_count": 7,
   "id": "94dabac3-4e20-493e-a407-9a6013b1edcf",
   "metadata": {},
   "outputs": [],
   "source": [
    "class student_adv_info(collage_student): \n",
    "    \n",
    "    def std_details(self): \n",
    "        return 'this return std detl in adv'\n",
    "    \n",
    "    def std_asignment(self): \n",
    "        return 'this return std asing in adv'\n",
    "    \n",
    "    def std_cgpa(self): \n",
    "        return 'this return std cgpa in adv'"
   ]
  },
  {
   "cell_type": "code",
   "execution_count": 9,
   "id": "1d5c7b30-7cfe-48d2-975b-97ef8b7e7cf7",
   "metadata": {},
   "outputs": [],
   "source": [
    "system1=student_information()"
   ]
  },
  {
   "cell_type": "code",
   "execution_count": 14,
   "id": "baeade8f-122a-49fa-b6a1-f0fc749ffa1d",
   "metadata": {},
   "outputs": [
    {
     "data": {
      "text/plain": [
       "'this return student details'"
      ]
     },
     "execution_count": 14,
     "metadata": {},
     "output_type": "execute_result"
    }
   ],
   "source": [
    "system1.std_details()"
   ]
  },
  {
   "cell_type": "code",
   "execution_count": 16,
   "id": "64269fb7-fc7d-4fdb-b5d3-f8930231b453",
   "metadata": {},
   "outputs": [
    {
     "data": {
      "text/plain": [
       "'this return student asignment'"
      ]
     },
     "execution_count": 16,
     "metadata": {},
     "output_type": "execute_result"
    }
   ],
   "source": [
    "system1.std_asignment()"
   ]
  },
  {
   "cell_type": "code",
   "execution_count": 17,
   "id": "013223d6-bb50-4ee3-8dcd-a058273090e4",
   "metadata": {},
   "outputs": [],
   "source": [
    "system2=student_adv_info()"
   ]
  },
  {
   "cell_type": "code",
   "execution_count": 18,
   "id": "46d61ce0-f3e7-47a9-937e-86438f491388",
   "metadata": {},
   "outputs": [
    {
     "data": {
      "text/plain": [
       "'this return std asing in adv'"
      ]
     },
     "execution_count": 18,
     "metadata": {},
     "output_type": "execute_result"
    }
   ],
   "source": [
    "system2.std_asignment()"
   ]
  },
  {
   "cell_type": "code",
   "execution_count": 22,
   "id": "6f947df2-2477-4af5-9a66-23344d75cd60",
   "metadata": {},
   "outputs": [
    {
     "data": {
      "text/plain": [
       "'this return std cgpa in adv'"
      ]
     },
     "execution_count": 22,
     "metadata": {},
     "output_type": "execute_result"
    }
   ],
   "source": [
    "system2.std_cgpa()"
   ]
  }
 ],
 "metadata": {
  "kernelspec": {
   "display_name": "Python 3 (ipykernel)",
   "language": "python",
   "name": "python3"
  },
  "language_info": {
   "codemirror_mode": {
    "name": "ipython",
    "version": 3
   },
   "file_extension": ".py",
   "mimetype": "text/x-python",
   "name": "python",
   "nbconvert_exporter": "python",
   "pygments_lexer": "ipython3",
   "version": "3.10.8"
  }
 },
 "nbformat": 4,
 "nbformat_minor": 5
}
