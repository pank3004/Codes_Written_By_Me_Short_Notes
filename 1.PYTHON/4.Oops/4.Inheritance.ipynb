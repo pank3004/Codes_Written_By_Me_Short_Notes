{
 "cells": [
  {
   "cell_type": "code",
   "execution_count": null,
   "id": "f76227b3-d907-49cd-9046-90a50e43bb13",
   "metadata": {},
   "outputs": [],
   "source": [
    "'''There are five types of inheritance.\n",
    "\n",
    "    Single Inheritance.\n",
    "    Multiple Inheritance. \n",
    "    Multilevel Inheritance.(Method Overriding)\n",
    "    Hierarchical Inheritance.\n",
    "    Hybrid Inheritance.           \n",
    "    \n",
    "    When a derived class inherits the base class, then the derived class can access all the functionality, and the base\n",
    "    class's code can be reused in the derived class.\n",
    "\n",
    "'''"
   ]
  },
  {
   "cell_type": "code",
   "execution_count": null,
   "id": "a9891628-bd95-4ddf-a08a-bf78bef0d4e0",
   "metadata": {},
   "outputs": [],
   "source": [
    "class parant_class:\n",
    "    def parant_method(self):      # this is method\n",
    "        return 'this is my first inheritance class'"
   ]
  },
  {
   "cell_type": "code",
   "execution_count": null,
   "id": "c5b69e27-e23f-474a-b3be-f5029d873599",
   "metadata": {},
   "outputs": [],
   "source": [
    "class child_class(parant_class): \n",
    "    pass"
   ]
  },
  {
   "cell_type": "code",
   "execution_count": null,
   "id": "60bc3f82-f3dd-428d-907a-cc982d897b3b",
   "metadata": {},
   "outputs": [],
   "source": [
    "pankaj=child_class()    # this is object"
   ]
  },
  {
   "cell_type": "code",
   "execution_count": null,
   "id": "14e57d0e-139e-4b52-b8cc-a57f70c5edc9",
   "metadata": {},
   "outputs": [],
   "source": [
    "pankaj.parant_method()"
   ]
  },
  {
   "cell_type": "code",
   "execution_count": null,
   "id": "33c065d7-21a3-4e19-b311-0f13cc3c0538",
   "metadata": {},
   "outputs": [],
   "source": [
    "# multi level inheritance\n",
    "\n",
    "class class1: \n",
    "    def method_class1(self):\n",
    "        return 'this is my method of first class'\n",
    "    \n",
    "class class2(class1): \n",
    "    def method_class2(self): \n",
    "        return 'this is my method of secont s=class'\n",
    "class class3(class2): \n",
    "    def method_class3(self): \n",
    "        return 'this is my methos of third class'\n",
    "    \n",
    "system=class3()"
   ]
  },
  {
   "cell_type": "code",
   "execution_count": null,
   "id": "98a4420e-c2b0-4969-9d42-b41c757d4923",
   "metadata": {},
   "outputs": [],
   "source": [
    "system.method_class1()"
   ]
  },
  {
   "cell_type": "code",
   "execution_count": null,
   "id": "e73e9b91-5b1f-4ad6-8203-a4c31f0a0363",
   "metadata": {},
   "outputs": [],
   "source": [
    "system.method_class2()"
   ]
  },
  {
   "cell_type": "code",
   "execution_count": null,
   "id": "cca14ce3-e604-45e5-8d4d-31b7896a66dc",
   "metadata": {},
   "outputs": [],
   "source": [
    "system.method_class3()"
   ]
  },
  {
   "cell_type": "code",
   "execution_count": null,
   "id": "22673280-e7db-46a8-8f91-9371c0b6cb82",
   "metadata": {},
   "outputs": [],
   "source": [
    "# multiple inheritance,, here father and mother is seprater class and child can acces both class of both\n",
    "class father: \n",
    "    def father_method(self): \n",
    "        return 'father is a first class'\n",
    "class mother: \n",
    "    def mother_method(self): \n",
    "        return 'mother is a second class'\n",
    "class child(father, mother): \n",
    "    def child_method(self):\n",
    "        return 'child is the combined class of father and mother'"
   ]
  },
  {
   "cell_type": "code",
   "execution_count": null,
   "id": "23c3b6a0-061e-4c18-8b60-2413b8f6d2db",
   "metadata": {},
   "outputs": [],
   "source": [
    "child_gen=child()"
   ]
  },
  {
   "cell_type": "code",
   "execution_count": null,
   "id": "9826c25b-74f6-484a-a944-9af745f972b0",
   "metadata": {},
   "outputs": [],
   "source": [
    "child_gen.father_method()"
   ]
  },
  {
   "cell_type": "code",
   "execution_count": null,
   "id": "978fb943-e94e-4285-a93d-e70e8f3e48aa",
   "metadata": {},
   "outputs": [],
   "source": [
    "child_gen.mother_method()"
   ]
  },
  {
   "cell_type": "code",
   "execution_count": null,
   "id": "1538f43c-1086-40fe-ae12-3d29e39d37a4",
   "metadata": {},
   "outputs": [],
   "source": [
    "child_gen.child_method()"
   ]
  }
 ],
 "metadata": {
  "kernelspec": {
   "display_name": "Python 3 (ipykernel)",
   "language": "python",
   "name": "python3"
  },
  "language_info": {
   "codemirror_mode": {
    "name": "ipython",
    "version": 3
   },
   "file_extension": ".py",
   "mimetype": "text/x-python",
   "name": "python",
   "nbconvert_exporter": "python",
   "pygments_lexer": "ipython3",
   "version": "3.10.8"
  }
 },
 "nbformat": 4,
 "nbformat_minor": 5
}
