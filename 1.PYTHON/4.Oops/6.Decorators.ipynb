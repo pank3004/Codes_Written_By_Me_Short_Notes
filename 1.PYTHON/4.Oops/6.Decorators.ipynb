{
 "cells": [
  {
   "cell_type": "code",
   "execution_count": 1,
   "id": "b0ff4013-7c83-41b7-9cac-bf750bb0050b",
   "metadata": {},
   "outputs": [],
   "source": [
    "def someone():\n",
    "    print('Start the function')\n",
    "    print('this is my')\n",
    "    print('End the function')"
   ]
  },
  {
   "cell_type": "code",
   "execution_count": 2,
   "id": "b2f6c70f-2b5b-4bc7-a9e1-93b53fd27f40",
   "metadata": {},
   "outputs": [
    {
     "name": "stdout",
     "output_type": "stream",
     "text": [
      "Start the function\n",
      "this is my\n",
      "End the function\n"
     ]
    }
   ],
   "source": [
    "someone()"
   ]
  },
  {
   "cell_type": "code",
   "execution_count": 19,
   "id": "9c2ed508-cd98-4df1-be59-d6722f4165eb",
   "metadata": {},
   "outputs": [],
   "source": [
    "def deco(func):\n",
    "    def inner_dec():\n",
    "        print('Start the function')\n",
    "        func()\n",
    "        print('End the function')\n",
    "    return inner_dec"
   ]
  },
  {
   "cell_type": "code",
   "execution_count": 20,
   "id": "e98aa03f-b35a-4745-91a7-f9e4248e2b15",
   "metadata": {},
   "outputs": [],
   "source": [
    "@deco\n",
    "def vehicle():\n",
    "    print('Thar is my fav car')"
   ]
  },
  {
   "cell_type": "code",
   "execution_count": 21,
   "id": "3686d36d-805a-4641-89cc-0e6f0f3ecb62",
   "metadata": {},
   "outputs": [
    {
     "name": "stdout",
     "output_type": "stream",
     "text": [
      "Start the function\n",
      "Thar is my fav car\n",
      "End the function\n"
     ]
    }
   ],
   "source": [
    "vehicle()"
   ]
  },
  {
   "cell_type": "code",
   "execution_count": 23,
   "id": "0e65f212-28a1-4562-b98b-d56a7f81b635",
   "metadata": {},
   "outputs": [],
   "source": [
    "def deco(func):\n",
    "    def inner_dec():\n",
    "        print('Start the function')\n",
    "        func()\n",
    "        print('End the function')\n",
    "    return inner_dec()     # here () is extra"
   ]
  },
  {
   "cell_type": "code",
   "execution_count": 24,
   "id": "b7344a4b-05e3-49db-bb30-f0a809abcd5b",
   "metadata": {},
   "outputs": [
    {
     "name": "stdout",
     "output_type": "stream",
     "text": [
      "Start the function\n",
      "kumawat\n",
      "End the function\n"
     ]
    }
   ],
   "source": [
    "@deco\n",
    "def pankaj(): \n",
    "    print('kumawat')"
   ]
  },
  {
   "cell_type": "code",
   "execution_count": 25,
   "id": "748ef735-2350-4669-a2e9-5b4a03df4d68",
   "metadata": {},
   "outputs": [
    {
     "ename": "TypeError",
     "evalue": "'NoneType' object is not callable",
     "output_type": "error",
     "traceback": [
      "\u001b[0;31m---------------------------------------------------------------------------\u001b[0m",
      "\u001b[0;31mTypeError\u001b[0m                                 Traceback (most recent call last)",
      "Cell \u001b[0;32mIn[25], line 1\u001b[0m\n\u001b[0;32m----> 1\u001b[0m \u001b[43mpankaj\u001b[49m\u001b[43m(\u001b[49m\u001b[43m)\u001b[49m\n",
      "\u001b[0;31mTypeError\u001b[0m: 'NoneType' object is not callable"
     ]
    }
   ],
   "source": [
    "pankaj()"
   ]
  },
  {
   "cell_type": "code",
   "execution_count": 26,
   "id": "aa5e5476-e9b1-4817-8771-4e22e24deaeb",
   "metadata": {},
   "outputs": [],
   "source": [
    "TypeErrorimport time\n",
    "def time_deco(func): \n",
    "    def time_deco_inner(): \n",
    "        start=time.time()\n",
    "        func\n",
    "        end=time.time()\n",
    "        print(end-start)\n",
    "    return time_deco_inner"
   ]
  },
  {
   "cell_type": "code",
   "execution_count": 27,
   "id": "0237f899-dffd-43c4-abc9-b6e396a2a487",
   "metadata": {},
   "outputs": [],
   "source": [
    "def add(): \n",
    "    print(434+3344)"
   ]
  },
  {
   "cell_type": "code",
   "execution_count": 28,
   "id": "8f27affb-5028-45c7-af17-407a99305d1f",
   "metadata": {},
   "outputs": [
    {
     "name": "stdout",
     "output_type": "stream",
     "text": [
      "3778\n"
     ]
    }
   ],
   "source": [
    "add()"
   ]
  },
  {
   "cell_type": "code",
   "execution_count": 37,
   "id": "0fa56b07-f634-4e60-b8ca-0256ee3be854",
   "metadata": {},
   "outputs": [],
   "source": [
    "@time_deco\n",
    "def add(): \n",
    "    print(434+3344)"
   ]
  },
  {
   "cell_type": "code",
   "execution_count": 38,
   "id": "4ba99d51-a06f-4d34-9f34-b1b8fe977774",
   "metadata": {},
   "outputs": [
    {
     "name": "stdout",
     "output_type": "stream",
     "text": [
      "4.76837158203125e-07\n"
     ]
    }
   ],
   "source": [
    "add()"
   ]
  },
  {
   "cell_type": "code",
   "execution_count": 47,
   "id": "1277d41d-fef8-4018-9dd7-a03d2b046398",
   "metadata": {},
   "outputs": [],
   "source": [
    "@time_deco\n",
    "def test(): \n",
    "    for i in range(10000000000): \n",
    "        pass"
   ]
  },
  {
   "cell_type": "code",
   "execution_count": 48,
   "id": "532ce9b5-2f89-487d-b1ad-25788d1888ea",
   "metadata": {},
   "outputs": [
    {
     "name": "stdout",
     "output_type": "stream",
     "text": [
      "2.384185791015625e-07\n"
     ]
    }
   ],
   "source": [
    "test()"
   ]
  },
  {
   "cell_type": "code",
   "execution_count": null,
   "id": "b6c4811b-c9d5-483a-911e-91622d6f7d88",
   "metadata": {},
   "outputs": [],
   "source": []
  },
  {
   "cell_type": "code",
   "execution_count": null,
   "id": "cb86901d-5a4e-4590-a352-5af05345644b",
   "metadata": {},
   "outputs": [],
   "source": []
  }
 ],
 "metadata": {
  "kernelspec": {
   "display_name": "Python 3 (ipykernel)",
   "language": "python",
   "name": "python3"
  },
  "language_info": {
   "codemirror_mode": {
    "name": "ipython",
    "version": 3
   },
   "file_extension": ".py",
   "mimetype": "text/x-python",
   "name": "python",
   "nbconvert_exporter": "python",
   "pygments_lexer": "ipython3",
   "version": "3.10.8"
  }
 },
 "nbformat": 4,
 "nbformat_minor": 5
}
