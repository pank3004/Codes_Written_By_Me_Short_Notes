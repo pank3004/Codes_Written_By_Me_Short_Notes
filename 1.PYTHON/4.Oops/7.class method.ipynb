{
 "cells": [
  {
   "cell_type": "code",
   "execution_count": 1,
   "id": "c5145051-94b0-48a4-bec4-69e6bd7bbbb7",
   "metadata": {},
   "outputs": [],
   "source": [
    "class student:\n",
    "    def __init__(self, name, email_id):\n",
    "        self.name=name\n",
    "        self.email_id=email_id\n",
    "    def std_detail(self): \n",
    "        print(self.name, self.email_id)"
   ]
  },
  {
   "cell_type": "code",
   "execution_count": 2,
   "id": "83c76683-ff32-41ee-a827-e9e456681848",
   "metadata": {},
   "outputs": [],
   "source": [
    "system=student('pankaj', 'pankajj@gmail.com')   #here need to object"
   ]
  },
  {
   "cell_type": "code",
   "execution_count": 3,
   "id": "eb43a492-fcdd-49e7-a038-f0d5e94a73cb",
   "metadata": {},
   "outputs": [
    {
     "data": {
      "text/plain": [
       "'pankaj'"
      ]
     },
     "execution_count": 3,
     "metadata": {},
     "output_type": "execute_result"
    }
   ],
   "source": [
    "system.name"
   ]
  },
  {
   "cell_type": "code",
   "execution_count": 4,
   "id": "2102c31e-c978-4e6f-9642-6278f35d9d21",
   "metadata": {},
   "outputs": [
    {
     "name": "stdout",
     "output_type": "stream",
     "text": [
      "pankaj pankajj@gmail.com\n"
     ]
    }
   ],
   "source": [
    "system.std_detail()"
   ]
  },
  {
   "cell_type": "code",
   "execution_count": 40,
   "id": "eebf20ab-24c5-404d-bda2-395b82f97afe",
   "metadata": {},
   "outputs": [],
   "source": [
    "class student1:\n",
    "    \n",
    "    def __init__(self, name , email_id): \n",
    "        self.name=name\n",
    "        self.email_id=email_id\n",
    "    \n",
    "    @classmethod\n",
    "    def std_detail(cls,name1,email_id1):\n",
    "        return cls(name1, email_id1)\n",
    "    \n",
    "    def student_detail(self):\n",
    "        print(self.name, self.email_id)\n",
    "    "
   ]
  },
  {
   "cell_type": "code",
   "execution_count": 41,
   "id": "068689c1-8a1f-41bf-b8cd-02fbb2883d66",
   "metadata": {},
   "outputs": [],
   "source": [
    "v1=student1.std_detail('pankaaj', 'pankajaj@gmail.com') #argument pass without creating object,,,,we overload __init__ "
   ]
  },
  {
   "cell_type": "code",
   "execution_count": 42,
   "id": "8e82999c-4ebf-427b-b276-c01c3cbeee43",
   "metadata": {},
   "outputs": [
    {
     "data": {
      "text/plain": [
       "'pankaaj'"
      ]
     },
     "execution_count": 42,
     "metadata": {},
     "output_type": "execute_result"
    }
   ],
   "source": [
    "v1.name"
   ]
  },
  {
   "cell_type": "code",
   "execution_count": 43,
   "id": "f99e93da-5b91-406b-818e-0db67cef26a6",
   "metadata": {},
   "outputs": [
    {
     "data": {
      "text/plain": [
       "'pankajaj@gmail.com'"
      ]
     },
     "execution_count": 43,
     "metadata": {},
     "output_type": "execute_result"
    }
   ],
   "source": [
    "v1.email_id"
   ]
  },
  {
   "cell_type": "code",
   "execution_count": 44,
   "id": "2fccdb8b-43d8-4f3c-9df5-66180a6bd296",
   "metadata": {},
   "outputs": [
    {
     "name": "stdout",
     "output_type": "stream",
     "text": [
      "pankaaj pankajaj@gmail.com\n"
     ]
    }
   ],
   "source": [
    "v1.student_detail()"
   ]
  },
  {
   "cell_type": "code",
   "execution_count": 69,
   "id": "12557871-01cf-4b69-aee7-6bb29dc4646e",
   "metadata": {},
   "outputs": [],
   "source": [
    "class student2:\n",
    "    \n",
    "    mobile_num=8302234778\n",
    "    \n",
    "    def __init__(self, name , email_id): \n",
    "        self.name=name\n",
    "        self.email_id=email_id\n",
    "        \n",
    "    @classmethod\n",
    "    def change_num(cls, mobile): \n",
    "        student2.mobile_num=mobile\n",
    "    \n",
    "    @classmethod\n",
    "    def std_detail(cls,name1,email_id1):\n",
    "        return cls(name1, email_id1)\n",
    "    \n",
    "    def student_detail(self):\n",
    "        print(self.name, self.email_id, student2.mobile_num)"
   ]
  },
  {
   "cell_type": "code",
   "execution_count": 70,
   "id": "5ab97872-d824-4da4-a538-8a3f988eea39",
   "metadata": {},
   "outputs": [
    {
     "data": {
      "text/plain": [
       "8302234778"
      ]
     },
     "execution_count": 70,
     "metadata": {},
     "output_type": "execute_result"
    }
   ],
   "source": [
    "student2.mobile_num  # we can access class variable"
   ]
  },
  {
   "cell_type": "code",
   "execution_count": 71,
   "id": "a745d3ce-608a-4e8d-ab6d-f8535048e6ce",
   "metadata": {},
   "outputs": [],
   "source": [
    "student2.change_num(7846275624)"
   ]
  },
  {
   "cell_type": "code",
   "execution_count": 72,
   "id": "d9347ab2-718d-4827-b781-082bd0072d18",
   "metadata": {},
   "outputs": [
    {
     "data": {
      "text/plain": [
       "7846275624"
      ]
     },
     "execution_count": 72,
     "metadata": {},
     "output_type": "execute_result"
    }
   ],
   "source": [
    "student2.mobile_num"
   ]
  },
  {
   "cell_type": "code",
   "execution_count": 73,
   "id": "a3621e47-98b3-42ce-bd8c-1a7ebeb7cf12",
   "metadata": {},
   "outputs": [],
   "source": [
    "std_obj=student2('no name', 'noname@gmail.com')    # by class object"
   ]
  },
  {
   "cell_type": "code",
   "execution_count": 74,
   "id": "49c46088-2ba2-45e2-8150-2abfb81676ee",
   "metadata": {},
   "outputs": [
    {
     "name": "stdout",
     "output_type": "stream",
     "text": [
      "no name noname@gmail.com 7846275624\n"
     ]
    }
   ],
   "source": [
    "std_obj.student_detail()"
   ]
  },
  {
   "cell_type": "code",
   "execution_count": 78,
   "id": "743f3eac-413f-4555-bc72-aad45da8343a",
   "metadata": {},
   "outputs": [],
   "source": [
    "std_variable=student2.std_detail('classname','classname@gmail.com')   # by class method"
   ]
  },
  {
   "cell_type": "code",
   "execution_count": 80,
   "id": "0535ccae-f886-4905-bae4-8a1abaa899c0",
   "metadata": {},
   "outputs": [
    {
     "name": "stdout",
     "output_type": "stream",
     "text": [
      "classname classname@gmail.com 7846275624\n"
     ]
    }
   ],
   "source": [
    "std_variable.student_detail()   # by class method we can access other method and change class variable"
   ]
  },
  {
   "cell_type": "code",
   "execution_count": 116,
   "id": "f6e8834a-f1ab-4d8a-830a-7491519850a2",
   "metadata": {},
   "outputs": [],
   "source": [
    "class student3:\n",
    "    \n",
    "    mobile_num=8302234778\n",
    "    \n",
    "    def __init__(self, name , email_id): \n",
    "        self.name=name\n",
    "        self.email_id=email_id\n",
    "        \n",
    "    @classmethod\n",
    "    def change_num(cls, mobile): \n",
    "        student3.mobile_num=mobile\n",
    "    \n",
    "    @classmethod\n",
    "    def std_detail(cls,name1,email_id1):\n",
    "        return cls(name1, email_id1)\n",
    "    \n",
    "    def student_detail(self):\n",
    "        print(self.name, self.email_id, student2.mobile_num)"
   ]
  },
  {
   "cell_type": "code",
   "execution_count": 88,
   "id": "0b3da7bc-32c9-4b96-817c-b7cc02bf9039",
   "metadata": {},
   "outputs": [],
   "source": [
    "# we can attached // associated external method to the existing class\n",
    "\n",
    "def course_name(cls, course_name):\n",
    "    print('course name is' , course_name)"
   ]
  },
  {
   "cell_type": "code",
   "execution_count": 90,
   "id": "3afad630-ae72-4976-90a1-84a21574ddc4",
   "metadata": {},
   "outputs": [],
   "source": [
    "student3.course_name=classmethod(course_name)"
   ]
  },
  {
   "cell_type": "code",
   "execution_count": 91,
   "id": "386e91cc-0dd9-406e-a097-d90b409a5727",
   "metadata": {},
   "outputs": [
    {
     "name": "stdout",
     "output_type": "stream",
     "text": [
      "course name is data science\n"
     ]
    }
   ],
   "source": [
    "student3.course_name('data science')"
   ]
  },
  {
   "cell_type": "code",
   "execution_count": 92,
   "id": "a7c82545-961d-4994-a157-252d2fd53d04",
   "metadata": {},
   "outputs": [],
   "source": [
    "def personality(cls, my_prsnlt): \n",
    "    print('my personality is ', my_prsnlt) "
   ]
  },
  {
   "cell_type": "code",
   "execution_count": 93,
   "id": "144ebd48-15a2-4c6e-b442-452dad3c1751",
   "metadata": {},
   "outputs": [],
   "source": [
    "student3.personality=classmethod(personality)"
   ]
  },
  {
   "cell_type": "code",
   "execution_count": 99,
   "id": "8a5a6e25-14a6-4ab5-8ae5-8282f3478b53",
   "metadata": {},
   "outputs": [
    {
     "name": "stdout",
     "output_type": "stream",
     "text": [
      "my personality is  my GOD\n"
     ]
    }
   ],
   "source": [
    "student3.personality('my GOD')"
   ]
  },
  {
   "cell_type": "code",
   "execution_count": 117,
   "id": "970e5522-bafd-4e74-9383-56e10dd1df20",
   "metadata": {},
   "outputs": [],
   "source": [
    "class student4:\n",
    "    \n",
    "    mobile_num=8302234778\n",
    "    \n",
    "    def __init__(self, name , email_id): \n",
    "        self.name=name\n",
    "        self.email_id=email_id\n",
    "        \n",
    "    @classmethod\n",
    "    def change_num(cls, mobile): \n",
    "        student4.mobile_num=mobile\n",
    "    \n",
    "    @classmethod\n",
    "    def std_detail(cls,name1,email_id1):\n",
    "        return cls(name1, email_id1)\n",
    "    \n",
    "    def student_detail(self):\n",
    "        print(self.name, self.email_id, student2.mobile_num)"
   ]
  },
  {
   "cell_type": "code",
   "execution_count": 118,
   "id": "7cd44d18-cf32-44c1-aac5-e4a527b84c25",
   "metadata": {},
   "outputs": [
    {
     "data": {
      "text/plain": [
       "8302234778"
      ]
     },
     "execution_count": 118,
     "metadata": {},
     "output_type": "execute_result"
    }
   ],
   "source": [
    "student4.mobile_num"
   ]
  },
  {
   "cell_type": "code",
   "execution_count": 119,
   "id": "1ebca827-41a7-4be5-978d-9ab1ccfb0286",
   "metadata": {},
   "outputs": [],
   "source": [
    "student4.change_num(76564587678)"
   ]
  },
  {
   "cell_type": "code",
   "execution_count": 120,
   "id": "dfdaab64-05b5-402f-a227-4ffe3a6c9ce0",
   "metadata": {},
   "outputs": [
    {
     "data": {
      "text/plain": [
       "76564587678"
      ]
     },
     "execution_count": 120,
     "metadata": {},
     "output_type": "execute_result"
    }
   ],
   "source": [
    "student4.mobile_num"
   ]
  },
  {
   "cell_type": "code",
   "execution_count": null,
   "id": "626f5c2c-c171-4ae2-90ea-4193691138c1",
   "metadata": {},
   "outputs": [],
   "source": [
    "# we can also delet the existing method\n",
    "del student4.change_num                        # change_num method deleted "
   ]
  },
  {
   "cell_type": "code",
   "execution_count": 126,
   "id": "03031985-1cb1-4a24-997d-4ea103864b59",
   "metadata": {},
   "outputs": [
    {
     "ename": "AttributeError",
     "evalue": "type object 'student4' has no attribute 'change_num'",
     "output_type": "error",
     "traceback": [
      "\u001b[0;31m---------------------------------------------------------------------------\u001b[0m",
      "\u001b[0;31mAttributeError\u001b[0m                            Traceback (most recent call last)",
      "Cell \u001b[0;32mIn[126], line 1\u001b[0m\n\u001b[0;32m----> 1\u001b[0m \u001b[43mstudent4\u001b[49m\u001b[38;5;241;43m.\u001b[39;49m\u001b[43mchange_num\u001b[49m(\u001b[38;5;241m58757668769\u001b[39m)\n",
      "\u001b[0;31mAttributeError\u001b[0m: type object 'student4' has no attribute 'change_num'"
     ]
    }
   ],
   "source": [
    "student4.change_num(58757668769)"
   ]
  },
  {
   "cell_type": "code",
   "execution_count": 127,
   "id": "e33c5c1a-e3f4-40d1-a160-d44c5c4e86cf",
   "metadata": {},
   "outputs": [],
   "source": [
    "delattr(student4, 'std_detail')             # std_detail method deleted "
   ]
  },
  {
   "cell_type": "code",
   "execution_count": 128,
   "id": "e26c0114-7c78-4305-b442-d54116ea90d7",
   "metadata": {},
   "outputs": [],
   "source": [
    "delattr(student4, 'student_detail')         # student_detail method deleted "
   ]
  },
  {
   "cell_type": "code",
   "execution_count": 129,
   "id": "a6a69d50-fe4b-4954-8c8b-edbdd108b09b",
   "metadata": {},
   "outputs": [],
   "source": [
    "delattr(student4, 'mobile_num')              # mobile_num  method deleted "
   ]
  },
  {
   "cell_type": "code",
   "execution_count": null,
   "id": "b6d727bb-a22b-4854-930b-bda004ff9941",
   "metadata": {},
   "outputs": [],
   "source": []
  }
 ],
 "metadata": {
  "kernelspec": {
   "display_name": "Python 3 (ipykernel)",
   "language": "python",
   "name": "python3"
  },
  "language_info": {
   "codemirror_mode": {
    "name": "ipython",
    "version": 3
   },
   "file_extension": ".py",
   "mimetype": "text/x-python",
   "name": "python",
   "nbconvert_exporter": "python",
   "pygments_lexer": "ipython3",
   "version": "3.10.8"
  }
 },
 "nbformat": 4,
 "nbformat_minor": 5
}
