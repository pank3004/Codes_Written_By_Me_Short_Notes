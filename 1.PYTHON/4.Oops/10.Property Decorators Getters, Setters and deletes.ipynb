{
 "cells": [
  {
   "cell_type": "code",
   "execution_count": 46,
   "id": "cad771c8-ad05-420d-8ab6-82aa5ef3f76d",
   "metadata": {},
   "outputs": [],
   "source": [
    "class pwskills: \n",
    "    def __init__(self, course_prize, course_name): \n",
    "        self.__course_prize=course_prize              # this is protected from the users\n",
    "        self.course_name=course_name\n",
    "        \n",
    "    @property\n",
    "    def course_prize_access(self):\n",
    "        return self.__course_prize\n",
    "    \n",
    "    @course_prize_access.setter\n",
    "    def course_prize_set(self, prize):\n",
    "        if prize <= 3500: \n",
    "            pass\n",
    "        else: \n",
    "            self.__course_prize=prize\n",
    "    \n",
    "    @course_prize_access.deleter\n",
    "    def delet_course_prize(self): \n",
    "        del self.__course_prize\n",
    "              "
   ]
  },
  {
   "cell_type": "code",
   "execution_count": 47,
   "id": "910e8597-5fdd-494f-8066-545e0b1abf47",
   "metadata": {},
   "outputs": [],
   "source": [
    "pw=pwskills(3500, 'data science')"
   ]
  },
  {
   "cell_type": "code",
   "execution_count": 34,
   "id": "c01bb65a-89e3-411c-a0a2-a88a3ccdd64b",
   "metadata": {},
   "outputs": [
    {
     "ename": "AttributeError",
     "evalue": "'pwskills' object has no attribute 'course_prize'",
     "output_type": "error",
     "traceback": [
      "\u001b[0;31m---------------------------------------------------------------------------\u001b[0m",
      "\u001b[0;31mAttributeError\u001b[0m                            Traceback (most recent call last)",
      "Cell \u001b[0;32mIn[34], line 1\u001b[0m\n\u001b[0;32m----> 1\u001b[0m \u001b[43mpw\u001b[49m\u001b[38;5;241;43m.\u001b[39;49m\u001b[43mcourse_prize\u001b[49m\n",
      "\u001b[0;31mAttributeError\u001b[0m: 'pwskills' object has no attribute 'course_prize'"
     ]
    }
   ],
   "source": [
    "pw.course_prize"
   ]
  },
  {
   "cell_type": "code",
   "execution_count": 35,
   "id": "ad091811-ba25-4c11-a763-2723235222de",
   "metadata": {},
   "outputs": [
    {
     "data": {
      "text/plain": [
       "'data science'"
      ]
     },
     "execution_count": 35,
     "metadata": {},
     "output_type": "execute_result"
    }
   ],
   "source": [
    "pw.course_name"
   ]
  },
  {
   "cell_type": "code",
   "execution_count": 36,
   "id": "7d8280da-7c3a-4469-be77-244d59e16744",
   "metadata": {},
   "outputs": [
    {
     "data": {
      "text/plain": [
       "3500"
      ]
     },
     "execution_count": 36,
     "metadata": {},
     "output_type": "execute_result"
    }
   ],
   "source": [
    "pw._pwskills__course_prize"
   ]
  },
  {
   "cell_type": "code",
   "execution_count": 31,
   "id": "c17921e1-3ab1-43f5-b5dc-d05a394b9e41",
   "metadata": {},
   "outputs": [
    {
     "data": {
      "text/plain": [
       "3500"
      ]
     },
     "execution_count": 31,
     "metadata": {},
     "output_type": "execute_result"
    }
   ],
   "source": [
    "pw.course_prize_access"
   ]
  },
  {
   "cell_type": "code",
   "execution_count": 39,
   "id": "afa7ff02-6391-47c2-b777-5e28b3572c3d",
   "metadata": {},
   "outputs": [],
   "source": [
    "pw.course_prize_set=5000"
   ]
  },
  {
   "cell_type": "code",
   "execution_count": 40,
   "id": "c6d2fbe8-b0cb-4170-a035-234e7f4ac51d",
   "metadata": {},
   "outputs": [
    {
     "data": {
      "text/plain": [
       "5000"
      ]
     },
     "execution_count": 40,
     "metadata": {},
     "output_type": "execute_result"
    }
   ],
   "source": [
    "pw.course_prize_access"
   ]
  },
  {
   "cell_type": "code",
   "execution_count": 41,
   "id": "3fdb149d-5f04-416f-8c01-f3f8f24d99c7",
   "metadata": {},
   "outputs": [],
   "source": [
    "pw.course_prize_set=1800"
   ]
  },
  {
   "cell_type": "code",
   "execution_count": 42,
   "id": "da05d30f-d685-49e2-ad43-0c0b61846d41",
   "metadata": {},
   "outputs": [
    {
     "data": {
      "text/plain": [
       "5000"
      ]
     },
     "execution_count": 42,
     "metadata": {},
     "output_type": "execute_result"
    }
   ],
   "source": [
    "pw.course_prize_access"
   ]
  },
  {
   "cell_type": "code",
   "execution_count": null,
   "id": "db4c732d-a700-469d-b83e-455d26ecb43e",
   "metadata": {},
   "outputs": [],
   "source": [
    "del pw.delet_course_prize    # here __course_prize has deleted"
   ]
  },
  {
   "cell_type": "code",
   "execution_count": 52,
   "id": "e8c5a1cf-648d-4108-a1fb-6d45b241d5d8",
   "metadata": {},
   "outputs": [
    {
     "ename": "AttributeError",
     "evalue": "'pwskills' object has no attribute '_pwskills__course_prize'",
     "output_type": "error",
     "traceback": [
      "\u001b[0;31m---------------------------------------------------------------------------\u001b[0m",
      "\u001b[0;31mAttributeError\u001b[0m                            Traceback (most recent call last)",
      "Cell \u001b[0;32mIn[52], line 1\u001b[0m\n\u001b[0;32m----> 1\u001b[0m \u001b[43mpw\u001b[49m\u001b[38;5;241;43m.\u001b[39;49m\u001b[43mcourse_prize_access\u001b[49m\n",
      "Cell \u001b[0;32mIn[46], line 8\u001b[0m, in \u001b[0;36mpwskills.course_prize_access\u001b[0;34m(self)\u001b[0m\n\u001b[1;32m      6\u001b[0m \u001b[38;5;129m@property\u001b[39m\n\u001b[1;32m      7\u001b[0m \u001b[38;5;28;01mdef\u001b[39;00m \u001b[38;5;21mcourse_prize_access\u001b[39m(\u001b[38;5;28mself\u001b[39m):\n\u001b[0;32m----> 8\u001b[0m     \u001b[38;5;28;01mreturn\u001b[39;00m \u001b[38;5;28;43mself\u001b[39;49m\u001b[38;5;241;43m.\u001b[39;49m\u001b[43m__course_prize\u001b[49m\n",
      "\u001b[0;31mAttributeError\u001b[0m: 'pwskills' object has no attribute '_pwskills__course_prize'"
     ]
    }
   ],
   "source": [
    "pw.course_prize_access"
   ]
  },
  {
   "cell_type": "code",
   "execution_count": null,
   "id": "7f89c115-50dd-492c-8cb7-a8b53c56b597",
   "metadata": {},
   "outputs": [],
   "source": []
  }
 ],
 "metadata": {
  "kernelspec": {
   "display_name": "Python 3 (ipykernel)",
   "language": "python",
   "name": "python3"
  },
  "language_info": {
   "codemirror_mode": {
    "name": "ipython",
    "version": 3
   },
   "file_extension": ".py",
   "mimetype": "text/x-python",
   "name": "python",
   "nbconvert_exporter": "python",
   "pygments_lexer": "ipython3",
   "version": "3.10.8"
  }
 },
 "nbformat": 4,
 "nbformat_minor": 5
}
