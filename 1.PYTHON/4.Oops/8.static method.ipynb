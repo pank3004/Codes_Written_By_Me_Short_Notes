{
 "cells": [
  {
   "cell_type": "code",
   "execution_count": 15,
   "id": "30412aed-2ac2-479b-baba-3c25ca4ec726",
   "metadata": {},
   "outputs": [],
   "source": [
    "class student:\n",
    "    def student_detail(self, name , email_id, mobile_num): \n",
    "        print(name, email_id, mobile_num)"
   ]
  },
  {
   "cell_type": "code",
   "execution_count": 16,
   "id": "02d39944-bd68-44ec-a989-de6e3ebc6d77",
   "metadata": {},
   "outputs": [],
   "source": [
    "system=student()"
   ]
  },
  {
   "cell_type": "code",
   "execution_count": 17,
   "id": "e0fd52f2-1b0d-41cb-823d-e37bf668eb95",
   "metadata": {},
   "outputs": [
    {
     "name": "stdout",
     "output_type": "stream",
     "text": [
      "pankaj pankaj@gmail.com 83037853687\n"
     ]
    }
   ],
   "source": [
    "system.student_detail('pankaj', 'pankaj@gmail.com' , 83037853687)"
   ]
  },
  {
   "cell_type": "code",
   "execution_count": 18,
   "id": "14e2d917-afae-47f7-96f6-fff752a218cc",
   "metadata": {},
   "outputs": [],
   "source": [
    "class student1:\n",
    "    def student_detail(self, name , email_id, mobile_num):  # this is accessable by objectt\n",
    "        print(name, email_id, mobile_num)\n",
    "        \n",
    "    @staticmethod\n",
    "    def types_of_student(list_of_student):     #  this is static method,,,,this method is like to the exteranal mehtod\n",
    "        print(list_of_student)"
   ]
  },
  {
   "cell_type": "code",
   "execution_count": 19,
   "id": "422b3fb4-6abe-498f-8782-26fafdd2ba08",
   "metadata": {},
   "outputs": [
    {
     "name": "stdout",
     "output_type": "stream",
     "text": [
      "['inteligent', 'average', 'weak']\n"
     ]
    }
   ],
   "source": [
    "student1.types_of_student(['inteligent', 'average', 'weak'])   "
   ]
  },
  {
   "cell_type": "code",
   "execution_count": 20,
   "id": "943b4eef-fdeb-4a6b-9197-9767dca1ba1f",
   "metadata": {},
   "outputs": [],
   "source": [
    "std1=student1()     "
   ]
  },
  {
   "cell_type": "code",
   "execution_count": 21,
   "id": "d78e9144-7a15-4ee7-85b7-9e3ba7c08911",
   "metadata": {},
   "outputs": [],
   "source": [
    "std2=student1()"
   ]
  },
  {
   "cell_type": "code",
   "execution_count": 22,
   "id": "dd02ef71-4d56-4f40-89c7-c78de695add5",
   "metadata": {},
   "outputs": [],
   "source": [
    "std3=student1()"
   ]
  },
  {
   "cell_type": "code",
   "execution_count": 23,
   "id": "9c767356-8d50-4ca2-bbda-6656d1d6ba69",
   "metadata": {},
   "outputs": [
    {
     "name": "stdout",
     "output_type": "stream",
     "text": [
      "pk pk@gmail.comm 2525252525\n"
     ]
    }
   ],
   "source": [
    "std1.student_detail('pk', 'pk@gmail.comm', 2525252525)"
   ]
  },
  {
   "cell_type": "code",
   "execution_count": 24,
   "id": "acc4be25-450c-45b4-91d6-50be13b384b6",
   "metadata": {},
   "outputs": [
    {
     "name": "stdout",
     "output_type": "stream",
     "text": [
      "raja raja@gmail.com 555656363625\n"
     ]
    }
   ],
   "source": [
    "std2.student_detail('raja', 'raja@gmail.com', 555656363625)"
   ]
  },
  {
   "cell_type": "code",
   "execution_count": 31,
   "id": "36ab6030-a432-4aed-a744-8415b6308ba6",
   "metadata": {},
   "outputs": [],
   "source": [
    "class student2:\n",
    "    def student_detail(self, name , email_id, mobile_num):  # this is accessable by objectt\n",
    "        print(name, email_id, mobile_num)\n",
    "        \n",
    "    @staticmethod\n",
    "    def types_of_student(list_of_student):     #  this is static method,,,,this method is like to the exteranal mehtod\n",
    "        print(list_of_student)                 # static method is directly associated with the class\n",
    "        \n",
    "    def mentor(list_of_mentor): \n",
    "        print(list_of_mentor)"
   ]
  },
  {
   "cell_type": "code",
   "execution_count": 32,
   "id": "9302ea9e-c488-456d-9441-5caed35c8082",
   "metadata": {},
   "outputs": [],
   "source": [
    "system2=student2"
   ]
  },
  {
   "cell_type": "code",
   "execution_count": 33,
   "id": "25b57957-e33d-4933-aad7-2e9869f1ec78",
   "metadata": {},
   "outputs": [
    {
     "name": "stdout",
     "output_type": "stream",
     "text": [
      "['manish', 'shudh']\n"
     ]
    }
   ],
   "source": [
    "system2.mentor(['manish', 'shudh'])"
   ]
  },
  {
   "cell_type": "code",
   "execution_count": 120,
   "id": "14337d8b-a6a3-4b4a-8e06-eed4ec097648",
   "metadata": {},
   "outputs": [],
   "source": [
    "# if we want to use static method in the class method/ instance metod then we can..\n",
    "class student3:\n",
    "    def student_detail(self, name , email_id, mobile_num):  # this is accessable by objectt\n",
    "        print(name, email_id, mobile_num)\n",
    "        \n",
    "    @staticmethod\n",
    "    def types_of_student(list_of_student):     \n",
    "        print(list_of_student) \n",
    "        \n",
    "    @classmethod\n",
    "    def class_name(cls,class_name):\n",
    "        cls.types_of_student(['inteligent', 'average', 'weak']) # call static method inside the class method\n",
    "        print(class_name)\n",
    "        \n",
    "    @staticmethod\n",
    "    def percentage(list_of_per): \n",
    "        student3.types_of_student(['topper', 'avg', 'weak'])   # calling static method inside the static maethod\n",
    "        print(list_of_per)\n",
    "        \n",
    "    def mentor(self, name_of_mentor):                          # calling static method inside the instance method\n",
    "        print(name_of_mentor)\n",
    "        self.percentage([77, 67 ,56])"
   ]
  },
  {
   "cell_type": "code",
   "execution_count": 121,
   "id": "cb655668-7fd3-4160-8be5-7a4e03d810de",
   "metadata": {},
   "outputs": [
    {
     "name": "stdout",
     "output_type": "stream",
     "text": [
      "['inteligent', 'average', 'weak']\n",
      "data science\n"
     ]
    }
   ],
   "source": [
    "student3.class_name('data science')"
   ]
  },
  {
   "cell_type": "code",
   "execution_count": 122,
   "id": "6a056918-cfbd-4d79-8b69-3fa16976a6e4",
   "metadata": {},
   "outputs": [
    {
     "name": "stdout",
     "output_type": "stream",
     "text": [
      "['topper', 'avg', 'weak']\n",
      "[90, 70, 50]\n"
     ]
    }
   ],
   "source": [
    "student3.percentage([90, 70, 50])"
   ]
  },
  {
   "cell_type": "code",
   "execution_count": 124,
   "id": "85aa7597-8c15-4f16-8464-2fa18f6f17d0",
   "metadata": {},
   "outputs": [],
   "source": [
    "system3=student3()"
   ]
  },
  {
   "cell_type": "code",
   "execution_count": 125,
   "id": "ee4fa43d-b7e7-4623-9b06-ccc5e554350a",
   "metadata": {},
   "outputs": [
    {
     "name": "stdout",
     "output_type": "stream",
     "text": [
      "['pankaj', 'sudh', 'raja']\n",
      "['topper', 'avg', 'weak']\n",
      "[77, 67, 56]\n"
     ]
    }
   ],
   "source": [
    "system3.mentor(['pankaj', 'sudh' , 'raja'])"
   ]
  },
  {
   "cell_type": "code",
   "execution_count": null,
   "id": "a9615115-b1e8-4606-af3c-e96970ac272c",
   "metadata": {},
   "outputs": [],
   "source": []
  }
 ],
 "metadata": {
  "kernelspec": {
   "display_name": "Python 3 (ipykernel)",
   "language": "python",
   "name": "python3"
  },
  "language_info": {
   "codemirror_mode": {
    "name": "ipython",
    "version": 3
   },
   "file_extension": ".py",
   "mimetype": "text/x-python",
   "name": "python",
   "nbconvert_exporter": "python",
   "pygments_lexer": "ipython3",
   "version": "3.10.8"
  }
 },
 "nbformat": 4,
 "nbformat_minor": 5
}
