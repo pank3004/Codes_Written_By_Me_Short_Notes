{
 "cells": [
  {
   "cell_type": "code",
   "execution_count": 1,
   "id": "a32711a9-cb51-4d8f-820f-9ac2eb27e4f6",
   "metadata": {},
   "outputs": [],
   "source": [
    "'''OOP’s is a programming pattern that is built around objects or entities, so it's called object-oriented programming system.\n",
    "\n",
    "   there are four major pillars in oops.Inheritance, Polymorphism, Encapsulation and Abstraction.'''"
   ]
  },
  {
   "cell_type": "code",
   "execution_count": 2,
   "id": "a470e832-3da0-494c-b0c9-279df8f76d49",
   "metadata": {},
   "outputs": [],
   "source": [
    "a=2"
   ]
  },
  {
   "cell_type": "code",
   "execution_count": 3,
   "id": "d6c51231-ad81-4cde-8e04-d7b04faa0b63",
   "metadata": {},
   "outputs": [
    {
     "data": {
      "text/plain": [
       "int"
      ]
     },
     "execution_count": 3,
     "metadata": {},
     "output_type": "execute_result"
    }
   ],
   "source": [
    "type(a)"
   ]
  },
  {
   "cell_type": "code",
   "execution_count": 4,
   "id": "a7b03368-7ab6-45aa-8148-50060ca22a05",
   "metadata": {},
   "outputs": [
    {
     "name": "stdout",
     "output_type": "stream",
     "text": [
      "<class 'int'>\n"
     ]
    }
   ],
   "source": [
    "print(type(a))"
   ]
  },
  {
   "cell_type": "code",
   "execution_count": 5,
   "id": "8c234cca-f805-4298-a7a9-745754953a97",
   "metadata": {},
   "outputs": [
    {
     "name": "stdout",
     "output_type": "stream",
     "text": [
      "<class 'str'>\n"
     ]
    }
   ],
   "source": [
    "print(type(\"pankaj\"))"
   ]
  },
  {
   "cell_type": "code",
   "execution_count": 6,
   "id": "3989e983-fec9-4529-9063-ace2ca9eb4ed",
   "metadata": {},
   "outputs": [],
   "source": [
    "class test: \n",
    "    pass"
   ]
  },
  {
   "cell_type": "code",
   "execution_count": 7,
   "id": "05323f58-4796-4743-b1a4-539d7ded253c",
   "metadata": {},
   "outputs": [],
   "source": [
    "a=test()"
   ]
  },
  {
   "cell_type": "code",
   "execution_count": 8,
   "id": "7c714804-9d2f-49bc-9339-05e5f6aca0c2",
   "metadata": {},
   "outputs": [
    {
     "data": {
      "text/plain": [
       "__main__.test"
      ]
     },
     "execution_count": 8,
     "metadata": {},
     "output_type": "execute_result"
    }
   ],
   "source": [
    "type(a)"
   ]
  },
  {
   "cell_type": "code",
   "execution_count": 9,
   "id": "6e5d4639-6d37-4bfb-8df8-4cfe0a4d1d08",
   "metadata": {},
   "outputs": [
    {
     "name": "stdout",
     "output_type": "stream",
     "text": [
      "<class '__main__.test'>\n"
     ]
    }
   ],
   "source": [
    "print(type(a))"
   ]
  },
  {
   "cell_type": "code",
   "execution_count": 10,
   "id": "fd14f77e-4abf-4df0-9b7e-94056e410cc7",
   "metadata": {},
   "outputs": [],
   "source": [
    "class india: \n",
    "    def welcome_msg(self):  \n",
    "        print(\"welcome to india\")"
   ]
  },
  {
   "cell_type": "code",
   "execution_count": 11,
   "id": "85571584-f86c-4dbe-bdeb-8c6326a44544",
   "metadata": {},
   "outputs": [],
   "source": [
    "pankaj=india()"
   ]
  },
  {
   "cell_type": "code",
   "execution_count": 12,
   "id": "4678b672-1d8b-4006-bfb8-b7de1e2b48db",
   "metadata": {},
   "outputs": [
    {
     "data": {
      "text/plain": [
       "<__main__.india at 0x7f2a0c309990>"
      ]
     },
     "execution_count": 12,
     "metadata": {},
     "output_type": "execute_result"
    }
   ],
   "source": [
    "pankaj"
   ]
  },
  {
   "cell_type": "code",
   "execution_count": 13,
   "id": "1f38e87e-2d2f-4b11-8303-2c102ed30945",
   "metadata": {},
   "outputs": [
    {
     "data": {
      "text/plain": [
       "__main__.india"
      ]
     },
     "execution_count": 13,
     "metadata": {},
     "output_type": "execute_result"
    }
   ],
   "source": [
    "type(pankaj)"
   ]
  },
  {
   "cell_type": "code",
   "execution_count": 14,
   "id": "c3c94084-a48b-4a1b-882a-1829d3112b3f",
   "metadata": {},
   "outputs": [
    {
     "name": "stdout",
     "output_type": "stream",
     "text": [
      "<class '__main__.india'>\n"
     ]
    }
   ],
   "source": [
    "print(type(pankaj))"
   ]
  },
  {
   "cell_type": "code",
   "execution_count": 15,
   "id": "216d8155-c1db-4c44-9e30-9af4b983bdce",
   "metadata": {},
   "outputs": [
    {
     "name": "stdout",
     "output_type": "stream",
     "text": [
      "welcome to india\n"
     ]
    }
   ],
   "source": [
    "pankaj.welcome_msg()"
   ]
  },
  {
   "cell_type": "code",
   "execution_count": 16,
   "id": "ae9c1b34-1c6c-4a33-b146-5180aff61f24",
   "metadata": {},
   "outputs": [],
   "source": [
    "raja=india()"
   ]
  },
  {
   "cell_type": "code",
   "execution_count": 17,
   "id": "c60c5805-5d98-4098-a2e1-c0947abb9ec3",
   "metadata": {},
   "outputs": [
    {
     "name": "stdout",
     "output_type": "stream",
     "text": [
      "welcome to india\n"
     ]
    }
   ],
   "source": [
    "raja.welcome_msg()"
   ]
  },
  {
   "cell_type": "code",
   "execution_count": 18,
   "id": "821127ea-bbcc-42bd-98da-992b9dd1fd5c",
   "metadata": {},
   "outputs": [],
   "source": [
    "rani=india()"
   ]
  },
  {
   "cell_type": "code",
   "execution_count": 19,
   "id": "8f9ae3ad-383b-4e83-814c-723b218d15ee",
   "metadata": {},
   "outputs": [
    {
     "name": "stdout",
     "output_type": "stream",
     "text": [
      "welcome to india\n"
     ]
    }
   ],
   "source": [
    "rani.welcome_msg()"
   ]
  },
  {
   "cell_type": "code",
   "execution_count": 20,
   "id": "7392d622-3582-4606-8ffc-fac10181d45f",
   "metadata": {},
   "outputs": [],
   "source": [
    "class student: \n",
    "    def __init__(self,phone_num, gmail_id, student_id): \n",
    "        self.phone_num=phone_num\n",
    "        self.gmail_id=gmail_id\n",
    "        self.student_id=student_id\n",
    "    def return_student_details(self):\n",
    "        return self.phone_num, self.gmail_id, self.student_id"
   ]
  },
  {
   "cell_type": "code",
   "execution_count": 21,
   "id": "0407a8f6-2cac-4c8e-985e-6b202e1a93df",
   "metadata": {},
   "outputs": [],
   "source": [
    "pankaj=student(42342344234,\"pankaj@gmail.com\", 6756)"
   ]
  },
  {
   "cell_type": "code",
   "execution_count": null,
   "id": "5e76ba07-4fca-4516-9243-26502f59d776",
   "metadata": {},
   "outputs": [],
   "source": [
    "'''Here, the student is a class that gives the blueprint to construct the object. When the class with corresponding properties\n",
    "   are passed into the pankaj variable then the variable pankaj will act as an object.\n",
    "\n",
    "   The self parameter is a reference to the current instance of the class, and is used to access variables that  belong to the\n",
    "   class.\n",
    "   \n",
    "   The class is just a blueprint to create an object so there is no limit in creating objects using a single  class. Thus, we\n",
    "   can create multiple objects using a single class.\n",
    "   \n",
    "   A constructor is a unique function that helps in building an object out of a class. Here, using __init__ we are assigning \n",
    "   values to the data members of that class.\n",
    "   \n",
    "   Class is a blueprint which defines some properties and behaviours.\n",
    "\n",
    "  '''"
   ]
  },
  {
   "cell_type": "code",
   "execution_count": 22,
   "id": "5a93aa74-c909-4d42-bbc5-57f0ef7af935",
   "metadata": {},
   "outputs": [
    {
     "data": {
      "text/plain": [
       "(42342344234, 'pankaj@gmail.com', 6756)"
      ]
     },
     "execution_count": 22,
     "metadata": {},
     "output_type": "execute_result"
    }
   ],
   "source": [
    "pankaj.return_student_details()"
   ]
  },
  {
   "cell_type": "code",
   "execution_count": 23,
   "id": "7db710a3-a933-429b-87b9-d207b9cddc87",
   "metadata": {},
   "outputs": [],
   "source": [
    "raja=student(44555554424,\"raja@gmail.com\", 445532)"
   ]
  },
  {
   "cell_type": "code",
   "execution_count": 24,
   "id": "4508a59c-4fcc-48c5-b7dd-4086ca38ee9e",
   "metadata": {},
   "outputs": [
    {
     "data": {
      "text/plain": [
       "(44555554424, 'raja@gmail.com', 445532)"
      ]
     },
     "execution_count": 24,
     "metadata": {},
     "output_type": "execute_result"
    }
   ],
   "source": [
    "raja.return_student_details()"
   ]
  },
  {
   "cell_type": "code",
   "execution_count": 25,
   "id": "04f1c29e-41e7-4f6d-ac60-ed28bc12a962",
   "metadata": {},
   "outputs": [
    {
     "data": {
      "text/plain": [
       "42342344234"
      ]
     },
     "execution_count": 25,
     "metadata": {},
     "output_type": "execute_result"
    }
   ],
   "source": [
    "pankaj.phone_num"
   ]
  },
  {
   "cell_type": "code",
   "execution_count": 26,
   "id": "45837bed-665c-4829-af17-68089ad06ff4",
   "metadata": {},
   "outputs": [
    {
     "data": {
      "text/plain": [
       "'raja@gmail.com'"
      ]
     },
     "execution_count": 26,
     "metadata": {},
     "output_type": "execute_result"
    }
   ],
   "source": [
    "raja.gmail_id"
   ]
  },
  {
   "cell_type": "code",
   "execution_count": 27,
   "id": "b09c8b98-303a-4b91-8c42-c1bc3ed6e9c0",
   "metadata": {},
   "outputs": [],
   "source": [
    "class student2: \n",
    "    def __init__(self,phone_num, gmail_id, student_id): \n",
    "        self.phone_num2=phone_num\n",
    "        self.gmail_id2=gmail_id\n",
    "        self.student_id2=student_id\n",
    "    def return_student_details(self):\n",
    "        return self.phone_num2, self.gmail_id2, self.student_id2"
   ]
  },
  {
   "cell_type": "code",
   "execution_count": 28,
   "id": "a3a4df46-1ee2-4b6a-9c32-d32b86f89036",
   "metadata": {},
   "outputs": [],
   "source": [
    "rani=student2(35525626,'rani@gmail.com', 55476)"
   ]
  },
  {
   "cell_type": "code",
   "execution_count": 29,
   "id": "f196c6e9-3818-4776-bd17-22566775226c",
   "metadata": {},
   "outputs": [
    {
     "data": {
      "text/plain": [
       "(35525626, 'rani@gmail.com', 55476)"
      ]
     },
     "execution_count": 29,
     "metadata": {},
     "output_type": "execute_result"
    }
   ],
   "source": [
    "rani.return_student_details()"
   ]
  },
  {
   "cell_type": "code",
   "execution_count": 30,
   "id": "2d366a19-cfbc-420c-a4fc-022a020f80ae",
   "metadata": {},
   "outputs": [
    {
     "ename": "AttributeError",
     "evalue": "'student2' object has no attribute 'gmail_id'",
     "output_type": "error",
     "traceback": [
      "\u001b[0;31m---------------------------------------------------------------------------\u001b[0m",
      "\u001b[0;31mAttributeError\u001b[0m                            Traceback (most recent call last)",
      "Cell \u001b[0;32mIn[30], line 1\u001b[0m\n\u001b[0;32m----> 1\u001b[0m \u001b[43mrani\u001b[49m\u001b[38;5;241;43m.\u001b[39;49m\u001b[43mgmail_id\u001b[49m\n",
      "\u001b[0;31mAttributeError\u001b[0m: 'student2' object has no attribute 'gmail_id'"
     ]
    }
   ],
   "source": [
    "rani.gmail_id"
   ]
  },
  {
   "cell_type": "code",
   "execution_count": 32,
   "id": "e4e7f4bb-0fe9-40f1-8e6f-5dd0e30f37f1",
   "metadata": {},
   "outputs": [
    {
     "data": {
      "text/plain": [
       "'rani@gmail.com'"
      ]
     },
     "execution_count": 32,
     "metadata": {},
     "output_type": "execute_result"
    }
   ],
   "source": [
    "rani.gmail_id2"
   ]
  },
  {
   "cell_type": "code",
   "execution_count": 33,
   "id": "6ee4354f-d062-48b8-9212-50de550e9f49",
   "metadata": {},
   "outputs": [],
   "source": [
    "class student3: \n",
    "    def __init__(versha,phone_num, gmail_id, student_id): \n",
    "        versha.phone_num2=phone_num\n",
    "        versha.gmail_id2=gmail_id\n",
    "        versha.student_id2=student_id\n",
    "    def return_student_details(self):\n",
    "        return versha.phone_num2, versha.gmail_id2, versha.student_id2"
   ]
  },
  {
   "cell_type": "code",
   "execution_count": 34,
   "id": "4d733882-7e79-4bcc-92a9-c8384ed0b653",
   "metadata": {},
   "outputs": [],
   "source": [
    "Aman=student3(22423442334, \"aman@gmail.com\", 234)"
   ]
  },
  {
   "cell_type": "code",
   "execution_count": 35,
   "id": "82c02bc9-1e96-481b-acb7-800f044f494b",
   "metadata": {},
   "outputs": [
    {
     "data": {
      "text/plain": [
       "22423442334"
      ]
     },
     "execution_count": 35,
     "metadata": {},
     "output_type": "execute_result"
    }
   ],
   "source": [
    "Aman.phone_num2      #it means self not a reseaverd word we can use anything"
   ]
  },
  {
   "cell_type": "code",
   "execution_count": null,
   "id": "3601d773-cd36-4c3e-9768-195b28f06a6f",
   "metadata": {},
   "outputs": [],
   "source": []
  }
 ],
 "metadata": {
  "kernelspec": {
   "display_name": "Python 3 (ipykernel)",
   "language": "python",
   "name": "python3"
  },
  "language_info": {
   "codemirror_mode": {
    "name": "ipython",
    "version": 3
   },
   "file_extension": ".py",
   "mimetype": "text/x-python",
   "name": "python",
   "nbconvert_exporter": "python",
   "pygments_lexer": "ipython3",
   "version": "3.10.8"
  }
 },
 "nbformat": 4,
 "nbformat_minor": 5
}
