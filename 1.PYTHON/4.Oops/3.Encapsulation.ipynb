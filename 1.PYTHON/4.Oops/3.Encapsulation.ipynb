{
 "cells": [
  {
   "cell_type": "code",
   "execution_count": 2,
   "id": "8aadcd30-35fc-499d-bd2f-9c5a92eb60ce",
   "metadata": {},
   "outputs": [],
   "source": [
    "class system: \n",
    "    def __init__(self, p, q): \n",
    "        self.p=p\n",
    "        self.q=q"
   ]
  },
  {
   "cell_type": "code",
   "execution_count": 3,
   "id": "56efe87d-6fbf-4b36-b101-f5218726687c",
   "metadata": {},
   "outputs": [],
   "source": [
    "raja=system(4,678)"
   ]
  },
  {
   "cell_type": "code",
   "execution_count": 4,
   "id": "19a28cb9-0d23-4250-a651-9ab6761335f0",
   "metadata": {},
   "outputs": [
    {
     "data": {
      "text/plain": [
       "4"
      ]
     },
     "execution_count": 4,
     "metadata": {},
     "output_type": "execute_result"
    }
   ],
   "source": [
    "raja.p"
   ]
  },
  {
   "cell_type": "code",
   "execution_count": 49,
   "id": "d4da40b7-5724-4f4e-85a1-c6b2ea62eed5",
   "metadata": {},
   "outputs": [],
   "source": [
    "raja.p=68768"
   ]
  },
  {
   "cell_type": "code",
   "execution_count": 50,
   "id": "73f9fa7b-f478-4c34-af73-231f71d992ae",
   "metadata": {},
   "outputs": [
    {
     "data": {
      "text/plain": [
       "68768"
      ]
     },
     "execution_count": 50,
     "metadata": {},
     "output_type": "execute_result"
    }
   ],
   "source": [
    "raja.p"
   ]
  },
  {
   "cell_type": "code",
   "execution_count": 51,
   "id": "9c6d669d-d2ba-4227-8338-a19d5e676a21",
   "metadata": {},
   "outputs": [],
   "source": [
    "# raja.  here if we click the tabe then p and q instance will be show"
   ]
  },
  {
   "cell_type": "code",
   "execution_count": 52,
   "id": "533b1324-7699-4afb-9be0-213bb8b5cb78",
   "metadata": {},
   "outputs": [],
   "source": [
    "class student: \n",
    "    def __init__(self, age, student_id, mobile_number, section):\n",
    "        self.__age=age\n",
    "        self.__student_id=student_id\n",
    "        self.__mobile_number=mobile_number\n",
    "        self.__section=section"
   ]
  },
  {
   "cell_type": "code",
   "execution_count": 53,
   "id": "0400bb44-49ea-4ffc-b184-de496fdfb3b7",
   "metadata": {},
   "outputs": [],
   "source": [
    "system=student(20, 'S04',2344234433, 'D')\n"
   ]
  },
  {
   "cell_type": "code",
   "execution_count": 54,
   "id": "89f466de-5e29-4263-9cf2-33ea0b20590f",
   "metadata": {},
   "outputs": [
    {
     "data": {
      "text/plain": [
       "20"
      ]
     },
     "execution_count": 54,
     "metadata": {},
     "output_type": "execute_result"
    }
   ],
   "source": [
    "system._student__age"
   ]
  },
  {
   "cell_type": "code",
   "execution_count": 55,
   "id": "06fb1141-d2b3-4805-befd-e56a4eca52bb",
   "metadata": {},
   "outputs": [],
   "source": [
    "# system.    here if we click the tabe then ... ... ... .. instance will be not show"
   ]
  },
  {
   "cell_type": "code",
   "execution_count": 78,
   "id": "e8dc2ece-cc6d-4074-8097-98470573ec90",
   "metadata": {},
   "outputs": [],
   "source": [
    "class car: \n",
    "    def __init__(self, modal, prize, year, speed): \n",
    "        self.__modal=modal\n",
    "        self.__prize=prize\n",
    "        self.__year=year\n",
    "        self.__speed=speed\n",
    "    def set_speed(self,speed):  \n",
    "        self.__speed=0 if speed<=0 else speed \n",
    "    def get_speed(self): \n",
    "        return self.__speed"
   ]
  },
  {
   "cell_type": "code",
   "execution_count": 79,
   "id": "1b938844-d21a-4573-9b4f-8a0c6fe3f186",
   "metadata": {},
   "outputs": [],
   "source": [
    "systemm=car('toyta', 34244234, 2342, 324)"
   ]
  },
  {
   "cell_type": "code",
   "execution_count": 80,
   "id": "06961812-4f72-4639-917f-6b8970f73f22",
   "metadata": {},
   "outputs": [
    {
     "data": {
      "text/plain": [
       "'toyta'"
      ]
     },
     "execution_count": 80,
     "metadata": {},
     "output_type": "execute_result"
    }
   ],
   "source": [
    "systemm._car__modal"
   ]
  },
  {
   "cell_type": "code",
   "execution_count": 81,
   "id": "e52e98f9-d710-4598-ba1c-21d025fc848a",
   "metadata": {},
   "outputs": [],
   "source": [
    "systemm.set_speed(344)"
   ]
  },
  {
   "cell_type": "code",
   "execution_count": 82,
   "id": "4377ea13-9a0e-4efb-b64a-77217852ce21",
   "metadata": {},
   "outputs": [
    {
     "data": {
      "text/plain": [
       "344"
      ]
     },
     "execution_count": 82,
     "metadata": {},
     "output_type": "execute_result"
    }
   ],
   "source": [
    "systemm.get_speed()"
   ]
  },
  {
   "cell_type": "code",
   "execution_count": 83,
   "id": "47df381e-eadd-40c4-b66a-8eb840176f49",
   "metadata": {},
   "outputs": [],
   "source": [
    "systemm.set_speed(-34)"
   ]
  },
  {
   "cell_type": "code",
   "execution_count": 84,
   "id": "c121e539-2f3c-4658-aff6-3f08cb470424",
   "metadata": {},
   "outputs": [
    {
     "data": {
      "text/plain": [
       "0"
      ]
     },
     "execution_count": 84,
     "metadata": {},
     "output_type": "execute_result"
    }
   ],
   "source": [
    "systemm.get_speed()"
   ]
  },
  {
   "cell_type": "code",
   "execution_count": 127,
   "id": "d85bb72a-c010-421c-a83c-629381cf308c",
   "metadata": {},
   "outputs": [],
   "source": [
    "class bank: \n",
    "    def __init__(self, balance):\n",
    "        self.__balance=balance\n",
    "    def deposit(self,amount):\n",
    "        self.__balance=self.__balance+amount\n",
    "    def withraw(self, am): \n",
    "        if self.__balance>=am:\n",
    "            self.__balance=self.__balance-am\n",
    "            return True\n",
    "        else: \n",
    "            return False\n",
    "    def get_balance(self): \n",
    "        return self.__balance"
   ]
  },
  {
   "cell_type": "code",
   "execution_count": 136,
   "id": "7ed48862-56a0-4ee4-80fd-3d4e744682d3",
   "metadata": {},
   "outputs": [],
   "source": [
    "pankaj=bank(10000)"
   ]
  },
  {
   "cell_type": "code",
   "execution_count": 137,
   "id": "79c99868-c169-4441-94e9-ae64de7f851d",
   "metadata": {},
   "outputs": [
    {
     "data": {
      "text/plain": [
       "10000"
      ]
     },
     "execution_count": 137,
     "metadata": {},
     "output_type": "execute_result"
    }
   ],
   "source": [
    "pankaj.get_balance()"
   ]
  },
  {
   "cell_type": "code",
   "execution_count": 138,
   "id": "1217a0ab-1b00-4a7c-bbed-f1bcb277a204",
   "metadata": {},
   "outputs": [],
   "source": [
    "pankaj.deposit(20000)"
   ]
  },
  {
   "cell_type": "code",
   "execution_count": 139,
   "id": "8a091187-fdf6-4eed-880e-211d553ed395",
   "metadata": {},
   "outputs": [
    {
     "data": {
      "text/plain": [
       "30000"
      ]
     },
     "execution_count": 139,
     "metadata": {},
     "output_type": "execute_result"
    }
   ],
   "source": [
    "pankaj.get_balance()"
   ]
  },
  {
   "cell_type": "code",
   "execution_count": 140,
   "id": "04cda372-4167-4465-90b7-583d029387d7",
   "metadata": {},
   "outputs": [
    {
     "data": {
      "text/plain": [
       "False"
      ]
     },
     "execution_count": 140,
     "metadata": {},
     "output_type": "execute_result"
    }
   ],
   "source": [
    "pankaj.withraw(35000)"
   ]
  },
  {
   "cell_type": "code",
   "execution_count": 141,
   "id": "5b9daf66-18dc-4546-bd32-1722298588f7",
   "metadata": {},
   "outputs": [
    {
     "data": {
      "text/plain": [
       "True"
      ]
     },
     "execution_count": 141,
     "metadata": {},
     "output_type": "execute_result"
    }
   ],
   "source": [
    "pankaj.withraw(15000)"
   ]
  },
  {
   "cell_type": "code",
   "execution_count": 142,
   "id": "7ee62a91-6038-4d89-bf5e-85b4f7547450",
   "metadata": {},
   "outputs": [
    {
     "data": {
      "text/plain": [
       "15000"
      ]
     },
     "execution_count": 142,
     "metadata": {},
     "output_type": "execute_result"
    }
   ],
   "source": [
    "pankaj.get_balance()"
   ]
  }
 ],
 "metadata": {
  "kernelspec": {
   "display_name": "Python 3 (ipykernel)",
   "language": "python",
   "name": "python3"
  },
  "language_info": {
   "codemirror_mode": {
    "name": "ipython",
    "version": 3
   },
   "file_extension": ".py",
   "mimetype": "text/x-python",
   "name": "python",
   "nbconvert_exporter": "python",
   "pygments_lexer": "ipython3",
   "version": "3.10.8"
  }
 },
 "nbformat": 4,
 "nbformat_minor": 5
}
