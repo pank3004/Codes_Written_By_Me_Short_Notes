{
 "cells": [
  {
   "cell_type": "code",
   "execution_count": 1,
   "id": "d2803725-ce6d-4b50-9e70-bc7ea15c6c90",
   "metadata": {},
   "outputs": [
    {
     "name": "stdin",
     "output_type": "stream",
     "text": [
      " 10\n"
     ]
    }
   ],
   "source": [
    "a=input()"
   ]
  },
  {
   "cell_type": "code",
   "execution_count": 2,
   "id": "d469a4f4-4c9b-4c1c-ac7a-d4c189490bab",
   "metadata": {},
   "outputs": [
    {
     "data": {
      "text/plain": [
       "'10'"
      ]
     },
     "execution_count": 2,
     "metadata": {},
     "output_type": "execute_result"
    }
   ],
   "source": [
    "a"
   ]
  },
  {
   "cell_type": "code",
   "execution_count": 3,
   "id": "4768899a-a8b7-4e5b-a71c-7f7727c54f59",
   "metadata": {},
   "outputs": [
    {
     "data": {
      "text/plain": [
       "str"
      ]
     },
     "execution_count": 3,
     "metadata": {},
     "output_type": "execute_result"
    }
   ],
   "source": [
    "type(a)"
   ]
  },
  {
   "cell_type": "code",
   "execution_count": 4,
   "id": "9d079acd-915b-4d6b-8d3f-decc55146c13",
   "metadata": {},
   "outputs": [],
   "source": [
    "a=int(a)"
   ]
  },
  {
   "cell_type": "code",
   "execution_count": 5,
   "id": "eeb0d213-1049-4834-8d47-88ef34c0f956",
   "metadata": {},
   "outputs": [
    {
     "data": {
      "text/plain": [
       "10"
      ]
     },
     "execution_count": 5,
     "metadata": {},
     "output_type": "execute_result"
    }
   ],
   "source": [
    "a"
   ]
  },
  {
   "cell_type": "code",
   "execution_count": 6,
   "id": "e78c1e64-3199-4656-b92d-835c2c487c95",
   "metadata": {},
   "outputs": [
    {
     "data": {
      "text/plain": [
       "int"
      ]
     },
     "execution_count": 6,
     "metadata": {},
     "output_type": "execute_result"
    }
   ],
   "source": [
    "type(a)"
   ]
  },
  {
   "cell_type": "code",
   "execution_count": 8,
   "id": "f37076ae-2a94-4b6b-8567-5a204a5deb92",
   "metadata": {},
   "outputs": [
    {
     "name": "stdin",
     "output_type": "stream",
     "text": [
      "Enter a number:  36\n"
     ]
    }
   ],
   "source": [
    "b=int(input(\"Enter a number: \"))"
   ]
  },
  {
   "cell_type": "code",
   "execution_count": 9,
   "id": "b8e47106-cf49-4aa5-8fc9-e866ca3c8cb0",
   "metadata": {},
   "outputs": [
    {
     "data": {
      "text/plain": [
       "36"
      ]
     },
     "execution_count": 9,
     "metadata": {},
     "output_type": "execute_result"
    }
   ],
   "source": [
    "b"
   ]
  },
  {
   "cell_type": "code",
   "execution_count": 11,
   "id": "5ab9b8aa-5a70-4936-be40-fba4d932ee24",
   "metadata": {},
   "outputs": [
    {
     "data": {
      "text/plain": [
       "int"
      ]
     },
     "execution_count": 11,
     "metadata": {},
     "output_type": "execute_result"
    }
   ],
   "source": [
    "type(b)"
   ]
  },
  {
   "cell_type": "code",
   "execution_count": 14,
   "id": "d8073895-b9da-402a-83a7-77fb96adaaf7",
   "metadata": {},
   "outputs": [
    {
     "name": "stdin",
     "output_type": "stream",
     "text": [
      "Enter a number:  56\n"
     ]
    },
    {
     "name": "stdout",
     "output_type": "stream",
     "text": [
      "positive number\n"
     ]
    }
   ],
   "source": [
    "x=int(input(\"Enter a number: \"))\n",
    "if x>0: \n",
    "    print(\"positive number\")\n",
    "elif x<0: \n",
    "    print(\"negitive number\")\n",
    "else: \n",
    "    print(\"this is zero\")"
   ]
  },
  {
   "cell_type": "code",
   "execution_count": 18,
   "id": "05e2b82b-25f2-4c4d-aaf4-b1b2aba2fdcf",
   "metadata": {},
   "outputs": [
    {
     "ename": "IndentationError",
     "evalue": "expected an indented block after 'else' statement on line 5 (1724724128.py, line 6)",
     "output_type": "error",
     "traceback": [
      "\u001b[0;36m  Cell \u001b[0;32mIn[18], line 6\u001b[0;36m\u001b[0m\n\u001b[0;31m    print(\"this is zero\")\u001b[0m\n\u001b[0m    ^\u001b[0m\n\u001b[0;31mIndentationError\u001b[0m\u001b[0;31m:\u001b[0m expected an indented block after 'else' statement on line 5\n"
     ]
    }
   ],
   "source": [
    "if x>0: \n",
    "    print(\"positive number\")\n",
    "elif x<0: \n",
    "    print(\"negitive number\")\n",
    "else: \n",
    "print(\"this is zero\")\n",
    "    "
   ]
  },
  {
   "cell_type": "code",
   "execution_count": 1,
   "id": "b4e93a57-5b97-4e79-be78-6369dce81778",
   "metadata": {},
   "outputs": [
    {
     "name": "stdout",
     "output_type": "stream",
     "text": [
      "1\n",
      "2\n",
      "3\n"
     ]
    }
   ],
   "source": [
    "n=4\n",
    "i=1\n",
    "while(i<n): \n",
    "    print(i)\n",
    "    i=i+1"
   ]
  },
  {
   "cell_type": "code",
   "execution_count": 1,
   "id": "546822a6-22d6-443c-a591-c846324479c9",
   "metadata": {},
   "outputs": [
    {
     "name": "stdout",
     "output_type": "stream",
     "text": [
      "1\n",
      "2\n",
      "3\n",
      "4\n",
      "5\n",
      "this is only print when while loop naturally completed\n"
     ]
    }
   ],
   "source": [
    "n=5\n",
    "i=1\n",
    "while i<=n: \n",
    "    print(i)\n",
    "    i=i+1  \n",
    "else: \n",
    "    print(\"this is only print when while loop naturally completed\")"
   ]
  },
  {
   "cell_type": "code",
   "execution_count": 2,
   "id": "b5cf9c39-42bb-4ed2-8253-988104d883ab",
   "metadata": {},
   "outputs": [
    {
     "name": "stdout",
     "output_type": "stream",
     "text": [
      "1\n",
      "2\n"
     ]
    }
   ],
   "source": [
    "n=5\n",
    "i=1\n",
    "while i<=n: \n",
    "    print(i)\n",
    "    i=i+1 \n",
    "    if i==3: \n",
    "        break\n",
    "else: \n",
    "    print(\"this is only print when while loop naturally completed\")"
   ]
  },
  {
   "cell_type": "code",
   "execution_count": 5,
   "id": "892fdcc2-4261-46cf-aad1-a81c9e8f1c02",
   "metadata": {},
   "outputs": [
    {
     "name": "stdout",
     "output_type": "stream",
     "text": [
      "2\n",
      "4\n",
      "5\n",
      "6\n",
      "this is only print when while loop naturally completed\n"
     ]
    }
   ],
   "source": [
    "n=5\n",
    "i=1\n",
    "while i<=n: \n",
    "    i=i+1\n",
    "    if i==3: \n",
    "        continue\n",
    "    print(i)\n",
    "else: \n",
    "    print(\"this is only print when while loop naturally completed\")"
   ]
  },
  {
   "cell_type": "code",
   "execution_count": 2,
   "id": "95418959-7db5-4131-8698-9b3602d42443",
   "metadata": {},
   "outputs": [
    {
     "name": "stdout",
     "output_type": "stream",
     "text": [
      "p\n",
      "a\n",
      "n\n",
      "k\n",
      "a\n",
      "j\n"
     ]
    }
   ],
   "source": [
    "ch=\"pankaj\"\n",
    "for character in ch: \n",
    "    print(character)"
   ]
  },
  {
   "cell_type": "code",
   "execution_count": 8,
   "id": "0db2046f-4678-4008-9b12-149bd7bba1a0",
   "metadata": {},
   "outputs": [
    {
     "name": "stdout",
     "output_type": "stream",
     "text": [
      "p\n",
      "a\n",
      "n\n",
      "k\n",
      "a\n",
      "j\n",
      "this in only print when for loop naturally completed\n"
     ]
    }
   ],
   "source": [
    "ch=\"pankaj\"\n",
    "for character in ch: \n",
    "    print(character)\n",
    "else: \n",
    "    print(\"this in only print when for loop naturally completed\")"
   ]
  },
  {
   "cell_type": "code",
   "execution_count": 9,
   "id": "6a8de915-a4e9-4651-94d0-183610cc49fe",
   "metadata": {},
   "outputs": [
    {
     "name": "stdout",
     "output_type": "stream",
     "text": [
      "p\n",
      "a\n"
     ]
    }
   ],
   "source": [
    "ch=\"pankaj\"\n",
    "for character in ch: \n",
    "    if character=='n': \n",
    "        break\n",
    "    print(character)\n",
    "else: \n",
    "    print(\"this in only print when for loop naturally completed\")"
   ]
  },
  {
   "cell_type": "code",
   "execution_count": 10,
   "id": "adb506b8-c011-44c5-81f9-b23339e8641e",
   "metadata": {},
   "outputs": [
    {
     "name": "stdout",
     "output_type": "stream",
     "text": [
      "p\n",
      "a\n",
      "k\n",
      "a\n",
      "j\n",
      "this in only print when for loop naturally completed\n"
     ]
    }
   ],
   "source": [
    "ch=\"pankaj\"\n",
    "for character in ch: \n",
    "    if character=='n': \n",
    "        continue\n",
    "    print(character)\n",
    "else: \n",
    "    print(\"this in only print when for loop naturally completed\")"
   ]
  },
  {
   "cell_type": "code",
   "execution_count": 7,
   "id": "8a242761-8807-417b-8a2b-f6229921e67c",
   "metadata": {},
   "outputs": [
    {
     "name": "stdout",
     "output_type": "stream",
     "text": [
      "1 , <class 'int'>\n",
      "4 , <class 'int'>\n",
      "8.5 , <class 'float'>\n",
      "pankaj , <class 'str'>\n",
      "raja , <class 'str'>\n",
      "True , <class 'bool'>\n",
      "0 , <class 'int'>\n",
      "c , <class 'str'>\n"
     ]
    }
   ],
   "source": [
    "l=[1,4,8.5,\"pankaj\", 'raja', True, 0, 'c']\n",
    "for i in l: \n",
    "    print(i, \",\" , type(i))"
   ]
  },
  {
   "cell_type": "code",
   "execution_count": null,
   "id": "f99bce56-821c-47fc-a761-5c65da205a9a",
   "metadata": {},
   "outputs": [],
   "source": []
  }
 ],
 "metadata": {
  "kernelspec": {
   "display_name": "Python 3 (ipykernel)",
   "language": "python",
   "name": "python3"
  },
  "language_info": {
   "codemirror_mode": {
    "name": "ipython",
    "version": 3
   },
   "file_extension": ".py",
   "mimetype": "text/x-python",
   "name": "python",
   "nbconvert_exporter": "python",
   "pygments_lexer": "ipython3",
   "version": "3.10.8"
  }
 },
 "nbformat": 4,
 "nbformat_minor": 5
}
