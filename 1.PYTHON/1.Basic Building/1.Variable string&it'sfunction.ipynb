{
 "cells": [
  {
   "cell_type": "code",
   "execution_count": 7,
   "id": "413ba70c-4e6c-4baa-bfeb-757542bf979f",
   "metadata": {},
   "outputs": [
    {
     "data": {
      "text/plain": [
       "1"
      ]
     },
     "execution_count": 7,
     "metadata": {},
     "output_type": "execute_result"
    }
   ],
   "source": [
    "6-5"
   ]
  },
  {
   "cell_type": "code",
   "execution_count": null,
   "id": "3ecbcac3-83de-4dee-9d01-fa8bc976b32b",
   "metadata": {},
   "outputs": [],
   "source": [
    "a=5"
   ]
  },
  {
   "cell_type": "code",
   "execution_count": 8,
   "id": "bbadd737-f6cd-4b7b-807d-e58a780c97ad",
   "metadata": {},
   "outputs": [
    {
     "data": {
      "text/plain": [
       "5"
      ]
     },
     "execution_count": 8,
     "metadata": {},
     "output_type": "execute_result"
    }
   ],
   "source": [
    "a"
   ]
  },
  {
   "cell_type": "code",
   "execution_count": 9,
   "id": "c80b1650-bd48-441a-86d9-8448453b96dd",
   "metadata": {},
   "outputs": [
    {
     "data": {
      "text/plain": [
       "int"
      ]
     },
     "execution_count": 9,
     "metadata": {},
     "output_type": "execute_result"
    }
   ],
   "source": [
    "type(a)"
   ]
  },
  {
   "cell_type": "code",
   "execution_count": 4,
   "id": "dfd92844-54b7-4830-8a1b-f087adff0793",
   "metadata": {},
   "outputs": [],
   "source": [
    "b=6+7j"
   ]
  },
  {
   "cell_type": "code",
   "execution_count": 5,
   "id": "a7a7377b-5f2a-4695-8980-1ca62e5eaae6",
   "metadata": {},
   "outputs": [
    {
     "data": {
      "text/plain": [
       "complex"
      ]
     },
     "execution_count": 5,
     "metadata": {},
     "output_type": "execute_result"
    }
   ],
   "source": [
    "type(b)"
   ]
  },
  {
   "cell_type": "code",
   "execution_count": 7,
   "id": "d3d90878-f719-44a1-987f-a2f9f7f5f2c8",
   "metadata": {},
   "outputs": [
    {
     "data": {
      "text/plain": [
       "6.0"
      ]
     },
     "execution_count": 7,
     "metadata": {},
     "output_type": "execute_result"
    }
   ],
   "source": [
    "b.real"
   ]
  },
  {
   "cell_type": "code",
   "execution_count": 8,
   "id": "51ac57ff-1c17-4e45-adb1-1b7f0f59e952",
   "metadata": {},
   "outputs": [
    {
     "data": {
      "text/plain": [
       "7.0"
      ]
     },
     "execution_count": 8,
     "metadata": {},
     "output_type": "execute_result"
    }
   ],
   "source": [
    "b.imag"
   ]
  },
  {
   "cell_type": "code",
   "execution_count": 9,
   "id": "bf55561a-fc12-4c34-8a30-94bef8de35ba",
   "metadata": {},
   "outputs": [],
   "source": [
    "a=\"pankaj\""
   ]
  },
  {
   "cell_type": "code",
   "execution_count": 10,
   "id": "468fa599-0b9e-40f6-ac6b-a1012b6d830c",
   "metadata": {},
   "outputs": [
    {
     "data": {
      "text/plain": [
       "'pankaj'"
      ]
     },
     "execution_count": 10,
     "metadata": {},
     "output_type": "execute_result"
    }
   ],
   "source": [
    "a"
   ]
  },
  {
   "cell_type": "code",
   "execution_count": 11,
   "id": "b27cd37b-f38b-49f5-be00-162e75ec8161",
   "metadata": {},
   "outputs": [
    {
     "data": {
      "text/plain": [
       "str"
      ]
     },
     "execution_count": 11,
     "metadata": {},
     "output_type": "execute_result"
    }
   ],
   "source": [
    "type(a)"
   ]
  },
  {
   "cell_type": "code",
   "execution_count": 12,
   "id": "93ba80e6-c9ae-46ac-bf82-8b21024b0e1c",
   "metadata": {},
   "outputs": [],
   "source": [
    "a=True"
   ]
  },
  {
   "cell_type": "code",
   "execution_count": 13,
   "id": "ec74267b-f227-4b48-aebf-98ed1be288bc",
   "metadata": {},
   "outputs": [
    {
     "data": {
      "text/plain": [
       "True"
      ]
     },
     "execution_count": 13,
     "metadata": {},
     "output_type": "execute_result"
    }
   ],
   "source": [
    "a"
   ]
  },
  {
   "cell_type": "code",
   "execution_count": 14,
   "id": "885a939d-2d6d-45d6-a2ce-81208771b54c",
   "metadata": {},
   "outputs": [
    {
     "data": {
      "text/plain": [
       "0"
      ]
     },
     "execution_count": 14,
     "metadata": {},
     "output_type": "execute_result"
    }
   ],
   "source": [
    "True*False"
   ]
  },
  {
   "cell_type": "code",
   "execution_count": 15,
   "id": "6f7b9257-a24a-43e8-92cb-d3a23035a7a2",
   "metadata": {},
   "outputs": [
    {
     "name": "stdout",
     "output_type": "stream",
     "text": [
      "pankaj kumawat\n"
     ]
    }
   ],
   "source": [
    "print(\"pankaj kumawat\")"
   ]
  },
  {
   "cell_type": "code",
   "execution_count": 16,
   "id": "36b9bf64-1668-437e-b795-1fbf1cbab846",
   "metadata": {},
   "outputs": [],
   "source": [
    "v=\"pankaj\""
   ]
  },
  {
   "cell_type": "code",
   "execution_count": 17,
   "id": "efcf2730-f901-4b1c-9f13-b7c05e3663c7",
   "metadata": {},
   "outputs": [
    {
     "data": {
      "text/plain": [
       "'p'"
      ]
     },
     "execution_count": 17,
     "metadata": {},
     "output_type": "execute_result"
    }
   ],
   "source": [
    "v[0]"
   ]
  },
  {
   "cell_type": "code",
   "execution_count": 18,
   "id": "0d0ce99f-649b-4da6-8e0d-2de981dfb941",
   "metadata": {},
   "outputs": [
    {
     "data": {
      "text/plain": [
       "'pankaj'"
      ]
     },
     "execution_count": 18,
     "metadata": {},
     "output_type": "execute_result"
    }
   ],
   "source": [
    "v[0:7]"
   ]
  },
  {
   "cell_type": "code",
   "execution_count": 19,
   "id": "6848725e-7b78-4da8-93c2-b6755a7bbee2",
   "metadata": {},
   "outputs": [
    {
     "data": {
      "text/plain": [
       "'pankaj'"
      ]
     },
     "execution_count": 19,
     "metadata": {},
     "output_type": "execute_result"
    }
   ],
   "source": [
    "v[:]"
   ]
  },
  {
   "cell_type": "code",
   "execution_count": 20,
   "id": "b16159f8-1350-49fe-b648-26aad28bc5a1",
   "metadata": {},
   "outputs": [
    {
     "data": {
      "text/plain": [
       "'pank'"
      ]
     },
     "execution_count": 20,
     "metadata": {},
     "output_type": "execute_result"
    }
   ],
   "source": [
    "v[0:4]"
   ]
  },
  {
   "cell_type": "code",
   "execution_count": 21,
   "id": "2baa94ef-2c47-4c8b-910a-48287a9ff61c",
   "metadata": {},
   "outputs": [
    {
     "data": {
      "text/plain": [
       "'pank'"
      ]
     },
     "execution_count": 21,
     "metadata": {},
     "output_type": "execute_result"
    }
   ],
   "source": [
    "v[:4]"
   ]
  },
  {
   "cell_type": "code",
   "execution_count": 22,
   "id": "8c291139-675b-4578-a554-478ae32a05b8",
   "metadata": {},
   "outputs": [
    {
     "data": {
      "text/plain": [
       "'pankaj'"
      ]
     },
     "execution_count": 22,
     "metadata": {},
     "output_type": "execute_result"
    }
   ],
   "source": [
    "v[::]"
   ]
  },
  {
   "cell_type": "code",
   "execution_count": 23,
   "id": "4cd3f4af-1049-4e01-bbdb-7ee5427c6c8a",
   "metadata": {},
   "outputs": [
    {
     "data": {
      "text/plain": [
       "'pankaj'"
      ]
     },
     "execution_count": 23,
     "metadata": {},
     "output_type": "execute_result"
    }
   ],
   "source": [
    "v[0:7:1]"
   ]
  },
  {
   "cell_type": "code",
   "execution_count": 24,
   "id": "31b54a3c-2ec9-4253-941f-f069c502416c",
   "metadata": {},
   "outputs": [
    {
     "data": {
      "text/plain": [
       "'pna'"
      ]
     },
     "execution_count": 24,
     "metadata": {},
     "output_type": "execute_result"
    }
   ],
   "source": [
    "v[::2]"
   ]
  },
  {
   "cell_type": "code",
   "execution_count": 25,
   "id": "c6ab7694-30d8-4fd6-9857-511c1db58346",
   "metadata": {},
   "outputs": [
    {
     "data": {
      "text/plain": [
       "'pna'"
      ]
     },
     "execution_count": 25,
     "metadata": {},
     "output_type": "execute_result"
    }
   ],
   "source": [
    "v[0:7:2]"
   ]
  },
  {
   "cell_type": "code",
   "execution_count": 26,
   "id": "e88c71ca-df43-4eb5-a6a6-35887b742dae",
   "metadata": {},
   "outputs": [
    {
     "data": {
      "text/plain": [
       "''"
      ]
     },
     "execution_count": 26,
     "metadata": {},
     "output_type": "execute_result"
    }
   ],
   "source": [
    "v[2:7:-1]"
   ]
  },
  {
   "cell_type": "code",
   "execution_count": 27,
   "id": "a723743a-7744-4933-836c-40894f4899ff",
   "metadata": {},
   "outputs": [
    {
     "data": {
      "text/plain": [
       "''"
      ]
     },
     "execution_count": 27,
     "metadata": {},
     "output_type": "execute_result"
    }
   ],
   "source": [
    "v[7:0]"
   ]
  },
  {
   "cell_type": "code",
   "execution_count": 28,
   "id": "92e97501-ef3b-4ee5-92e8-abe75caa523e",
   "metadata": {},
   "outputs": [
    {
     "data": {
      "text/plain": [
       "'jakna'"
      ]
     },
     "execution_count": 28,
     "metadata": {},
     "output_type": "execute_result"
    }
   ],
   "source": [
    "v[7:0:-1]"
   ]
  },
  {
   "cell_type": "code",
   "execution_count": 29,
   "id": "817b921e-c855-4d62-9872-dcfc038a595c",
   "metadata": {},
   "outputs": [
    {
     "data": {
      "text/plain": [
       "'jaknap'"
      ]
     },
     "execution_count": 29,
     "metadata": {},
     "output_type": "execute_result"
    }
   ],
   "source": [
    "v[7::-1]"
   ]
  },
  {
   "cell_type": "code",
   "execution_count": 30,
   "id": "b6cec38c-0f07-4e6a-8cc6-1d4c9eef135c",
   "metadata": {},
   "outputs": [
    {
     "data": {
      "text/plain": [
       "'jaknap'"
      ]
     },
     "execution_count": 30,
     "metadata": {},
     "output_type": "execute_result"
    }
   ],
   "source": [
    "v[::-1]"
   ]
  },
  {
   "cell_type": "code",
   "execution_count": 31,
   "id": "be90c71c-e1ac-41df-8760-957e16fb0df0",
   "metadata": {},
   "outputs": [
    {
     "ename": "IndexError",
     "evalue": "string index out of range",
     "output_type": "error",
     "traceback": [
      "\u001b[0;31m---------------------------------------------------------------------------\u001b[0m",
      "\u001b[0;31mIndexError\u001b[0m                                Traceback (most recent call last)",
      "Cell \u001b[0;32mIn[31], line 1\u001b[0m\n\u001b[0;32m----> 1\u001b[0m \u001b[43mv\u001b[49m\u001b[43m[\u001b[49m\u001b[38;5;241;43m89\u001b[39;49m\u001b[43m]\u001b[49m\n",
      "\u001b[0;31mIndexError\u001b[0m: string index out of range"
     ]
    }
   ],
   "source": [
    "v[89]"
   ]
  },
  {
   "cell_type": "code",
   "execution_count": 32,
   "id": "0f0ad956-ea0d-4e60-8b47-f685d5088c8c",
   "metadata": {},
   "outputs": [
    {
     "data": {
      "text/plain": [
       "''"
      ]
     },
     "execution_count": 32,
     "metadata": {},
     "output_type": "execute_result"
    }
   ],
   "source": [
    "v[:-90]"
   ]
  },
  {
   "cell_type": "code",
   "execution_count": 33,
   "id": "55386e23-9222-433e-b3d9-2596f1d3d68a",
   "metadata": {},
   "outputs": [
    {
     "ename": "IndexError",
     "evalue": "string index out of range",
     "output_type": "error",
     "traceback": [
      "\u001b[0;31m---------------------------------------------------------------------------\u001b[0m",
      "\u001b[0;31mIndexError\u001b[0m                                Traceback (most recent call last)",
      "Cell \u001b[0;32mIn[33], line 1\u001b[0m\n\u001b[0;32m----> 1\u001b[0m \u001b[43mv\u001b[49m\u001b[43m[\u001b[49m\u001b[38;5;241;43m-\u001b[39;49m\u001b[38;5;241;43m90\u001b[39;49m\u001b[43m]\u001b[49m\n",
      "\u001b[0;31mIndexError\u001b[0m: string index out of range"
     ]
    }
   ],
   "source": [
    "v[-90]"
   ]
  },
  {
   "cell_type": "code",
   "execution_count": 34,
   "id": "d8ca7a93-f043-4644-9a52-95cb26f519f0",
   "metadata": {},
   "outputs": [
    {
     "data": {
      "text/plain": [
       "'pankaj'"
      ]
     },
     "execution_count": 34,
     "metadata": {},
     "output_type": "execute_result"
    }
   ],
   "source": [
    "v[:]"
   ]
  },
  {
   "cell_type": "code",
   "execution_count": 35,
   "id": "cb0bfbe6-7172-4fb9-8484-86e74891c3af",
   "metadata": {},
   "outputs": [
    {
     "data": {
      "text/plain": [
       "'pankaj'"
      ]
     },
     "execution_count": 35,
     "metadata": {},
     "output_type": "execute_result"
    }
   ],
   "source": [
    "v[:90]"
   ]
  },
  {
   "cell_type": "code",
   "execution_count": 36,
   "id": "b6341a36-dfba-4fbb-b82e-13bbc92830ca",
   "metadata": {},
   "outputs": [
    {
     "data": {
      "text/plain": [
       "'jaknap'"
      ]
     },
     "execution_count": 36,
     "metadata": {},
     "output_type": "execute_result"
    }
   ],
   "source": [
    "v[:-90:-1]"
   ]
  },
  {
   "cell_type": "code",
   "execution_count": 37,
   "id": "5a4c426d-56be-46a1-87e9-6d8ca853d9a2",
   "metadata": {},
   "outputs": [],
   "source": [
    "s=\"Python is very easy programming language\""
   ]
  },
  {
   "cell_type": "code",
   "execution_count": 39,
   "id": "6e85fed4-5173-4b2c-b5aa-e1f9a5159927",
   "metadata": {},
   "outputs": [
    {
     "data": {
      "text/plain": [
       "40"
      ]
     },
     "execution_count": 39,
     "metadata": {},
     "output_type": "execute_result"
    }
   ],
   "source": [
    "len(s)     # use for fing length of the string"
   ]
  },
  {
   "cell_type": "code",
   "execution_count": 45,
   "id": "58052f03-512c-40b9-9063-cbdbf31d0b44",
   "metadata": {},
   "outputs": [
    {
     "data": {
      "text/plain": [
       "8"
      ]
     },
     "execution_count": 45,
     "metadata": {},
     "output_type": "execute_result"
    }
   ],
   "source": [
    "s.find('s')    # first index of  s"
   ]
  },
  {
   "cell_type": "code",
   "execution_count": 49,
   "id": "369bf644-947f-4596-a66e-610ff94e4405",
   "metadata": {},
   "outputs": [
    {
     "data": {
      "text/plain": [
       "7"
      ]
     },
     "execution_count": 49,
     "metadata": {},
     "output_type": "execute_result"
    }
   ],
   "source": [
    "s.find(\"i\")    # first index of  i"
   ]
  },
  {
   "cell_type": "code",
   "execution_count": 50,
   "id": "4e1f29e1-6dfd-44ae-918e-06b4a3f133cb",
   "metadata": {},
   "outputs": [
    {
     "data": {
      "text/plain": [
       "7"
      ]
     },
     "execution_count": 50,
     "metadata": {},
     "output_type": "execute_result"
    }
   ],
   "source": [
    "s.find(\"is\")"
   ]
  },
  {
   "cell_type": "code",
   "execution_count": 52,
   "id": "96ebe00c-629b-42ad-b259-4a392720acb2",
   "metadata": {},
   "outputs": [
    {
     "data": {
      "text/plain": [
       "-1"
      ]
     },
     "execution_count": 52,
     "metadata": {},
     "output_type": "execute_result"
    }
   ],
   "source": [
    "s.find('iS')   # -1 means iS not present in string,,this is case sensitive"
   ]
  },
  {
   "cell_type": "code",
   "execution_count": 56,
   "id": "6085b1ba-e580-49c1-8dd9-377d6d77e5b1",
   "metadata": {},
   "outputs": [
    {
     "data": {
      "text/plain": [
       "2"
      ]
     },
     "execution_count": 56,
     "metadata": {},
     "output_type": "execute_result"
    }
   ],
   "source": [
    "s.count('m')  #how many time 'm' reapet in string"
   ]
  },
  {
   "cell_type": "code",
   "execution_count": 58,
   "id": "e5b3462d-2a53-4aaa-983c-7b844b68d32e",
   "metadata": {},
   "outputs": [
    {
     "data": {
      "text/plain": [
       "0"
      ]
     },
     "execution_count": 58,
     "metadata": {},
     "output_type": "execute_result"
    }
   ],
   "source": [
    "s.count('z')  #means z is not present in string"
   ]
  },
  {
   "cell_type": "code",
   "execution_count": 59,
   "id": "afc55fb5-b858-4dfb-8eba-bec9ee990a28",
   "metadata": {},
   "outputs": [
    {
     "data": {
      "text/plain": [
       "'Python is very easy programming language'"
      ]
     },
     "execution_count": 59,
     "metadata": {},
     "output_type": "execute_result"
    }
   ],
   "source": [
    "s"
   ]
  },
  {
   "cell_type": "code",
   "execution_count": 60,
   "id": "c1a7b312-fbf1-4e7c-88df-212d576d281a",
   "metadata": {},
   "outputs": [
    {
     "data": {
      "text/plain": [
       "'PYTHON IS VERY EASY PROGRAMMING LANGUAGE'"
      ]
     },
     "execution_count": 60,
     "metadata": {},
     "output_type": "execute_result"
    }
   ],
   "source": [
    "s.upper()  #convert all the latter of string in upper case"
   ]
  },
  {
   "cell_type": "code",
   "execution_count": 61,
   "id": "f966a463-a94c-4d51-9812-909b038e0101",
   "metadata": {},
   "outputs": [
    {
     "data": {
      "text/plain": [
       "'python is very easy programming language'"
      ]
     },
     "execution_count": 61,
     "metadata": {},
     "output_type": "execute_result"
    }
   ],
   "source": [
    "s.lower()  #convert all the latter of string in lower case"
   ]
  },
  {
   "cell_type": "code",
   "execution_count": 63,
   "id": "18f20321-49fd-4105-8310-e15d320b77bb",
   "metadata": {},
   "outputs": [
    {
     "data": {
      "text/plain": [
       "'Python is very easy programming language'"
      ]
     },
     "execution_count": 63,
     "metadata": {},
     "output_type": "execute_result"
    }
   ],
   "source": [
    "s      #means string is immutable"
   ]
  },
  {
   "cell_type": "code",
   "execution_count": 1,
   "id": "f182c3e8-78ad-4de9-8a7d-ae412c1e2015",
   "metadata": {},
   "outputs": [],
   "source": [
    "s1= \"pythoN Is vEry Easy programmiNg LanguagE\""
   ]
  },
  {
   "cell_type": "code",
   "execution_count": 2,
   "id": "2e70132c-0906-4970-86e4-c06f1755c402",
   "metadata": {},
   "outputs": [
    {
     "data": {
      "text/plain": [
       "'pythoN Is vEry Easy programmiNg LanguagE'"
      ]
     },
     "execution_count": 2,
     "metadata": {},
     "output_type": "execute_result"
    }
   ],
   "source": [
    "s1"
   ]
  },
  {
   "cell_type": "code",
   "execution_count": 3,
   "id": "e5dffb58-c25f-4a90-9f51-c4b0be6270a9",
   "metadata": {},
   "outputs": [
    {
     "data": {
      "text/plain": [
       "'Python Is Very Easy Programming Language'"
      ]
     },
     "execution_count": 3,
     "metadata": {},
     "output_type": "execute_result"
    }
   ],
   "source": [
    "s1.title()  #first latter of every word convert in capital &remaining in lower"
   ]
  },
  {
   "cell_type": "code",
   "execution_count": 4,
   "id": "37850421-1530-4c5d-a4ba-1b2251dd1f96",
   "metadata": {},
   "outputs": [
    {
     "data": {
      "text/plain": [
       "'Python is very easy programming language'"
      ]
     },
     "execution_count": 4,
     "metadata": {},
     "output_type": "execute_result"
    }
   ],
   "source": [
    "s1.capitalize()  #first latter of string convert in capital &ramaining in lower"
   ]
  },
  {
   "cell_type": "code",
   "execution_count": 1,
   "id": "081cc5c1-293b-4e67-9f42-c9327c19d606",
   "metadata": {},
   "outputs": [],
   "source": [
    "s2=\"paNkaj\""
   ]
  },
  {
   "cell_type": "code",
   "execution_count": 2,
   "id": "3f099f01-137a-4376-b4b4-d1e98c2a336f",
   "metadata": {},
   "outputs": [
    {
     "ename": "TypeError",
     "evalue": "can only concatenate str (not \"int\") to str",
     "output_type": "error",
     "traceback": [
      "\u001b[0;31m---------------------------------------------------------------------------\u001b[0m",
      "\u001b[0;31mTypeError\u001b[0m                                 Traceback (most recent call last)",
      "Cell \u001b[0;32mIn[2], line 1\u001b[0m\n\u001b[0;32m----> 1\u001b[0m \u001b[43ms2\u001b[49m\u001b[38;5;241;43m+\u001b[39;49m\u001b[38;5;241;43m1\u001b[39;49m\n",
      "\u001b[0;31mTypeError\u001b[0m: can only concatenate str (not \"int\") to str"
     ]
    }
   ],
   "source": [
    "s2+1"
   ]
  },
  {
   "cell_type": "code",
   "execution_count": 4,
   "id": "9eddf6cc-355f-4747-aba7-6cde34666d3b",
   "metadata": {},
   "outputs": [
    {
     "data": {
      "text/plain": [
       "'pankAj kumawAt'"
      ]
     },
     "execution_count": 4,
     "metadata": {},
     "output_type": "execute_result"
    }
   ],
   "source": [
    "s2+\" kumawAt\""
   ]
  },
  {
   "cell_type": "code",
   "execution_count": 5,
   "id": "f9d33435-d9b2-4a5d-93f9-2d1945c6d8f8",
   "metadata": {},
   "outputs": [
    {
     "data": {
      "text/plain": [
       "'pankAj23'"
      ]
     },
     "execution_count": 5,
     "metadata": {},
     "output_type": "execute_result"
    }
   ],
   "source": [
    "s2+\"23\""
   ]
  },
  {
   "cell_type": "code",
   "execution_count": 6,
   "id": "824275e1-011d-475e-9f8a-6e42ba52570a",
   "metadata": {},
   "outputs": [
    {
     "data": {
      "text/plain": [
       "'pankAj23'"
      ]
     },
     "execution_count": 6,
     "metadata": {},
     "output_type": "execute_result"
    }
   ],
   "source": [
    "s2+str(23)"
   ]
  },
  {
   "cell_type": "code",
   "execution_count": 8,
   "id": "a22f5f7a-a186-4906-95be-dd51adb6cc76",
   "metadata": {},
   "outputs": [
    {
     "data": {
      "text/plain": [
       "'pankAjpankAjpankAjpankAj'"
      ]
     },
     "execution_count": 8,
     "metadata": {},
     "output_type": "execute_result"
    }
   ],
   "source": [
    "s2*4  #not generate error"
   ]
  },
  {
   "cell_type": "code",
   "execution_count": 10,
   "id": "eb821144-a170-43e3-9df5-ce127f8b1f45",
   "metadata": {},
   "outputs": [
    {
     "ename": "NameError",
     "evalue": "name 'PankaJ' is not defined",
     "output_type": "error",
     "traceback": [
      "\u001b[0;31m---------------------------------------------------------------------------\u001b[0m",
      "\u001b[0;31mNameError\u001b[0m                                 Traceback (most recent call last)",
      "Cell \u001b[0;32mIn[10], line 1\u001b[0m\n\u001b[0;32m----> 1\u001b[0m \u001b[43mPankaJ\u001b[49m\u001b[38;5;241m*\u001b[39m\u001b[38;5;241m4\u001b[39m\n",
      "\u001b[0;31mNameError\u001b[0m: name 'PankaJ' is not defined"
     ]
    }
   ],
   "source": [
    "PankaJ*4"
   ]
  },
  {
   "cell_type": "code",
   "execution_count": 12,
   "id": "483b23d4-d8c2-4e1d-9ece-e6f52bea6eda",
   "metadata": {},
   "outputs": [
    {
     "data": {
      "text/plain": [
       "' pankaJ pankaJ pankaJ pankaJ pankaJ pankaJ pankaJ'"
      ]
     },
     "execution_count": 12,
     "metadata": {},
     "output_type": "execute_result"
    }
   ],
   "source": [
    "\" pankaJ\"*7"
   ]
  },
  {
   "cell_type": "code",
   "execution_count": 13,
   "id": "de533078-4c8d-4d04-8e47-18d0c2fe2666",
   "metadata": {},
   "outputs": [
    {
     "ename": "TypeError",
     "evalue": "unsupported operand type(s) for /: 'str' and 'int'",
     "output_type": "error",
     "traceback": [
      "\u001b[0;31m---------------------------------------------------------------------------\u001b[0m",
      "\u001b[0;31mTypeError\u001b[0m                                 Traceback (most recent call last)",
      "Cell \u001b[0;32mIn[13], line 1\u001b[0m\n\u001b[0;32m----> 1\u001b[0m \u001b[43ms2\u001b[49m\u001b[38;5;241;43m/\u001b[39;49m\u001b[38;5;241;43m4\u001b[39;49m\n",
      "\u001b[0;31mTypeError\u001b[0m: unsupported operand type(s) for /: 'str' and 'int'"
     ]
    }
   ],
   "source": [
    "s2/4"
   ]
  },
  {
   "cell_type": "code",
   "execution_count": 15,
   "id": "37fe4785-8336-4dac-be83-7945023b13d2",
   "metadata": {},
   "outputs": [
    {
     "ename": "SyntaxError",
     "evalue": "unterminated string literal (detected at line 1) (727175359.py, line 1)",
     "output_type": "error",
     "traceback": [
      "\u001b[0;36m  Cell \u001b[0;32mIn[15], line 1\u001b[0;36m\u001b[0m\n\u001b[0;31m    'don't copy the code'\u001b[0m\n\u001b[0m                        ^\u001b[0m\n\u001b[0;31mSyntaxError\u001b[0m\u001b[0;31m:\u001b[0m unterminated string literal (detected at line 1)\n"
     ]
    }
   ],
   "source": [
    "'don't copy the code'"
   ]
  },
  {
   "cell_type": "code",
   "execution_count": 16,
   "id": "80c6ccd9-28e2-400b-b766-534a096f9855",
   "metadata": {},
   "outputs": [
    {
     "data": {
      "text/plain": [
       "\"don't copy the code\""
      ]
     },
     "execution_count": 16,
     "metadata": {},
     "output_type": "execute_result"
    }
   ],
   "source": [
    "\"don't copy the code\""
   ]
  },
  {
   "cell_type": "code",
   "execution_count": 17,
   "id": "497ea9c1-7a2b-46c9-a588-616befc82d85",
   "metadata": {},
   "outputs": [
    {
     "data": {
      "text/plain": [
       "'don\"t copy the code'"
      ]
     },
     "execution_count": 17,
     "metadata": {},
     "output_type": "execute_result"
    }
   ],
   "source": [
    "'don\"t copy the code'"
   ]
  },
  {
   "cell_type": "code",
   "execution_count": null,
   "id": "c250bd0b-b24b-4a84-85f4-8ebaf2514e6e",
   "metadata": {},
   "outputs": [],
   "source": [
    "# use for single line comment\n",
    "## double hastsge is also use for single line code\n",
    "#   ''' =='''  or \"\"\" == \"\"\"  use for multi line comment\n",
    "''' python is sjdfjafjafajfajffg\n",
    "    fkljasdfopaifajkfakfl;aka a jf\n",
    "    dffgajfgafga gafglkafg f   '''\n",
    "\"\"\" adsjafjaigjmskfjkgfasfgmlls kfg s\n",
    "    atuwioegtusioig  rkjrt suip uit sk\n",
    "    iojgrosfgs g  gjksd gkjlsh g sg  f \"\"\""
   ]
  },
  {
   "cell_type": "code",
   "execution_count": 21,
   "id": "37b85b1e-6c0f-4a95-81db-9268937a8332",
   "metadata": {},
   "outputs": [],
   "source": [
    "s4= \"Data science is very 'powerfull'.\\n Because this is use in \\\"AI\\\". \\n Thankyou\""
   ]
  },
  {
   "cell_type": "code",
   "execution_count": 22,
   "id": "a7a22f27-7c4c-4ff3-8232-92d46f2fb0f8",
   "metadata": {},
   "outputs": [
    {
     "data": {
      "text/plain": [
       "'Data science is very \\'powerfull\\'.\\n Because this is use in \"AI\". \\n Thankyou'"
      ]
     },
     "execution_count": 22,
     "metadata": {},
     "output_type": "execute_result"
    }
   ],
   "source": [
    "s4"
   ]
  }
 ],
 "metadata": {
  "kernelspec": {
   "display_name": "Python 3 (ipykernel)",
   "language": "python",
   "name": "python3"
  },
  "language_info": {
   "codemirror_mode": {
    "name": "ipython",
    "version": 3
   },
   "file_extension": ".py",
   "mimetype": "text/x-python",
   "name": "python",
   "nbconvert_exporter": "python",
   "pygments_lexer": "ipython3",
   "version": "3.10.8"
  }
 },
 "nbformat": 4,
 "nbformat_minor": 5
}
